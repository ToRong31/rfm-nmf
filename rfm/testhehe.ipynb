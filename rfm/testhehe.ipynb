{
 "cells": [
  {
   "cell_type": "code",
   "execution_count": 1,
   "metadata": {},
   "outputs": [
    {
     "name": "stderr",
     "output_type": "stream",
     "text": [
      "c:\\Users\\hoang\\anaconda3\\envs\\clean_env\\Lib\\site-packages\\tqdm\\auto.py:21: TqdmWarning: IProgress not found. Please update jupyter and ipywidgets. See https://ipywidgets.readthedocs.io/en/stable/user_install.html\n",
      "  from .autonotebook import tqdm as notebook_tqdm\n"
     ]
    },
    {
     "name": "stdout",
     "output_type": "stream",
     "text": [
      "Training KernelModel with Laplace kernel...\n",
      "Training KernelModel with Laplace kernel...\n",
      "Using NMF-based projection with rank=3, eta=0.0031, bs=32\n"
     ]
    },
    {
     "name": "stderr",
     "output_type": "stream",
     "text": [
      "  0%|          | 0/31 [00:00<?, ?it/s]"
     ]
    },
    {
     "name": "stdout",
     "output_type": "stream",
     "text": [
      "Using NMF projection\n",
      "grad shape: torch.Size([33, 3]), kmat shape: torch.Size([33, 500])\n",
      "W_nmf shape: torch.Size([3, 3]), H_nmf shape: torch.Size([3, 500]), S_nmf shape: torch.Size([3, 3])\n"
     ]
    },
    {
     "name": "stderr",
     "output_type": "stream",
     "text": [
      "\n"
     ]
    },
    {
     "ename": "RuntimeError",
     "evalue": "mat1 and mat2 shapes cannot be multiplied (3x500 and 33x3)",
     "output_type": "error",
     "traceback": [
      "\u001b[1;31m---------------------------------------------------------------------------\u001b[0m",
      "\u001b[1;31mRuntimeError\u001b[0m                              Traceback (most recent call last)",
      "Cell \u001b[1;32mIn[1], line 37\u001b[0m\n\u001b[0;32m     35\u001b[0m \u001b[38;5;66;03m# Huấn luyện mô hình\u001b[39;00m\n\u001b[0;32m     36\u001b[0m \u001b[38;5;28mprint\u001b[39m(\u001b[38;5;124m\"\u001b[39m\u001b[38;5;124mTraining KernelModel with Laplace kernel...\u001b[39m\u001b[38;5;124m\"\u001b[39m)\n\u001b[1;32m---> 37\u001b[0m results \u001b[38;5;241m=\u001b[39m \u001b[43mkernel_model\u001b[49m\u001b[38;5;241;43m.\u001b[39;49m\u001b[43mfit\u001b[49m\u001b[43m(\u001b[49m\n\u001b[0;32m     38\u001b[0m \u001b[43m    \u001b[49m\u001b[43mX_train\u001b[49m\u001b[38;5;241;43m=\u001b[39;49m\u001b[43mX_train\u001b[49m\u001b[43m,\u001b[49m\n\u001b[0;32m     39\u001b[0m \u001b[43m    \u001b[49m\u001b[43my_train\u001b[49m\u001b[38;5;241;43m=\u001b[39;49m\u001b[43my_train\u001b[49m\u001b[43m,\u001b[49m\n\u001b[0;32m     40\u001b[0m \u001b[43m    \u001b[49m\u001b[43mX_val\u001b[49m\u001b[38;5;241;43m=\u001b[39;49m\u001b[43mX_val\u001b[49m\u001b[43m,\u001b[49m\n\u001b[0;32m     41\u001b[0m \u001b[43m    \u001b[49m\u001b[43my_val\u001b[49m\u001b[38;5;241;43m=\u001b[39;49m\u001b[43my_val\u001b[49m\u001b[43m,\u001b[49m\n\u001b[0;32m     42\u001b[0m \u001b[43m    \u001b[49m\u001b[43mepochs\u001b[49m\u001b[38;5;241;43m=\u001b[39;49m\u001b[38;5;241;43m10\u001b[39;49m\u001b[43m,\u001b[49m\u001b[43m          \u001b[49m\u001b[38;5;66;43;03m# Số lượng epochs\u001b[39;49;00m\n\u001b[0;32m     43\u001b[0m \u001b[43m    \u001b[49m\u001b[43mmem_gb\u001b[49m\u001b[38;5;241;43m=\u001b[39;49m\u001b[38;5;241;43m4\u001b[39;49m\u001b[43m,\u001b[49m\u001b[43m           \u001b[49m\u001b[38;5;66;43;03m# Giới hạn bộ nhớ GPU\u001b[39;49;00m\n\u001b[0;32m     44\u001b[0m \u001b[43m    \u001b[49m\u001b[43mn_subsamples\u001b[49m\u001b[38;5;241;43m=\u001b[39;49m\u001b[38;5;241;43m500\u001b[39;49m\u001b[43m,\u001b[49m\u001b[43m   \u001b[49m\u001b[38;5;66;43;03m# Số lượng mẫu con để tính toán\u001b[39;49;00m\n\u001b[0;32m     45\u001b[0m \u001b[43m    \u001b[49m\u001b[43mbs\u001b[49m\u001b[38;5;241;43m=\u001b[39;49m\u001b[38;5;241;43m32\u001b[39;49m\u001b[43m,\u001b[49m\u001b[43m              \u001b[49m\u001b[38;5;66;43;03m# Batch size\u001b[39;49;00m\n\u001b[0;32m     46\u001b[0m \u001b[43m    \u001b[49m\u001b[43meta\u001b[49m\u001b[38;5;241;43m=\u001b[39;49m\u001b[38;5;241;43m0.1\u001b[39;49m\u001b[43m,\u001b[49m\u001b[43m            \u001b[49m\u001b[38;5;66;43;03m# Learning rate\u001b[39;49;00m\n\u001b[0;32m     47\u001b[0m \u001b[43m    \u001b[49m\u001b[43mclassification\u001b[49m\u001b[38;5;241;43m=\u001b[39;49m\u001b[38;5;28;43;01mTrue\u001b[39;49;00m\u001b[43m,\u001b[49m\n\u001b[0;32m     48\u001b[0m \u001b[43m    \u001b[49m\u001b[43mverbose\u001b[49m\u001b[38;5;241;43m=\u001b[39;49m\u001b[38;5;28;43;01mTrue\u001b[39;49;00m\n\u001b[0;32m     49\u001b[0m \u001b[43m)\u001b[49m\n\u001b[0;32m     51\u001b[0m \u001b[38;5;66;03m# Dự đoán trên tập validation\u001b[39;00m\n\u001b[0;32m     52\u001b[0m \u001b[38;5;28mprint\u001b[39m(\u001b[38;5;124m\"\u001b[39m\u001b[38;5;124mPredicting on validation data...\u001b[39m\u001b[38;5;124m\"\u001b[39m)\n",
      "File \u001b[1;32md:\\UIT\\nsNMF\\rfm-nmf\\rfm\\rfm\\nmfhtr.py:241\u001b[0m, in \u001b[0;36mKernelModel.fit\u001b[1;34m(self, X_train, y_train, X_val, y_val, epochs, mem_gb, n_subsamples, bs, eta, n_eval, run_epoch_eval, lr_scale, verbose, seed, classification, threshold, early_stopping_window_size, eval_interval)\u001b[0m\n\u001b[0;32m    238\u001b[0m     x_batch \u001b[38;5;241m=\u001b[39m \u001b[38;5;28mself\u001b[39m\u001b[38;5;241m.\u001b[39mtensor(X_train[batch_ids], dtype\u001b[38;5;241m=\u001b[39mX_train\u001b[38;5;241m.\u001b[39mdtype)\n\u001b[0;32m    239\u001b[0m     y_batch \u001b[38;5;241m=\u001b[39m \u001b[38;5;28mself\u001b[39m\u001b[38;5;241m.\u001b[39mtensor(y_train[batch_ids], dtype\u001b[38;5;241m=\u001b[39my_train\u001b[38;5;241m.\u001b[39mdtype)\n\u001b[1;32m--> 241\u001b[0m     \u001b[38;5;28;43mself\u001b[39;49m\u001b[38;5;241;43m.\u001b[39;49m\u001b[43mnmf_iterate\u001b[49m\u001b[43m(\u001b[49m\u001b[43msamples\u001b[49m\u001b[43m,\u001b[49m\u001b[43m \u001b[49m\u001b[43mx_batch\u001b[49m\u001b[43m,\u001b[49m\u001b[43m \u001b[49m\u001b[43my_batch\u001b[49m\u001b[43m,\u001b[49m\n\u001b[0;32m    242\u001b[0m \u001b[43m                        \u001b[49m\u001b[43mnmf_projection_fn\u001b[49m\u001b[43m,\u001b[49m\u001b[43m \u001b[49m\u001b[43meta\u001b[49m\u001b[43m,\u001b[49m\n\u001b[0;32m    243\u001b[0m \u001b[43m                        \u001b[49m\u001b[43msample_ids\u001b[49m\u001b[43m,\u001b[49m\u001b[43m \u001b[49m\u001b[43mbatch_ids\u001b[49m\u001b[43m,\u001b[49m\n\u001b[0;32m    244\u001b[0m \u001b[43m                        \u001b[49m\u001b[43msave_kernel_matrix\u001b[49m\u001b[38;5;241;43m=\u001b[39;49m\u001b[43msave_kernel_matrix\u001b[49m\u001b[43m)\u001b[49m\n\u001b[0;32m    245\u001b[0m     \u001b[38;5;28;01mdel\u001b[39;00m x_batch, y_batch, batch_ids\n\u001b[0;32m    247\u001b[0m \u001b[38;5;28;01mif\u001b[39;00m save_kernel_matrix:\n",
      "File \u001b[1;32md:\\UIT\\nsNMF\\rfm-nmf\\rfm\\rfm\\nmfhtr.py:112\u001b[0m, in \u001b[0;36mKernelModel.nmf_iterate\u001b[1;34m(self, samples, x_batch, y_batch, nmf_fn, eta, sample_ids, batch_ids, save_kernel_matrix)\u001b[0m\n\u001b[0;32m    110\u001b[0m \u001b[38;5;66;03m# update fixed coordinate block (for EigenPro)\u001b[39;00m\n\u001b[0;32m    111\u001b[0m kmat \u001b[38;5;241m=\u001b[39m \u001b[38;5;28mself\u001b[39m\u001b[38;5;241m.\u001b[39mget_kernel_matrix(x_batch, batch_ids, samples, sample_ids)\n\u001b[1;32m--> 112\u001b[0m correction \u001b[38;5;241m=\u001b[39m \u001b[43mnmf_fn\u001b[49m\u001b[43m(\u001b[49m\u001b[43mgrad\u001b[49m\u001b[43m,\u001b[49m\u001b[43m \u001b[49m\u001b[43mkmat\u001b[49m\u001b[43m)\u001b[49m\n\u001b[0;32m    114\u001b[0m \u001b[38;5;66;03m# Kiểm tra và điều chỉnh kích thước của correction\u001b[39;00m\n\u001b[0;32m    115\u001b[0m \u001b[38;5;28;01mif\u001b[39;00m correction\u001b[38;5;241m.\u001b[39mshape[\u001b[38;5;241m0\u001b[39m] \u001b[38;5;241m!=\u001b[39m \u001b[38;5;28mlen\u001b[39m(sample_ids):\n",
      "File \u001b[1;32md:\\UIT\\nsNMF\\rfm-nmf\\rfm\\rfm\\nmfhtr.py:211\u001b[0m, in \u001b[0;36mKernelModel.fit.<locals>.nmf_projection_fn\u001b[1;34m(grad, kmat)\u001b[0m\n\u001b[0;32m    209\u001b[0m \u001b[38;5;28mprint\u001b[39m(\u001b[38;5;124mf\u001b[39m\u001b[38;5;124m\"\u001b[39m\u001b[38;5;124mgrad shape: \u001b[39m\u001b[38;5;132;01m{\u001b[39;00mgrad\u001b[38;5;241m.\u001b[39mshape\u001b[38;5;132;01m}\u001b[39;00m\u001b[38;5;124m, kmat shape: \u001b[39m\u001b[38;5;132;01m{\u001b[39;00mkmat\u001b[38;5;241m.\u001b[39mshape\u001b[38;5;132;01m}\u001b[39;00m\u001b[38;5;124m\"\u001b[39m)\n\u001b[0;32m    210\u001b[0m \u001b[38;5;28mprint\u001b[39m(\u001b[38;5;124mf\u001b[39m\u001b[38;5;124m\"\u001b[39m\u001b[38;5;124mW_nmf shape: \u001b[39m\u001b[38;5;132;01m{\u001b[39;00mW_nmf\u001b[38;5;241m.\u001b[39mshape\u001b[38;5;132;01m}\u001b[39;00m\u001b[38;5;124m, H_nmf shape: \u001b[39m\u001b[38;5;132;01m{\u001b[39;00mH_nmf\u001b[38;5;241m.\u001b[39mshape\u001b[38;5;132;01m}\u001b[39;00m\u001b[38;5;124m, S_nmf shape: \u001b[39m\u001b[38;5;132;01m{\u001b[39;00mS_nmf\u001b[38;5;241m.\u001b[39mshape\u001b[38;5;132;01m}\u001b[39;00m\u001b[38;5;124m\"\u001b[39m)\n\u001b[1;32m--> 211\u001b[0m \u001b[38;5;28;01mreturn\u001b[39;00m W_nmf \u001b[38;5;241m@\u001b[39m S_nmf \u001b[38;5;241m@\u001b[39m(\u001b[43mH_nmf\u001b[49m\u001b[43m \u001b[49m\u001b[38;5;241;43m@\u001b[39;49m\u001b[43m \u001b[49m\u001b[43mgrad\u001b[49m)\u001b[38;5;241m.\u001b[39mto(\u001b[38;5;28mself\u001b[39m\u001b[38;5;241m.\u001b[39mdevice)\n",
      "\u001b[1;31mRuntimeError\u001b[0m: mat1 and mat2 shapes cannot be multiplied (3x500 and 33x3)"
     ]
    }
   ],
   "source": [
    "import torch\n",
    "from rfm.nmfhtr import KernelModel\n",
    "from rfm.kernels import laplacian\n",
    "\n",
    "# Thiết lập thiết bị\n",
    "DEVICE = torch.device(\"cuda\" if torch.cuda.is_available() else \"cpu\")\n",
    "\n",
    "# Tạo dữ liệu ngẫu nhiên\n",
    "n_samples = 1000  # Số lượng mẫu\n",
    "n_features = 20   # Số lượng đặc trưng\n",
    "n_classes = 3     # Số lượng lớp (đầu ra)\n",
    "\n",
    "# Dữ liệu đầu vào (ngẫu nhiên)\n",
    "X_train = torch.randn(n_samples, n_features).to(DEVICE)\n",
    "X_val = torch.randn(n_samples // 10, n_features).to(DEVICE)\n",
    "\n",
    "# Nhãn đầu ra (ngẫu nhiên, one-hot encoding)\n",
    "y_train = torch.randint(0, n_classes, (n_samples,)).to(DEVICE)\n",
    "y_train = torch.nn.functional.one_hot(y_train, num_classes=n_classes).float()\n",
    "\n",
    "y_val = torch.randint(0, n_classes, (n_samples // 10,)).to(DEVICE)\n",
    "y_val = torch.nn.functional.one_hot(y_val, num_classes=n_classes).float()\n",
    "\n",
    "# Khởi tạo KernelModel với kernel Laplace\n",
    "bandwidth = 1.0  # Tham số bandwidth của kernel Laplace\n",
    "kernel_model = KernelModel(\n",
    "    kernel_fn=lambda x, y: laplacian(x, y, bandwidth=bandwidth),\n",
    "    centers=X_train,\n",
    "    y_dim=n_classes,\n",
    "    device=DEVICE\n",
    ")\n",
    "\n",
    "# Huấn luyện mô hình\n",
    "print(\"Training KernelModel with Laplace kernel...\")\n",
    "# Huấn luyện mô hình\n",
    "print(\"Training KernelModel with Laplace kernel...\")\n",
    "results = kernel_model.fit(\n",
    "    X_train=X_train,\n",
    "    y_train=y_train,\n",
    "    X_val=X_val,\n",
    "    y_val=y_val,\n",
    "    epochs=10,          # Số lượng epochs\n",
    "    mem_gb=4,           # Giới hạn bộ nhớ GPU\n",
    "    n_subsamples=500,   # Số lượng mẫu con để tính toán\n",
    "    bs=32,              # Batch size\n",
    "    eta=0.1,            # Learning rate\n",
    "    classification=True,\n",
    "    verbose=True\n",
    ")\n",
    "\n",
    "# Dự đoán trên tập validation\n",
    "print(\"Predicting on validation data...\")\n",
    "predictions = kernel_model.forward(X_val)\n",
    "\n",
    "# Đánh giá độ chính xác\n",
    "accuracy = (predictions.argmax(dim=1) == y_val.argmax(dim=1)).float().mean().item()\n",
    "print(f\"Validation Accuracy: {accuracy:.4f}\")"
   ]
  }
 ],
 "metadata": {
  "kernelspec": {
   "display_name": "clean_env",
   "language": "python",
   "name": "python3"
  },
  "language_info": {
   "codemirror_mode": {
    "name": "ipython",
    "version": 3
   },
   "file_extension": ".py",
   "mimetype": "text/x-python",
   "name": "python",
   "nbconvert_exporter": "python",
   "pygments_lexer": "ipython3",
   "version": "3.12.3"
  }
 },
 "nbformat": 4,
 "nbformat_minor": 2
}
