{
 "cells": [
  {
   "cell_type": "code",
   "execution_count": 1,
   "metadata": {},
   "outputs": [
    {
     "name": "stderr",
     "output_type": "stream",
     "text": [
      "c:\\Users\\hoang\\anaconda3\\envs\\clean_env\\Lib\\site-packages\\tqdm\\auto.py:21: TqdmWarning: IProgress not found. Please update jupyter and ipywidgets. See https://ipywidgets.readthedocs.io/en/stable/user_install.html\n",
      "  from .autonotebook import tqdm as notebook_tqdm\n"
     ]
    },
    {
     "name": "stdout",
     "output_type": "stream",
     "text": [
      "torch.Size([4000, 100])\n",
      "Round 0, Train Acc: 60.10%, Test Acc: 43.97%\n",
      "Round 0, Test MSE: 0.5129\n",
      "Optimal M batch size:  669\n",
      "Using batch size of 669\n",
      "Sampling AGOP on maximum of 20070 total points\n"
     ]
    },
    {
     "name": "stderr",
     "output_type": "stream",
     "text": [
      "100%|██████████| 6/6 [00:00<00:00, 44.31it/s]\n"
     ]
    },
    {
     "name": "stdout",
     "output_type": "stream",
     "text": [
      "Round 1, Train Acc: 58.35%, Test Acc: 47.75%\n",
      "Round 1, Test MSE: 0.5007\n",
      "Optimal M batch size:  669\n",
      "Using batch size of 669\n",
      "Sampling AGOP on maximum of 20070 total points\n"
     ]
    },
    {
     "name": "stderr",
     "output_type": "stream",
     "text": [
      "100%|██████████| 6/6 [00:00<00:00, 112.14it/s]\n"
     ]
    },
    {
     "name": "stdout",
     "output_type": "stream",
     "text": [
      "Round 2, Train Acc: 63.80%, Test Acc: 57.78%\n",
      "Round 2, Test MSE: 0.3816\n",
      "Optimal M batch size:  669\n",
      "Using batch size of 669\n",
      "Sampling AGOP on maximum of 20070 total points\n"
     ]
    },
    {
     "name": "stderr",
     "output_type": "stream",
     "text": [
      "100%|██████████| 6/6 [00:00<00:00, 172.72it/s]\n"
     ]
    },
    {
     "name": "stdout",
     "output_type": "stream",
     "text": [
      "Round 3, Train Acc: 73.75%, Test Acc: 70.48%\n",
      "Round 3, Test MSE: 0.1483\n",
      "Optimal M batch size:  669\n",
      "Using batch size of 669\n",
      "Sampling AGOP on maximum of 20070 total points\n"
     ]
    },
    {
     "name": "stderr",
     "output_type": "stream",
     "text": [
      "100%|██████████| 6/6 [00:00<00:00, 176.60it/s]\n"
     ]
    },
    {
     "name": "stdout",
     "output_type": "stream",
     "text": [
      "Round 4, Train Acc: 76.10%, Test Acc: 73.52%\n",
      "Round 4, Test MSE: 0.0793\n",
      "Optimal M batch size:  669\n",
      "Using batch size of 669\n",
      "Sampling AGOP on maximum of 20070 total points\n"
     ]
    },
    {
     "name": "stderr",
     "output_type": "stream",
     "text": [
      "100%|██████████| 6/6 [00:00<00:00, 186.65it/s]\n"
     ]
    },
    {
     "name": "stdout",
     "output_type": "stream",
     "text": [
      "Final MSE: 0.0652\n",
      "Final Test Acc: 74.10%\n"
     ]
    },
    {
     "data": {
      "text/plain": [
       "tensor(0.0652, device='cuda:0')"
      ]
     },
     "execution_count": 1,
     "metadata": {},
     "output_type": "execute_result"
    }
   ],
   "source": [
    "import torch\n",
    "import numpy as np\n",
    "from rfm import LaplaceRFM\n",
    "\n",
    "\n",
    "torch.set_default_dtype(torch.float32)\n",
    "torch.manual_seed(0)\n",
    "\n",
    "# define target function\n",
    "def fstar(X):\n",
    "    return torch.cat([\n",
    "        (X[:, 0]  > 0)[:,None],\n",
    "        (X[:, 1]  < 0.1)[:,None]],\n",
    "        axis=1).type(X.type())\n",
    "\n",
    "# create low rank data\n",
    "n = 4000\n",
    "d = 100\n",
    "torch.manual_seed(0)\n",
    "X_train = torch.randn(n,d)\n",
    "X_test = torch.randn(n,d)\n",
    "print(X_train.shape)\n",
    "\n",
    "y_train = fstar(X_train)\n",
    "y_test = fstar(X_test)\n",
    "# device = torch.device('cuda' if torch.cuda.is_available() else 'cpu')\n",
    "# print(f\"Using device: {device}\")\n",
    "\n",
    "X_train_numpy = X_train.numpy()\n",
    "\n",
    "\n",
    "\n",
    "\n",
    "model = LaplaceRFM(bandwidth=1., diag=False, centering=False)\n",
    "model.fit(\n",
    "    (X_train, y_train), \n",
    "    (X_test, y_test), \n",
    "    method='lstsq', epochs=15,\n",
    "    iters=5,\n",
    "    classification=True,\n",
    "    verbose=True\n",
    ") \n"
   ]
  },
  {
   "cell_type": "code",
   "execution_count": 7,
   "metadata": {},
   "outputs": [],
   "source": [
    "if torch.cuda.is_available():\n",
    "    DEVICE = torch.device(\"cuda\")\n",
    "    DEV_MEM_GB = torch.cuda.get_device_properties(DEVICE).total_memory // 1024**3 - 1\n",
    "else:\n",
    "    DEVICE = torch.device(\"cpu\")\n",
    "    DEV_MEM_GB = 8"
   ]
  },
  {
   "cell_type": "code",
   "execution_count": 8,
   "metadata": {},
   "outputs": [
    {
     "name": "stdout",
     "output_type": "stream",
     "text": [
      "cuda 2\n"
     ]
    }
   ],
   "source": [
    "print(DEVICE, DEV_MEM_GB)"
   ]
  }
 ],
 "metadata": {
  "kernelspec": {
   "display_name": "clean_env",
   "language": "python",
   "name": "python3"
  },
  "language_info": {
   "codemirror_mode": {
    "name": "ipython",
    "version": 3
   },
   "file_extension": ".py",
   "mimetype": "text/x-python",
   "name": "python",
   "nbconvert_exporter": "python",
   "pygments_lexer": "ipython3",
   "version": "3.12.3"
  }
 },
 "nbformat": 4,
 "nbformat_minor": 2
}
