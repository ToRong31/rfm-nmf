{
 "cells": [
  {
   "cell_type": "code",
   "execution_count": 2,
   "metadata": {},
   "outputs": [
    {
     "name": "stdout",
     "output_type": "stream",
     "text": [
      "Time taken to prefit Eigenpro with 70000 points: 0.055739641189575195 seconds\n",
      "NMF with init='nndsvd' completed.\n",
      "Final reconstruction error (Frobenius norm): 31.5257\n",
      "Using NMF-based projection with rank=2, eta=0.0010, bs=1000\n"
     ]
    },
    {
     "name": "stderr",
     "output_type": "stream",
     "text": [
      "100%|██████████| 1/1 [00:00<00:00, 641.63it/s]\n"
     ]
    },
    {
     "name": "stdout",
     "output_type": "stream",
     "text": [
      "(0 epochs, 0.0s)\ttrain mse: 0.0000 \tval mse: 0.5801\ttrain acc: 0.6760 \tval acc: 0.3470\n",
      "New best multiclass-acc: 0.3470\n",
      "Round 0, Test Acc: 34.70%\n",
      "Round 0, Test MSE: 0.5801\n",
      "Optimal M batch size:  2678\n",
      "Using batch size of 2678\n",
      "Sampling AGOP on maximum of 21424 total points\n"
     ]
    },
    {
     "name": "stderr",
     "output_type": "stream",
     "text": [
      "100%|██████████| 1/1 [00:00<00:00, 43.83it/s]"
     ]
    },
    {
     "name": "stdout",
     "output_type": "stream",
     "text": [
      "Time taken to prefit Eigenpro with 70000 points: 0.05502462387084961 seconds\n"
     ]
    },
    {
     "name": "stderr",
     "output_type": "stream",
     "text": [
      "\n"
     ]
    },
    {
     "name": "stdout",
     "output_type": "stream",
     "text": [
      "NMF with init='nndsvd' completed.\n",
      "Final reconstruction error (Frobenius norm): 31.5323\n",
      "Using NMF-based projection with rank=2, eta=0.0010, bs=1000\n"
     ]
    },
    {
     "name": "stderr",
     "output_type": "stream",
     "text": [
      "100%|██████████| 1/1 [00:00<00:00, 1001.03it/s]\n"
     ]
    },
    {
     "name": "stdout",
     "output_type": "stream",
     "text": [
      "(0 epochs, 0.0s)\ttrain mse: 0.0000 \tval mse: 0.5770\ttrain acc: 0.5370 \tval acc: 0.3470\n",
      "New best multiclass-acc: 0.3470\n",
      "Round 1, Test Acc: 34.70%\n",
      "Round 1, Test MSE: 0.5770\n",
      "Optimal M batch size:  2678\n",
      "Using batch size of 2678\n",
      "Sampling AGOP on maximum of 21424 total points\n"
     ]
    },
    {
     "name": "stderr",
     "output_type": "stream",
     "text": [
      "100%|██████████| 1/1 [00:00<00:00, 45.83it/s]"
     ]
    },
    {
     "name": "stdout",
     "output_type": "stream",
     "text": [
      "Time taken to prefit Eigenpro with 70000 points: 0.04721975326538086 seconds\n"
     ]
    },
    {
     "name": "stderr",
     "output_type": "stream",
     "text": [
      "\n"
     ]
    },
    {
     "name": "stdout",
     "output_type": "stream",
     "text": [
      "NMF with init='nndsvd' completed.\n",
      "Final reconstruction error (Frobenius norm): 31.5391\n",
      "Using NMF-based projection with rank=2, eta=0.0010, bs=1000\n"
     ]
    },
    {
     "name": "stderr",
     "output_type": "stream",
     "text": [
      "100%|██████████| 1/1 [00:00<00:00, 408.36it/s]\n"
     ]
    },
    {
     "name": "stdout",
     "output_type": "stream",
     "text": [
      "(0 epochs, 0.0s)\ttrain mse: 0.0000 \tval mse: 0.5493\ttrain acc: 0.5130 \tval acc: 0.3500\n",
      "New best multiclass-acc: 0.3500\n",
      "Round 2, Test Acc: 35.00%\n",
      "Round 2, Test MSE: 0.5493\n",
      "Optimal M batch size:  2678\n",
      "Using batch size of 2678\n",
      "Sampling AGOP on maximum of 21424 total points\n"
     ]
    },
    {
     "name": "stderr",
     "output_type": "stream",
     "text": [
      "100%|██████████| 1/1 [00:00<00:00, 41.16it/s]"
     ]
    },
    {
     "name": "stdout",
     "output_type": "stream",
     "text": [
      "Time taken to prefit Eigenpro with 70000 points: 0.0523219108581543 seconds\n"
     ]
    },
    {
     "name": "stderr",
     "output_type": "stream",
     "text": [
      "\n"
     ]
    },
    {
     "name": "stdout",
     "output_type": "stream",
     "text": [
      "NMF with init='nndsvd' completed.\n",
      "Final reconstruction error (Frobenius norm): 31.5397\n",
      "Using NMF-based projection with rank=2, eta=0.0010, bs=1000\n"
     ]
    },
    {
     "name": "stderr",
     "output_type": "stream",
     "text": [
      "100%|██████████| 1/1 [00:00<00:00, 502.19it/s]\n"
     ]
    },
    {
     "name": "stdout",
     "output_type": "stream",
     "text": [
      "(0 epochs, 0.0s)\ttrain mse: 0.0000 \tval mse: 0.3749\ttrain acc: 0.5350 \tval acc: 0.3860\n",
      "New best multiclass-acc: 0.3860\n",
      "Round 3, Test Acc: 38.60%\n",
      "Round 3, Test MSE: 0.3749\n",
      "Optimal M batch size:  2678\n",
      "Using batch size of 2678\n",
      "Sampling AGOP on maximum of 21424 total points\n"
     ]
    },
    {
     "name": "stderr",
     "output_type": "stream",
     "text": [
      "100%|██████████| 1/1 [00:00<00:00, 43.10it/s]"
     ]
    },
    {
     "name": "stdout",
     "output_type": "stream",
     "text": [
      "Time taken to prefit Eigenpro with 70000 points: 0.05069613456726074 seconds\n"
     ]
    },
    {
     "name": "stderr",
     "output_type": "stream",
     "text": [
      "\n"
     ]
    },
    {
     "name": "stdout",
     "output_type": "stream",
     "text": [
      "NMF with init='nndsvd' completed.\n",
      "Final reconstruction error (Frobenius norm): 31.5178\n",
      "Using NMF-based projection with rank=2, eta=0.0010, bs=1000\n"
     ]
    },
    {
     "name": "stderr",
     "output_type": "stream",
     "text": [
      "100%|██████████| 1/1 [00:00<00:00, 499.98it/s]\n"
     ]
    },
    {
     "name": "stdout",
     "output_type": "stream",
     "text": [
      "(0 epochs, 0.0s)\ttrain mse: 0.0000 \tval mse: 0.2061\ttrain acc: 0.6160 \tval acc: 0.5150\n",
      "New best multiclass-acc: 0.5150\n",
      "Round 4, Test Acc: 51.50%\n",
      "Round 4, Test MSE: 0.2061\n",
      "Optimal M batch size:  2678\n",
      "Using batch size of 2678\n",
      "Sampling AGOP on maximum of 21424 total points\n"
     ]
    },
    {
     "name": "stderr",
     "output_type": "stream",
     "text": [
      "100%|██████████| 1/1 [00:00<00:00, 43.41it/s]"
     ]
    },
    {
     "name": "stdout",
     "output_type": "stream",
     "text": [
      "Time taken to prefit Eigenpro with 70000 points: 0.055763959884643555 seconds\n"
     ]
    },
    {
     "name": "stderr",
     "output_type": "stream",
     "text": [
      "\n"
     ]
    },
    {
     "name": "stdout",
     "output_type": "stream",
     "text": [
      "NMF with init='nndsvd' completed.\n",
      "Final reconstruction error (Frobenius norm): 31.9524\n",
      "Using NMF-based projection with rank=2, eta=0.0010, bs=1000\n"
     ]
    },
    {
     "name": "stderr",
     "output_type": "stream",
     "text": [
      "100%|██████████| 1/1 [00:00<00:00, 500.27it/s]"
     ]
    },
    {
     "name": "stdout",
     "output_type": "stream",
     "text": [
      "(0 epochs, 0.0s)\ttrain mse: 0.0000 \tval mse: 0.1869\ttrain acc: 0.6950 \tval acc: 0.5980\n",
      "New best multiclass-acc: 0.5980\n",
      "Final MSE: 0.1869\n",
      "Final Test Acc: 59.80%\n"
     ]
    },
    {
     "name": "stderr",
     "output_type": "stream",
     "text": [
      "\n"
     ]
    },
    {
     "data": {
      "text/plain": [
       "tensor(0.1869, device='cuda:0')"
      ]
     },
     "execution_count": 2,
     "metadata": {},
     "output_type": "execute_result"
    }
   ],
   "source": [
    "import torch\n",
    "from rfm import LaplaceRFM\n",
    "\n",
    "if torch.cuda.is_available():\n",
    "    DEVICE = torch.device(\"cuda\")\n",
    "    # find GPU memory in GB, keeping aside 1GB for safety\n",
    "    DEV_MEM_GB = torch.cuda.get_device_properties(DEVICE).total_memory//1024**3 - 1 \n",
    "else:\n",
    "    DEVICE = torch.device(\"cpu\")\n",
    "    DEV_MEM_GB = 8\n",
    "\n",
    "def fstar(X):\n",
    "    return torch.cat([(X[:,0]>0)[:,None], \n",
    "\t(X[:,1]<0.5)[:,None]], axis=1).float()\n",
    "\n",
    "model = LaplaceRFM(bandwidth=1., device=DEVICE, mem_gb=DEV_MEM_GB, diag=False)\n",
    "\n",
    "n = 1000 # samples\n",
    "d = 100  # dimension\n",
    "c = 2    # classes\n",
    "\n",
    "X_train = torch.randn(n, d, device=DEVICE)\n",
    "X_test = torch.randn(n, d, device=DEVICE)\n",
    "y_train = fstar(X_train)\n",
    "y_test = fstar(X_test)\n",
    "\n",
    "model.fit(\n",
    "    (X_train, y_train), \n",
    "    (X_test, y_test), \n",
    "    iters=5,\n",
    "    classification=True,\n",
    "    epochs=5,\n",
    ")"
   ]
  }
 ],
 "metadata": {
  "kernelspec": {
   "display_name": "clean_env",
   "language": "python",
   "name": "python3"
  },
  "language_info": {
   "codemirror_mode": {
    "name": "ipython",
    "version": 3
   },
   "file_extension": ".py",
   "mimetype": "text/x-python",
   "name": "python",
   "nbconvert_exporter": "python",
   "pygments_lexer": "ipython3",
   "version": "3.12.3"
  }
 },
 "nbformat": 4,
 "nbformat_minor": 2
}
