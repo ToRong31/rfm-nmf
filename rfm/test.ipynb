{
 "cells": [
  {
   "cell_type": "code",
   "execution_count": 2,
   "metadata": {},
   "outputs": [
    {
     "name": "stdout",
     "output_type": "stream",
     "text": [
      "Shape of X_train: torch.Size([4000, 100])\n",
      "Using device: cuda\n",
      "Time taken to prefit nmf with 2000 points: 0.2810990810394287 seconds\n",
      "(0 epochs, 0.0s)\ttrain mse: 0.2682 \tval mse: 0.5143\n",
      "\ttrain acc: 0.5740 \tval acc: 0.4798\n",
      "New best multiclass-acc: 0.4798\n",
      "(1 epochs, 0.0s)\ttrain mse: 0.2680 \tval mse: 0.5143\n",
      "\ttrain acc: 0.5730 \tval acc: 0.4798\n",
      "(2 epochs, 0.0s)\ttrain mse: 0.2679 \tval mse: 0.5143\n",
      "\ttrain acc: 0.5710 \tval acc: 0.4798\n",
      "(3 epochs, 0.0s)\ttrain mse: 0.2678 \tval mse: 0.5143\n",
      "\ttrain acc: 0.5680 \tval acc: 0.4795\n",
      "(4 epochs, 0.0s)\ttrain mse: 0.2676 \tval mse: 0.5143\n",
      "\ttrain acc: 0.5530 \tval acc: 0.4795\n",
      "(5 epochs, 0.1s)\ttrain mse: 0.2675 \tval mse: 0.5143\n",
      "\ttrain acc: 0.5460 \tval acc: 0.4795\n",
      "(6 epochs, 0.1s)\ttrain mse: 0.2674 \tval mse: 0.5143\n",
      "\ttrain acc: 0.5550 \tval acc: 0.4795\n",
      "(7 epochs, 0.1s)\ttrain mse: 0.2672 \tval mse: 0.5143\n",
      "\ttrain acc: 0.5500 \tval acc: 0.4795\n",
      "(8 epochs, 0.1s)\ttrain mse: 0.2671 \tval mse: 0.5143\n",
      "\ttrain acc: 0.5550 \tval acc: 0.4795\n",
      "Early stopping triggered\n",
      "Round 0, Test Acc: 47.98%\n",
      "Round 0, Test MSE: 0.5143\n",
      "Optimal M batch size:  669\n",
      "Using batch size of 669\n",
      "Sampling AGOP on maximum of 20070 total points\n"
     ]
    },
    {
     "name": "stderr",
     "output_type": "stream",
     "text": [
      "100%|██████████| 6/6 [00:00<00:00, 125.03it/s]"
     ]
    },
    {
     "name": "stdout",
     "output_type": "stream",
     "text": [
      "Time taken to prefit nmf with 2000 points: 0.04813861846923828 seconds\n"
     ]
    },
    {
     "name": "stderr",
     "output_type": "stream",
     "text": [
      "\n"
     ]
    },
    {
     "name": "stdout",
     "output_type": "stream",
     "text": [
      "(0 epochs, 0.0s)\ttrain mse: 0.2530 \tval mse: 0.5075\n",
      "\ttrain acc: 0.5770 \tval acc: 0.5345\n",
      "New best multiclass-acc: 0.5345\n",
      "(1 epochs, 0.0s)\ttrain mse: 0.2529 \tval mse: 0.5075\n",
      "\ttrain acc: 0.5800 \tval acc: 0.5345\n",
      "(2 epochs, 0.0s)\ttrain mse: 0.2527 \tval mse: 0.5075\n",
      "\ttrain acc: 0.5800 \tval acc: 0.5345\n",
      "(3 epochs, 0.0s)\ttrain mse: 0.2526 \tval mse: 0.5075\n",
      "\ttrain acc: 0.5780 \tval acc: 0.5345\n",
      "(4 epochs, 0.1s)\ttrain mse: 0.2525 \tval mse: 0.5075\n",
      "\ttrain acc: 0.5750 \tval acc: 0.5345\n",
      "(5 epochs, 0.1s)\ttrain mse: 0.2524 \tval mse: 0.5075\n",
      "\ttrain acc: 0.5740 \tval acc: 0.5343\n",
      "(6 epochs, 0.1s)\ttrain mse: 0.2522 \tval mse: 0.5075\n",
      "\ttrain acc: 0.5750 \tval acc: 0.5343\n",
      "(7 epochs, 0.1s)\ttrain mse: 0.2521 \tval mse: 0.5075\n",
      "\ttrain acc: 0.5740 \tval acc: 0.5343\n",
      "(8 epochs, 0.1s)\ttrain mse: 0.2520 \tval mse: 0.5075\n",
      "\ttrain acc: 0.5740 \tval acc: 0.5343\n",
      "Early stopping triggered\n",
      "Round 1, Test Acc: 53.45%\n",
      "Round 1, Test MSE: 0.5075\n",
      "Optimal M batch size:  669\n",
      "Using batch size of 669\n",
      "Sampling AGOP on maximum of 20070 total points\n"
     ]
    },
    {
     "name": "stderr",
     "output_type": "stream",
     "text": [
      "100%|██████████| 6/6 [00:00<00:00, 125.00it/s]\n"
     ]
    },
    {
     "name": "stdout",
     "output_type": "stream",
     "text": [
      "Time taken to prefit nmf with 2000 points: 0.04700922966003418 seconds\n",
      "(0 epochs, 0.0s)\ttrain mse: 0.2169 \tval mse: 0.4271\n",
      "\ttrain acc: 0.6180 \tval acc: 0.5968\n",
      "New best multiclass-acc: 0.5968\n",
      "(1 epochs, 0.0s)\ttrain mse: 0.2167 \tval mse: 0.4271\n",
      "\ttrain acc: 0.6150 \tval acc: 0.5968\n",
      "(2 epochs, 0.0s)\ttrain mse: 0.2166 \tval mse: 0.4271\n",
      "\ttrain acc: 0.6120 \tval acc: 0.5968\n",
      "(3 epochs, 0.0s)\ttrain mse: 0.2165 \tval mse: 0.4271\n",
      "\ttrain acc: 0.6100 \tval acc: 0.5965\n",
      "(4 epochs, 0.1s)\ttrain mse: 0.2164 \tval mse: 0.4270\n",
      "\ttrain acc: 0.6080 \tval acc: 0.5965\n",
      "(5 epochs, 0.1s)\ttrain mse: 0.2163 \tval mse: 0.4270\n",
      "\ttrain acc: 0.6040 \tval acc: 0.5965\n",
      "(6 epochs, 0.1s)\ttrain mse: 0.2162 \tval mse: 0.4270\n",
      "\ttrain acc: 0.6060 \tval acc: 0.5965\n",
      "(7 epochs, 0.1s)\ttrain mse: 0.2160 \tval mse: 0.4270\n",
      "\ttrain acc: 0.6050 \tval acc: 0.5965\n",
      "(8 epochs, 0.1s)\ttrain mse: 0.2159 \tval mse: 0.4270\n",
      "\ttrain acc: 0.6070 \tval acc: 0.5965\n",
      "Early stopping triggered\n",
      "Round 2, Test Acc: 59.68%\n",
      "Round 2, Test MSE: 0.4271\n",
      "Optimal M batch size:  669\n",
      "Using batch size of 669\n",
      "Sampling AGOP on maximum of 20070 total points\n"
     ]
    },
    {
     "name": "stderr",
     "output_type": "stream",
     "text": [
      "100%|██████████| 6/6 [00:00<00:00, 121.17it/s]"
     ]
    },
    {
     "name": "stdout",
     "output_type": "stream",
     "text": [
      "Time taken to prefit nmf with 2000 points: 0.04599475860595703 seconds\n"
     ]
    },
    {
     "name": "stderr",
     "output_type": "stream",
     "text": [
      "\n"
     ]
    },
    {
     "name": "stdout",
     "output_type": "stream",
     "text": [
      "(0 epochs, 0.0s)\ttrain mse: 0.0935 \tval mse: 0.1813\n",
      "\ttrain acc: 0.7960 \tval acc: 0.6915\n",
      "New best multiclass-acc: 0.6915\n",
      "(1 epochs, 0.0s)\ttrain mse: 0.0936 \tval mse: 0.1813\n",
      "\ttrain acc: 0.8350 \tval acc: 0.6915\n",
      "(2 epochs, 0.0s)\ttrain mse: 0.0937 \tval mse: 0.1814\n",
      "\ttrain acc: 0.8370 \tval acc: 0.6915\n",
      "(3 epochs, 0.0s)\ttrain mse: 0.0938 \tval mse: 0.1814\n",
      "\ttrain acc: 0.8380 \tval acc: 0.6920\n",
      "New best multiclass-acc: 0.6920\n",
      "(4 epochs, 0.1s)\ttrain mse: 0.0939 \tval mse: 0.1815\n",
      "\ttrain acc: 0.8380 \tval acc: 0.6920\n",
      "(5 epochs, 0.1s)\ttrain mse: 0.0940 \tval mse: 0.1816\n",
      "\ttrain acc: 0.8390 \tval acc: 0.6923\n",
      "New best multiclass-acc: 0.6923\n",
      "(6 epochs, 0.1s)\ttrain mse: 0.0941 \tval mse: 0.1817\n",
      "\ttrain acc: 0.8390 \tval acc: 0.6925\n",
      "New best multiclass-acc: 0.6925\n",
      "(7 epochs, 0.1s)\ttrain mse: 0.0943 \tval mse: 0.1817\n",
      "\ttrain acc: 0.8390 \tval acc: 0.6930\n",
      "New best multiclass-acc: 0.6930\n",
      "(8 epochs, 0.1s)\ttrain mse: 0.0944 \tval mse: 0.1818\n",
      "\ttrain acc: 0.8390 \tval acc: 0.6930\n",
      "(9 epochs, 0.1s)\ttrain mse: 0.0946 \tval mse: 0.1819\n",
      "\ttrain acc: 0.8390 \tval acc: 0.6933\n",
      "New best multiclass-acc: 0.6933\n",
      "(10 epochs, 0.1s)\ttrain mse: 0.0947 \tval mse: 0.1820\n",
      "\ttrain acc: 0.8390 \tval acc: 0.6940\n",
      "New best multiclass-acc: 0.6940\n",
      "(11 epochs, 0.1s)\ttrain mse: 0.0949 \tval mse: 0.1822\n",
      "\ttrain acc: 0.8390 \tval acc: 0.6945\n",
      "New best multiclass-acc: 0.6945\n",
      "(12 epochs, 0.2s)\ttrain mse: 0.0951 \tval mse: 0.1823\n",
      "\ttrain acc: 0.8400 \tval acc: 0.6955\n",
      "New best multiclass-acc: 0.6955\n",
      "(13 epochs, 0.2s)\ttrain mse: 0.0953 \tval mse: 0.1824\n",
      "\ttrain acc: 0.8400 \tval acc: 0.6960\n",
      "New best multiclass-acc: 0.6960\n",
      "(14 epochs, 0.2s)\ttrain mse: 0.0955 \tval mse: 0.1826\n",
      "\ttrain acc: 0.8400 \tval acc: 0.6963\n",
      "New best multiclass-acc: 0.6963\n",
      "Round 3, Test Acc: 69.63%\n",
      "Round 3, Test MSE: 0.1826\n",
      "Optimal M batch size:  669\n",
      "Using batch size of 669\n",
      "Sampling AGOP on maximum of 20070 total points\n"
     ]
    },
    {
     "name": "stderr",
     "output_type": "stream",
     "text": [
      "100%|██████████| 6/6 [00:00<00:00, 124.99it/s]"
     ]
    },
    {
     "name": "stdout",
     "output_type": "stream",
     "text": [
      "Time taken to prefit nmf with 2000 points: 0.047531843185424805 seconds\n"
     ]
    },
    {
     "name": "stderr",
     "output_type": "stream",
     "text": [
      "\n"
     ]
    },
    {
     "name": "stdout",
     "output_type": "stream",
     "text": [
      "(0 epochs, 0.0s)\ttrain mse: 0.0402 \tval mse: 0.0931\n",
      "\ttrain acc: 0.9030 \tval acc: 0.7675\n",
      "New best multiclass-acc: 0.7675\n",
      "(1 epochs, 0.0s)\ttrain mse: 0.0945 \tval mse: 0.1490\n",
      "\ttrain acc: 0.9490 \tval acc: 0.8652\n",
      "New best multiclass-acc: 0.8652\n",
      "(2 epochs, 0.0s)\ttrain mse: 1.8321 \tval mse: 2.1376\n",
      "\ttrain acc: 0.7160 \tval acc: 0.7272\n",
      "(3 epochs, 0.0s)\ttrain mse: 59.8532 \tval mse: 69.7320\n",
      "\ttrain acc: 0.7100 \tval acc: 0.7258\n",
      "(4 epochs, 0.1s)\ttrain mse: 2002.0713 \tval mse: 2339.3481\n",
      "\ttrain acc: 0.7100 \tval acc: 0.7258\n",
      "(5 epochs, 0.1s)\ttrain mse: 66392.4453 \tval mse: 77623.6328\n",
      "\ttrain acc: 0.7100 \tval acc: 0.7258\n",
      "(6 epochs, 0.1s)\ttrain mse: 2191876.7500 \tval mse: 2562935.7500\n",
      "\ttrain acc: 0.7100 \tval acc: 0.7258\n",
      "(7 epochs, 0.1s)\ttrain mse: 72425440.0000 \tval mse: 84687800.0000\n",
      "\ttrain acc: 0.7100 \tval acc: 0.7258\n",
      "(8 epochs, 0.1s)\ttrain mse: 2445841408.0000 \tval mse: 2859957248.0000\n",
      "\ttrain acc: 0.7100 \tval acc: 0.7258\n",
      "(9 epochs, 0.1s)\ttrain mse: 82011914240.0000 \tval mse: 95897755648.0000\n",
      "\ttrain acc: 0.7100 \tval acc: 0.7258\n",
      "Early stopping triggered\n",
      "Round 4, Test Acc: 86.52%\n",
      "Round 4, Test MSE: 0.1490\n",
      "Optimal M batch size:  669\n",
      "Using batch size of 669\n",
      "Sampling AGOP on maximum of 20070 total points\n"
     ]
    },
    {
     "name": "stderr",
     "output_type": "stream",
     "text": [
      "100%|██████████| 6/6 [00:00<00:00, 119.74it/s]\n"
     ]
    },
    {
     "name": "stdout",
     "output_type": "stream",
     "text": [
      "Time taken to prefit nmf with 2000 points: 0.04399538040161133 seconds\n",
      "(0 epochs, 0.0s)\ttrain mse: 0.4206 \tval mse: 0.4975\n",
      "\ttrain acc: 0.4840 \tval acc: 0.4562\n",
      "New best multiclass-acc: 0.4562\n",
      "(1 epochs, 0.0s)\ttrain mse: 4914.1685 \tval mse: 5313.4712\n",
      "\ttrain acc: 0.2910 \tval acc: 0.2742\n",
      "(2 epochs, 0.0s)\ttrain mse: 61683276.0000 \tval mse: 66688916.0000\n",
      "\ttrain acc: 0.2910 \tval acc: 0.2742\n",
      "(3 epochs, 0.0s)\ttrain mse: 786150522880.0000 \tval mse: 849946411008.0000\n",
      "\ttrain acc: 0.2910 \tval acc: 0.2742\n",
      "(4 epochs, 0.1s)\ttrain mse: 10334813374382080.0000 \tval mse: 11173481974595584.0000\n",
      "\ttrain acc: 0.2910 \tval acc: 0.2742\n",
      "(5 epochs, 0.1s)\ttrain mse: 127923164118714941440.0000 \tval mse: 138304101997292290048.0000\n",
      "\ttrain acc: 0.2910 \tval acc: 0.2742\n",
      "(6 epochs, 0.1s)\ttrain mse: 1612822036909706310582272.0000 \tval mse: 1743702118458239806865408.0000\n",
      "\ttrain acc: 0.2910 \tval acc: 0.2742\n",
      "(7 epochs, 0.1s)\ttrain mse: 20310159192467774964630552576.0000 \tval mse: 21958324124570317014775627776.0000\n",
      "\ttrain acc: 0.2910 \tval acc: 0.2742\n",
      "(8 epochs, 0.1s)\ttrain mse: 261633385400611272067828378763264.0000 \tval mse: 282864869472506324813153761755136.0000\n",
      "\ttrain acc: 0.2910 \tval acc: 0.2742\n",
      "Early stopping triggered\n",
      "Final MSE: 0.4975\n",
      "Final Test Acc: 45.63%\n"
     ]
    },
    {
     "data": {
      "text/plain": [
       "tensor(0.4975, device='cuda:0')"
      ]
     },
     "execution_count": 2,
     "metadata": {},
     "output_type": "execute_result"
    }
   ],
   "source": [
    "import torch\n",
    "import numpy as np\n",
    "from rfm import LaplaceRFM  # Đảm bảo rằng LaplaceRFM được import đúng cách\n",
    "\n",
    "torch.set_default_dtype(torch.float32)\n",
    "torch.manual_seed(0)\n",
    "\n",
    "# Define target function\n",
    "def fstar(X):\n",
    "    return torch.cat([ \n",
    "        (X[:, 0] > 0)[:, None],  # Sử dụng broadcasting để tạo nhãn từ cột đầu tiên\n",
    "        (X[:, 1] < 0.1)[:, None]  # Tạo nhãn từ cột thứ hai\n",
    "    ], axis=1).type(X.type())  # Kết hợp nhãn thành ma trận 2 cột\n",
    "\n",
    "# Create low rank data\n",
    "n = 4000\n",
    "d = 100\n",
    "torch.manual_seed(0)\n",
    "\n",
    "# Tạo dữ liệu huấn luyện và kiểm tra dưới dạng tensor PyTorch\n",
    "X_train = torch.randn(n, d)\n",
    "X_test = torch.randn(n, d)\n",
    "\n",
    "print(f\"Shape of X_train: {X_train.shape}\")\n",
    "\n",
    "# Tạo nhãn cho dữ liệu\n",
    "y_train = fstar(X_train)\n",
    "y_test = fstar(X_test)\n",
    "\n",
    "# Kiểm tra và chuyển sang GPU nếu có sẵn\n",
    "device = torch.device('cuda' if torch.cuda.is_available() else 'cpu')\n",
    "print(f\"Using device: {device}\")\n",
    "\n",
    "# Di chuyển dữ liệu về đúng device (GPU hoặc CPU)\n",
    "X_train = X_train.to(device)\n",
    "X_test = X_test.to(device)\n",
    "y_train = y_train.to(device)\n",
    "y_test = y_test.to(device)\n",
    "\n",
    "# Khởi tạo mô hình LaplaceRFM\n",
    "model = LaplaceRFM(bandwidth=1., diag=False, centering=False)\n",
    "\n",
    "# Di chuyển mô hình lên GPU nếu có\n",
    "model = model.to(device)\n",
    "model.max_lstsq_size = 2000\n",
    "# Huấn luyện mô hình với NMF method\n",
    "model.fit(\n",
    "    (X_train, y_train),\n",
    "    (X_test, y_test),\n",
    "    method='nmf',  # Chọn phương pháp NMF\n",
    "    epochs=15,\n",
    "    iters=5,\n",
    "    classification=True,  # Phân loại\n",
    "    verbose=True,\n",
    "    prefit_nmf=True\n",
    ")\n"
   ]
  }
 ],
 "metadata": {
  "kernelspec": {
   "display_name": "clean_env",
   "language": "python",
   "name": "python3"
  },
  "language_info": {
   "codemirror_mode": {
    "name": "ipython",
    "version": 3
   },
   "file_extension": ".py",
   "mimetype": "text/x-python",
   "name": "python",
   "nbconvert_exporter": "python",
   "pygments_lexer": "ipython3",
   "version": "3.12.3"
  }
 },
 "nbformat": 4,
 "nbformat_minor": 2
}
