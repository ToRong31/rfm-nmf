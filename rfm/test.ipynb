{
 "cells": [
  {
   "cell_type": "code",
   "execution_count": null,
   "metadata": {},
   "outputs": [
    {
     "name": "stderr",
     "output_type": "stream",
     "text": [
      "c:\\Users\\hoang\\anaconda3\\envs\\clean_env\\Lib\\site-packages\\tqdm\\auto.py:21: TqdmWarning: IProgress not found. Please update jupyter and ipywidgets. See https://ipywidgets.readthedocs.io/en/stable/user_install.html\n",
      "  from .autonotebook import tqdm as notebook_tqdm\n"
     ]
    },
    {
     "name": "stdout",
     "output_type": "stream",
     "text": [
      "Time taken to prefit Eigenpro with 70000 points: 0.0944359302520752 seconds\n",
      "NMF with init='nndsvd' completed.\n",
      "Final reconstruction error (Frobenius norm): 31.5225\n",
      "Using NMF-based projection with rank=2, eta=0.0010, bs=1000\n"
     ]
    },
    {
     "name": "stderr",
     "output_type": "stream",
     "text": [
      "100%|██████████| 1/1 [00:00<00:00, 20.77it/s]\n"
     ]
    },
    {
     "name": "stdout",
     "output_type": "stream",
     "text": [
      "(0 epochs, 0.1s)\ttrain mse: 0.0000 \tval mse: 0.5961\ttrain acc: 0.6190 \tval acc: 0.3240\n",
      "New best multiclass-acc: 0.3240\n",
      "Round 0, Test Acc: 32.40%\n",
      "Round 0, Test MSE: 0.5961\n",
      "Optimal M batch size:  2678\n",
      "Using batch size of 2678\n",
      "Sampling AGOP on maximum of 21424 total points\n"
     ]
    },
    {
     "name": "stderr",
     "output_type": "stream",
     "text": [
      "100%|██████████| 1/1 [00:00<00:00, 117.52it/s]"
     ]
    },
    {
     "name": "stdout",
     "output_type": "stream",
     "text": [
      "Time taken to prefit Eigenpro with 70000 points: 0.015507698059082031 seconds\n"
     ]
    },
    {
     "name": "stderr",
     "output_type": "stream",
     "text": [
      "\n"
     ]
    },
    {
     "name": "stdout",
     "output_type": "stream",
     "text": [
      "NMF with init='nndsvd' completed.\n",
      "Final reconstruction error (Frobenius norm): 31.5285\n",
      "Using NMF-based projection with rank=2, eta=0.0010, bs=1000\n"
     ]
    },
    {
     "name": "stderr",
     "output_type": "stream",
     "text": [
      "100%|██████████| 1/1 [00:00<00:00, 332.99it/s]\n"
     ]
    },
    {
     "name": "stdout",
     "output_type": "stream",
     "text": [
      "(0 epochs, 0.0s)\ttrain mse: 0.0000 \tval mse: 0.5926\ttrain acc: 0.5220 \tval acc: 0.3240\n",
      "New best multiclass-acc: 0.3240\n",
      "Round 1, Test Acc: 32.40%\n",
      "Round 1, Test MSE: 0.5926\n",
      "Optimal M batch size:  2678\n",
      "Using batch size of 2678\n",
      "Sampling AGOP on maximum of 21424 total points\n"
     ]
    },
    {
     "name": "stderr",
     "output_type": "stream",
     "text": [
      "100%|██████████| 1/1 [00:00<00:00, 216.12it/s]"
     ]
    },
    {
     "name": "stdout",
     "output_type": "stream",
     "text": [
      "Time taken to prefit Eigenpro with 70000 points: 0.020215272903442383 seconds\n"
     ]
    },
    {
     "name": "stderr",
     "output_type": "stream",
     "text": [
      "\n"
     ]
    },
    {
     "name": "stdout",
     "output_type": "stream",
     "text": [
      "NMF with init='nndsvd' completed.\n",
      "Final reconstruction error (Frobenius norm): 31.5407\n",
      "Using NMF-based projection with rank=2, eta=0.0010, bs=1000\n"
     ]
    },
    {
     "name": "stderr",
     "output_type": "stream",
     "text": [
      "100%|██████████| 1/1 [00:00<00:00, 1000.31it/s]\n"
     ]
    },
    {
     "name": "stdout",
     "output_type": "stream",
     "text": [
      "(0 epochs, 0.0s)\ttrain mse: 0.0000 \tval mse: 0.5634\ttrain acc: 0.5040 \tval acc: 0.3270\n",
      "New best multiclass-acc: 0.3270\n",
      "Round 2, Test Acc: 32.70%\n",
      "Round 2, Test MSE: 0.5634\n",
      "Optimal M batch size:  2678\n",
      "Using batch size of 2678\n",
      "Sampling AGOP on maximum of 21424 total points\n"
     ]
    },
    {
     "name": "stderr",
     "output_type": "stream",
     "text": [
      "100%|██████████| 1/1 [00:00<00:00, 277.35it/s]"
     ]
    },
    {
     "name": "stdout",
     "output_type": "stream",
     "text": [
      "Time taken to prefit Eigenpro with 70000 points: 0.016342878341674805 seconds\n"
     ]
    },
    {
     "name": "stderr",
     "output_type": "stream",
     "text": [
      "\n"
     ]
    },
    {
     "name": "stdout",
     "output_type": "stream",
     "text": [
      "NMF with init='nndsvd' completed.\n",
      "Final reconstruction error (Frobenius norm): 31.5420\n",
      "Using NMF-based projection with rank=2, eta=0.0010, bs=1000\n"
     ]
    },
    {
     "name": "stderr",
     "output_type": "stream",
     "text": [
      "100%|██████████| 1/1 [00:00<00:00, 664.71it/s]\n"
     ]
    },
    {
     "name": "stdout",
     "output_type": "stream",
     "text": [
      "(0 epochs, 0.0s)\ttrain mse: 0.0000 \tval mse: 0.3963\ttrain acc: 0.5170 \tval acc: 0.3670\n",
      "New best multiclass-acc: 0.3670\n",
      "Round 3, Test Acc: 36.70%\n",
      "Round 3, Test MSE: 0.3963\n",
      "Optimal M batch size:  2678\n",
      "Using batch size of 2678\n",
      "Sampling AGOP on maximum of 21424 total points\n"
     ]
    },
    {
     "name": "stderr",
     "output_type": "stream",
     "text": [
      "100%|██████████| 1/1 [00:00<00:00, 285.25it/s]"
     ]
    },
    {
     "name": "stdout",
     "output_type": "stream",
     "text": [
      "Time taken to prefit Eigenpro with 70000 points: 0.015071630477905273 seconds\n"
     ]
    },
    {
     "name": "stderr",
     "output_type": "stream",
     "text": [
      "\n"
     ]
    },
    {
     "name": "stdout",
     "output_type": "stream",
     "text": [
      "NMF with init='nndsvd' completed.\n",
      "Final reconstruction error (Frobenius norm): 31.5262\n",
      "Using NMF-based projection with rank=2, eta=0.0010, bs=1000\n"
     ]
    },
    {
     "name": "stderr",
     "output_type": "stream",
     "text": [
      "100%|██████████| 1/1 [00:00<00:00, 284.78it/s]\n"
     ]
    },
    {
     "name": "stdout",
     "output_type": "stream",
     "text": [
      "(0 epochs, 0.0s)\ttrain mse: 0.0000 \tval mse: 0.2187\ttrain acc: 0.6150 \tval acc: 0.4770\n",
      "New best multiclass-acc: 0.4770\n",
      "Round 4, Test Acc: 47.70%\n",
      "Round 4, Test MSE: 0.2187\n",
      "Optimal M batch size:  2678\n",
      "Using batch size of 2678\n",
      "Sampling AGOP on maximum of 21424 total points\n"
     ]
    },
    {
     "name": "stderr",
     "output_type": "stream",
     "text": [
      "100%|██████████| 1/1 [00:00<00:00, 242.85it/s]"
     ]
    },
    {
     "name": "stdout",
     "output_type": "stream",
     "text": [
      "Time taken to prefit Eigenpro with 70000 points: 0.01604175567626953 seconds\n"
     ]
    },
    {
     "name": "stderr",
     "output_type": "stream",
     "text": [
      "\n"
     ]
    },
    {
     "name": "stdout",
     "output_type": "stream",
     "text": [
      "NMF with init='nndsvd' completed.\n",
      "Final reconstruction error (Frobenius norm): 31.9515\n",
      "Using NMF-based projection with rank=2, eta=0.0010, bs=1000\n"
     ]
    },
    {
     "name": "stderr",
     "output_type": "stream",
     "text": [
      "100%|██████████| 1/1 [00:00<00:00, 661.46it/s]"
     ]
    },
    {
     "name": "stdout",
     "output_type": "stream",
     "text": [
      "(0 epochs, 0.0s)\ttrain mse: 0.0000 \tval mse: 0.1918\ttrain acc: 0.6930 \tval acc: 0.5960\n",
      "New best multiclass-acc: 0.5960\n",
      "Final MSE: 0.1918\n",
      "Final Test Acc: 59.60%\n"
     ]
    },
    {
     "name": "stderr",
     "output_type": "stream",
     "text": [
      "\n"
     ]
    },
    {
     "data": {
      "text/plain": [
       "tensor(0.1918, device='cuda:0')"
      ]
     },
     "execution_count": 1,
     "metadata": {},
     "output_type": "execute_result"
    }
   ],
   "source": [
    "import torch\n",
    "from rfm import LaplaceRFM\n",
    "\n",
    "if torch.cuda.is_available():\n",
    "    DEVICE = torch.device(\"cuda\")\n",
    "    # find GPU memory in GB, keeping aside 1GB for safety\n",
    "    DEV_MEM_GB = torch.cuda.get_device_properties(DEVICE).total_memory//1024**3 - 1 \n",
    "else:\n",
    "    DEVICE = torch.device(\"cpu\")\n",
    "    DEV_MEM_GB = 8\n",
    "\n",
    "def fstar(X):\n",
    "    return torch.cat([(X[:,0]>0)[:,None], \n",
    "\t(X[:,1]<0.5)[:,None]], axis=1).float()\n",
    "\n",
    "model = LaplaceRFM(bandwidth=1., device=DEVICE, mem_gb=DEV_MEM_GB, diag=False)\n",
    "\n",
    "n = 1000 # samples\n",
    "d = 100  # dimension\n",
    "c = 2    # classes\n",
    "\n",
    "X_train = torch.randn(n, d, device=DEVICE)\n",
    "X_test = torch.randn(n, d, device=DEVICE)\n",
    "y_train = fstar(X_train)\n",
    "y_test = fstar(X_test)\n",
    "\n",
    "model.fit(\n",
    "    (X_train, y_train), \n",
    "    (X_test, y_test), \n",
    "    iters=5,\n",
    "    classification=True,\n",
    "    epochs=5,\n",
    "    method='eigenpro'\n",
    ")"
   ]
  }
 ],
 "metadata": {
  "kernelspec": {
   "display_name": "clean_env",
   "language": "python",
   "name": "python3"
  },
  "language_info": {
   "codemirror_mode": {
    "name": "ipython",
    "version": 3
   },
   "file_extension": ".py",
   "mimetype": "text/x-python",
   "name": "python",
   "nbconvert_exporter": "python",
   "pygments_lexer": "ipython3",
   "version": "3.12.3"
  }
 },
 "nbformat": 4,
 "nbformat_minor": 2
}
