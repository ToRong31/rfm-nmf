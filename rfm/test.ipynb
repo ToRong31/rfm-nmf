{
 "cells": [
  {
   "cell_type": "code",
   "execution_count": null,
   "metadata": {},
   "outputs": [
    {
     "name": "stderr",
     "output_type": "stream",
     "text": [
      "c:\\Users\\hoang\\anaconda3\\envs\\clean_env\\Lib\\site-packages\\tqdm\\auto.py:21: TqdmWarning: IProgress not found. Please update jupyter and ipywidgets. See https://ipywidgets.readthedocs.io/en/stable/user_install.html\n",
      "  from .autonotebook import tqdm as notebook_tqdm\n"
     ]
    },
    {
     "name": "stdout",
     "output_type": "stream",
     "text": [
      "torch.Size([4000, 100])\n",
      "Time taken to prefit nmf with 70000 points: 0.1890251636505127 seconds\n",
      "Using NMF-based projection with rank=2, eta=0.0003, bs=4000\n"
     ]
    },
    {
     "name": "stderr",
     "output_type": "stream",
     "text": [
      "100%|██████████| 1/1 [00:00<00:00,  6.19it/s]"
     ]
    },
    {
     "name": "stdout",
     "output_type": "stream",
     "text": [
      "Using NMF projection\n",
      "grad shape: torch.Size([4000, 2]), kmat shape: torch.Size([4000, 4000])\n",
      "W_nmf shape: torch.Size([4000, 2]), H_nmf shape: torch.Size([2, 4000]), S_nmf shape: torch.Size([2, 2])\n"
     ]
    },
    {
     "name": "stderr",
     "output_type": "stream",
     "text": [
      "\n"
     ]
    },
    {
     "name": "stdout",
     "output_type": "stream",
     "text": [
      "(0 epochs, 0.2s)\ttrain mse: 0.0000 \tval mse: 0.5129\ttrain acc: 0.6230 \tval acc: 0.4397\n",
      "New best multiclass-acc: 0.4397\n",
      "Round 0, Test Acc: 43.97%\n",
      "Round 0, Test MSE: 0.5129\n",
      "Optimal M batch size:  669\n",
      "Using batch size of 669\n",
      "Sampling AGOP on maximum of 20070 total points\n"
     ]
    },
    {
     "name": "stderr",
     "output_type": "stream",
     "text": [
      "100%|██████████| 6/6 [00:00<00:00, 106.76it/s]\n"
     ]
    },
    {
     "name": "stdout",
     "output_type": "stream",
     "text": [
      "Time taken to prefit nmf with 70000 points: 0.10885930061340332 seconds\n",
      "Using NMF-based projection with rank=2, eta=0.0003, bs=4000\n"
     ]
    },
    {
     "name": "stderr",
     "output_type": "stream",
     "text": [
      "100%|██████████| 1/1 [00:00<00:00, 500.99it/s]"
     ]
    },
    {
     "name": "stdout",
     "output_type": "stream",
     "text": [
      "Using NMF projection\n",
      "grad shape: torch.Size([4000, 2]), kmat shape: torch.Size([4000, 4000])\n",
      "W_nmf shape: torch.Size([4000, 2]), H_nmf shape: torch.Size([2, 4000]), S_nmf shape: torch.Size([2, 2])\n"
     ]
    },
    {
     "name": "stderr",
     "output_type": "stream",
     "text": [
      "\n"
     ]
    },
    {
     "name": "stdout",
     "output_type": "stream",
     "text": [
      "(0 epochs, 0.0s)\ttrain mse: 0.0000 \tval mse: 0.5001\ttrain acc: 0.5600 \tval acc: 0.4768\n",
      "New best multiclass-acc: 0.4768\n",
      "Round 1, Test Acc: 47.67%\n",
      "Round 1, Test MSE: 0.5001\n",
      "Optimal M batch size:  669\n",
      "Using batch size of 669\n",
      "Sampling AGOP on maximum of 20070 total points\n"
     ]
    },
    {
     "name": "stderr",
     "output_type": "stream",
     "text": [
      "100%|██████████| 6/6 [00:00<00:00, 174.00it/s]"
     ]
    },
    {
     "name": "stdout",
     "output_type": "stream",
     "text": [
      "Time taken to prefit nmf with 70000 points: 0.11110997200012207 seconds\n"
     ]
    },
    {
     "name": "stderr",
     "output_type": "stream",
     "text": [
      "\n"
     ]
    },
    {
     "name": "stdout",
     "output_type": "stream",
     "text": [
      "Using NMF-based projection with rank=2, eta=0.0003, bs=4000\n"
     ]
    },
    {
     "name": "stderr",
     "output_type": "stream",
     "text": [
      "100%|██████████| 1/1 [00:00<00:00, 333.41it/s]"
     ]
    },
    {
     "name": "stdout",
     "output_type": "stream",
     "text": [
      "Using NMF projection\n",
      "grad shape: torch.Size([4000, 2]), kmat shape: torch.Size([4000, 4000])\n",
      "W_nmf shape: torch.Size([4000, 2]), H_nmf shape: torch.Size([2, 4000]), S_nmf shape: torch.Size([2, 2])\n"
     ]
    },
    {
     "name": "stderr",
     "output_type": "stream",
     "text": [
      "\n"
     ]
    },
    {
     "name": "stdout",
     "output_type": "stream",
     "text": [
      "(0 epochs, 0.0s)\ttrain mse: 0.0000 \tval mse: 0.3779\ttrain acc: 0.6250 \tval acc: 0.5787\n",
      "New best multiclass-acc: 0.5787\n",
      "Round 2, Test Acc: 57.88%\n",
      "Round 2, Test MSE: 0.3779\n",
      "Optimal M batch size:  669\n",
      "Using batch size of 669\n",
      "Sampling AGOP on maximum of 20070 total points\n"
     ]
    },
    {
     "name": "stderr",
     "output_type": "stream",
     "text": [
      "100%|██████████| 6/6 [00:00<00:00, 184.38it/s]"
     ]
    },
    {
     "name": "stdout",
     "output_type": "stream",
     "text": [
      "Time taken to prefit nmf with 70000 points: 0.13063311576843262 seconds\n"
     ]
    },
    {
     "name": "stderr",
     "output_type": "stream",
     "text": [
      "\n"
     ]
    },
    {
     "name": "stdout",
     "output_type": "stream",
     "text": [
      "Using NMF-based projection with rank=2, eta=0.0003, bs=4000\n"
     ]
    },
    {
     "name": "stderr",
     "output_type": "stream",
     "text": [
      "100%|██████████| 1/1 [00:00<00:00, 333.65it/s]"
     ]
    },
    {
     "name": "stdout",
     "output_type": "stream",
     "text": [
      "Using NMF projection\n",
      "grad shape: torch.Size([4000, 2]), kmat shape: torch.Size([4000, 4000])\n",
      "W_nmf shape: torch.Size([4000, 2]), H_nmf shape: torch.Size([2, 4000]), S_nmf shape: torch.Size([2, 2])\n"
     ]
    },
    {
     "name": "stderr",
     "output_type": "stream",
     "text": [
      "\n"
     ]
    },
    {
     "name": "stdout",
     "output_type": "stream",
     "text": [
      "(0 epochs, 0.0s)\ttrain mse: 0.0000 \tval mse: 0.1461\ttrain acc: 0.7200 \tval acc: 0.7047\n",
      "New best multiclass-acc: 0.7047\n",
      "Round 3, Test Acc: 70.48%\n",
      "Round 3, Test MSE: 0.1461\n",
      "Optimal M batch size:  669\n",
      "Using batch size of 669\n",
      "Sampling AGOP on maximum of 20070 total points\n"
     ]
    },
    {
     "name": "stderr",
     "output_type": "stream",
     "text": [
      "100%|██████████| 6/6 [00:00<00:00, 190.41it/s]"
     ]
    },
    {
     "name": "stdout",
     "output_type": "stream",
     "text": [
      "Time taken to prefit nmf with 70000 points: 0.11517095565795898 seconds\n"
     ]
    },
    {
     "name": "stderr",
     "output_type": "stream",
     "text": [
      "\n"
     ]
    },
    {
     "name": "stdout",
     "output_type": "stream",
     "text": [
      "Using NMF-based projection with rank=2, eta=0.0003, bs=4000\n"
     ]
    },
    {
     "name": "stderr",
     "output_type": "stream",
     "text": [
      "100%|██████████| 1/1 [00:00<00:00, 499.98it/s]"
     ]
    },
    {
     "name": "stdout",
     "output_type": "stream",
     "text": [
      "Using NMF projection\n",
      "grad shape: torch.Size([4000, 2]), kmat shape: torch.Size([4000, 4000])\n",
      "W_nmf shape: torch.Size([4000, 2]), H_nmf shape: torch.Size([2, 4000]), S_nmf shape: torch.Size([2, 2])\n"
     ]
    },
    {
     "name": "stderr",
     "output_type": "stream",
     "text": [
      "\n"
     ]
    },
    {
     "name": "stdout",
     "output_type": "stream",
     "text": [
      "(0 epochs, 0.0s)\ttrain mse: 0.0000 \tval mse: 0.0781\ttrain acc: 0.8170 \tval acc: 0.7348\n",
      "New best multiclass-acc: 0.7348\n",
      "Round 4, Test Acc: 73.47%\n",
      "Round 4, Test MSE: 0.0781\n",
      "Optimal M batch size:  669\n",
      "Using batch size of 669\n",
      "Sampling AGOP on maximum of 20070 total points\n"
     ]
    },
    {
     "name": "stderr",
     "output_type": "stream",
     "text": [
      "100%|██████████| 6/6 [00:00<00:00, 176.61it/s]"
     ]
    },
    {
     "name": "stdout",
     "output_type": "stream",
     "text": [
      "Time taken to prefit nmf with 70000 points: 0.11630010604858398 seconds\n"
     ]
    },
    {
     "name": "stderr",
     "output_type": "stream",
     "text": [
      "\n"
     ]
    },
    {
     "name": "stdout",
     "output_type": "stream",
     "text": [
      "Using NMF-based projection with rank=2, eta=0.0003, bs=4000\n"
     ]
    },
    {
     "name": "stderr",
     "output_type": "stream",
     "text": [
      "100%|██████████| 1/1 [00:00<00:00, 114.90it/s]"
     ]
    },
    {
     "name": "stdout",
     "output_type": "stream",
     "text": [
      "Using NMF projection\n",
      "grad shape: torch.Size([4000, 2]), kmat shape: torch.Size([4000, 4000])\n",
      "W_nmf shape: torch.Size([4000, 2]), H_nmf shape: torch.Size([2, 4000]), S_nmf shape: torch.Size([2, 2])\n"
     ]
    },
    {
     "name": "stderr",
     "output_type": "stream",
     "text": [
      "\n"
     ]
    },
    {
     "name": "stdout",
     "output_type": "stream",
     "text": [
      "(0 epochs, 0.0s)\ttrain mse: 0.0000 \tval mse: 0.0642\ttrain acc: 0.9970 \tval acc: 0.7505\n",
      "New best multiclass-acc: 0.7505\n",
      "Final MSE: 0.0642\n",
      "Final Test Acc: 75.05%\n"
     ]
    },
    {
     "data": {
      "text/plain": [
       "tensor(0.0642, device='cuda:0')"
      ]
     },
     "execution_count": 1,
     "metadata": {},
     "output_type": "execute_result"
    }
   ],
   "source": [
    "import torch\n",
    "import numpy as np\n",
    "from rfm import LaplaceRFM\n",
    "\n",
    "\n",
    "torch.set_default_dtype(torch.float32)\n",
    "torch.manual_seed(0)\n",
    "\n",
    "# define target function\n",
    "def fstar(X):\n",
    "    return torch.cat([\n",
    "        (X[:, 0]  > 0)[:,None],\n",
    "        (X[:, 1]  < 0.1)[:,None]],\n",
    "        axis=1).type(X.type())\n",
    "\n",
    "# create low rank data\n",
    "n = 4000\n",
    "d = 100\n",
    "torch.manual_seed(0)\n",
    "X_train = torch.randn(n,d)\n",
    "X_test = torch.randn(n,d)\n",
    "print(X_train.shape)\n",
    "\n",
    "y_train = fstar(X_train)\n",
    "y_test = fstar(X_test)\n",
    "# device = torch.device('cuda' if torch.cuda.is_available() else 'cpu')\n",
    "# print(f\"Using device: {device}\")\n",
    "\n",
    "X_train_numpy = X_train.numpy()\n",
    "\n",
    "\n",
    "\n",
    "\n",
    "model = LaplaceRFM(bandwidth=1., diag=False, centering=False)\n",
    "model.fit(\n",
    "    (X_train, y_train), \n",
    "    (X_test, y_test), \n",
    "    method='lstsq', epochs=15,\n",
    "    iters=5,\n",
    "    classification=True,\n",
    "    verbose=True\n",
    ") \n"
   ]
  },
  {
   "cell_type": "code",
   "execution_count": 7,
   "metadata": {},
   "outputs": [],
   "source": [
    "if torch.cuda.is_available():\n",
    "    DEVICE = torch.device(\"cuda\")\n",
    "    DEV_MEM_GB = torch.cuda.get_device_properties(DEVICE).total_memory // 1024**3 - 1\n",
    "else:\n",
    "    DEVICE = torch.device(\"cpu\")\n",
    "    DEV_MEM_GB = 8"
   ]
  },
  {
   "cell_type": "code",
   "execution_count": 8,
   "metadata": {},
   "outputs": [
    {
     "name": "stdout",
     "output_type": "stream",
     "text": [
      "cuda 2\n"
     ]
    }
   ],
   "source": [
    "print(DEVICE, DEV_MEM_GB)"
   ]
  }
 ],
 "metadata": {
  "kernelspec": {
   "display_name": "clean_env",
   "language": "python",
   "name": "python3"
  },
  "language_info": {
   "codemirror_mode": {
    "name": "ipython",
    "version": 3
   },
   "file_extension": ".py",
   "mimetype": "text/x-python",
   "name": "python",
   "nbconvert_exporter": "python",
   "pygments_lexer": "ipython3",
   "version": "3.12.3"
  }
 },
 "nbformat": 4,
 "nbformat_minor": 2
}
