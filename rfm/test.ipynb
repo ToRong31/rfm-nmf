{
 "cells": [
  {
   "cell_type": "code",
   "execution_count": null,
   "metadata": {},
   "outputs": [
    {
     "name": "stderr",
     "output_type": "stream",
     "text": [
      "2025-03-26 23:55:23,278 - Training NTKModel\n",
      "2025-03-26 23:55:23,278 - Training NTKModel\n",
      "2025-03-26 23:55:23,278 - Training NTKModel\n",
      "2025-03-26 23:55:23,278 - Training NTKModel\n",
      "2025-03-26 23:55:23,278 - Training NTKModel\n",
      "2025-03-26 23:55:23,278 - Training NTKModel\n",
      "2025-03-26 23:55:23,278 - Training NTKModel\n",
      "2025-03-26 23:55:23,278 - Training NTKModel\n"
     ]
    },
    {
     "ename": "RuntimeError",
     "evalue": "Expected all tensors to be on the same device, but found at least two devices, cuda:0 and cpu!",
     "output_type": "error",
     "traceback": [
      "\u001b[1;31m---------------------------------------------------------------------------\u001b[0m",
      "\u001b[1;31mRuntimeError\u001b[0m                              Traceback (most recent call last)",
      "Cell \u001b[1;32mIn[10], line 81\u001b[0m\n\u001b[0;32m     78\u001b[0m predictions \u001b[38;5;241m=\u001b[39m ntk_model\u001b[38;5;241m.\u001b[39mpredict(X_test\u001b[38;5;241m.\u001b[39mto(DEVICE))\n\u001b[0;32m     80\u001b[0m \u001b[38;5;66;03m# Đánh giá kết quả\u001b[39;00m\n\u001b[1;32m---> 81\u001b[0m accuracy \u001b[38;5;241m=\u001b[39m (\u001b[43mpredictions\u001b[49m\u001b[38;5;241;43m.\u001b[39;49m\u001b[43margmax\u001b[49m\u001b[43m(\u001b[49m\u001b[43mdim\u001b[49m\u001b[38;5;241;43m=\u001b[39;49m\u001b[38;5;241;43m1\u001b[39;49m\u001b[43m)\u001b[49m\u001b[43m \u001b[49m\u001b[38;5;241;43m==\u001b[39;49m\u001b[43m \u001b[49m\u001b[43my_test\u001b[49m\u001b[38;5;241;43m.\u001b[39;49m\u001b[43margmax\u001b[49m\u001b[43m(\u001b[49m\u001b[43mdim\u001b[49m\u001b[38;5;241;43m=\u001b[39;49m\u001b[38;5;241;43m1\u001b[39;49m\u001b[43m)\u001b[49m)\u001b[38;5;241m.\u001b[39mfloat()\u001b[38;5;241m.\u001b[39mmean()\u001b[38;5;241m.\u001b[39mitem()\n\u001b[0;32m     82\u001b[0m logger\u001b[38;5;241m.\u001b[39minfo(\u001b[38;5;124mf\u001b[39m\u001b[38;5;124m\"\u001b[39m\u001b[38;5;124mTest Accuracy: \u001b[39m\u001b[38;5;132;01m{\u001b[39;00maccuracy\u001b[38;5;132;01m:\u001b[39;00m\u001b[38;5;124m.4f\u001b[39m\u001b[38;5;132;01m}\u001b[39;00m\u001b[38;5;124m\"\u001b[39m)\n",
      "\u001b[1;31mRuntimeError\u001b[0m: Expected all tensors to be on the same device, but found at least two devices, cuda:0 and cpu!"
     ]
    }
   ],
   "source": [
    "import torch\n",
    "from torchvision import datasets, transforms\n",
    "from torch.utils.data import DataLoader, random_split\n",
    "from rfm import NTKModel\n",
    "import torch.nn.functional as F\n",
    "import logging\n",
    "\n",
    "# Cấu hình logging: ghi log vào file và in ra console\n",
    "logger = logging.getLogger()\n",
    "logger.setLevel(logging.INFO)\n",
    "formatter = logging.Formatter('%(asctime)s - %(message)s')\n",
    "\n",
    "# File handler: ghi log vào output.txt\n",
    "file_handler = logging.FileHandler(\"output.txt\")\n",
    "file_handler.setFormatter(formatter)\n",
    "logger.addHandler(file_handler)\n",
    "\n",
    "# Console handler: in log ra console\n",
    "console_handler = logging.StreamHandler()\n",
    "console_handler.setFormatter(formatter)\n",
    "logger.addHandler(console_handler)\n",
    "\n",
    "# Hàm chuyển đổi batch: chuyển đổi nhãn thành one-hot encoding với 10 lớp\n",
    "def one_hot_collate(batch):\n",
    "    images, labels = zip(*batch)\n",
    "    images = torch.stack(images, 0)\n",
    "    labels = torch.tensor(labels)\n",
    "    # Chuyển đổi nhãn sang one-hot (float)\n",
    "    labels = F.one_hot(labels, num_classes=10).float()\n",
    "    return images, labels\n",
    "\n",
    "# Thiết lập thiết bị và bộ nhớ GPU (nếu có)\n",
    "if torch.cuda.is_available():\n",
    "    DEVICE = torch.device(\"cuda\")\n",
    "    DEV_MEM_GB = torch.cuda.get_device_properties(DEVICE).total_memory // 1024**3 - 1\n",
    "else:\n",
    "    DEVICE = torch.device(\"cpu\")\n",
    "    DEV_MEM_GB = 8\n",
    "\n",
    "# Định nghĩa transform: chuyển đổi ảnh MNIST thành tensor và làm phẳng thành vector 784 chiều\n",
    "transform = transforms.Compose([\n",
    "    transforms.ToTensor(),\n",
    "    transforms.Lambda(lambda x: x.view(-1))\n",
    "])\n",
    "\n",
    "# Tải dataset MNIST cho training và testing\n",
    "full_train_dataset = datasets.MNIST(root='./data', train=True, download=True, transform=transform)\n",
    "test_dataset = datasets.MNIST(root='./data', train=False, download=True, transform=transform)\n",
    "\n",
    "# Chia tập train ra thành một phần nhỏ để tránh làm đầy bộ nhớ\n",
    "subset_size = 10000  # Có thể điều chỉnh theo khả năng của máy\n",
    "train_subset, _ = random_split(full_train_dataset, [subset_size, len(full_train_dataset) - subset_size])\n",
    "\n",
    "# Tạo DataLoader cho tập train và test, sử dụng collate_fn để chuyển đổi nhãn\n",
    "batch_size = 16\n",
    "train_loader = DataLoader(train_subset, batch_size=batch_size, shuffle=True, collate_fn=one_hot_collate)\n",
    "test_loader = DataLoader(test_dataset, batch_size=batch_size, shuffle=False, collate_fn=one_hot_collate)\n",
    "\n",
    "# Trích xuất dữ liệu từ DataLoader\n",
    "X_train, y_train = next(iter(DataLoader(train_subset, batch_size=len(train_subset), collate_fn=one_hot_collate)))\n",
    "X_test, y_test = next(iter(DataLoader(test_dataset, batch_size=len(test_dataset), collate_fn=one_hot_collate)))\n",
    "\n",
    "# Khởi tạo NTKModel\n",
    "ntk_model = NTKModel(\n",
    "    sqrtM=torch.eye(X_train.shape[1]),  # Ma trận sqrtM (có thể điều chỉnh)\n",
    "    device=DEVICE\n",
    ")\n",
    "\n",
    "# Huấn luyện NTKModel\n",
    "logger.info(\"Training NTKModel\")\n",
    "ntk_model.fit(\n",
    "    X=X_train.to(DEVICE),\n",
    "    y=y_train.to(DEVICE),\n",
    "    reg=1e-3  # Tham số regularization\n",
    ")\n",
    "\n",
    "# Dự đoán trên tập test\n",
    "predictions = ntk_model.predict(X_test.to(DEVICE))\n",
    "\n",
    "# Đánh giá kết quả\n",
    "accuracy = (predictions.argmax(dim=1) == y_test.to(DEVICE).argmax(dim=1)).float().mean().item()\n",
    "logger.info(f\"Test Accuracy: {accuracy:.4f}\")"
   ]
  },
  {
   "cell_type": "code",
   "execution_count": 7,
   "metadata": {},
   "outputs": [],
   "source": [
    "if torch.cuda.is_available():\n",
    "    DEVICE = torch.device(\"cuda\")\n",
    "    DEV_MEM_GB = torch.cuda.get_device_properties(DEVICE).total_memory // 1024**3 - 1\n",
    "else:\n",
    "    DEVICE = torch.device(\"cpu\")\n",
    "    DEV_MEM_GB = 8"
   ]
  },
  {
   "cell_type": "code",
   "execution_count": 8,
   "metadata": {},
   "outputs": [
    {
     "name": "stdout",
     "output_type": "stream",
     "text": [
      "cuda 2\n"
     ]
    }
   ],
   "source": [
    "print(DEVICE, DEV_MEM_GB)"
   ]
  }
 ],
 "metadata": {
  "kernelspec": {
   "display_name": "clean_env",
   "language": "python",
   "name": "python3"
  },
  "language_info": {
   "codemirror_mode": {
    "name": "ipython",
    "version": 3
   },
   "file_extension": ".py",
   "mimetype": "text/x-python",
   "name": "python",
   "nbconvert_exporter": "python",
   "pygments_lexer": "ipython3",
   "version": "3.12.3"
  }
 },
 "nbformat": 4,
 "nbformat_minor": 2
}
