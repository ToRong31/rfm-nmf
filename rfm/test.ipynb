{
 "cells": [
  {
   "cell_type": "code",
   "execution_count": null,
   "metadata": {},
   "outputs": [
    {
     "name": "stderr",
     "output_type": "stream",
     "text": [
      "c:\\Users\\hoang\\anaconda3\\envs\\clean_env\\Lib\\site-packages\\tqdm\\auto.py:21: TqdmWarning: IProgress not found. Please update jupyter and ipywidgets. See https://ipywidgets.readthedocs.io/en/stable/user_install.html\n",
      "  from .autonotebook import tqdm as notebook_tqdm\n"
     ]
    },
    {
     "name": "stdout",
     "output_type": "stream",
     "text": [
      "Shape of X_train: torch.Size([4000, 100])\n",
      "Using device: cuda\n",
      "Time taken to prefit nmf with 70000 points: 0.2130889892578125 seconds\n",
      "(0 epochs, 0.0s)\ttrain mse: 0.0000 \tval mse: 0.5129\n",
      "\ttrain acc: 0.5630 \tval acc: 0.4397\n",
      "New best multiclass-acc: 0.4397\n",
      "Round 0, Test Acc: 43.97%\n",
      "Round 0, Test MSE: 0.5129\n",
      "Optimal M batch size:  669\n",
      "Using batch size of 669\n",
      "Sampling AGOP on maximum of 20070 total points\n"
     ]
    },
    {
     "name": "stderr",
     "output_type": "stream",
     "text": [
      "100%|██████████| 6/6 [00:00<00:00, 153.83it/s]"
     ]
    },
    {
     "name": "stdout",
     "output_type": "stream",
     "text": [
      "Time taken to prefit nmf with 70000 points: 0.09864068031311035 seconds\n"
     ]
    },
    {
     "name": "stderr",
     "output_type": "stream",
     "text": [
      "\n"
     ]
    },
    {
     "name": "stdout",
     "output_type": "stream",
     "text": [
      "(0 epochs, 0.0s)\ttrain mse: 0.0000 \tval mse: 0.5001\n",
      "\ttrain acc: 0.5620 \tval acc: 0.4770\n",
      "New best multiclass-acc: 0.4770\n",
      "Round 1, Test Acc: 47.70%\n",
      "Round 1, Test MSE: 0.5001\n",
      "Optimal M batch size:  669\n",
      "Using batch size of 669\n",
      "Sampling AGOP on maximum of 20070 total points\n"
     ]
    },
    {
     "name": "stderr",
     "output_type": "stream",
     "text": [
      "100%|██████████| 6/6 [00:00<00:00, 164.21it/s]"
     ]
    },
    {
     "name": "stdout",
     "output_type": "stream",
     "text": [
      "Time taken to prefit nmf with 70000 points: 0.1064615249633789 seconds\n"
     ]
    },
    {
     "name": "stderr",
     "output_type": "stream",
     "text": [
      "\n"
     ]
    },
    {
     "name": "stdout",
     "output_type": "stream",
     "text": [
      "(0 epochs, 0.0s)\ttrain mse: 0.0000 \tval mse: 0.3770\n",
      "\ttrain acc: 0.6340 \tval acc: 0.5787\n",
      "New best multiclass-acc: 0.5787\n",
      "Round 2, Test Acc: 57.88%\n",
      "Round 2, Test MSE: 0.3770\n",
      "Optimal M batch size:  669\n",
      "Using batch size of 669\n",
      "Sampling AGOP on maximum of 20070 total points\n"
     ]
    },
    {
     "name": "stderr",
     "output_type": "stream",
     "text": [
      "100%|██████████| 6/6 [00:00<00:00, 164.79it/s]"
     ]
    },
    {
     "name": "stdout",
     "output_type": "stream",
     "text": [
      "Time taken to prefit nmf with 70000 points: 0.09854388236999512 seconds\n"
     ]
    },
    {
     "name": "stderr",
     "output_type": "stream",
     "text": [
      "\n"
     ]
    },
    {
     "name": "stdout",
     "output_type": "stream",
     "text": [
      "(0 epochs, 0.0s)\ttrain mse: 0.0000 \tval mse: 0.1455\n",
      "\ttrain acc: 0.7410 \tval acc: 0.7057\n",
      "New best multiclass-acc: 0.7057\n",
      "Round 3, Test Acc: 70.57%\n",
      "Round 3, Test MSE: 0.1455\n",
      "Optimal M batch size:  669\n",
      "Using batch size of 669\n",
      "Sampling AGOP on maximum of 20070 total points\n"
     ]
    },
    {
     "name": "stderr",
     "output_type": "stream",
     "text": [
      "100%|██████████| 6/6 [00:00<00:00, 166.64it/s]"
     ]
    },
    {
     "name": "stdout",
     "output_type": "stream",
     "text": [
      "Time taken to prefit nmf with 70000 points: 0.10752606391906738 seconds\n"
     ]
    },
    {
     "name": "stderr",
     "output_type": "stream",
     "text": [
      "\n"
     ]
    },
    {
     "name": "stdout",
     "output_type": "stream",
     "text": [
      "(0 epochs, 0.0s)\ttrain mse: 0.0000 \tval mse: 0.0780\n",
      "\ttrain acc: 0.7830 \tval acc: 0.7345\n",
      "New best multiclass-acc: 0.7345\n",
      "Round 4, Test Acc: 73.45%\n",
      "Round 4, Test MSE: 0.0780\n",
      "Optimal M batch size:  669\n",
      "Using batch size of 669\n",
      "Sampling AGOP on maximum of 20070 total points\n"
     ]
    },
    {
     "name": "stderr",
     "output_type": "stream",
     "text": [
      "100%|██████████| 6/6 [00:00<00:00, 113.19it/s]\n"
     ]
    },
    {
     "name": "stdout",
     "output_type": "stream",
     "text": [
      "Time taken to prefit nmf with 70000 points: 0.13137269020080566 seconds\n",
      "(0 epochs, 0.0s)\ttrain mse: 0.0000 \tval mse: 0.0642\n",
      "\ttrain acc: 0.5350 \tval acc: 0.7375\n",
      "New best multiclass-acc: 0.7375\n",
      "Final MSE: 0.0642\n",
      "Final Test Acc: 73.75%\n"
     ]
    },
    {
     "data": {
      "text/plain": [
       "tensor(0.0642, device='cuda:0')"
      ]
     },
     "execution_count": 1,
     "metadata": {},
     "output_type": "execute_result"
    }
   ],
   "source": [
    "import torch\n",
    "import numpy as np\n",
    "from rfm import LaplaceRFM  # Đảm bảo rằng LaplaceRFM được import đúng cách\n",
    "\n",
    "torch.set_default_dtype(torch.float32)\n",
    "torch.manual_seed(0)\n",
    "\n",
    "# Define target function\n",
    "def fstar(X):\n",
    "    return torch.cat([ \n",
    "        (X[:, 0] > 0)[:, None],  # Sử dụng broadcasting để tạo nhãn từ cột đầu tiên\n",
    "        (X[:, 1] < 0.1)[:, None]  # Tạo nhãn từ cột thứ hai\n",
    "    ], axis=1).type(X.type())  # Kết hợp nhãn thành ma trận 2 cột\n",
    "\n",
    "# Create low rank data\n",
    "n = 4000\n",
    "d = 100\n",
    "torch.manual_seed(0)\n",
    "\n",
    "# Tạo dữ liệu huấn luyện và kiểm tra dưới dạng tensor PyTorch\n",
    "X_train = torch.randn(n, d)\n",
    "X_test = torch.randn(n, d)\n",
    "\n",
    "print(f\"Shape of X_train: {X_train.shape}\")\n",
    "\n",
    "# Tạo nhãn cho dữ liệu\n",
    "y_train = fstar(X_train)\n",
    "y_test = fstar(X_test)\n",
    "\n",
    "# Kiểm tra và chuyển sang GPU nếu có sẵn\n",
    "device = torch.device('cuda' if torch.cuda.is_available() else 'cpu')\n",
    "print(f\"Using device: {device}\")\n",
    "\n",
    "# Di chuyển dữ liệu về đúng device (GPU hoặc CPU)\n",
    "X_train = X_train.to(device)\n",
    "X_test = X_test.to(device)\n",
    "y_train = y_train.to(device)\n",
    "y_test = y_test.to(device)\n",
    "\n",
    "# Khởi tạo mô hình LaplaceRFM\n",
    "model = LaplaceRFM(bandwidth=1., diag=False, centering=False)\n",
    "\n",
    "# Di chuyển mô hình lên GPU nếu có\n",
    "model = model.to(device)\n",
    "model.max_lstsq_size = 2000\n",
    "# Huấn luyện mô hình với NMF method\n",
    "model.fit(\n",
    "    (X_train, y_train),\n",
    "    (X_test, y_test),\n",
    "    method='nmf',  # Chọn phương pháp NMF\n",
    "    epochs=15,\n",
    "    iters=5,\n",
    "    classification=True,  # Phân loại\n",
    "    verbose=True,\n",
    "    prefit_nmf=True\n",
    ")\n"
   ]
  }
 ],
 "metadata": {
  "kernelspec": {
   "display_name": "clean_env",
   "language": "python",
   "name": "python3"
  },
  "language_info": {
   "codemirror_mode": {
    "name": "ipython",
    "version": 3
   },
   "file_extension": ".py",
   "mimetype": "text/x-python",
   "name": "python",
   "nbconvert_exporter": "python",
   "pygments_lexer": "ipython3",
   "version": "3.12.3"
  }
 },
 "nbformat": 4,
 "nbformat_minor": 2
}
