{
 "cells": [
  {
   "cell_type": "code",
   "execution_count": null,
   "metadata": {},
   "outputs": [
    {
     "name": "stdout",
     "output_type": "stream",
     "text": [
      "torch.Size([4000, 100])\n",
      "Using device: cuda\n",
      "Time taken to prefit nmf with 70000 points: 0.6066043376922607 seconds\n"
     ]
    },
    {
     "ename": "TypeError",
     "evalue": "'list' object cannot be interpreted as an integer",
     "output_type": "error",
     "traceback": [
      "\u001b[1;31m---------------------------------------------------------------------------\u001b[0m",
      "\u001b[1;31mTypeError\u001b[0m                                 Traceback (most recent call last)",
      "Cell \u001b[1;32mIn[2], line 35\u001b[0m\n\u001b[0;32m     29\u001b[0m X_train_numpy \u001b[38;5;241m=\u001b[39m X_train\u001b[38;5;241m.\u001b[39mnumpy()\n\u001b[0;32m     34\u001b[0m model \u001b[38;5;241m=\u001b[39m LaplaceRFM(bandwidth\u001b[38;5;241m=\u001b[39m\u001b[38;5;241m1.\u001b[39m, diag\u001b[38;5;241m=\u001b[39m\u001b[38;5;28;01mFalse\u001b[39;00m, centering\u001b[38;5;241m=\u001b[39m\u001b[38;5;28;01mFalse\u001b[39;00m)\n\u001b[1;32m---> 35\u001b[0m \u001b[43mmodel\u001b[49m\u001b[38;5;241;43m.\u001b[39;49m\u001b[43mfit\u001b[49m\u001b[43m(\u001b[49m\n\u001b[0;32m     36\u001b[0m \u001b[43m    \u001b[49m\u001b[43m(\u001b[49m\u001b[43mX_train\u001b[49m\u001b[43m,\u001b[49m\u001b[43m \u001b[49m\u001b[43my_train\u001b[49m\u001b[43m)\u001b[49m\u001b[43m,\u001b[49m\u001b[43m \u001b[49m\n\u001b[0;32m     37\u001b[0m \u001b[43m    \u001b[49m\u001b[43m(\u001b[49m\u001b[43mX_test\u001b[49m\u001b[43m,\u001b[49m\u001b[43m \u001b[49m\u001b[43my_test\u001b[49m\u001b[43m)\u001b[49m\u001b[43m,\u001b[49m\u001b[43m \u001b[49m\n\u001b[0;32m     38\u001b[0m \u001b[43m    \u001b[49m\u001b[43mmethod\u001b[49m\u001b[38;5;241;43m=\u001b[39;49m\u001b[38;5;124;43m'\u001b[39;49m\u001b[38;5;124;43mnmf\u001b[39;49m\u001b[38;5;124;43m'\u001b[39;49m\u001b[43m,\u001b[49m\u001b[43m \u001b[49m\u001b[43mepochs\u001b[49m\u001b[38;5;241;43m=\u001b[39;49m\u001b[38;5;241;43m15\u001b[39;49m\u001b[43m,\u001b[49m\n\u001b[0;32m     39\u001b[0m \u001b[43m    \u001b[49m\u001b[43miters\u001b[49m\u001b[38;5;241;43m=\u001b[39;49m\u001b[38;5;241;43m5\u001b[39;49m\u001b[43m,\u001b[49m\n\u001b[0;32m     40\u001b[0m \u001b[43m    \u001b[49m\u001b[43mclassification\u001b[49m\u001b[38;5;241;43m=\u001b[39;49m\u001b[38;5;28;43;01mTrue\u001b[39;49;00m\u001b[43m,\u001b[49m\n\u001b[0;32m     41\u001b[0m \u001b[43m    \u001b[49m\u001b[43mverbose\u001b[49m\u001b[38;5;241;43m=\u001b[39;49m\u001b[38;5;28;43;01mTrue\u001b[39;49;00m\n\u001b[0;32m     42\u001b[0m \u001b[43m)\u001b[49m \n",
      "File \u001b[1;32md:\\UIT\\nsNMF\\rfm-nmf\\rfm\\rfm\\recursive_feature_machine.py:238\u001b[0m, in \u001b[0;36mRecursiveFeatureMachine.fit\u001b[1;34m(self, train_data, test_data, iters, method, classification, verbose, M_batch_size, return_best_params, bs, return_Ms, lr_scale, total_points_to_sample, solver, fit_last_M, prefit_nmf, **kwargs)\u001b[0m\n\u001b[0;32m    235\u001b[0m \u001b[38;5;28;01mfor\u001b[39;00m i \u001b[38;5;129;01min\u001b[39;00m \u001b[38;5;28mrange\u001b[39m(iters):\n\u001b[0;32m    236\u001b[0m     start_time \u001b[38;5;241m=\u001b[39m time\u001b[38;5;241m.\u001b[39mtime()\n\u001b[1;32m--> 238\u001b[0m     \u001b[38;5;28;43mself\u001b[39;49m\u001b[38;5;241;43m.\u001b[39;49m\u001b[43mfit_predictor\u001b[49m\u001b[43m(\u001b[49m\u001b[43mX_train\u001b[49m\u001b[43m,\u001b[49m\u001b[43m \u001b[49m\u001b[43my_train\u001b[49m\u001b[43m,\u001b[49m\u001b[43m \u001b[49m\u001b[43mX_val\u001b[49m\u001b[38;5;241;43m=\u001b[39;49m\u001b[43mX_test\u001b[49m\u001b[43m,\u001b[49m\u001b[43m \u001b[49m\u001b[43my_val\u001b[49m\u001b[38;5;241;43m=\u001b[39;49m\u001b[43my_test\u001b[49m\u001b[43m,\u001b[49m\u001b[43m \u001b[49m\n\u001b[0;32m    239\u001b[0m \u001b[43m                    \u001b[49m\u001b[43mclassification\u001b[49m\u001b[38;5;241;43m=\u001b[39;49m\u001b[43mclassification\u001b[49m\u001b[43m,\u001b[49m\n\u001b[0;32m    240\u001b[0m \u001b[43m                    \u001b[49m\u001b[43mbs\u001b[49m\u001b[38;5;241;43m=\u001b[39;49m\u001b[43mbs\u001b[49m\u001b[43m,\u001b[49m\u001b[43m \u001b[49m\u001b[43mlr_scale\u001b[49m\u001b[38;5;241;43m=\u001b[39;49m\u001b[43mlr_scale\u001b[49m\u001b[43m,\u001b[49m\u001b[43m \u001b[49m\n\u001b[0;32m    241\u001b[0m \u001b[43m                    \u001b[49m\u001b[43mverbose\u001b[49m\u001b[38;5;241;43m=\u001b[39;49m\u001b[43mverbose\u001b[49m\u001b[43m,\u001b[49m\u001b[43m \u001b[49m\u001b[43msolver\u001b[49m\u001b[38;5;241;43m=\u001b[39;49m\u001b[43msolver\u001b[49m\u001b[43m,\u001b[49m\u001b[43m \u001b[49m\n\u001b[0;32m    242\u001b[0m \u001b[43m                    \u001b[49m\u001b[38;5;241;43m*\u001b[39;49m\u001b[38;5;241;43m*\u001b[39;49m\u001b[43mkwargs\u001b[49m\u001b[43m)\u001b[49m\n\u001b[0;32m    244\u001b[0m     test_mse \u001b[38;5;241m=\u001b[39m \u001b[38;5;28mself\u001b[39m\u001b[38;5;241m.\u001b[39mscore(X_test, y_test, bs, metric\u001b[38;5;241m=\u001b[39m\u001b[38;5;124m'\u001b[39m\u001b[38;5;124mmse\u001b[39m\u001b[38;5;124m'\u001b[39m)\n\u001b[0;32m    245\u001b[0m     log_data \u001b[38;5;241m=\u001b[39m {\u001b[38;5;124m\"\u001b[39m\u001b[38;5;124mepoch\u001b[39m\u001b[38;5;124m\"\u001b[39m: i, \u001b[38;5;124m\"\u001b[39m\u001b[38;5;124mtest_mse\u001b[39m\u001b[38;5;124m\"\u001b[39m: test_mse}\n",
      "File \u001b[1;32md:\\UIT\\nsNMF\\rfm-nmf\\rfm\\rfm\\recursive_feature_machine.py:137\u001b[0m, in \u001b[0;36mRecursiveFeatureMachine.fit_predictor\u001b[1;34m(self, centers, targets, classification, bs, lr_scale, verbose, solver, **kwargs)\u001b[0m\n\u001b[0;32m    134\u001b[0m     \u001b[38;5;28;01melse\u001b[39;00m:\n\u001b[0;32m    135\u001b[0m         initial_weights \u001b[38;5;241m=\u001b[39m \u001b[38;5;28;01mNone\u001b[39;00m\n\u001b[1;32m--> 137\u001b[0m     \u001b[38;5;28mself\u001b[39m\u001b[38;5;241m.\u001b[39mweights \u001b[38;5;241m=\u001b[39m \u001b[38;5;28;43mself\u001b[39;49m\u001b[38;5;241;43m.\u001b[39;49m\u001b[43mfit_predictor_nmf\u001b[49m\u001b[43m(\u001b[49m\u001b[43mcenters\u001b[49m\u001b[43m,\u001b[49m\u001b[43m \u001b[49m\u001b[43mtargets\u001b[49m\u001b[43m,\u001b[49m\u001b[43m \u001b[49m\u001b[43mbs\u001b[49m\u001b[38;5;241;43m=\u001b[39;49m\u001b[43mbs\u001b[49m\u001b[43m,\u001b[49m\u001b[43m \u001b[49m\u001b[43mlr_scale\u001b[49m\u001b[38;5;241;43m=\u001b[39;49m\u001b[43mlr_scale\u001b[49m\u001b[43m,\u001b[49m\u001b[43m \u001b[49m\n\u001b[0;32m    138\u001b[0m \u001b[43m                                               \u001b[49m\u001b[43mverbose\u001b[49m\u001b[38;5;241;43m=\u001b[39;49m\u001b[43mverbose\u001b[49m\u001b[43m,\u001b[49m\u001b[43m \u001b[49m\u001b[43mclassification\u001b[49m\u001b[38;5;241;43m=\u001b[39;49m\u001b[43mclassification\u001b[49m\u001b[43m,\u001b[49m\u001b[43m \u001b[49m\n\u001b[0;32m    139\u001b[0m \u001b[43m                                               \u001b[49m\u001b[43minitial_weights\u001b[49m\u001b[38;5;241;43m=\u001b[39;49m\u001b[43minitial_weights\u001b[49m\u001b[43m,\u001b[49m\n\u001b[0;32m    140\u001b[0m \u001b[43m                                               \u001b[49m\u001b[38;5;241;43m*\u001b[39;49m\u001b[38;5;241;43m*\u001b[39;49m\u001b[43mkwargs\u001b[49m\u001b[43m)\u001b[49m\n\u001b[0;32m    141\u001b[0m \u001b[38;5;28;01melse\u001b[39;00m:\n\u001b[0;32m    142\u001b[0m     \u001b[38;5;28mself\u001b[39m\u001b[38;5;241m.\u001b[39mweights \u001b[38;5;241m=\u001b[39m \u001b[38;5;28mself\u001b[39m\u001b[38;5;241m.\u001b[39mfit_predictor_lstsq(centers, targets, solver\u001b[38;5;241m=\u001b[39msolver)\n",
      "File \u001b[1;32md:\\UIT\\nsNMF\\rfm-nmf\\rfm\\rfm\\recursive_feature_machine.py:174\u001b[0m, in \u001b[0;36mRecursiveFeatureMachine.fit_predictor_nmf\u001b[1;34m(self, centers, targets, bs, lr_scale, verbose, initial_weights, **kwargs)\u001b[0m\n\u001b[0;32m    172\u001b[0m \u001b[38;5;28;01mif\u001b[39;00m initial_weights \u001b[38;5;129;01mis\u001b[39;00m \u001b[38;5;129;01mnot\u001b[39;00m \u001b[38;5;28;01mNone\u001b[39;00m:\n\u001b[0;32m    173\u001b[0m     ep_model\u001b[38;5;241m.\u001b[39mweight \u001b[38;5;241m=\u001b[39m initial_weights\u001b[38;5;241m.\u001b[39mto(ep_model\u001b[38;5;241m.\u001b[39mweight\u001b[38;5;241m.\u001b[39mdevice, dtype\u001b[38;5;241m=\u001b[39mep_model\u001b[38;5;241m.\u001b[39mweight\u001b[38;5;241m.\u001b[39mdtype)\n\u001b[1;32m--> 174\u001b[0m _ \u001b[38;5;241m=\u001b[39m \u001b[43mep_model\u001b[49m\u001b[38;5;241;43m.\u001b[39;49m\u001b[43mfit\u001b[49m\u001b[43m(\u001b[49m\u001b[43mcenters\u001b[49m\u001b[43m,\u001b[49m\u001b[43m \u001b[49m\u001b[43mtargets\u001b[49m\u001b[43m,\u001b[49m\u001b[43m \u001b[49m\u001b[43mverbose\u001b[49m\u001b[38;5;241;43m=\u001b[39;49m\u001b[43mverbose\u001b[49m\u001b[43m,\u001b[49m\u001b[43m \u001b[49m\u001b[43mmem_gb\u001b[49m\u001b[38;5;241;43m=\u001b[39;49m\u001b[38;5;28;43mself\u001b[39;49m\u001b[38;5;241;43m.\u001b[39;49m\u001b[43mmem_gb\u001b[49m\u001b[43m,\u001b[49m\u001b[43m \u001b[49m\u001b[43mbs\u001b[49m\u001b[38;5;241;43m=\u001b[39;49m\u001b[43mbs\u001b[49m\u001b[43m,\u001b[49m\u001b[43m \u001b[49m\u001b[43mlr_scale\u001b[49m\u001b[38;5;241;43m=\u001b[39;49m\u001b[43mlr_scale\u001b[49m\u001b[43m,\u001b[49m\u001b[43m \u001b[49m\u001b[38;5;241;43m*\u001b[39;49m\u001b[38;5;241;43m*\u001b[39;49m\u001b[43mkwargs\u001b[49m\u001b[43m)\u001b[49m\n\u001b[0;32m    175\u001b[0m \u001b[38;5;28;01mreturn\u001b[39;00m ep_model\u001b[38;5;241m.\u001b[39mweight\n",
      "File \u001b[1;32md:\\UIT\\nsNMF\\rfm-nmf\\rfm\\rfm\\nmfhtr.py:201\u001b[0m, in \u001b[0;36mKernelModel.fit\u001b[1;34m(self, X_train, y_train, X_val, y_val, epochs, mem_gb, n_subsamples, bs, eta, n_eval, run_epoch_eval, lr_scale, verbose, seed, classification, threshold, early_stopping_window_size, eval_interval)\u001b[0m\n\u001b[0;32m    198\u001b[0m samples \u001b[38;5;241m=\u001b[39m \u001b[38;5;28mself\u001b[39m\u001b[38;5;241m.\u001b[39mcenters[sample_ids]\n\u001b[0;32m    200\u001b[0m \u001b[38;5;66;03m# Use NMF instead of SVD\u001b[39;00m\n\u001b[1;32m--> 201\u001b[0m W_nmf, H_nmf,S_nmf, nmf_norms \u001b[38;5;241m=\u001b[39m \u001b[43masm_nmf_fn\u001b[49m\u001b[43m(\u001b[49m\u001b[43msamples\u001b[49m\u001b[43m,\u001b[49m\u001b[43m \u001b[49m\u001b[38;5;28;43mself\u001b[39;49m\u001b[38;5;241;43m.\u001b[39;49m\u001b[43mkernel_fn\u001b[49m\u001b[43m,\u001b[49m\u001b[43m \u001b[49m\u001b[43mrank\u001b[49m\u001b[38;5;241;43m=\u001b[39;49m\u001b[43mn_labels\u001b[49m\u001b[43m,\u001b[49m\u001b[43m \u001b[49m\u001b[43mverbose\u001b[49m\u001b[38;5;241;43m=\u001b[39;49m\u001b[43mverbose\u001b[49m\u001b[43m)\u001b[49m\n\u001b[0;32m    204\u001b[0m \u001b[38;5;28;01mdef\u001b[39;00m \u001b[38;5;21mnmf_projection_fn\u001b[39m(grad, kmat):\n\u001b[0;32m    205\u001b[0m     \u001b[38;5;28;01mreturn\u001b[39;00m W_nmf \u001b[38;5;241m@\u001b[39m S_nmf \u001b[38;5;241m@\u001b[39m(H_nmf \u001b[38;5;241m@\u001b[39m grad)\u001b[38;5;241m.\u001b[39mto(\u001b[38;5;28mself\u001b[39m\u001b[38;5;241m.\u001b[39mdevice)\n",
      "File \u001b[1;32md:\\UIT\\nsNMF\\rfm-nmf\\rfm\\rfm\\nmfhtr.py:24\u001b[0m, in \u001b[0;36masm_nmf_fn\u001b[1;34m(samples, map_fn, rank, max_iter, init_mode, verbose, device)\u001b[0m\n\u001b[0;32m     21\u001b[0m k_list \u001b[38;5;241m=\u001b[39m [rank, rank]  \u001b[38;5;66;03m# Same rank for both layers\u001b[39;00m\n\u001b[0;32m     22\u001b[0m theta_list \u001b[38;5;241m=\u001b[39m [\u001b[38;5;241m0.5\u001b[39m, \u001b[38;5;241m0.5\u001b[39m]  \u001b[38;5;66;03m# Example smoothing parameters\u001b[39;00m\n\u001b[1;32m---> 24\u001b[0m W, H, S, norms \u001b[38;5;241m=\u001b[39m \u001b[43mmultiplicative_update_nsnmf\u001b[49m\u001b[43m(\u001b[49m\n\u001b[0;32m     25\u001b[0m \u001b[43m    \u001b[49m\u001b[43mkernel_matrix\u001b[49m\u001b[43m,\u001b[49m\u001b[43m \u001b[49m\u001b[43mk_list\u001b[49m\u001b[43m,\u001b[49m\u001b[43m \u001b[49m\u001b[43mtheta_list\u001b[49m\u001b[43m,\u001b[49m\u001b[43m \u001b[49m\u001b[43mmax_iter\u001b[49m\u001b[43m,\u001b[49m\u001b[43m \u001b[49m\u001b[43minit_mode\u001b[49m\u001b[43m,\u001b[49m\u001b[43mlambda_sparseness\u001b[49m\u001b[38;5;241;43m=\u001b[39;49m\u001b[38;5;241;43m0.1\u001b[39;49m\n\u001b[0;32m     26\u001b[0m \u001b[43m\u001b[49m\u001b[43m)\u001b[49m\n\u001b[0;32m     29\u001b[0m \u001b[38;5;28;01mreturn\u001b[39;00m torch\u001b[38;5;241m.\u001b[39mfrom_numpy(W)\u001b[38;5;241m.\u001b[39mfloat()\u001b[38;5;241m.\u001b[39mto(device), torch\u001b[38;5;241m.\u001b[39mfrom_numpy(H)\u001b[38;5;241m.\u001b[39mfloat()\u001b[38;5;241m.\u001b[39mto(device), torch\u001b[38;5;241m.\u001b[39mfrom_numpy(S)\u001b[38;5;241m.\u001b[39mto(device), norms\n",
      "File \u001b[1;32md:\\UIT\\nsNMF\\rfm-nmf\\rfm\\rfm\\nmf.py:59\u001b[0m, in \u001b[0;36mmultiplicative_update_nsnmf\u001b[1;34m(A, k, theta, max_iter, init_mode, lambda_sparseness)\u001b[0m\n\u001b[0;32m     57\u001b[0m     W, H \u001b[38;5;241m=\u001b[39m random_initialization(A, k)\n\u001b[0;32m     58\u001b[0m \u001b[38;5;28;01melif\u001b[39;00m init_mode \u001b[38;5;241m==\u001b[39m \u001b[38;5;124m'\u001b[39m\u001b[38;5;124mnndsvd\u001b[39m\u001b[38;5;124m'\u001b[39m:\n\u001b[1;32m---> 59\u001b[0m     W, H \u001b[38;5;241m=\u001b[39m \u001b[43mnndsvd_initialization\u001b[49m\u001b[43m(\u001b[49m\u001b[43mA\u001b[49m\u001b[43m,\u001b[49m\u001b[43m \u001b[49m\u001b[43mk\u001b[49m\u001b[43m)\u001b[49m\n\u001b[0;32m     61\u001b[0m S \u001b[38;5;241m=\u001b[39m (\u001b[38;5;241m1\u001b[39m \u001b[38;5;241m-\u001b[39m theta) \u001b[38;5;241m*\u001b[39m np\u001b[38;5;241m.\u001b[39meye(k) \u001b[38;5;241m+\u001b[39m (theta \u001b[38;5;241m/\u001b[39m k) \u001b[38;5;241m*\u001b[39m np\u001b[38;5;241m.\u001b[39mones((k, k))\n\u001b[0;32m     62\u001b[0m norms \u001b[38;5;241m=\u001b[39m []\n",
      "File \u001b[1;32md:\\UIT\\nsNMF\\rfm-nmf\\rfm\\rfm\\nmf.py:35\u001b[0m, in \u001b[0;36mnndsvd_initialization\u001b[1;34m(A, k)\u001b[0m\n\u001b[0;32m     22\u001b[0m \u001b[38;5;250m\u001b[39m\u001b[38;5;124;03m\"\"\"\u001b[39;00m\n\u001b[0;32m     23\u001b[0m \u001b[38;5;124;03mInitialize W and H using Nonnegative Double Singular Value Decomposition (NNDSVD).\u001b[39;00m\n\u001b[0;32m     24\u001b[0m \n\u001b[1;32m   (...)\u001b[0m\n\u001b[0;32m     31\u001b[0m \u001b[38;5;124;03m- H: Initialized matrix H\u001b[39;00m\n\u001b[0;32m     32\u001b[0m \u001b[38;5;124;03m\"\"\"\u001b[39;00m\n\u001b[0;32m     33\u001b[0m \u001b[38;5;66;03m# This is a simplified version. A full NNDSVD implementation is more complex.\u001b[39;00m\n\u001b[0;32m     34\u001b[0m \u001b[38;5;66;03m# For simplicity, using random initialization here.\u001b[39;00m\n\u001b[1;32m---> 35\u001b[0m \u001b[38;5;28;01mreturn\u001b[39;00m \u001b[43mrandom_initialization\u001b[49m\u001b[43m(\u001b[49m\u001b[43mA\u001b[49m\u001b[43m,\u001b[49m\u001b[43m \u001b[49m\u001b[43mk\u001b[49m\u001b[43m)\u001b[49m\n",
      "File \u001b[1;32md:\\UIT\\nsNMF\\rfm-nmf\\rfm\\rfm\\nmf.py:16\u001b[0m, in \u001b[0;36mrandom_initialization\u001b[1;34m(A, k)\u001b[0m\n\u001b[0;32m      4\u001b[0m \u001b[38;5;28;01mdef\u001b[39;00m \u001b[38;5;21mrandom_initialization\u001b[39m(A, k):\n\u001b[0;32m      5\u001b[0m \u001b[38;5;250m    \u001b[39m\u001b[38;5;124;03m\"\"\"\u001b[39;00m\n\u001b[0;32m      6\u001b[0m \u001b[38;5;124;03m    Initialize W and H with random non-negative values.\u001b[39;00m\n\u001b[0;32m      7\u001b[0m \n\u001b[1;32m   (...)\u001b[0m\n\u001b[0;32m     14\u001b[0m \u001b[38;5;124;03m    - H: Initialized matrix H\u001b[39;00m\n\u001b[0;32m     15\u001b[0m \u001b[38;5;124;03m    \"\"\"\u001b[39;00m\n\u001b[1;32m---> 16\u001b[0m     W \u001b[38;5;241m=\u001b[39m \u001b[43mnp\u001b[49m\u001b[38;5;241;43m.\u001b[39;49m\u001b[43mrandom\u001b[49m\u001b[38;5;241;43m.\u001b[39;49m\u001b[43mrand\u001b[49m\u001b[43m(\u001b[49m\u001b[43mA\u001b[49m\u001b[38;5;241;43m.\u001b[39;49m\u001b[43mshape\u001b[49m\u001b[43m[\u001b[49m\u001b[38;5;241;43m0\u001b[39;49m\u001b[43m]\u001b[49m\u001b[43m,\u001b[49m\u001b[43m \u001b[49m\u001b[43mk\u001b[49m\u001b[43m)\u001b[49m\n\u001b[0;32m     17\u001b[0m     H \u001b[38;5;241m=\u001b[39m np\u001b[38;5;241m.\u001b[39mrandom\u001b[38;5;241m.\u001b[39mrand(k, A\u001b[38;5;241m.\u001b[39mshape[\u001b[38;5;241m1\u001b[39m])\n\u001b[0;32m     18\u001b[0m     \u001b[38;5;28;01mreturn\u001b[39;00m W, H\n",
      "File \u001b[1;32mnumpy\\\\random\\\\mtrand.pyx:1219\u001b[0m, in \u001b[0;36mnumpy.random.mtrand.RandomState.rand\u001b[1;34m()\u001b[0m\n",
      "File \u001b[1;32mnumpy\\\\random\\\\mtrand.pyx:437\u001b[0m, in \u001b[0;36mnumpy.random.mtrand.RandomState.random_sample\u001b[1;34m()\u001b[0m\n",
      "File \u001b[1;32m_common.pyx:307\u001b[0m, in \u001b[0;36mnumpy.random._common.double_fill\u001b[1;34m()\u001b[0m\n",
      "\u001b[1;31mTypeError\u001b[0m: 'list' object cannot be interpreted as an integer"
     ]
    }
   ],
   "source": [
    "import torch\n",
    "import numpy as np\n",
    "from rfm import LaplaceRFM\n",
    "\n",
    "\n",
    "torch.set_default_dtype(torch.float32)\n",
    "torch.manual_seed(0)\n",
    "\n",
    "# define target function\n",
    "def fstar(X):\n",
    "    return torch.cat([\n",
    "        (X[:, 0]  > 0)[:,None],\n",
    "        (X[:, 1]  < 0.1)[:,None]],\n",
    "        axis=1).type(X.type())\n",
    "\n",
    "# create low rank data\n",
    "n = 4000\n",
    "d = 100\n",
    "torch.manual_seed(0)\n",
    "X_train = torch.randn(n,d)\n",
    "X_test = torch.randn(n,d)\n",
    "print(X_train.shape)\n",
    "\n",
    "y_train = fstar(X_train)\n",
    "y_test = fstar(X_test)\n",
    "# device = torch.device('cuda' if torch.cuda.is_available() else 'cpu')\n",
    "# print(f\"Using device: {device}\")\n",
    "\n",
    "X_train_numpy = X_train.numpy()\n",
    "\n",
    "\n",
    "\n",
    "\n",
    "model = LaplaceRFM(bandwidth=1., diag=False, centering=False)\n",
    "model.fit(\n",
    "    (X_train, y_train), \n",
    "    (X_test, y_test), \n",
    "    method='nmf', epochs=15,\n",
    "    iters=5,\n",
    "    classification=True,\n",
    "    verbose=True\n",
    ") \n"
   ]
  },
  {
   "cell_type": "code",
   "execution_count": 7,
   "metadata": {},
   "outputs": [],
   "source": [
    "if torch.cuda.is_available():\n",
    "    DEVICE = torch.device(\"cuda\")\n",
    "    DEV_MEM_GB = torch.cuda.get_device_properties(DEVICE).total_memory // 1024**3 - 1\n",
    "else:\n",
    "    DEVICE = torch.device(\"cpu\")\n",
    "    DEV_MEM_GB = 8"
   ]
  },
  {
   "cell_type": "code",
   "execution_count": 8,
   "metadata": {},
   "outputs": [
    {
     "name": "stdout",
     "output_type": "stream",
     "text": [
      "cuda 2\n"
     ]
    }
   ],
   "source": [
    "print(DEVICE, DEV_MEM_GB)"
   ]
  }
 ],
 "metadata": {
  "kernelspec": {
   "display_name": "clean_env",
   "language": "python",
   "name": "python3"
  },
  "language_info": {
   "codemirror_mode": {
    "name": "ipython",
    "version": 3
   },
   "file_extension": ".py",
   "mimetype": "text/x-python",
   "name": "python",
   "nbconvert_exporter": "python",
   "pygments_lexer": "ipython3",
   "version": "3.12.3"
  }
 },
 "nbformat": 4,
 "nbformat_minor": 2
}
