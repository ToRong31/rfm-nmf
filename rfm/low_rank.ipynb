{
 "cells": [
  {
   "cell_type": "code",
   "execution_count": 1,
   "id": "778ae8ab",
   "metadata": {
    "tags": []
   },
   "outputs": [
    {
     "name": "stdout",
     "output_type": "stream",
     "text": [
      "False\n"
     ]
    }
   ],
   "source": [
    "import torch\n",
    "print(torch.cuda.is_available())"
   ]
  },
  {
   "cell_type": "code",
   "execution_count": 2,
   "id": "ecb446f8",
   "metadata": {},
   "outputs": [],
   "source": [
    "# define target function\n",
    "def fstar(X):\n",
    "    return (X[:, 0] * X[:, 1] * (X[:, 5] > 0)).unsqueeze(-1)"
   ]
  },
  {
   "cell_type": "code",
   "execution_count": 3,
   "id": "777dbd11",
   "metadata": {},
   "outputs": [
    {
     "name": "stdout",
     "output_type": "stream",
     "text": [
      "torch.Size([2000, 20]) torch.Size([2000, 20]) torch.Size([2000, 1]) torch.Size([2000, 1])\n"
     ]
    }
   ],
   "source": [
    "# create low rank data\n",
    "n = 2000\n",
    "d = 20\n",
    "X_train = torch.randn(size=(n,d)) * 0.5 \n",
    "X_test = torch.randn(size=(n,d)) * 0.5 \n",
    "\n",
    "y_train = fstar(X_train)\n",
    "y_test = fstar(X_test)\n",
    "\n",
    "print(X_train.shape, X_test.shape, y_train.shape, y_test.shape)"
   ]
  },
  {
   "cell_type": "code",
   "execution_count": 9,
   "id": "5e7f0612",
   "metadata": {},
   "outputs": [],
   "source": [
    "from rfm import LaplaceRFM, GeneralizedLaplaceRFM"
   ]
  },
  {
   "cell_type": "code",
   "execution_count": 15,
   "id": "4f340289",
   "metadata": {},
   "outputs": [],
   "source": [
    "model = LaplaceRFM(device='cpu', reg=1e-9, bandwidth=10, iters=5)"
   ]
  },
  {
   "cell_type": "code",
   "execution_count": 16,
   "id": "5218e22f",
   "metadata": {},
   "outputs": [
    {
     "name": "stdout",
     "output_type": "stream",
     "text": [
      "Round 0, Test MSE: 0.0162\n",
      "Using batch size of 134016\n",
      "Sampling AGOP on 134016 total points\n"
     ]
    },
    {
     "data": {
      "application/vnd.jupyter.widget-view+json": {
       "model_id": "01e9f2dcd3ca4db7aa058ea2208b25b8",
       "version_major": 2,
       "version_minor": 0
      },
      "text/plain": [
       "  0%|          | 0/1 [00:00<?, ?it/s]"
      ]
     },
     "metadata": {},
     "output_type": "display_data"
    },
    {
     "name": "stdout",
     "output_type": "stream",
     "text": [
      "Round 1, Test MSE: 0.0091\n",
      "Using batch size of 134016\n",
      "Sampling AGOP on 134016 total points\n"
     ]
    },
    {
     "data": {
      "application/vnd.jupyter.widget-view+json": {
       "model_id": "6d9d841cc7db4a309e2fef8aa294382a",
       "version_major": 2,
       "version_minor": 0
      },
      "text/plain": [
       "  0%|          | 0/1 [00:00<?, ?it/s]"
      ]
     },
     "metadata": {},
     "output_type": "display_data"
    },
    {
     "name": "stdout",
     "output_type": "stream",
     "text": [
      "Round 2, Test MSE: 0.0052\n",
      "Using batch size of 134016\n",
      "Sampling AGOP on 134016 total points\n"
     ]
    },
    {
     "data": {
      "application/vnd.jupyter.widget-view+json": {
       "model_id": "0fbaee3ee7bf4616a20efb90c47534fb",
       "version_major": 2,
       "version_minor": 0
      },
      "text/plain": [
       "  0%|          | 0/1 [00:00<?, ?it/s]"
      ]
     },
     "metadata": {},
     "output_type": "display_data"
    },
    {
     "name": "stdout",
     "output_type": "stream",
     "text": [
      "Round 3, Test MSE: 0.0041\n",
      "Using batch size of 134016\n",
      "Sampling AGOP on 134016 total points\n"
     ]
    },
    {
     "data": {
      "application/vnd.jupyter.widget-view+json": {
       "model_id": "95bc2eabf6c748af8880bc748d5d0ce6",
       "version_major": 2,
       "version_minor": 0
      },
      "text/plain": [
       "  0%|          | 0/1 [00:00<?, ?it/s]"
      ]
     },
     "metadata": {},
     "output_type": "display_data"
    },
    {
     "name": "stdout",
     "output_type": "stream",
     "text": [
      "Round 4, Test MSE: 0.0037\n",
      "Using batch size of 134016\n",
      "Sampling AGOP on 134016 total points\n"
     ]
    },
    {
     "data": {
      "application/vnd.jupyter.widget-view+json": {
       "model_id": "1292c6ff77294f31991599b52aac9e18",
       "version_major": 2,
       "version_minor": 0
      },
      "text/plain": [
       "  0%|          | 0/1 [00:00<?, ?it/s]"
      ]
     },
     "metadata": {},
     "output_type": "display_data"
    },
    {
     "name": "stdout",
     "output_type": "stream",
     "text": [
      "Final MSE: 0.0036\n"
     ]
    }
   ],
   "source": [
    "model.fit((X_train, y_train), \n",
    "            (X_test, y_test), \n",
    "            iters=5, \n",
    "            classification=False,\n",
    "            )\n",
    "M = model.M"
   ]
  },
  {
   "cell_type": "markdown",
   "id": "ae02aed4",
   "metadata": {},
   "source": [
    "We have run five steps of RFM, returning the M matrix"
   ]
  },
  {
   "cell_type": "code",
   "execution_count": 17,
   "id": "7a730cd9",
   "metadata": {},
   "outputs": [],
   "source": [
    "# visualize M matrix\n",
    "import matplotlib.pyplot as plt\n",
    "%matplotlib inline"
   ]
  },
  {
   "cell_type": "code",
   "execution_count": 18,
   "id": "66b0f905",
   "metadata": {},
   "outputs": [
    {
     "data": {
      "image/png": "[encoded data removed]",
      "text/plain": [
       "<Figure size 640x480 with 2 Axes>"
      ]
     },
     "metadata": {},
     "output_type": "display_data"
    }
   ],
   "source": [
    "plt.imshow(M)\n",
    "colorbar = plt.colorbar()"
   ]
  },
  {
   "cell_type": "markdown",
   "id": "1b8bb8a2",
   "metadata": {},
   "source": [
    "Recall that the M matrix is used to transform the data before applying the outer (laplace) kernel. When only the first, second, and fifth coordinates are relevant to the target function, the M matrix selects these coordinates."
   ]
  },
  {
   "cell_type": "code",
   "execution_count": null,
   "id": "e6b5d248",
   "metadata": {},
   "outputs": [],
   "source": []
  }
 ],
 "metadata": {
  "kernelspec": {
   "display_name": "Python 3 (ipykernel)",
   "language": "python",
   "name": "python3"
  },
  "language_info": {
   "codemirror_mode": {
    "name": "ipython",
    "version": 3
   },
   "file_extension": ".py",
   "mimetype": "text/x-python",
   "name": "python",
   "nbconvert_exporter": "python",
   "pygments_lexer": "ipython3",
   "version": "3.10.13"
  }
 },
 "nbformat": 4,
 "nbformat_minor": 5
}
