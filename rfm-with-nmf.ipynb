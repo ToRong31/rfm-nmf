{
 "cells": [
  {
   "cell_type": "code",
   "execution_count": 1,
   "id": "a1925a3d",
   "metadata": {
    "_cell_guid": "b1076dfc-b9ad-4769-8c92-a6c4dae69d19",
    "_uuid": "8f2839f25d086af736a60e9eeb907d3b93b6e0e5",
    "execution": {
     "iopub.execute_input": "2025-03-26T02:33:14.023274Z",
     "iopub.status.busy": "2025-03-26T02:33:14.022980Z",
     "iopub.status.idle": "2025-03-26T02:33:20.887049Z",
     "shell.execute_reply": "2025-03-26T02:33:20.885843Z"
    },
    "papermill": {
     "duration": 6.86931,
     "end_time": "2025-03-26T02:33:20.888818",
     "exception": false,
     "start_time": "2025-03-26T02:33:14.019508",
     "status": "completed"
    },
    "tags": []
   },
   "outputs": [
    {
     "name": "stdout",
     "output_type": "stream",
     "text": [
      "Cloning into 'rfm-nmf'...\r\n",
      "remote: Enumerating objects: 159, done.\u001b[K\r\n",
      "remote: Counting objects: 100% (93/93), done.\u001b[K\r\n",
      "remote: Compressing objects: 100% (56/56), done.\u001b[K\r\n",
      "remote: Total 159 (delta 46), reused 81 (delta 37), pack-reused 66 (from 1)\u001b[K\r\n",
      "Receiving objects: 100% (159/159), 22.44 MiB | 32.27 MiB/s, done.\r\n",
      "Resolving deltas: 100% (59/59), done.\r\n",
      "Collecting hickle\r\n",
      "  Downloading hickle-5.0.3-py3-none-any.whl.metadata (22 kB)\r\n",
      "Requirement already satisfied: h5py>=2.10.0 in /usr/local/lib/python3.10/dist-packages (from hickle) (3.12.1)\r\n",
      "Requirement already satisfied: numpy!=1.20,>=1.8 in /usr/local/lib/python3.10/dist-packages (from hickle) (1.26.4)\r\n",
      "Requirement already satisfied: mkl_fft in /usr/local/lib/python3.10/dist-packages (from numpy!=1.20,>=1.8->hickle) (1.3.8)\r\n",
      "Requirement already satisfied: mkl_random in /usr/local/lib/python3.10/dist-packages (from numpy!=1.20,>=1.8->hickle) (1.2.4)\r\n",
      "Requirement already satisfied: mkl_umath in /usr/local/lib/python3.10/dist-packages (from numpy!=1.20,>=1.8->hickle) (0.1.1)\r\n",
      "Requirement already satisfied: mkl in /usr/local/lib/python3.10/dist-packages (from numpy!=1.20,>=1.8->hickle) (2025.0.1)\r\n",
      "Requirement already satisfied: tbb4py in /usr/local/lib/python3.10/dist-packages (from numpy!=1.20,>=1.8->hickle) (2022.0.0)\r\n",
      "Requirement already satisfied: mkl-service in /usr/local/lib/python3.10/dist-packages (from numpy!=1.20,>=1.8->hickle) (2.4.1)\r\n",
      "Requirement already satisfied: intel-openmp>=2024 in /usr/local/lib/python3.10/dist-packages (from mkl->numpy!=1.20,>=1.8->hickle) (2024.2.0)\r\n",
      "Requirement already satisfied: tbb==2022.* in /usr/local/lib/python3.10/dist-packages (from mkl->numpy!=1.20,>=1.8->hickle) (2022.0.0)\r\n",
      "Requirement already satisfied: tcmlib==1.* in /usr/local/lib/python3.10/dist-packages (from tbb==2022.*->mkl->numpy!=1.20,>=1.8->hickle) (1.2.0)\r\n",
      "Requirement already satisfied: intel-cmplr-lib-rt in /usr/local/lib/python3.10/dist-packages (from mkl_umath->numpy!=1.20,>=1.8->hickle) (2024.2.0)\r\n",
      "Requirement already satisfied: intel-cmplr-lib-ur==2024.2.0 in /usr/local/lib/python3.10/dist-packages (from intel-openmp>=2024->mkl->numpy!=1.20,>=1.8->hickle) (2024.2.0)\r\n",
      "Downloading hickle-5.0.3-py3-none-any.whl (107 kB)\r\n",
      "\u001b[2K   \u001b[90m━━━━━━━━━━━━━━━━━━━━━━━━━━━━━━━━━━━━━━━━\u001b[0m \u001b[32m108.0/108.0 kB\u001b[0m \u001b[31m4.8 MB/s\u001b[0m eta \u001b[36m0:00:00\u001b[0m\r\n",
      "\u001b[?25hInstalling collected packages: hickle\r\n",
      "Successfully installed hickle-5.0.3\r\n"
     ]
    }
   ],
   "source": [
    "!git clone https://github.com/ToRong31/rfm-nmf.git\n",
    "import sys\n",
    "sys.path.append('/kaggle/working/rfm-HTR/rfm/rfm')\n",
    "!pip install hickle\n",
    "!cd /kaggle/working/rfm-nmf/rfm"
   ]
  },
  {
   "cell_type": "code",
   "execution_count": 2,
   "id": "85faa0a3",
   "metadata": {
    "execution": {
     "iopub.execute_input": "2025-03-26T02:33:20.896264Z",
     "iopub.status.busy": "2025-03-26T02:33:20.895981Z",
     "iopub.status.idle": "2025-03-26T02:33:20.902123Z",
     "shell.execute_reply": "2025-03-26T02:33:20.901265Z"
    },
    "papermill": {
     "duration": 0.010892,
     "end_time": "2025-03-26T02:33:20.903278",
     "exception": false,
     "start_time": "2025-03-26T02:33:20.892386",
     "status": "completed"
    },
    "tags": []
   },
   "outputs": [
    {
     "name": "stdout",
     "output_type": "stream",
     "text": [
      "/kaggle/working/rfm-nmf/rfm\n"
     ]
    }
   ],
   "source": [
    "cd /kaggle/working/rfm-nmf/rfm"
   ]
  },
  {
   "cell_type": "code",
   "execution_count": 3,
   "id": "0e747c36",
   "metadata": {
    "execution": {
     "iopub.execute_input": "2025-03-26T02:33:20.909440Z",
     "iopub.status.busy": "2025-03-26T02:33:20.909198Z",
     "iopub.status.idle": "2025-03-26T02:33:21.027440Z",
     "shell.execute_reply": "2025-03-26T02:33:21.026705Z"
    },
    "papermill": {
     "duration": 0.122718,
     "end_time": "2025-03-26T02:33:21.028737",
     "exception": false,
     "start_time": "2025-03-26T02:33:20.906019",
     "status": "completed"
    },
    "tags": []
   },
   "outputs": [
    {
     "name": "stdout",
     "output_type": "stream",
     "text": [
      "celeba_experiments  low_rank.ipynb\t   svhn.ipynb\r\n",
      "data\t\t    ntk.py\t\t   svhn.py\r\n",
      "example_notebooks   output.txt\t\t   tabular_benchmark_experiments\r\n",
      "Gauss.py\t    phenomena_experiments  testhehe.ipynb\r\n",
      "generalized.py\t    README.md\t\t   test.ipynb\r\n",
      "laplace.py\t    rfm\t\t\t   wandb\r\n",
      "LICENSE\t\t    setup.py\r\n"
     ]
    }
   ],
   "source": [
    "!ls"
   ]
  },
  {
   "cell_type": "code",
   "execution_count": 4,
   "id": "4cb59964",
   "metadata": {
    "execution": {
     "iopub.execute_input": "2025-03-26T02:33:21.035161Z",
     "iopub.status.busy": "2025-03-26T02:33:21.034946Z",
     "iopub.status.idle": "2025-03-26T02:33:21.037881Z",
     "shell.execute_reply": "2025-03-26T02:33:21.037267Z"
    },
    "papermill": {
     "duration": 0.007489,
     "end_time": "2025-03-26T02:33:21.039043",
     "exception": false,
     "start_time": "2025-03-26T02:33:21.031554",
     "status": "completed"
    },
    "tags": []
   },
   "outputs": [],
   "source": [
    "# !cd /kaggle/working/rfm-nmf && git pull"
   ]
  },
  {
   "cell_type": "code",
   "execution_count": 5,
   "id": "cc8e2bf8",
   "metadata": {
    "execution": {
     "iopub.execute_input": "2025-03-26T02:33:21.045229Z",
     "iopub.status.busy": "2025-03-26T02:33:21.045030Z",
     "iopub.status.idle": "2025-03-26T02:33:21.047657Z",
     "shell.execute_reply": "2025-03-26T02:33:21.047058Z"
    },
    "papermill": {
     "duration": 0.007002,
     "end_time": "2025-03-26T02:33:21.048861",
     "exception": false,
     "start_time": "2025-03-26T02:33:21.041859",
     "status": "completed"
    },
    "tags": []
   },
   "outputs": [],
   "source": [
    "# !python test.py"
   ]
  },
  {
   "cell_type": "code",
   "execution_count": 6,
   "id": "bb013226",
   "metadata": {
    "execution": {
     "iopub.execute_input": "2025-03-26T02:33:21.054988Z",
     "iopub.status.busy": "2025-03-26T02:33:21.054766Z",
     "iopub.status.idle": "2025-03-26T02:33:21.057639Z",
     "shell.execute_reply": "2025-03-26T02:33:21.056860Z"
    },
    "papermill": {
     "duration": 0.007168,
     "end_time": "2025-03-26T02:33:21.058789",
     "exception": false,
     "start_time": "2025-03-26T02:33:21.051621",
     "status": "completed"
    },
    "tags": []
   },
   "outputs": [],
   "source": [
    "# !python Gauss.py"
   ]
  },
  {
   "cell_type": "code",
   "execution_count": null,
   "id": "dee841ff",
   "metadata": {
    "execution": {
     "iopub.execute_input": "2025-03-24T16:41:03.019963Z",
     "iopub.status.busy": "2025-03-24T16:41:03.019666Z",
     "iopub.status.idle": "2025-03-24T16:41:11.203054Z",
     "shell.execute_reply": "2025-03-24T16:41:11.201785Z",
     "shell.execute_reply.started": "2025-03-24T16:41:03.019940Z"
    },
    "papermill": {
     "duration": 0.002535,
     "end_time": "2025-03-26T02:33:21.064161",
     "exception": false,
     "start_time": "2025-03-26T02:33:21.061626",
     "status": "completed"
    },
    "tags": []
   },
   "outputs": [],
   "source": []
  },
  {
   "cell_type": "code",
   "execution_count": 7,
   "id": "c2301dcd",
   "metadata": {
    "execution": {
     "iopub.execute_input": "2025-03-26T02:33:21.070289Z",
     "iopub.status.busy": "2025-03-26T02:33:21.070084Z",
     "iopub.status.idle": "2025-03-26T02:40:52.459802Z",
     "shell.execute_reply": "2025-03-26T02:40:52.458933Z"
    },
    "papermill": {
     "duration": 451.39438,
     "end_time": "2025-03-26T02:40:52.461262",
     "exception": false,
     "start_time": "2025-03-26T02:33:21.066882",
     "status": "completed"
    },
    "tags": []
   },
   "outputs": [
    {
     "name": "stdout",
     "output_type": "stream",
     "text": [
      "\u001b[34m\u001b[1mwandb\u001b[0m: Using wandb-core as the SDK backend.  Please refer to https://wandb.me/wandb-core for more information.\r\n",
      "\u001b[34m\u001b[1mwandb\u001b[0m: Currently logged in as: \u001b[33mtorong31\u001b[0m (\u001b[33mtorong31-uit\u001b[0m). Use \u001b[1m`wandb login --relogin`\u001b[0m to force relogin\r\n",
      "\u001b[34m\u001b[1mwandb\u001b[0m: \u001b[33mWARNING\u001b[0m If you're specifying your api key in code, ensure this code is not shared publicly.\r\n",
      "\u001b[34m\u001b[1mwandb\u001b[0m: \u001b[33mWARNING\u001b[0m Consider setting the WANDB_API_KEY environment variable, or running `wandb login` from the command line.\r\n",
      "\u001b[34m\u001b[1mwandb\u001b[0m: Appending key for api.wandb.ai to your netrc file: /root/.netrc\r\n",
      "\u001b[34m\u001b[1mwandb\u001b[0m: Tracking run with wandb version 0.19.1\r\n",
      "\u001b[34m\u001b[1mwandb\u001b[0m: Run data is saved locally in \u001b[35m\u001b[1m/kaggle/working/rfm-nmf/rfm/wandb/run-20250326_023334-cqi0m7nv\u001b[0m\r\n",
      "\u001b[34m\u001b[1mwandb\u001b[0m: Run \u001b[1m`wandb offline`\u001b[0m to turn off syncing.\r\n",
      "\u001b[34m\u001b[1mwandb\u001b[0m: Syncing run \u001b[33mGeneralized_LaplaceRFM\u001b[0m\r\n",
      "\u001b[34m\u001b[1mwandb\u001b[0m: ⭐️ View project at \u001b[34m\u001b[4mhttps://wandb.ai/torong31-uit/rfm-nmf\u001b[0m\r\n",
      "\u001b[34m\u001b[1mwandb\u001b[0m: 🚀 View run at \u001b[34m\u001b[4mhttps://wandb.ai/torong31-uit/rfm-nmf/runs/cqi0m7nv\u001b[0m\r\n",
      "2025-03-26 02:33:35,837 - Training Generalized_LaplaceRFM\r\n",
      "Loaders provided\r\n",
      "Time taken to prefit nmf with 70000 points: 2.2998507022857666 seconds\r\n",
      "NMF with init='nndsvd' completed.\r\n",
      "Final reconstruction error (Frobenius norm): 99.9749\r\n",
      "Using NMF-based projection with rank=5, eta=0.0001, bs=10000\r\n",
      "100%|█████████████████████████████████████████████| 1/1 [00:02<00:00,  2.97s/it]\r\n",
      "(0 epochs, 3.0s)\ttrain mse: 0.0000 \tval mse: 0.1000\ttrain acc: 1.0000 \tval acc: 0.9401\r\n",
      "New best multiclass-acc: 0.9401\r\n",
      "Round 0, Test Acc: 94.01%\r\n",
      "Round 0, Test MSE: 0.1000\r\n",
      "2025-03-26 02:40:49,816 - NumExpr defaulting to 4 threads.\r\n",
      "Sampling AGOP on maximum of 10112 total points\r\n",
      "  0%|                                                    | 0/79 [00:00<?, ?it/s]\r\n",
      "Traceback (most recent call last):\r\n",
      "  File \"/kaggle/working/rfm-nmf/rfm/generalized.py\", line 79, in <module>\r\n",
      "    gene_model.fit(\r\n",
      "  File \"/kaggle/working/rfm-nmf/rfm/rfm/recursive_feature_machine.py\", line 276, in fit\r\n",
      "    self.fit_M(X_train, y_train, verbose=verbose, M_batch_size=M_batch_size,\r\n",
      "  File \"/kaggle/working/rfm-nmf/rfm/rfm/recursive_feature_machine.py\", line 371, in fit_M\r\n",
      "    M.add_(self.update_M(samples[bids], p_batch_size))\r\n",
      "  File \"/kaggle/working/rfm-nmf/rfm/rfm/recursive_feature_machine.py\", line 534, in update_M\r\n",
      "    agop = get_laplace_gen_agop(samples,\r\n",
      "  File \"/kaggle/working/rfm-nmf/rfm/rfm/kernels.py\", line 337, in get_laplace_gen_agop\r\n",
      "    grads = get_laplacian_gen_grad(x, z, sqrtM, v, L, alphas)\r\n",
      "  File \"/kaggle/working/rfm-nmf/rfm/rfm/kernels.py\", line 250, in get_laplacian_gen_grad\r\n",
      "    dk_dMx = -v * torch.sign(diff) * (safe_abs ** (v-1)) * k.unsqueeze(-1)\r\n",
      "torch.OutOfMemoryError: CUDA out of memory. Tried to allocate 3.74 GiB. GPU 0 has a total capacity of 15.89 GiB of which 477.12 MiB is free. Process 4497 has 15.42 GiB memory in use. Of the allocated memory 15.07 GiB is allocated by PyTorch, and 28.56 MiB is reserved by PyTorch but unallocated. If reserved but unallocated memory is large try setting PYTORCH_CUDA_ALLOC_CONF=expandable_segments:True to avoid fragmentation.  See documentation for Memory Management  (https://pytorch.org/docs/stable/notes/cuda.html#environment-variables)\r\n",
      "\u001b[1;34mwandb\u001b[0m: 🚀 View run \u001b[33mGeneralized_LaplaceRFM\u001b[0m at: \u001b[34mhttps://wandb.ai/torong31-uit/rfm-nmf/runs/cqi0m7nv\u001b[0m\r\n",
      "\u001b[1;34mwandb\u001b[0m: Find logs at: \u001b[1;35mwandb/run-20250326_023334-cqi0m7nv/logs\u001b[0m\r\n"
     ]
    }
   ],
   "source": [
    "!python generalized.py"
   ]
  }
 ],
 "metadata": {
  "kaggle": {
   "accelerator": "gpu",
   "dataSources": [],
   "dockerImageVersionId": 30918,
   "isGpuEnabled": true,
   "isInternetEnabled": true,
   "language": "python",
   "sourceType": "notebook"
  },
  "kernelspec": {
   "display_name": "Python 3",
   "language": "python",
   "name": "python3"
  },
  "language_info": {
   "codemirror_mode": {
    "name": "ipython",
    "version": 3
   },
   "file_extension": ".py",
   "mimetype": "text/x-python",
   "name": "python",
   "nbconvert_exporter": "python",
   "pygments_lexer": "ipython3",
   "version": "3.10.12"
  },
  "papermill": {
   "default_parameters": {},
   "duration": 461.315341,
   "end_time": "2025-03-26T02:40:52.781747",
   "environment_variables": {},
   "exception": null,
   "input_path": "__notebook__.ipynb",
   "output_path": "__notebook__.ipynb",
   "parameters": {},
   "start_time": "2025-03-26T02:33:11.466406",
   "version": "2.6.0"
  }
 },
 "nbformat": 4,
 "nbformat_minor": 5
}
