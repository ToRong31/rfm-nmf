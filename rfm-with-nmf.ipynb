{
 "cells": [
  {
   "cell_type": "code",
   "execution_count": 1,
   "id": "c4968019",
   "metadata": {
    "_cell_guid": "b1076dfc-b9ad-4769-8c92-a6c4dae69d19",
    "_uuid": "8f2839f25d086af736a60e9eeb907d3b93b6e0e5",
    "execution": {
     "iopub.execute_input": "2025-03-26T06:15:05.744088Z",
     "iopub.status.busy": "2025-03-26T06:15:05.743845Z",
     "iopub.status.idle": "2025-03-26T06:15:12.778953Z",
     "shell.execute_reply": "2025-03-26T06:15:12.777771Z"
    },
    "papermill": {
     "duration": 7.039871,
     "end_time": "2025-03-26T06:15:12.780671",
     "exception": false,
     "start_time": "2025-03-26T06:15:05.740800",
     "status": "completed"
    },
    "tags": []
   },
   "outputs": [
    {
     "name": "stdout",
     "output_type": "stream",
     "text": [
      "Cloning into 'rfm-nmf'...\r\n",
      "remote: Enumerating objects: 169, done.\u001b[K\r\n",
      "remote: Counting objects: 100% (103/103), done.\u001b[K\r\n",
      "remote: Compressing objects: 100% (65/65), done.\u001b[K\r\n",
      "remote: Total 169 (delta 50), reused 87 (delta 38), pack-reused 66 (from 1)\u001b[K\r\n",
      "Receiving objects: 100% (169/169), 22.44 MiB | 28.58 MiB/s, done.\r\n",
      "Resolving deltas: 100% (63/63), done.\r\n",
      "Collecting hickle\r\n",
      "  Downloading hickle-5.0.3-py3-none-any.whl.metadata (22 kB)\r\n",
      "Requirement already satisfied: h5py>=2.10.0 in /usr/local/lib/python3.10/dist-packages (from hickle) (3.12.1)\r\n",
      "Requirement already satisfied: numpy!=1.20,>=1.8 in /usr/local/lib/python3.10/dist-packages (from hickle) (1.26.4)\r\n",
      "Requirement already satisfied: mkl_fft in /usr/local/lib/python3.10/dist-packages (from numpy!=1.20,>=1.8->hickle) (1.3.8)\r\n",
      "Requirement already satisfied: mkl_random in /usr/local/lib/python3.10/dist-packages (from numpy!=1.20,>=1.8->hickle) (1.2.4)\r\n",
      "Requirement already satisfied: mkl_umath in /usr/local/lib/python3.10/dist-packages (from numpy!=1.20,>=1.8->hickle) (0.1.1)\r\n",
      "Requirement already satisfied: mkl in /usr/local/lib/python3.10/dist-packages (from numpy!=1.20,>=1.8->hickle) (2025.0.1)\r\n",
      "Requirement already satisfied: tbb4py in /usr/local/lib/python3.10/dist-packages (from numpy!=1.20,>=1.8->hickle) (2022.0.0)\r\n",
      "Requirement already satisfied: mkl-service in /usr/local/lib/python3.10/dist-packages (from numpy!=1.20,>=1.8->hickle) (2.4.1)\r\n",
      "Requirement already satisfied: intel-openmp>=2024 in /usr/local/lib/python3.10/dist-packages (from mkl->numpy!=1.20,>=1.8->hickle) (2024.2.0)\r\n",
      "Requirement already satisfied: tbb==2022.* in /usr/local/lib/python3.10/dist-packages (from mkl->numpy!=1.20,>=1.8->hickle) (2022.0.0)\r\n",
      "Requirement already satisfied: tcmlib==1.* in /usr/local/lib/python3.10/dist-packages (from tbb==2022.*->mkl->numpy!=1.20,>=1.8->hickle) (1.2.0)\r\n",
      "Requirement already satisfied: intel-cmplr-lib-rt in /usr/local/lib/python3.10/dist-packages (from mkl_umath->numpy!=1.20,>=1.8->hickle) (2024.2.0)\r\n",
      "Requirement already satisfied: intel-cmplr-lib-ur==2024.2.0 in /usr/local/lib/python3.10/dist-packages (from intel-openmp>=2024->mkl->numpy!=1.20,>=1.8->hickle) (2024.2.0)\r\n",
      "Downloading hickle-5.0.3-py3-none-any.whl (107 kB)\r\n",
      "\u001b[2K   \u001b[90m━━━━━━━━━━━━━━━━━━━━━━━━━━━━━━━━━━━━━━━━\u001b[0m \u001b[32m108.0/108.0 kB\u001b[0m \u001b[31m5.1 MB/s\u001b[0m eta \u001b[36m0:00:00\u001b[0m\r\n",
      "\u001b[?25hInstalling collected packages: hickle\r\n",
      "Successfully installed hickle-5.0.3\r\n"
     ]
    }
   ],
   "source": [
    "!git clone https://github.com/ToRong31/rfm-nmf.git\n",
    "import sys\n",
    "sys.path.append('/kaggle/working/rfm-HTR/rfm/rfm')\n",
    "!pip install hickle\n",
    "!cd /kaggle/working/rfm-nmf/rfm"
   ]
  },
  {
   "cell_type": "code",
   "execution_count": 2,
   "id": "047e7882",
   "metadata": {
    "execution": {
     "iopub.execute_input": "2025-03-26T06:15:12.788288Z",
     "iopub.status.busy": "2025-03-26T06:15:12.788045Z",
     "iopub.status.idle": "2025-03-26T06:15:12.794167Z",
     "shell.execute_reply": "2025-03-26T06:15:12.793440Z"
    },
    "papermill": {
     "duration": 0.010932,
     "end_time": "2025-03-26T06:15:12.795330",
     "exception": false,
     "start_time": "2025-03-26T06:15:12.784398",
     "status": "completed"
    },
    "tags": []
   },
   "outputs": [
    {
     "name": "stdout",
     "output_type": "stream",
     "text": [
      "/kaggle/working/rfm-nmf/rfm\n"
     ]
    }
   ],
   "source": [
    "cd /kaggle/working/rfm-nmf/rfm"
   ]
  },
  {
   "cell_type": "code",
   "execution_count": 3,
   "id": "3bbedf81",
   "metadata": {
    "execution": {
     "iopub.execute_input": "2025-03-26T06:15:12.801436Z",
     "iopub.status.busy": "2025-03-26T06:15:12.801242Z",
     "iopub.status.idle": "2025-03-26T06:15:12.919489Z",
     "shell.execute_reply": "2025-03-26T06:15:12.918528Z"
    },
    "papermill": {
     "duration": 0.122623,
     "end_time": "2025-03-26T06:15:12.920717",
     "exception": false,
     "start_time": "2025-03-26T06:15:12.798094",
     "status": "completed"
    },
    "tags": []
   },
   "outputs": [
    {
     "name": "stdout",
     "output_type": "stream",
     "text": [
      "celeba_experiments  low_rank.ipynb\t   svhn.ipynb\r\n",
      "data\t\t    ntk.py\t\t   svhn.py\r\n",
      "example_notebooks   output.txt\t\t   tabular_benchmark_experiments\r\n",
      "Gauss.py\t    phenomena_experiments  testhehe.ipynb\r\n",
      "generalized.py\t    README.md\t\t   test.ipynb\r\n",
      "laplace.py\t    rfm\t\t\t   wandb\r\n",
      "LICENSE\t\t    setup.py\r\n"
     ]
    }
   ],
   "source": [
    "!ls"
   ]
  },
  {
   "cell_type": "code",
   "execution_count": 4,
   "id": "333b08e6",
   "metadata": {
    "execution": {
     "iopub.execute_input": "2025-03-26T06:15:12.927363Z",
     "iopub.status.busy": "2025-03-26T06:15:12.927149Z",
     "iopub.status.idle": "2025-03-26T06:15:12.930367Z",
     "shell.execute_reply": "2025-03-26T06:15:12.929596Z"
    },
    "papermill": {
     "duration": 0.008033,
     "end_time": "2025-03-26T06:15:12.931670",
     "exception": false,
     "start_time": "2025-03-26T06:15:12.923637",
     "status": "completed"
    },
    "tags": []
   },
   "outputs": [],
   "source": [
    "# !cd /kaggle/working/rfm-nmf && git pull"
   ]
  },
  {
   "cell_type": "code",
   "execution_count": 5,
   "id": "d6adb5c2",
   "metadata": {
    "execution": {
     "iopub.execute_input": "2025-03-26T06:15:12.937911Z",
     "iopub.status.busy": "2025-03-26T06:15:12.937671Z",
     "iopub.status.idle": "2025-03-26T06:15:12.940578Z",
     "shell.execute_reply": "2025-03-26T06:15:12.939801Z"
    },
    "papermill": {
     "duration": 0.007353,
     "end_time": "2025-03-26T06:15:12.941796",
     "exception": false,
     "start_time": "2025-03-26T06:15:12.934443",
     "status": "completed"
    },
    "tags": []
   },
   "outputs": [],
   "source": [
    "# !python test.py"
   ]
  },
  {
   "cell_type": "code",
   "execution_count": 6,
   "id": "d9d4d1e4",
   "metadata": {
    "execution": {
     "iopub.execute_input": "2025-03-26T06:15:12.948168Z",
     "iopub.status.busy": "2025-03-26T06:15:12.947961Z",
     "iopub.status.idle": "2025-03-26T06:15:12.950506Z",
     "shell.execute_reply": "2025-03-26T06:15:12.949939Z"
    },
    "papermill": {
     "duration": 0.0071,
     "end_time": "2025-03-26T06:15:12.951686",
     "exception": false,
     "start_time": "2025-03-26T06:15:12.944586",
     "status": "completed"
    },
    "tags": []
   },
   "outputs": [],
   "source": [
    "# !python Gauss.py"
   ]
  },
  {
   "cell_type": "code",
   "execution_count": null,
   "id": "10d5818a",
   "metadata": {
    "execution": {
     "iopub.execute_input": "2025-03-24T16:41:03.019963Z",
     "iopub.status.busy": "2025-03-24T16:41:03.019666Z",
     "iopub.status.idle": "2025-03-24T16:41:11.203054Z",
     "shell.execute_reply": "2025-03-24T16:41:11.201785Z",
     "shell.execute_reply.started": "2025-03-24T16:41:03.019940Z"
    },
    "papermill": {
     "duration": 0.002616,
     "end_time": "2025-03-26T06:15:12.957159",
     "exception": false,
     "start_time": "2025-03-26T06:15:12.954543",
     "status": "completed"
    },
    "tags": []
   },
   "outputs": [],
   "source": []
  },
  {
   "cell_type": "code",
   "execution_count": 7,
   "id": "1790cc57",
   "metadata": {
    "execution": {
     "iopub.execute_input": "2025-03-26T06:15:12.963299Z",
     "iopub.status.busy": "2025-03-26T06:15:12.963106Z",
     "iopub.status.idle": "2025-03-26T06:22:47.305143Z",
     "shell.execute_reply": "2025-03-26T06:22:47.304134Z"
    },
    "papermill": {
     "duration": 454.346836,
     "end_time": "2025-03-26T06:22:47.306705",
     "exception": false,
     "start_time": "2025-03-26T06:15:12.959869",
     "status": "completed"
    },
    "tags": []
   },
   "outputs": [
    {
     "name": "stdout",
     "output_type": "stream",
     "text": [
      "\u001b[34m\u001b[1mwandb\u001b[0m: Using wandb-core as the SDK backend.  Please refer to https://wandb.me/wandb-core for more information.\r\n",
      "\u001b[34m\u001b[1mwandb\u001b[0m: Currently logged in as: \u001b[33mtorong31\u001b[0m (\u001b[33mtorong31-uit\u001b[0m). Use \u001b[1m`wandb login --relogin`\u001b[0m to force relogin\r\n",
      "\u001b[34m\u001b[1mwandb\u001b[0m: \u001b[33mWARNING\u001b[0m If you're specifying your api key in code, ensure this code is not shared publicly.\r\n",
      "\u001b[34m\u001b[1mwandb\u001b[0m: \u001b[33mWARNING\u001b[0m Consider setting the WANDB_API_KEY environment variable, or running `wandb login` from the command line.\r\n",
      "\u001b[34m\u001b[1mwandb\u001b[0m: Appending key for api.wandb.ai to your netrc file: /root/.netrc\r\n",
      "\u001b[34m\u001b[1mwandb\u001b[0m: Tracking run with wandb version 0.19.1\r\n",
      "\u001b[34m\u001b[1mwandb\u001b[0m: Run data is saved locally in \u001b[35m\u001b[1m/kaggle/working/rfm-nmf/rfm/wandb/run-20250326_061526-ojfur8l6\u001b[0m\r\n",
      "\u001b[34m\u001b[1mwandb\u001b[0m: Run \u001b[1m`wandb offline`\u001b[0m to turn off syncing.\r\n",
      "\u001b[34m\u001b[1mwandb\u001b[0m: Syncing run \u001b[33mGeneralized_LaplaceRFM\u001b[0m\r\n",
      "\u001b[34m\u001b[1mwandb\u001b[0m: ⭐️ View project at \u001b[34m\u001b[4mhttps://wandb.ai/torong31-uit/rfm-nmf\u001b[0m\r\n",
      "\u001b[34m\u001b[1mwandb\u001b[0m: 🚀 View run at \u001b[34m\u001b[4mhttps://wandb.ai/torong31-uit/rfm-nmf/runs/ojfur8l6\u001b[0m\r\n",
      "2025-03-26 06:15:27,833 - Training Generalized_LaplaceRFM\r\n",
      "Loaders provided\r\n",
      "NMF with init='nndsvd' completed.\r\n",
      "Final reconstruction error (Frobenius norm): 99.9749\r\n",
      "Using NMF-based projection with rank=5, eta=0.0001, bs=10000\r\n",
      "100%|█████████████████████████████████████████████| 1/1 [00:03<00:00,  3.02s/it]\r\n",
      "(0 epochs, 3.0s)\ttrain mse: 0.1000 \tval mse: 0.1000\ttrain acc: 1.0000 \tval acc: 0.9379\r\n",
      "New best multiclass-acc: 0.9379\r\n",
      "100%|███████████████████████████████████████████| 1/1 [00:00<00:00, 1022.75it/s]\r\n",
      "(1 epochs, 3.0s)\ttrain mse: 0.1000 \tval mse: 0.1000\ttrain acc: 1.0000 \tval acc: 0.9380\r\n",
      "New best multiclass-acc: 0.9380\r\n",
      "100%|████████████████████████████████████████████| 1/1 [00:00<00:00, 955.42it/s]\r\n",
      "(2 epochs, 3.0s)\ttrain mse: 0.0999 \tval mse: 0.1000\ttrain acc: 1.0000 \tval acc: 0.9380\r\n",
      "Round 0, Test Acc: 93.80%\r\n",
      "Round 0, Test MSE: 0.1000\r\n",
      "2025-03-26 06:22:44,839 - NumExpr defaulting to 4 threads.\r\n",
      "Sampling AGOP on maximum of 10112 total points\r\n",
      "  0%|                                                    | 0/79 [00:00<?, ?it/s]\r\n",
      "Traceback (most recent call last):\r\n",
      "  File \"/kaggle/working/rfm-nmf/rfm/generalized.py\", line 79, in <module>\r\n",
      "    gene_model.fit(\r\n",
      "  File \"/kaggle/working/rfm-nmf/rfm/rfm/recursive_feature_machine.py\", line 276, in fit\r\n",
      "    self.fit_M(X_train, y_train, verbose=verbose, M_batch_size=M_batch_size,\r\n",
      "  File \"/kaggle/working/rfm-nmf/rfm/rfm/recursive_feature_machine.py\", line 371, in fit_M\r\n",
      "    M.add_(self.update_M(samples[bids], p_batch_size))\r\n",
      "  File \"/kaggle/working/rfm-nmf/rfm/rfm/recursive_feature_machine.py\", line 534, in update_M\r\n",
      "    agop = get_laplace_gen_agop(samples,\r\n",
      "  File \"/kaggle/working/rfm-nmf/rfm/rfm/kernels.py\", line 337, in get_laplace_gen_agop\r\n",
      "    grads = get_laplacian_gen_grad(x, z, sqrtM, v, L, alphas)\r\n",
      "  File \"/kaggle/working/rfm-nmf/rfm/rfm/kernels.py\", line 250, in get_laplacian_gen_grad\r\n",
      "    dk_dMx = -v * torch.sign(diff) * (safe_abs ** (v-1)) * k.unsqueeze(-1)\r\n",
      "torch.OutOfMemoryError: CUDA out of memory. Tried to allocate 3.74 GiB. GPU 0 has a total capacity of 15.89 GiB of which 509.12 MiB is free. Process 3333 has 15.39 GiB memory in use. Of the allocated memory 15.07 GiB is allocated by PyTorch, and 28.56 MiB is reserved by PyTorch but unallocated. If reserved but unallocated memory is large try setting PYTORCH_CUDA_ALLOC_CONF=expandable_segments:True to avoid fragmentation.  See documentation for Memory Management  (https://pytorch.org/docs/stable/notes/cuda.html#environment-variables)\r\n",
      "\u001b[1;34mwandb\u001b[0m: 🚀 View run \u001b[33mGeneralized_LaplaceRFM\u001b[0m at: \u001b[34mhttps://wandb.ai/torong31-uit/rfm-nmf/runs/ojfur8l6\u001b[0m\r\n",
      "\u001b[1;34mwandb\u001b[0m: Find logs at: \u001b[1;35mwandb/run-20250326_061526-ojfur8l6/logs\u001b[0m\r\n"
     ]
    }
   ],
   "source": [
    "!python generalized.py"
   ]
  }
 ],
 "metadata": {
  "kaggle": {
   "accelerator": "gpu",
   "dataSources": [],
   "dockerImageVersionId": 30918,
   "isGpuEnabled": true,
   "isInternetEnabled": true,
   "language": "python",
   "sourceType": "notebook"
  },
  "kernelspec": {
   "display_name": "Python 3",
   "language": "python",
   "name": "python3"
  },
  "language_info": {
   "codemirror_mode": {
    "name": "ipython",
    "version": 3
   },
   "file_extension": ".py",
   "mimetype": "text/x-python",
   "name": "python",
   "nbconvert_exporter": "python",
   "pygments_lexer": "ipython3",
   "version": "3.10.12"
  },
  "papermill": {
   "default_parameters": {},
   "duration": 464.488191,
   "end_time": "2025-03-26T06:22:47.628748",
   "environment_variables": {},
   "exception": null,
   "input_path": "__notebook__.ipynb",
   "output_path": "__notebook__.ipynb",
   "parameters": {},
   "start_time": "2025-03-26T06:15:03.140557",
   "version": "2.6.0"
  }
 },
 "nbformat": 4,
 "nbformat_minor": 5
}
