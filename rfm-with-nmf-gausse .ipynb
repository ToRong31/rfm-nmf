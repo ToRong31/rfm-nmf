{
 "cells": [
  {
   "cell_type": "code",
   "execution_count": 1,
   "id": "5407aab2",
   "metadata": {
    "_cell_guid": "b1076dfc-b9ad-4769-8c92-a6c4dae69d19",
    "_uuid": "8f2839f25d086af736a60e9eeb907d3b93b6e0e5",
    "execution": {
     "iopub.execute_input": "2025-03-26T16:12:27.476229Z",
     "iopub.status.busy": "2025-03-26T16:12:27.475905Z",
     "iopub.status.idle": "2025-03-26T16:12:34.419687Z",
     "shell.execute_reply": "2025-03-26T16:12:34.418583Z"
    },
    "papermill": {
     "duration": 6.949048,
     "end_time": "2025-03-26T16:12:34.421532",
     "exception": false,
     "start_time": "2025-03-26T16:12:27.472484",
     "status": "completed"
    },
    "tags": []
   },
   "outputs": [
    {
     "name": "stdout",
     "output_type": "stream",
     "text": [
      "Cloning into 'rfm-nmf'...\r\n",
      "remote: Enumerating objects: 192, done.\u001b[K\r\n",
      "remote: Counting objects: 100% (126/126), done.\u001b[K\r\n",
      "remote: Compressing objects: 100% (85/85), done.\u001b[K\r\n",
      "remote: Total 192 (delta 65), reused 95 (delta 41), pack-reused 66 (from 1)\u001b[K\r\n",
      "Receiving objects: 100% (192/192), 22.46 MiB | 32.11 MiB/s, done.\r\n",
      "Resolving deltas: 100% (78/78), done.\r\n",
      "Collecting hickle\r\n",
      "  Downloading hickle-5.0.3-py3-none-any.whl.metadata (22 kB)\r\n",
      "Requirement already satisfied: h5py>=2.10.0 in /usr/local/lib/python3.10/dist-packages (from hickle) (3.12.1)\r\n",
      "Requirement already satisfied: numpy!=1.20,>=1.8 in /usr/local/lib/python3.10/dist-packages (from hickle) (1.26.4)\r\n",
      "Requirement already satisfied: mkl_fft in /usr/local/lib/python3.10/dist-packages (from numpy!=1.20,>=1.8->hickle) (1.3.8)\r\n",
      "Requirement already satisfied: mkl_random in /usr/local/lib/python3.10/dist-packages (from numpy!=1.20,>=1.8->hickle) (1.2.4)\r\n",
      "Requirement already satisfied: mkl_umath in /usr/local/lib/python3.10/dist-packages (from numpy!=1.20,>=1.8->hickle) (0.1.1)\r\n",
      "Requirement already satisfied: mkl in /usr/local/lib/python3.10/dist-packages (from numpy!=1.20,>=1.8->hickle) (2025.0.1)\r\n",
      "Requirement already satisfied: tbb4py in /usr/local/lib/python3.10/dist-packages (from numpy!=1.20,>=1.8->hickle) (2022.0.0)\r\n",
      "Requirement already satisfied: mkl-service in /usr/local/lib/python3.10/dist-packages (from numpy!=1.20,>=1.8->hickle) (2.4.1)\r\n",
      "Requirement already satisfied: intel-openmp>=2024 in /usr/local/lib/python3.10/dist-packages (from mkl->numpy!=1.20,>=1.8->hickle) (2024.2.0)\r\n",
      "Requirement already satisfied: tbb==2022.* in /usr/local/lib/python3.10/dist-packages (from mkl->numpy!=1.20,>=1.8->hickle) (2022.0.0)\r\n",
      "Requirement already satisfied: tcmlib==1.* in /usr/local/lib/python3.10/dist-packages (from tbb==2022.*->mkl->numpy!=1.20,>=1.8->hickle) (1.2.0)\r\n",
      "Requirement already satisfied: intel-cmplr-lib-rt in /usr/local/lib/python3.10/dist-packages (from mkl_umath->numpy!=1.20,>=1.8->hickle) (2024.2.0)\r\n",
      "Requirement already satisfied: intel-cmplr-lib-ur==2024.2.0 in /usr/local/lib/python3.10/dist-packages (from intel-openmp>=2024->mkl->numpy!=1.20,>=1.8->hickle) (2024.2.0)\r\n",
      "Downloading hickle-5.0.3-py3-none-any.whl (107 kB)\r\n",
      "\u001b[2K   \u001b[90m━━━━━━━━━━━━━━━━━━━━━━━━━━━━━━━━━━━━━━━━\u001b[0m \u001b[32m108.0/108.0 kB\u001b[0m \u001b[31m4.1 MB/s\u001b[0m eta \u001b[36m0:00:00\u001b[0m\r\n",
      "\u001b[?25hInstalling collected packages: hickle\r\n",
      "Successfully installed hickle-5.0.3\r\n"
     ]
    }
   ],
   "source": [
    "!git clone https://github.com/ToRong31/rfm-nmf.git\n",
    "import sys\n",
    "sys.path.append('/kaggle/working/rfm-HTR/rfm/rfm')\n",
    "!pip install hickle\n",
    "!cd /kaggle/working/rfm-nmf/rfm"
   ]
  },
  {
   "cell_type": "code",
   "execution_count": 2,
   "id": "88d8a08f",
   "metadata": {
    "execution": {
     "iopub.execute_input": "2025-03-26T16:12:34.429629Z",
     "iopub.status.busy": "2025-03-26T16:12:34.429318Z",
     "iopub.status.idle": "2025-03-26T16:12:34.435322Z",
     "shell.execute_reply": "2025-03-26T16:12:34.434651Z"
    },
    "papermill": {
     "duration": 0.011121,
     "end_time": "2025-03-26T16:12:34.436485",
     "exception": false,
     "start_time": "2025-03-26T16:12:34.425364",
     "status": "completed"
    },
    "tags": []
   },
   "outputs": [
    {
     "name": "stdout",
     "output_type": "stream",
     "text": [
      "/kaggle/working/rfm-nmf/rfm\n"
     ]
    }
   ],
   "source": [
    "cd /kaggle/working/rfm-nmf/rfm"
   ]
  },
  {
   "cell_type": "code",
   "execution_count": 3,
   "id": "d881d26b",
   "metadata": {
    "execution": {
     "iopub.execute_input": "2025-03-26T16:12:34.442820Z",
     "iopub.status.busy": "2025-03-26T16:12:34.442609Z",
     "iopub.status.idle": "2025-03-26T16:12:34.562137Z",
     "shell.execute_reply": "2025-03-26T16:12:34.561077Z"
    },
    "papermill": {
     "duration": 0.124239,
     "end_time": "2025-03-26T16:12:34.563588",
     "exception": false,
     "start_time": "2025-03-26T16:12:34.439349",
     "status": "completed"
    },
    "tags": []
   },
   "outputs": [
    {
     "name": "stdout",
     "output_type": "stream",
     "text": [
      "celeba_experiments  low_rank.ipynb\t   svhn.ipynb\r\n",
      "data\t\t    ntk.py\t\t   svhn.py\r\n",
      "example_notebooks   output.txt\t\t   tabular_benchmark_experiments\r\n",
      "Gauss.py\t    phenomena_experiments  testhehe.ipynb\r\n",
      "generalized.py\t    README.md\t\t   test.ipynb\r\n",
      "laplace.py\t    rfm\t\t\t   wandb\r\n",
      "LICENSE\t\t    setup.py\r\n"
     ]
    }
   ],
   "source": [
    "!ls"
   ]
  },
  {
   "cell_type": "code",
   "execution_count": 4,
   "id": "3242a163",
   "metadata": {
    "execution": {
     "iopub.execute_input": "2025-03-26T16:12:34.570444Z",
     "iopub.status.busy": "2025-03-26T16:12:34.570180Z",
     "iopub.status.idle": "2025-03-26T16:12:34.573147Z",
     "shell.execute_reply": "2025-03-26T16:12:34.572573Z"
    },
    "papermill": {
     "duration": 0.007621,
     "end_time": "2025-03-26T16:12:34.574286",
     "exception": false,
     "start_time": "2025-03-26T16:12:34.566665",
     "status": "completed"
    },
    "tags": []
   },
   "outputs": [],
   "source": [
    "# !cd /kaggle/working/rfm-nmf && git pull"
   ]
  },
  {
   "cell_type": "code",
   "execution_count": 5,
   "id": "b4355a47",
   "metadata": {
    "execution": {
     "iopub.execute_input": "2025-03-26T16:12:34.580629Z",
     "iopub.status.busy": "2025-03-26T16:12:34.580427Z",
     "iopub.status.idle": "2025-03-26T16:12:34.583112Z",
     "shell.execute_reply": "2025-03-26T16:12:34.582463Z"
    },
    "papermill": {
     "duration": 0.007107,
     "end_time": "2025-03-26T16:12:34.584258",
     "exception": false,
     "start_time": "2025-03-26T16:12:34.577151",
     "status": "completed"
    },
    "tags": []
   },
   "outputs": [],
   "source": [
    "# !python laplace.py"
   ]
  },
  {
   "cell_type": "code",
   "execution_count": 6,
   "id": "7648653e",
   "metadata": {
    "execution": {
     "iopub.execute_input": "2025-03-26T16:12:34.590622Z",
     "iopub.status.busy": "2025-03-26T16:12:34.590420Z",
     "iopub.status.idle": "2025-03-26T16:44:37.856607Z",
     "shell.execute_reply": "2025-03-26T16:44:37.855438Z"
    },
    "papermill": {
     "duration": 1923.271212,
     "end_time": "2025-03-26T16:44:37.858318",
     "exception": false,
     "start_time": "2025-03-26T16:12:34.587106",
     "status": "completed"
    },
    "tags": []
   },
   "outputs": [
    {
     "name": "stdout",
     "output_type": "stream",
     "text": [
      "\u001b[34m\u001b[1mwandb\u001b[0m: Using wandb-core as the SDK backend.  Please refer to https://wandb.me/wandb-core for more information.\r\n",
      "\u001b[34m\u001b[1mwandb\u001b[0m: Currently logged in as: \u001b[33mtorong31\u001b[0m (\u001b[33mtorong31-uit\u001b[0m). Use \u001b[1m`wandb login --relogin`\u001b[0m to force relogin\r\n",
      "\u001b[34m\u001b[1mwandb\u001b[0m: \u001b[33mWARNING\u001b[0m If you're specifying your api key in code, ensure this code is not shared publicly.\r\n",
      "\u001b[34m\u001b[1mwandb\u001b[0m: \u001b[33mWARNING\u001b[0m Consider setting the WANDB_API_KEY environment variable, or running `wandb login` from the command line.\r\n",
      "\u001b[34m\u001b[1mwandb\u001b[0m: Appending key for api.wandb.ai to your netrc file: /root/.netrc\r\n",
      "\u001b[34m\u001b[1mwandb\u001b[0m: Tracking run with wandb version 0.19.1\r\n",
      "\u001b[34m\u001b[1mwandb\u001b[0m: Run data is saved locally in \u001b[35m\u001b[1m/kaggle/working/rfm-nmf/rfm/wandb/run-20250326_161248-eh6otm24\u001b[0m\r\n",
      "\u001b[34m\u001b[1mwandb\u001b[0m: Run \u001b[1m`wandb offline`\u001b[0m to turn off syncing.\r\n",
      "\u001b[34m\u001b[1mwandb\u001b[0m: Syncing run \u001b[33mGausse\u001b[0m\r\n",
      "\u001b[34m\u001b[1mwandb\u001b[0m: ⭐️ View project at \u001b[34m\u001b[4mhttps://wandb.ai/torong31-uit/rfm-nmf\u001b[0m\r\n",
      "\u001b[34m\u001b[1mwandb\u001b[0m: 🚀 View run at \u001b[34m\u001b[4mhttps://wandb.ai/torong31-uit/rfm-nmf/runs/eh6otm24\u001b[0m\r\n",
      "2025-03-26 16:12:49,609 - Training GaussRFM\r\n",
      "Loaders provided\r\n",
      "Time taken to prefit nmf with 70000 points: 0.8871545791625977 seconds\r\n",
      "NMF with init='nndsvd' completed.\r\n",
      "Final reconstruction error (Frobenius norm): 100.1113\r\n",
      "Using NMF-based projection with rank=10, eta=0.0001, bs=10000\r\n",
      "100%|█████████████████████████████████████████████| 1/1 [00:00<00:00,  6.18it/s]\r\n",
      "(0 epochs, 0.2s)\ttrain mse: 0.0000 \tval mse: 0.0930\ttrain acc: 1.0000 \tval acc: 0.9552\r\n",
      "New best multiclass-acc: 0.9552\r\n",
      "Round 0, Test Acc: 95.52%\r\n",
      "Round 0, Test MSE: 0.0930\r\n",
      "2025-03-26 16:21:23,922 - NumExpr defaulting to 4 threads.\r\n",
      "Sampling AGOP on maximum of 10048 total points\r\n",
      "100%|█████████████████████████████████████████| 157/157 [00:02<00:00, 60.76it/s]\r\n",
      "Time taken to prefit nmf with 70000 points: 0.20356082916259766 seconds\r\n",
      "NMF with init='nndsvd' completed.\r\n",
      "Final reconstruction error (Frobenius norm): 106.8371\r\n",
      "Using NMF-based projection with rank=10, eta=0.0001, bs=10000\r\n",
      "100%|████████████████████████████████████████████| 1/1 [00:00<00:00, 698.70it/s]\r\n",
      "(0 epochs, 0.0s)\ttrain mse: 0.0000 \tval mse: 0.0410\ttrain acc: 1.0000 \tval acc: 0.9298\r\n",
      "New best multiclass-acc: 0.9298\r\n",
      "Round 1, Test Acc: 92.98%\r\n",
      "Round 1, Test MSE: 0.0410\r\n",
      "Sampling AGOP on maximum of 10048 total points\r\n",
      "100%|█████████████████████████████████████████| 157/157 [00:02<00:00, 62.09it/s]\r\n",
      "Time taken to prefit nmf with 70000 points: 0.20429325103759766 seconds\r\n",
      "NMF with init='nndsvd' completed.\r\n",
      "Final reconstruction error (Frobenius norm): 103.2123\r\n",
      "Using NMF-based projection with rank=10, eta=0.0001, bs=10000\r\n",
      "100%|████████████████████████████████████████████| 1/1 [00:00<00:00, 804.89it/s]\r\n",
      "(0 epochs, 0.0s)\ttrain mse: 0.0000 \tval mse: 0.0580\ttrain acc: 1.0000 \tval acc: 0.9180\r\n",
      "New best multiclass-acc: 0.9180\r\n",
      "Round 2, Test Acc: 91.80%\r\n",
      "Round 2, Test MSE: 0.0580\r\n",
      "Sampling AGOP on maximum of 10048 total points\r\n",
      "100%|█████████████████████████████████████████| 157/157 [00:02<00:00, 62.02it/s]\r\n",
      "Time taken to prefit nmf with 70000 points: 0.20371127128601074 seconds\r\n",
      "NMF with init='nndsvd' completed.\r\n",
      "Final reconstruction error (Frobenius norm): 104.4320\r\n",
      "Using NMF-based projection with rank=10, eta=0.0001, bs=10000\r\n",
      "100%|████████████████████████████████████████████| 1/1 [00:00<00:00, 771.30it/s]\r\n",
      "(0 epochs, 0.0s)\ttrain mse: 0.0000 \tval mse: 0.0533\ttrain acc: 1.0000 \tval acc: 0.9049\r\n",
      "New best multiclass-acc: 0.9049\r\n",
      "Final MSE: 0.0533\r\n",
      "Final Test Acc: 90.49%\r\n",
      "\u001b[34m\u001b[1mwandb\u001b[0m:                                                                                \r\n",
      "\u001b[34m\u001b[1mwandb\u001b[0m: \r\n",
      "\u001b[34m\u001b[1mwandb\u001b[0m: Run history:\r\n",
      "\u001b[34m\u001b[1mwandb\u001b[0m:               epoch ▁▅█\r\n",
      "\u001b[34m\u001b[1mwandb\u001b[0m:      epoch_time_sec █▁▄\r\n",
      "\u001b[34m\u001b[1mwandb\u001b[0m:           final_mse ▁\r\n",
      "\u001b[34m\u001b[1mwandb\u001b[0m: final_test_accuracy ▁\r\n",
      "\u001b[34m\u001b[1mwandb\u001b[0m:       test_accuracy █▃▁\r\n",
      "\u001b[34m\u001b[1mwandb\u001b[0m:            test_mse █▁▃\r\n",
      "\u001b[34m\u001b[1mwandb\u001b[0m: \r\n",
      "\u001b[34m\u001b[1mwandb\u001b[0m: Run summary:\r\n",
      "\u001b[34m\u001b[1mwandb\u001b[0m:               epoch 2\r\n",
      "\u001b[34m\u001b[1mwandb\u001b[0m:      epoch_time_sec 472.48386\r\n",
      "\u001b[34m\u001b[1mwandb\u001b[0m:           final_mse 0.05329\r\n",
      "\u001b[34m\u001b[1mwandb\u001b[0m: final_test_accuracy 0.9049\r\n",
      "\u001b[34m\u001b[1mwandb\u001b[0m:       test_accuracy 0.918\r\n",
      "\u001b[34m\u001b[1mwandb\u001b[0m:            test_mse 0.05803\r\n",
      "\u001b[34m\u001b[1mwandb\u001b[0m: \r\n",
      "\u001b[34m\u001b[1mwandb\u001b[0m: 🚀 View run \u001b[33mGausse\u001b[0m at: \u001b[34m\u001b[4mhttps://wandb.ai/torong31-uit/rfm-nmf/runs/eh6otm24\u001b[0m\r\n",
      "\u001b[34m\u001b[1mwandb\u001b[0m: ⭐️ View project at: \u001b[34m\u001b[4mhttps://wandb.ai/torong31-uit/rfm-nmf\u001b[0m\r\n",
      "\u001b[34m\u001b[1mwandb\u001b[0m: Synced 5 W&B file(s), 0 media file(s), 0 artifact file(s) and 0 other file(s)\r\n",
      "\u001b[34m\u001b[1mwandb\u001b[0m: Find logs at: \u001b[35m\u001b[1m./wandb/run-20250326_161248-eh6otm24/logs\u001b[0m\r\n"
     ]
    }
   ],
   "source": [
    "!python Gauss.py"
   ]
  },
  {
   "cell_type": "code",
   "execution_count": null,
   "id": "8c44033f",
   "metadata": {
    "execution": {
     "iopub.execute_input": "2025-03-24T16:41:03.019963Z",
     "iopub.status.busy": "2025-03-24T16:41:03.019666Z",
     "iopub.status.idle": "2025-03-24T16:41:11.203054Z",
     "shell.execute_reply": "2025-03-24T16:41:11.201785Z",
     "shell.execute_reply.started": "2025-03-24T16:41:03.019940Z"
    },
    "papermill": {
     "duration": 0.006971,
     "end_time": "2025-03-26T16:44:37.873060",
     "exception": false,
     "start_time": "2025-03-26T16:44:37.866089",
     "status": "completed"
    },
    "tags": []
   },
   "outputs": [],
   "source": []
  },
  {
   "cell_type": "code",
   "execution_count": 7,
   "id": "4fd4ff49",
   "metadata": {
    "execution": {
     "iopub.execute_input": "2025-03-26T16:44:37.889032Z",
     "iopub.status.busy": "2025-03-26T16:44:37.888724Z",
     "iopub.status.idle": "2025-03-26T16:44:37.892161Z",
     "shell.execute_reply": "2025-03-26T16:44:37.891383Z"
    },
    "papermill": {
     "duration": 0.013397,
     "end_time": "2025-03-26T16:44:37.893441",
     "exception": false,
     "start_time": "2025-03-26T16:44:37.880044",
     "status": "completed"
    },
    "tags": []
   },
   "outputs": [],
   "source": [
    "# !python generalized.py"
   ]
  }
 ],
 "metadata": {
  "kaggle": {
   "accelerator": "gpu",
   "dataSources": [],
   "dockerImageVersionId": 30918,
   "isGpuEnabled": true,
   "isInternetEnabled": true,
   "language": "python",
   "sourceType": "notebook"
  },
  "kernelspec": {
   "display_name": "Python 3",
   "language": "python",
   "name": "python3"
  },
  "language_info": {
   "codemirror_mode": {
    "name": "ipython",
    "version": 3
   },
   "file_extension": ".py",
   "mimetype": "text/x-python",
   "name": "python",
   "nbconvert_exporter": "python",
   "pygments_lexer": "ipython3",
   "version": "3.10.12"
  },
  "papermill": {
   "default_parameters": {},
   "duration": 1933.403101,
   "end_time": "2025-03-26T16:44:38.219908",
   "environment_variables": {},
   "exception": null,
   "input_path": "__notebook__.ipynb",
   "output_path": "__notebook__.ipynb",
   "parameters": {},
   "start_time": "2025-03-26T16:12:24.816807",
   "version": "2.6.0"
  }
 },
 "nbformat": 4,
 "nbformat_minor": 5
}
