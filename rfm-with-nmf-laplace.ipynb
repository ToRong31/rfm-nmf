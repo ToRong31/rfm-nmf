{
 "cells": [
  {
   "cell_type": "code",
   "execution_count": 1,
   "id": "6e084adf",
   "metadata": {
    "_cell_guid": "b1076dfc-b9ad-4769-8c92-a6c4dae69d19",
    "_uuid": "8f2839f25d086af736a60e9eeb907d3b93b6e0e5",
    "execution": {
     "iopub.execute_input": "2025-04-04T07:39:59.249196Z",
     "iopub.status.busy": "2025-04-04T07:39:59.248892Z",
     "iopub.status.idle": "2025-04-04T07:40:07.410698Z",
     "shell.execute_reply": "2025-04-04T07:40:07.409718Z"
    },
    "papermill": {
     "duration": 8.166912,
     "end_time": "2025-04-04T07:40:07.412387",
     "exception": false,
     "start_time": "2025-04-04T07:39:59.245475",
     "status": "completed"
    },
    "tags": []
   },
   "outputs": [
    {
     "name": "stdout",
     "output_type": "stream",
     "text": [
      "Cloning into 'rfm-nmf'...\r\n",
      "remote: Enumerating objects: 325, done.\u001b[K\r\n",
      "remote: Counting objects: 100% (38/38), done.\u001b[K\r\n",
      "remote: Compressing objects: 100% (7/7), done.\u001b[K\r\n",
      "remote: Total 325 (delta 33), reused 31 (delta 31), pack-reused 287 (from 1)\u001b[K\r\n",
      "Receiving objects: 100% (325/325), 22.49 MiB | 19.11 MiB/s, done.\r\n",
      "Resolving deltas: 100% (180/180), done.\r\n",
      "Collecting hickle\r\n",
      "  Downloading hickle-5.0.3-py3-none-any.whl.metadata (22 kB)\r\n",
      "Requirement already satisfied: h5py>=2.10.0 in /usr/local/lib/python3.10/dist-packages (from hickle) (3.12.1)\r\n",
      "Requirement already satisfied: numpy!=1.20,>=1.8 in /usr/local/lib/python3.10/dist-packages (from hickle) (1.26.4)\r\n",
      "Requirement already satisfied: mkl_fft in /usr/local/lib/python3.10/dist-packages (from numpy!=1.20,>=1.8->hickle) (1.3.8)\r\n",
      "Requirement already satisfied: mkl_random in /usr/local/lib/python3.10/dist-packages (from numpy!=1.20,>=1.8->hickle) (1.2.4)\r\n",
      "Requirement already satisfied: mkl_umath in /usr/local/lib/python3.10/dist-packages (from numpy!=1.20,>=1.8->hickle) (0.1.1)\r\n",
      "Requirement already satisfied: mkl in /usr/local/lib/python3.10/dist-packages (from numpy!=1.20,>=1.8->hickle) (2025.0.1)\r\n",
      "Requirement already satisfied: tbb4py in /usr/local/lib/python3.10/dist-packages (from numpy!=1.20,>=1.8->hickle) (2022.0.0)\r\n",
      "Requirement already satisfied: mkl-service in /usr/local/lib/python3.10/dist-packages (from numpy!=1.20,>=1.8->hickle) (2.4.1)\r\n",
      "Requirement already satisfied: intel-openmp>=2024 in /usr/local/lib/python3.10/dist-packages (from mkl->numpy!=1.20,>=1.8->hickle) (2024.2.0)\r\n",
      "Requirement already satisfied: tbb==2022.* in /usr/local/lib/python3.10/dist-packages (from mkl->numpy!=1.20,>=1.8->hickle) (2022.0.0)\r\n",
      "Requirement already satisfied: tcmlib==1.* in /usr/local/lib/python3.10/dist-packages (from tbb==2022.*->mkl->numpy!=1.20,>=1.8->hickle) (1.2.0)\r\n",
      "Requirement already satisfied: intel-cmplr-lib-rt in /usr/local/lib/python3.10/dist-packages (from mkl_umath->numpy!=1.20,>=1.8->hickle) (2024.2.0)\r\n",
      "Requirement already satisfied: intel-cmplr-lib-ur==2024.2.0 in /usr/local/lib/python3.10/dist-packages (from intel-openmp>=2024->mkl->numpy!=1.20,>=1.8->hickle) (2024.2.0)\r\n",
      "Downloading hickle-5.0.3-py3-none-any.whl (107 kB)\r\n",
      "\u001b[2K   \u001b[90m━━━━━━━━━━━━━━━━━━━━━━━━━━━━━━━━━━━━━━━━\u001b[0m \u001b[32m108.0/108.0 kB\u001b[0m \u001b[31m3.4 MB/s\u001b[0m eta \u001b[36m0:00:00\u001b[0m\r\n",
      "\u001b[?25hInstalling collected packages: hickle\r\n",
      "Successfully installed hickle-5.0.3\r\n"
     ]
    }
   ],
   "source": [
    "!git clone https://github.com/ToRong31/rfm-nmf.git\n",
    "import sys\n",
    "sys.path.append('/kaggle/working/rfm-HTR/rfm/rfm')\n",
    "!pip install hickle\n",
    "!cd /kaggle/working/rfm-nmf/rfm"
   ]
  },
  {
   "cell_type": "code",
   "execution_count": 2,
   "id": "6c066d89",
   "metadata": {
    "execution": {
     "iopub.execute_input": "2025-04-04T07:40:07.419922Z",
     "iopub.status.busy": "2025-04-04T07:40:07.419646Z",
     "iopub.status.idle": "2025-04-04T07:40:07.426065Z",
     "shell.execute_reply": "2025-04-04T07:40:07.425242Z"
    },
    "papermill": {
     "duration": 0.01128,
     "end_time": "2025-04-04T07:40:07.427228",
     "exception": false,
     "start_time": "2025-04-04T07:40:07.415948",
     "status": "completed"
    },
    "tags": []
   },
   "outputs": [
    {
     "name": "stdout",
     "output_type": "stream",
     "text": [
      "/kaggle/working/rfm-nmf/rfm\n"
     ]
    }
   ],
   "source": [
    "cd /kaggle/working/rfm-nmf/rfm"
   ]
  },
  {
   "cell_type": "code",
   "execution_count": 3,
   "id": "aad96831",
   "metadata": {
    "execution": {
     "iopub.execute_input": "2025-04-04T07:40:07.433587Z",
     "iopub.status.busy": "2025-04-04T07:40:07.433330Z",
     "iopub.status.idle": "2025-04-04T07:40:07.552514Z",
     "shell.execute_reply": "2025-04-04T07:40:07.551612Z"
    },
    "papermill": {
     "duration": 0.124133,
     "end_time": "2025-04-04T07:40:07.554181",
     "exception": false,
     "start_time": "2025-04-04T07:40:07.430048",
     "status": "completed"
    },
    "tags": []
   },
   "outputs": [
    {
     "name": "stdout",
     "output_type": "stream",
     "text": [
      "celeba_experiments  LICENSE\t\t   setup.py\r\n",
      "data\t\t    low_rank.ipynb\t   svhn.ipynb\r\n",
      "example_notebooks   ntk.py\t\t   svhn.py\r\n",
      "Gauss.py\t    output.txt\t\t   tabular_benchmark_experiments\r\n",
      "generalized.py\t    phenomena_experiments  testhehe.ipynb\r\n",
      "laplace_cifar10.py  README.md\t\t   test.ipynb\r\n",
      "laplace.py\t    rfm\t\t\t   wandb\r\n"
     ]
    }
   ],
   "source": [
    "!ls"
   ]
  },
  {
   "cell_type": "code",
   "execution_count": 4,
   "id": "4f18b705",
   "metadata": {
    "execution": {
     "iopub.execute_input": "2025-04-04T07:40:07.561253Z",
     "iopub.status.busy": "2025-04-04T07:40:07.560959Z",
     "iopub.status.idle": "2025-04-04T07:40:07.564356Z",
     "shell.execute_reply": "2025-04-04T07:40:07.563599Z"
    },
    "papermill": {
     "duration": 0.008232,
     "end_time": "2025-04-04T07:40:07.565624",
     "exception": false,
     "start_time": "2025-04-04T07:40:07.557392",
     "status": "completed"
    },
    "tags": []
   },
   "outputs": [],
   "source": [
    "# !cd /kaggle/working/rfm-nmf && git pull"
   ]
  },
  {
   "cell_type": "code",
   "execution_count": 5,
   "id": "9f979ece",
   "metadata": {
    "execution": {
     "iopub.execute_input": "2025-04-04T07:40:07.572037Z",
     "iopub.status.busy": "2025-04-04T07:40:07.571835Z",
     "iopub.status.idle": "2025-04-04T07:40:30.522728Z",
     "shell.execute_reply": "2025-04-04T07:40:30.521843Z"
    },
    "papermill": {
     "duration": 22.955867,
     "end_time": "2025-04-04T07:40:30.524299",
     "exception": false,
     "start_time": "2025-04-04T07:40:07.568432",
     "status": "completed"
    },
    "tags": []
   },
   "outputs": [
    {
     "name": "stdout",
     "output_type": "stream",
     "text": [
      "\u001b[34m\u001b[1mwandb\u001b[0m: Using wandb-core as the SDK backend.  Please refer to https://wandb.me/wandb-core for more information.\r\n",
      "\u001b[34m\u001b[1mwandb\u001b[0m: Currently logged in as: \u001b[33mtorong31\u001b[0m (\u001b[33mtorong31-uit\u001b[0m). Use \u001b[1m`wandb login --relogin`\u001b[0m to force relogin\r\n",
      "\u001b[34m\u001b[1mwandb\u001b[0m: \u001b[33mWARNING\u001b[0m If you're specifying your api key in code, ensure this code is not shared publicly.\r\n",
      "\u001b[34m\u001b[1mwandb\u001b[0m: \u001b[33mWARNING\u001b[0m Consider setting the WANDB_API_KEY environment variable, or running `wandb login` from the command line.\r\n",
      "\u001b[34m\u001b[1mwandb\u001b[0m: Appending key for api.wandb.ai to your netrc file: /root/.netrc\r\n",
      "\u001b[34m\u001b[1mwandb\u001b[0m: Tracking run with wandb version 0.19.1\r\n",
      "\u001b[34m\u001b[1mwandb\u001b[0m: Run data is saved locally in \u001b[35m\u001b[1m/kaggle/working/rfm-nmf/rfm/wandb/run-20250404_074022-ed2z0rw1\u001b[0m\r\n",
      "\u001b[34m\u001b[1mwandb\u001b[0m: Run \u001b[1m`wandb offline`\u001b[0m to turn off syncing.\r\n",
      "\u001b[34m\u001b[1mwandb\u001b[0m: Syncing run \u001b[33mTry3\u001b[0m\r\n",
      "\u001b[34m\u001b[1mwandb\u001b[0m: ⭐️ View project at \u001b[34m\u001b[4mhttps://wandb.ai/torong31-uit/rfm-nmf\u001b[0m\r\n",
      "\u001b[34m\u001b[1mwandb\u001b[0m: 🚀 View run at \u001b[34m\u001b[4mhttps://wandb.ai/torong31-uit/rfm-nmf/runs/ed2z0rw1\u001b[0m\r\n",
      "2025-04-04 07:40:23,128 - Training LaplaceRFM\r\n",
      "Loaders provided\r\n",
      "Time taken to prefit nmf with 70000 points: 0.8938601016998291 seconds\r\n",
      "Traceback (most recent call last):\r\n",
      "  File \"/kaggle/working/rfm-nmf/rfm/laplace.py\", line 79, in <module>\r\n",
      "    laplace_model.fit(\r\n",
      "  File \"/kaggle/working/rfm-nmf/rfm/rfm/recursive_feature_machine.py\", line 238, in fit\r\n",
      "    self.fit_predictor(X_train, y_train, X_val=X_test, y_val=y_test,\r\n",
      "  File \"/kaggle/working/rfm-nmf/rfm/rfm/recursive_feature_machine.py\", line 137, in fit_predictor\r\n",
      "    self.weights = self.fit_predictor_nmf(centers, targets, bs=bs, lr_scale=lr_scale,\r\n",
      "  File \"/kaggle/working/rfm-nmf/rfm/rfm/recursive_feature_machine.py\", line 174, in fit_predictor_nmf\r\n",
      "    _ = ep_model.fit(centers, targets, verbose=verbose, mem_gb=self.mem_gb, bs=bs, lr_scale=lr_scale, **kwargs)\r\n",
      "  File \"/kaggle/working/rfm-nmf/rfm/rfm/nmfhtr.py\", line 200, in fit\r\n",
      "    W_nmf, H_nmf,S_nmf, nmf_norms = asm_nmf_fn(samples, self.kernel_fn, rank=n_labels, verbose=verbose)\r\n",
      "  File \"/kaggle/working/rfm-nmf/rfm/rfm/nmfhtr.py\", line 25, in asm_nmf_fn\r\n",
      "    kernel_matrix,players, k_list, theta_list, max_iter, init_mode,lambda_sparseness=0.1\r\n",
      "NameError: name 'players' is not defined\r\n",
      "\u001b[1;34mwandb\u001b[0m: 🚀 View run \u001b[33mTry3\u001b[0m at: \u001b[34mhttps://wandb.ai/torong31-uit/rfm-nmf/runs/ed2z0rw1\u001b[0m\r\n",
      "\u001b[1;34mwandb\u001b[0m: Find logs at: \u001b[1;35mwandb/run-20250404_074022-ed2z0rw1/logs\u001b[0m\r\n"
     ]
    }
   ],
   "source": [
    "!python laplace.py"
   ]
  },
  {
   "cell_type": "code",
   "execution_count": 6,
   "id": "fd5ae7b2",
   "metadata": {
    "execution": {
     "iopub.execute_input": "2025-04-04T07:40:30.532231Z",
     "iopub.status.busy": "2025-04-04T07:40:30.531992Z",
     "iopub.status.idle": "2025-04-04T07:40:30.535262Z",
     "shell.execute_reply": "2025-04-04T07:40:30.534584Z"
    },
    "papermill": {
     "duration": 0.008519,
     "end_time": "2025-04-04T07:40:30.536451",
     "exception": false,
     "start_time": "2025-04-04T07:40:30.527932",
     "status": "completed"
    },
    "tags": []
   },
   "outputs": [],
   "source": [
    "# !python Gauss.py"
   ]
  },
  {
   "cell_type": "code",
   "execution_count": 7,
   "id": "0695b59b",
   "metadata": {
    "execution": {
     "iopub.execute_input": "2025-04-04T07:40:30.543568Z",
     "iopub.status.busy": "2025-04-04T07:40:30.543300Z",
     "iopub.status.idle": "2025-04-04T07:40:30.546329Z",
     "shell.execute_reply": "2025-04-04T07:40:30.545578Z"
    },
    "papermill": {
     "duration": 0.007995,
     "end_time": "2025-04-04T07:40:30.547667",
     "exception": false,
     "start_time": "2025-04-04T07:40:30.539672",
     "status": "completed"
    },
    "tags": []
   },
   "outputs": [],
   "source": [
    "# !python generalized.py"
   ]
  },
  {
   "cell_type": "code",
   "execution_count": 8,
   "id": "d10720c4",
   "metadata": {
    "execution": {
     "iopub.execute_input": "2025-04-04T07:40:30.554874Z",
     "iopub.status.busy": "2025-04-04T07:40:30.554651Z",
     "iopub.status.idle": "2025-04-04T07:40:30.557599Z",
     "shell.execute_reply": "2025-04-04T07:40:30.556815Z"
    },
    "papermill": {
     "duration": 0.00802,
     "end_time": "2025-04-04T07:40:30.558874",
     "exception": false,
     "start_time": "2025-04-04T07:40:30.550854",
     "status": "completed"
    },
    "tags": []
   },
   "outputs": [],
   "source": [
    "# !python laplace_cifar10.py"
   ]
  }
 ],
 "metadata": {
  "kaggle": {
   "accelerator": "gpu",
   "dataSources": [],
   "dockerImageVersionId": 30918,
   "isGpuEnabled": true,
   "isInternetEnabled": true,
   "language": "python",
   "sourceType": "notebook"
  },
  "kernelspec": {
   "display_name": "Python 3",
   "language": "python",
   "name": "python3"
  },
  "language_info": {
   "codemirror_mode": {
    "name": "ipython",
    "version": 3
   },
   "file_extension": ".py",
   "mimetype": "text/x-python",
   "name": "python",
   "nbconvert_exporter": "python",
   "pygments_lexer": "ipython3",
   "version": "3.10.12"
  },
  "papermill": {
   "default_parameters": {},
   "duration": 34.230364,
   "end_time": "2025-04-04T07:40:30.879618",
   "environment_variables": {},
   "exception": null,
   "input_path": "__notebook__.ipynb",
   "output_path": "__notebook__.ipynb",
   "parameters": {},
   "start_time": "2025-04-04T07:39:56.649254",
   "version": "2.6.0"
  }
 },
 "nbformat": 4,
 "nbformat_minor": 5
}
