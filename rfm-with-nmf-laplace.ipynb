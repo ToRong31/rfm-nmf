{
 "cells": [
  {
   "cell_type": "code",
   "execution_count": 1,
   "id": "014b4a36",
   "metadata": {
    "_cell_guid": "b1076dfc-b9ad-4769-8c92-a6c4dae69d19",
    "_uuid": "8f2839f25d086af736a60e9eeb907d3b93b6e0e5",
    "execution": {
     "iopub.execute_input": "2025-04-04T07:53:13.467871Z",
     "iopub.status.busy": "2025-04-04T07:53:13.467618Z",
     "iopub.status.idle": "2025-04-04T07:53:20.282979Z",
     "shell.execute_reply": "2025-04-04T07:53:20.282033Z"
    },
    "papermill": {
     "duration": 6.82032,
     "end_time": "2025-04-04T07:53:20.284713",
     "exception": false,
     "start_time": "2025-04-04T07:53:13.464393",
     "status": "completed"
    },
    "tags": []
   },
   "outputs": [
    {
     "name": "stdout",
     "output_type": "stream",
     "text": [
      "Cloning into 'rfm-nmf'...\r\n",
      "remote: Enumerating objects: 341, done.\u001b[K\r\n",
      "remote: Counting objects: 100% (54/54), done.\u001b[K\r\n",
      "remote: Compressing objects: 100% (23/23), done.\u001b[K\r\n",
      "remote: Total 341 (delta 44), reused 31 (delta 31), pack-reused 287 (from 1)\u001b[K\r\n",
      "Receiving objects: 100% (341/341), 22.49 MiB | 33.77 MiB/s, done.\r\n",
      "Resolving deltas: 100% (191/191), done.\r\n",
      "Collecting hickle\r\n",
      "  Downloading hickle-5.0.3-py3-none-any.whl.metadata (22 kB)\r\n",
      "Requirement already satisfied: h5py>=2.10.0 in /usr/local/lib/python3.10/dist-packages (from hickle) (3.12.1)\r\n",
      "Requirement already satisfied: numpy!=1.20,>=1.8 in /usr/local/lib/python3.10/dist-packages (from hickle) (1.26.4)\r\n",
      "Requirement already satisfied: mkl_fft in /usr/local/lib/python3.10/dist-packages (from numpy!=1.20,>=1.8->hickle) (1.3.8)\r\n",
      "Requirement already satisfied: mkl_random in /usr/local/lib/python3.10/dist-packages (from numpy!=1.20,>=1.8->hickle) (1.2.4)\r\n",
      "Requirement already satisfied: mkl_umath in /usr/local/lib/python3.10/dist-packages (from numpy!=1.20,>=1.8->hickle) (0.1.1)\r\n",
      "Requirement already satisfied: mkl in /usr/local/lib/python3.10/dist-packages (from numpy!=1.20,>=1.8->hickle) (2025.0.1)\r\n",
      "Requirement already satisfied: tbb4py in /usr/local/lib/python3.10/dist-packages (from numpy!=1.20,>=1.8->hickle) (2022.0.0)\r\n",
      "Requirement already satisfied: mkl-service in /usr/local/lib/python3.10/dist-packages (from numpy!=1.20,>=1.8->hickle) (2.4.1)\r\n",
      "Requirement already satisfied: intel-openmp>=2024 in /usr/local/lib/python3.10/dist-packages (from mkl->numpy!=1.20,>=1.8->hickle) (2024.2.0)\r\n",
      "Requirement already satisfied: tbb==2022.* in /usr/local/lib/python3.10/dist-packages (from mkl->numpy!=1.20,>=1.8->hickle) (2022.0.0)\r\n",
      "Requirement already satisfied: tcmlib==1.* in /usr/local/lib/python3.10/dist-packages (from tbb==2022.*->mkl->numpy!=1.20,>=1.8->hickle) (1.2.0)\r\n",
      "Requirement already satisfied: intel-cmplr-lib-rt in /usr/local/lib/python3.10/dist-packages (from mkl_umath->numpy!=1.20,>=1.8->hickle) (2024.2.0)\r\n",
      "Requirement already satisfied: intel-cmplr-lib-ur==2024.2.0 in /usr/local/lib/python3.10/dist-packages (from intel-openmp>=2024->mkl->numpy!=1.20,>=1.8->hickle) (2024.2.0)\r\n",
      "Downloading hickle-5.0.3-py3-none-any.whl (107 kB)\r\n",
      "\u001b[2K   \u001b[90m━━━━━━━━━━━━━━━━━━━━━━━━━━━━━━━━━━━━━━━━\u001b[0m \u001b[32m108.0/108.0 kB\u001b[0m \u001b[31m4.5 MB/s\u001b[0m eta \u001b[36m0:00:00\u001b[0m\r\n",
      "\u001b[?25hInstalling collected packages: hickle\r\n",
      "Successfully installed hickle-5.0.3\r\n"
     ]
    }
   ],
   "source": [
    "!git clone https://github.com/ToRong31/rfm-nmf.git\n",
    "import sys\n",
    "sys.path.append('/kaggle/working/rfm-HTR/rfm/rfm')\n",
    "!pip install hickle\n",
    "!cd /kaggle/working/rfm-nmf/rfm"
   ]
  },
  {
   "cell_type": "code",
   "execution_count": 2,
   "id": "e9e9fef7",
   "metadata": {
    "execution": {
     "iopub.execute_input": "2025-04-04T07:53:20.292602Z",
     "iopub.status.busy": "2025-04-04T07:53:20.292323Z",
     "iopub.status.idle": "2025-04-04T07:53:20.298185Z",
     "shell.execute_reply": "2025-04-04T07:53:20.297355Z"
    },
    "papermill": {
     "duration": 0.010978,
     "end_time": "2025-04-04T07:53:20.299417",
     "exception": false,
     "start_time": "2025-04-04T07:53:20.288439",
     "status": "completed"
    },
    "tags": []
   },
   "outputs": [
    {
     "name": "stdout",
     "output_type": "stream",
     "text": [
      "/kaggle/working/rfm-nmf/rfm\n"
     ]
    }
   ],
   "source": [
    "cd /kaggle/working/rfm-nmf/rfm"
   ]
  },
  {
   "cell_type": "code",
   "execution_count": 3,
   "id": "a812d52f",
   "metadata": {
    "execution": {
     "iopub.execute_input": "2025-04-04T07:53:20.305575Z",
     "iopub.status.busy": "2025-04-04T07:53:20.305361Z",
     "iopub.status.idle": "2025-04-04T07:53:20.423194Z",
     "shell.execute_reply": "2025-04-04T07:53:20.422293Z"
    },
    "papermill": {
     "duration": 0.122476,
     "end_time": "2025-04-04T07:53:20.424703",
     "exception": false,
     "start_time": "2025-04-04T07:53:20.302227",
     "status": "completed"
    },
    "tags": []
   },
   "outputs": [
    {
     "name": "stdout",
     "output_type": "stream",
     "text": [
      "celeba_experiments  LICENSE\t\t   setup.py\r\n",
      "data\t\t    low_rank.ipynb\t   svhn.ipynb\r\n",
      "example_notebooks   ntk.py\t\t   svhn.py\r\n",
      "Gauss.py\t    output.txt\t\t   tabular_benchmark_experiments\r\n",
      "generalized.py\t    phenomena_experiments  testhehe.ipynb\r\n",
      "laplace_cifar10.py  README.md\t\t   test.ipynb\r\n",
      "laplace.py\t    rfm\t\t\t   wandb\r\n"
     ]
    }
   ],
   "source": [
    "!ls"
   ]
  },
  {
   "cell_type": "code",
   "execution_count": 4,
   "id": "9e926926",
   "metadata": {
    "execution": {
     "iopub.execute_input": "2025-04-04T07:53:20.431842Z",
     "iopub.status.busy": "2025-04-04T07:53:20.431601Z",
     "iopub.status.idle": "2025-04-04T07:53:20.434668Z",
     "shell.execute_reply": "2025-04-04T07:53:20.434022Z"
    },
    "papermill": {
     "duration": 0.007975,
     "end_time": "2025-04-04T07:53:20.435867",
     "exception": false,
     "start_time": "2025-04-04T07:53:20.427892",
     "status": "completed"
    },
    "tags": []
   },
   "outputs": [],
   "source": [
    "# !cd /kaggle/working/rfm-nmf && git pull"
   ]
  },
  {
   "cell_type": "code",
   "execution_count": 5,
   "id": "b6b897a4",
   "metadata": {
    "execution": {
     "iopub.execute_input": "2025-04-04T07:53:20.442206Z",
     "iopub.status.busy": "2025-04-04T07:53:20.441973Z",
     "iopub.status.idle": "2025-04-04T08:02:29.188346Z",
     "shell.execute_reply": "2025-04-04T08:02:29.187281Z"
    },
    "papermill": {
     "duration": 548.751257,
     "end_time": "2025-04-04T08:02:29.189974",
     "exception": false,
     "start_time": "2025-04-04T07:53:20.438717",
     "status": "completed"
    },
    "tags": []
   },
   "outputs": [
    {
     "name": "stdout",
     "output_type": "stream",
     "text": [
      "\u001b[34m\u001b[1mwandb\u001b[0m: Using wandb-core as the SDK backend.  Please refer to https://wandb.me/wandb-core for more information.\r\n",
      "\u001b[34m\u001b[1mwandb\u001b[0m: Currently logged in as: \u001b[33mtorong31\u001b[0m (\u001b[33mtorong31-uit\u001b[0m). Use \u001b[1m`wandb login --relogin`\u001b[0m to force relogin\r\n",
      "\u001b[34m\u001b[1mwandb\u001b[0m: \u001b[33mWARNING\u001b[0m If you're specifying your api key in code, ensure this code is not shared publicly.\r\n",
      "\u001b[34m\u001b[1mwandb\u001b[0m: \u001b[33mWARNING\u001b[0m Consider setting the WANDB_API_KEY environment variable, or running `wandb login` from the command line.\r\n",
      "\u001b[34m\u001b[1mwandb\u001b[0m: Appending key for api.wandb.ai to your netrc file: /root/.netrc\r\n",
      "\u001b[34m\u001b[1mwandb\u001b[0m: Tracking run with wandb version 0.19.1\r\n",
      "\u001b[34m\u001b[1mwandb\u001b[0m: Run data is saved locally in \u001b[35m\u001b[1m/kaggle/working/rfm-nmf/rfm/wandb/run-20250404_075334-nuve9rql\u001b[0m\r\n",
      "\u001b[34m\u001b[1mwandb\u001b[0m: Run \u001b[1m`wandb offline`\u001b[0m to turn off syncing.\r\n",
      "\u001b[34m\u001b[1mwandb\u001b[0m: Syncing run \u001b[33mTry3\u001b[0m\r\n",
      "\u001b[34m\u001b[1mwandb\u001b[0m: ⭐️ View project at \u001b[34m\u001b[4mhttps://wandb.ai/torong31-uit/rfm-nmf\u001b[0m\r\n",
      "\u001b[34m\u001b[1mwandb\u001b[0m: 🚀 View run at \u001b[34m\u001b[4mhttps://wandb.ai/torong31-uit/rfm-nmf/runs/nuve9rql\u001b[0m\r\n",
      "2025-04-04 07:53:35,421 - Training LaplaceRFM\r\n",
      "Loaders provided\r\n",
      "Time taken to prefit nmf with 70000 points: 0.8852806091308594 seconds\r\n",
      "Using NMF-based projection with rank=10, eta=0.0001, bs=10000\r\n",
      "  0%|                                                     | 0/1 [00:00<?, ?it/s]Correction shape mismatch: 10 vs 10000\r\n",
      "100%|█████████████████████████████████████████████| 1/1 [00:00<00:00,  6.14it/s]\r\n",
      "(0 epochs, 0.2s)\ttrain mse: 0.0000 \tval mse: 0.0617\ttrain acc: 1.0000 \tval acc: 0.9218\r\n",
      "New best multiclass-acc: 0.9218\r\n",
      "Round 0, Test Acc: 92.18%\r\n",
      "Round 0, Test MSE: 0.0617\r\n",
      "2025-04-04 07:55:32,754 - NumExpr defaulting to 4 threads.\r\n",
      "Sampling AGOP on maximum of 10048 total points\r\n",
      "100%|█████████████████████████████████████████| 157/157 [00:03<00:00, 47.22it/s]\r\n",
      "Time taken to prefit nmf with 70000 points: 0.2062673568725586 seconds\r\n",
      "Using NMF-based projection with rank=10, eta=0.0001, bs=10000\r\n",
      "  0%|                                                     | 0/1 [00:00<?, ?it/s]Correction shape mismatch: 10 vs 10000\r\n",
      "100%|████████████████████████████████████████████| 1/1 [00:00<00:00, 498.85it/s]\r\n",
      "(0 epochs, 0.0s)\ttrain mse: 0.0000 \tval mse: 0.0744\ttrain acc: 1.0000 \tval acc: 0.9324\r\n",
      "New best multiclass-acc: 0.9324\r\n",
      "  0%|                                                     | 0/1 [00:00<?, ?it/s]Correction shape mismatch: 10 vs 10000\r\n",
      "100%|████████████████████████████████████████████| 1/1 [00:00<00:00, 700.92it/s]\r\n",
      "(1 epochs, 0.0s)\ttrain mse: 0.0001 \tval mse: 0.0744\ttrain acc: 1.0000 \tval acc: 0.9324\r\n",
      "  0%|                                                     | 0/1 [00:00<?, ?it/s]Correction shape mismatch: 10 vs 10000\r\n",
      "100%|████████████████████████████████████████████| 1/1 [00:00<00:00, 754.51it/s]\r\n",
      "(2 epochs, 0.0s)\ttrain mse: 0.0045 \tval mse: 0.0745\ttrain acc: 1.0000 \tval acc: 0.9324\r\n",
      "Round 1, Test Acc: 93.24%\r\n",
      "Round 1, Test MSE: 0.0744\r\n",
      "Sampling AGOP on maximum of 10048 total points\r\n",
      "100%|█████████████████████████████████████████| 157/157 [00:03<00:00, 45.85it/s]\r\n",
      "Time taken to prefit nmf with 70000 points: 0.20893287658691406 seconds\r\n",
      "Using NMF-based projection with rank=10, eta=0.0001, bs=10000\r\n",
      "  0%|                                                     | 0/1 [00:00<?, ?it/s]Correction shape mismatch: 10 vs 10000\r\n",
      "100%|████████████████████████████████████████████| 1/1 [00:00<00:00, 527.39it/s]\r\n",
      "(0 epochs, 0.0s)\ttrain mse: 0.0000 \tval mse: 0.0603\ttrain acc: 1.0000 \tval acc: 0.9191\r\n",
      "New best multiclass-acc: 0.9191\r\n",
      "Round 2, Test Acc: 91.91%\r\n",
      "Round 2, Test MSE: 0.0603\r\n",
      "Sampling AGOP on maximum of 10048 total points\r\n",
      "100%|█████████████████████████████████████████| 157/157 [00:03<00:00, 48.37it/s]\r\n",
      "Time taken to prefit nmf with 70000 points: 0.20904207229614258 seconds\r\n",
      "Using NMF-based projection with rank=10, eta=0.0001, bs=10000\r\n",
      "  0%|                                                     | 0/1 [00:00<?, ?it/s]Correction shape mismatch: 10 vs 10000\r\n",
      "100%|████████████████████████████████████████████| 1/1 [00:00<00:00, 560.44it/s]\r\n",
      "(0 epochs, 0.0s)\ttrain mse: 0.0000 \tval mse: 0.0503\ttrain acc: 1.0000 \tval acc: 0.9087\r\n",
      "New best multiclass-acc: 0.9087\r\n",
      "Final MSE: 0.0503\r\n",
      "Final Test Acc: 90.87%\r\n",
      "\u001b[34m\u001b[1mwandb\u001b[0m:                                                                                \r\n",
      "\u001b[34m\u001b[1mwandb\u001b[0m: \r\n",
      "\u001b[34m\u001b[1mwandb\u001b[0m: Run history:\r\n",
      "\u001b[34m\u001b[1mwandb\u001b[0m:               epoch ▁▅█\r\n",
      "\u001b[34m\u001b[1mwandb\u001b[0m:      epoch_time_sec ▁▂█\r\n",
      "\u001b[34m\u001b[1mwandb\u001b[0m:           final_mse ▁\r\n",
      "\u001b[34m\u001b[1mwandb\u001b[0m: final_test_accuracy ▁\r\n",
      "\u001b[34m\u001b[1mwandb\u001b[0m:       test_accuracy ▂█▁\r\n",
      "\u001b[34m\u001b[1mwandb\u001b[0m:            test_mse ▂█▁\r\n",
      "\u001b[34m\u001b[1mwandb\u001b[0m: \r\n",
      "\u001b[34m\u001b[1mwandb\u001b[0m: Run summary:\r\n",
      "\u001b[34m\u001b[1mwandb\u001b[0m:               epoch 2\r\n",
      "\u001b[34m\u001b[1mwandb\u001b[0m:      epoch_time_sec 146.74675\r\n",
      "\u001b[34m\u001b[1mwandb\u001b[0m:           final_mse 0.05032\r\n",
      "\u001b[34m\u001b[1mwandb\u001b[0m: final_test_accuracy 0.9087\r\n",
      "\u001b[34m\u001b[1mwandb\u001b[0m:       test_accuracy 0.9191\r\n",
      "\u001b[34m\u001b[1mwandb\u001b[0m:            test_mse 0.06033\r\n",
      "\u001b[34m\u001b[1mwandb\u001b[0m: \r\n",
      "\u001b[34m\u001b[1mwandb\u001b[0m: 🚀 View run \u001b[33mTry3\u001b[0m at: \u001b[34m\u001b[4mhttps://wandb.ai/torong31-uit/rfm-nmf/runs/nuve9rql\u001b[0m\r\n",
      "\u001b[34m\u001b[1mwandb\u001b[0m: ⭐️ View project at: \u001b[34m\u001b[4mhttps://wandb.ai/torong31-uit/rfm-nmf\u001b[0m\r\n",
      "\u001b[34m\u001b[1mwandb\u001b[0m: Synced 5 W&B file(s), 0 media file(s), 0 artifact file(s) and 0 other file(s)\r\n",
      "\u001b[34m\u001b[1mwandb\u001b[0m: Find logs at: \u001b[35m\u001b[1m./wandb/run-20250404_075334-nuve9rql/logs\u001b[0m\r\n"
     ]
    }
   ],
   "source": [
    "!python laplace.py"
   ]
  },
  {
   "cell_type": "code",
   "execution_count": 6,
   "id": "4608d71c",
   "metadata": {
    "execution": {
     "iopub.execute_input": "2025-04-04T08:02:29.207820Z",
     "iopub.status.busy": "2025-04-04T08:02:29.207584Z",
     "iopub.status.idle": "2025-04-04T08:02:29.210572Z",
     "shell.execute_reply": "2025-04-04T08:02:29.210005Z"
    },
    "papermill": {
     "duration": 0.013118,
     "end_time": "2025-04-04T08:02:29.211735",
     "exception": false,
     "start_time": "2025-04-04T08:02:29.198617",
     "status": "completed"
    },
    "tags": []
   },
   "outputs": [],
   "source": [
    "# !python Gauss.py"
   ]
  },
  {
   "cell_type": "code",
   "execution_count": 7,
   "id": "e0819154",
   "metadata": {
    "execution": {
     "iopub.execute_input": "2025-04-04T08:02:29.228816Z",
     "iopub.status.busy": "2025-04-04T08:02:29.228600Z",
     "iopub.status.idle": "2025-04-04T08:02:29.231266Z",
     "shell.execute_reply": "2025-04-04T08:02:29.230682Z"
    },
    "papermill": {
     "duration": 0.012371,
     "end_time": "2025-04-04T08:02:29.232407",
     "exception": false,
     "start_time": "2025-04-04T08:02:29.220036",
     "status": "completed"
    },
    "tags": []
   },
   "outputs": [],
   "source": [
    "# !python generalized.py"
   ]
  },
  {
   "cell_type": "code",
   "execution_count": 8,
   "id": "97f840df",
   "metadata": {
    "execution": {
     "iopub.execute_input": "2025-04-04T08:02:29.249887Z",
     "iopub.status.busy": "2025-04-04T08:02:29.249689Z",
     "iopub.status.idle": "2025-04-04T08:02:29.252323Z",
     "shell.execute_reply": "2025-04-04T08:02:29.251747Z"
    },
    "papermill": {
     "duration": 0.012747,
     "end_time": "2025-04-04T08:02:29.253441",
     "exception": false,
     "start_time": "2025-04-04T08:02:29.240694",
     "status": "completed"
    },
    "tags": []
   },
   "outputs": [],
   "source": [
    "# !python laplace_cifar10.py"
   ]
  }
 ],
 "metadata": {
  "kaggle": {
   "accelerator": "gpu",
   "dataSources": [],
   "dockerImageVersionId": 30918,
   "isGpuEnabled": true,
   "isInternetEnabled": true,
   "language": "python",
   "sourceType": "notebook"
  },
  "kernelspec": {
   "display_name": "Python 3",
   "language": "python",
   "name": "python3"
  },
  "language_info": {
   "codemirror_mode": {
    "name": "ipython",
    "version": 3
   },
   "file_extension": ".py",
   "mimetype": "text/x-python",
   "name": "python",
   "nbconvert_exporter": "python",
   "pygments_lexer": "ipython3",
   "version": "3.10.12"
  },
  "papermill": {
   "default_parameters": {},
   "duration": 558.775211,
   "end_time": "2025-04-04T08:02:29.579197",
   "environment_variables": {},
   "exception": null,
   "input_path": "__notebook__.ipynb",
   "output_path": "__notebook__.ipynb",
   "parameters": {},
   "start_time": "2025-04-04T07:53:10.803986",
   "version": "2.6.0"
  }
 },
 "nbformat": 4,
 "nbformat_minor": 5
}
