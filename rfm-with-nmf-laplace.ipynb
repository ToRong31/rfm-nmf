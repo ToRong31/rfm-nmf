{
 "cells": [
  {
   "cell_type": "code",
   "execution_count": 1,
   "id": "f2918749",
   "metadata": {
    "_cell_guid": "b1076dfc-b9ad-4769-8c92-a6c4dae69d19",
    "_uuid": "8f2839f25d086af736a60e9eeb907d3b93b6e0e5",
    "execution": {
     "iopub.execute_input": "2025-03-27T19:24:56.328006Z",
     "iopub.status.busy": "2025-03-27T19:24:56.327721Z",
     "iopub.status.idle": "2025-03-27T19:25:03.115680Z",
     "shell.execute_reply": "2025-03-27T19:25:03.114601Z"
    },
    "papermill": {
     "duration": 6.792682,
     "end_time": "2025-03-27T19:25:03.117255",
     "exception": false,
     "start_time": "2025-03-27T19:24:56.324573",
     "status": "completed"
    },
    "tags": []
   },
   "outputs": [
    {
     "name": "stdout",
     "output_type": "stream",
     "text": [
      "Cloning into 'rfm-nmf'...\r\n",
      "remote: Enumerating objects: 207, done.\u001b[K\r\n",
      "remote: Counting objects: 100% (141/141), done.\u001b[K\r\n",
      "remote: Compressing objects: 100% (98/98), done.\u001b[K\r\n",
      "remote: Total 207 (delta 76), reused 100 (delta 43), pack-reused 66 (from 1)\u001b[K\r\n",
      "Receiving objects: 100% (207/207), 22.46 MiB | 33.33 MiB/s, done.\r\n",
      "Resolving deltas: 100% (89/89), done.\r\n",
      "Collecting hickle\r\n",
      "  Downloading hickle-5.0.3-py3-none-any.whl.metadata (22 kB)\r\n",
      "Requirement already satisfied: h5py>=2.10.0 in /usr/local/lib/python3.10/dist-packages (from hickle) (3.12.1)\r\n",
      "Requirement already satisfied: numpy!=1.20,>=1.8 in /usr/local/lib/python3.10/dist-packages (from hickle) (1.26.4)\r\n",
      "Requirement already satisfied: mkl_fft in /usr/local/lib/python3.10/dist-packages (from numpy!=1.20,>=1.8->hickle) (1.3.8)\r\n",
      "Requirement already satisfied: mkl_random in /usr/local/lib/python3.10/dist-packages (from numpy!=1.20,>=1.8->hickle) (1.2.4)\r\n",
      "Requirement already satisfied: mkl_umath in /usr/local/lib/python3.10/dist-packages (from numpy!=1.20,>=1.8->hickle) (0.1.1)\r\n",
      "Requirement already satisfied: mkl in /usr/local/lib/python3.10/dist-packages (from numpy!=1.20,>=1.8->hickle) (2025.0.1)\r\n",
      "Requirement already satisfied: tbb4py in /usr/local/lib/python3.10/dist-packages (from numpy!=1.20,>=1.8->hickle) (2022.0.0)\r\n",
      "Requirement already satisfied: mkl-service in /usr/local/lib/python3.10/dist-packages (from numpy!=1.20,>=1.8->hickle) (2.4.1)\r\n",
      "Requirement already satisfied: intel-openmp>=2024 in /usr/local/lib/python3.10/dist-packages (from mkl->numpy!=1.20,>=1.8->hickle) (2024.2.0)\r\n",
      "Requirement already satisfied: tbb==2022.* in /usr/local/lib/python3.10/dist-packages (from mkl->numpy!=1.20,>=1.8->hickle) (2022.0.0)\r\n",
      "Requirement already satisfied: tcmlib==1.* in /usr/local/lib/python3.10/dist-packages (from tbb==2022.*->mkl->numpy!=1.20,>=1.8->hickle) (1.2.0)\r\n",
      "Requirement already satisfied: intel-cmplr-lib-rt in /usr/local/lib/python3.10/dist-packages (from mkl_umath->numpy!=1.20,>=1.8->hickle) (2024.2.0)\r\n",
      "Requirement already satisfied: intel-cmplr-lib-ur==2024.2.0 in /usr/local/lib/python3.10/dist-packages (from intel-openmp>=2024->mkl->numpy!=1.20,>=1.8->hickle) (2024.2.0)\r\n",
      "Downloading hickle-5.0.3-py3-none-any.whl (107 kB)\r\n",
      "\u001b[2K   \u001b[90m━━━━━━━━━━━━━━━━━━━━━━━━━━━━━━━━━━━━━━━━\u001b[0m \u001b[32m108.0/108.0 kB\u001b[0m \u001b[31m4.3 MB/s\u001b[0m eta \u001b[36m0:00:00\u001b[0m\r\n",
      "\u001b[?25hInstalling collected packages: hickle\r\n",
      "Successfully installed hickle-5.0.3\r\n"
     ]
    }
   ],
   "source": [
    "!git clone https://github.com/ToRong31/rfm-nmf.git\n",
    "import sys\n",
    "sys.path.append('/kaggle/working/rfm-HTR/rfm/rfm')\n",
    "!pip install hickle\n",
    "!cd /kaggle/working/rfm-nmf/rfm"
   ]
  },
  {
   "cell_type": "code",
   "execution_count": 2,
   "id": "7420a2d3",
   "metadata": {
    "execution": {
     "iopub.execute_input": "2025-03-27T19:25:03.124908Z",
     "iopub.status.busy": "2025-03-27T19:25:03.124659Z",
     "iopub.status.idle": "2025-03-27T19:25:03.130488Z",
     "shell.execute_reply": "2025-03-27T19:25:03.129758Z"
    },
    "papermill": {
     "duration": 0.010714,
     "end_time": "2025-03-27T19:25:03.131656",
     "exception": false,
     "start_time": "2025-03-27T19:25:03.120942",
     "status": "completed"
    },
    "tags": []
   },
   "outputs": [
    {
     "name": "stdout",
     "output_type": "stream",
     "text": [
      "/kaggle/working/rfm-nmf/rfm\n"
     ]
    }
   ],
   "source": [
    "cd /kaggle/working/rfm-nmf/rfm"
   ]
  },
  {
   "cell_type": "code",
   "execution_count": 3,
   "id": "8aecb734",
   "metadata": {
    "execution": {
     "iopub.execute_input": "2025-03-27T19:25:03.137811Z",
     "iopub.status.busy": "2025-03-27T19:25:03.137614Z",
     "iopub.status.idle": "2025-03-27T19:25:03.255366Z",
     "shell.execute_reply": "2025-03-27T19:25:03.254632Z"
    },
    "papermill": {
     "duration": 0.122143,
     "end_time": "2025-03-27T19:25:03.256591",
     "exception": false,
     "start_time": "2025-03-27T19:25:03.134448",
     "status": "completed"
    },
    "tags": []
   },
   "outputs": [
    {
     "name": "stdout",
     "output_type": "stream",
     "text": [
      "celeba_experiments  LICENSE\t\t   setup.py\r\n",
      "data\t\t    low_rank.ipynb\t   svhn.ipynb\r\n",
      "example_notebooks   ntk.py\t\t   svhn.py\r\n",
      "Gauss.py\t    output.txt\t\t   tabular_benchmark_experiments\r\n",
      "generalized.py\t    phenomena_experiments  testhehe.ipynb\r\n",
      "laplace_cifar10.py  README.md\t\t   test.ipynb\r\n",
      "laplace.py\t    rfm\t\t\t   wandb\r\n"
     ]
    }
   ],
   "source": [
    "!ls"
   ]
  },
  {
   "cell_type": "code",
   "execution_count": 4,
   "id": "70469bc8",
   "metadata": {
    "execution": {
     "iopub.execute_input": "2025-03-27T19:25:03.262992Z",
     "iopub.status.busy": "2025-03-27T19:25:03.262786Z",
     "iopub.status.idle": "2025-03-27T19:25:03.265865Z",
     "shell.execute_reply": "2025-03-27T19:25:03.265230Z"
    },
    "papermill": {
     "duration": 0.007548,
     "end_time": "2025-03-27T19:25:03.267035",
     "exception": false,
     "start_time": "2025-03-27T19:25:03.259487",
     "status": "completed"
    },
    "tags": []
   },
   "outputs": [],
   "source": [
    "# !cd /kaggle/working/rfm-nmf && git pull"
   ]
  },
  {
   "cell_type": "code",
   "execution_count": 5,
   "id": "4648a312",
   "metadata": {
    "execution": {
     "iopub.execute_input": "2025-03-27T19:25:03.273309Z",
     "iopub.status.busy": "2025-03-27T19:25:03.273118Z",
     "iopub.status.idle": "2025-03-27T19:25:03.275908Z",
     "shell.execute_reply": "2025-03-27T19:25:03.275281Z"
    },
    "papermill": {
     "duration": 0.007152,
     "end_time": "2025-03-27T19:25:03.277012",
     "exception": false,
     "start_time": "2025-03-27T19:25:03.269860",
     "status": "completed"
    },
    "tags": []
   },
   "outputs": [],
   "source": [
    "# !python laplace.py"
   ]
  },
  {
   "cell_type": "code",
   "execution_count": 6,
   "id": "35bbbb32",
   "metadata": {
    "execution": {
     "iopub.execute_input": "2025-03-27T19:25:03.283291Z",
     "iopub.status.busy": "2025-03-27T19:25:03.283098Z",
     "iopub.status.idle": "2025-03-27T19:25:03.285829Z",
     "shell.execute_reply": "2025-03-27T19:25:03.285205Z"
    },
    "papermill": {
     "duration": 0.007143,
     "end_time": "2025-03-27T19:25:03.286978",
     "exception": false,
     "start_time": "2025-03-27T19:25:03.279835",
     "status": "completed"
    },
    "tags": []
   },
   "outputs": [],
   "source": [
    "# !python Gauss.py"
   ]
  },
  {
   "cell_type": "code",
   "execution_count": 7,
   "id": "8b5f0fed",
   "metadata": {
    "execution": {
     "iopub.execute_input": "2025-03-27T19:25:03.293289Z",
     "iopub.status.busy": "2025-03-27T19:25:03.293002Z",
     "iopub.status.idle": "2025-03-27T19:25:03.296010Z",
     "shell.execute_reply": "2025-03-27T19:25:03.295400Z"
    },
    "papermill": {
     "duration": 0.007317,
     "end_time": "2025-03-27T19:25:03.297160",
     "exception": false,
     "start_time": "2025-03-27T19:25:03.289843",
     "status": "completed"
    },
    "tags": []
   },
   "outputs": [],
   "source": [
    "# !python generalized.py"
   ]
  },
  {
   "cell_type": "code",
   "execution_count": 8,
   "id": "6eeb23fe",
   "metadata": {
    "execution": {
     "iopub.execute_input": "2025-03-27T19:25:03.303358Z",
     "iopub.status.busy": "2025-03-27T19:25:03.303169Z",
     "iopub.status.idle": "2025-03-27T19:38:02.982830Z",
     "shell.execute_reply": "2025-03-27T19:38:02.981761Z"
    },
    "papermill": {
     "duration": 779.684566,
     "end_time": "2025-03-27T19:38:02.984537",
     "exception": false,
     "start_time": "2025-03-27T19:25:03.299971",
     "status": "completed"
    },
    "tags": []
   },
   "outputs": [
    {
     "name": "stdout",
     "output_type": "stream",
     "text": [
      "Downloading https://www.cs.toronto.edu/~kriz/cifar-10-python.tar.gz to ./data/cifar-10-python.tar.gz\r\n",
      "100%|████████████████████████████████████████| 170M/170M [00:03<00:00, 49.1MB/s]\r\n",
      "Extracting ./data/cifar-10-python.tar.gz to ./data\r\n",
      "Files already downloaded and verified\r\n",
      "\u001b[34m\u001b[1mwandb\u001b[0m: Using wandb-core as the SDK backend.  Please refer to https://wandb.me/wandb-core for more information.\r\n",
      "\u001b[34m\u001b[1mwandb\u001b[0m: Currently logged in as: \u001b[33mtorong31\u001b[0m (\u001b[33mtorong31-uit\u001b[0m). Use \u001b[1m`wandb login --relogin`\u001b[0m to force relogin\r\n",
      "\u001b[34m\u001b[1mwandb\u001b[0m: \u001b[33mWARNING\u001b[0m If you're specifying your api key in code, ensure this code is not shared publicly.\r\n",
      "\u001b[34m\u001b[1mwandb\u001b[0m: \u001b[33mWARNING\u001b[0m Consider setting the WANDB_API_KEY environment variable, or running `wandb login` from the command line.\r\n",
      "\u001b[34m\u001b[1mwandb\u001b[0m: Appending key for api.wandb.ai to your netrc file: /root/.netrc\r\n",
      "\u001b[34m\u001b[1mwandb\u001b[0m: Tracking run with wandb version 0.19.1\r\n",
      "\u001b[34m\u001b[1mwandb\u001b[0m: Run data is saved locally in \u001b[35m\u001b[1m/kaggle/working/rfm-nmf/rfm/wandb/run-20250327_192524-42ud7gpz\u001b[0m\r\n",
      "\u001b[34m\u001b[1mwandb\u001b[0m: Run \u001b[1m`wandb offline`\u001b[0m to turn off syncing.\r\n",
      "\u001b[34m\u001b[1mwandb\u001b[0m: Syncing run \u001b[33mCIFAR10-LaplaceRFM\u001b[0m\r\n",
      "\u001b[34m\u001b[1mwandb\u001b[0m: ⭐️ View project at \u001b[34m\u001b[4mhttps://wandb.ai/torong31-uit/rfm-nmf\u001b[0m\r\n",
      "\u001b[34m\u001b[1mwandb\u001b[0m: 🚀 View run at \u001b[34m\u001b[4mhttps://wandb.ai/torong31-uit/rfm-nmf/runs/42ud7gpz\u001b[0m\r\n",
      "2025-03-27 19:25:25,314 - Training LaplaceRFM\r\n",
      "Loaders provided\r\n",
      "Time taken to prefit nmf with 70000 points: 0.9622902870178223 seconds\r\n",
      "NMF with init='nndsvd' completed.\r\n",
      "Final reconstruction error (Frobenius norm): 95.1689\r\n",
      "Using NMF-based projection with rank=10, eta=0.0001, bs=10000\r\n",
      "100%|█████████████████████████████████████████████| 1/1 [00:00<00:00,  2.36it/s]\r\n",
      "(0 epochs, 0.4s)\ttrain mse: 0.0000 \tval mse: 0.0992\ttrain acc: 1.0000 \tval acc: 0.2877\r\n",
      "New best multiclass-acc: 0.2877\r\n",
      "Round 0, Test Acc: 28.77%\r\n",
      "Round 0, Test MSE: 0.0992\r\n",
      "2025-03-27 19:32:46,716 - NumExpr defaulting to 4 threads.\r\n",
      "Sampling AGOP on maximum of 10048 total points\r\n",
      "100%|█████████████████████████████████████████| 157/157 [00:17<00:00,  9.03it/s]\r\n",
      "Time taken to prefit nmf with 70000 points: 0.30429744720458984 seconds\r\n",
      "Traceback (most recent call last):\r\n",
      "  File \"/kaggle/working/rfm-nmf/rfm/laplace_cifar10.py\", line 72, in <module>\r\n",
      "    laplace_model.fit(\r\n",
      "  File \"/kaggle/working/rfm-nmf/rfm/rfm/recursive_feature_machine.py\", line 238, in fit\r\n",
      "    self.fit_predictor(X_train, y_train, X_val=X_test, y_val=y_test,\r\n",
      "  File \"/kaggle/working/rfm-nmf/rfm/rfm/recursive_feature_machine.py\", line 137, in fit_predictor\r\n",
      "    self.weights = self.fit_predictor_nmf(centers, targets, bs=bs, lr_scale=lr_scale,\r\n",
      "  File \"/kaggle/working/rfm-nmf/rfm/rfm/recursive_feature_machine.py\", line 174, in fit_predictor_nmf\r\n",
      "    _ = ep_model.fit(centers, targets, verbose=verbose, mem_gb=self.mem_gb, bs=bs, lr_scale=lr_scale, **kwargs)\r\n",
      "  File \"/kaggle/working/rfm-nmf/rfm/rfm/nmfhtr.py\", line 190, in fit\r\n",
      "    W_nmf, H_nmf, nmf_norms = asm_nmf_fn(samples, self.kernel_fn, rank=n_labels, verbose=verbose)\r\n",
      "  File \"/kaggle/working/rfm-nmf/rfm/rfm/nmfhtr.py\", line 20, in asm_nmf_fn\r\n",
      "    W, H, norms = multiplicative_update(kernel_matrix, k=rank, max_iter=max_iter, init_mode=init_mode)\r\n",
      "  File \"/kaggle/working/rfm-nmf/rfm/rfm/nmf.py\", line 84, in multiplicative_update\r\n",
      "    W, H = nndsvd_initialization(A, k)\r\n",
      "  File \"/kaggle/working/rfm-nmf/rfm/rfm/nmf.py\", line 33, in nndsvd_initialization\r\n",
      "    u, s, v = np.linalg.svd(A, full_matrices=False)\r\n",
      "  File \"/usr/local/lib/python3.10/dist-packages/numpy/linalg/linalg.py\", line 1681, in svd\r\n",
      "    u, s, vh = gufunc(a, signature=signature, extobj=extobj)\r\n",
      "  File \"/usr/local/lib/python3.10/dist-packages/numpy/linalg/linalg.py\", line 121, in _raise_linalgerror_svd_nonconvergence\r\n",
      "    raise LinAlgError(\"SVD did not converge\")\r\n",
      "numpy.linalg.LinAlgError: SVD did not converge\r\n",
      "\u001b[1;34mwandb\u001b[0m: 🚀 View run \u001b[33mCIFAR10-LaplaceRFM\u001b[0m at: \u001b[34mhttps://wandb.ai/torong31-uit/rfm-nmf/runs/42ud7gpz\u001b[0m\r\n",
      "\u001b[1;34mwandb\u001b[0m: Find logs at: \u001b[1;35mwandb/run-20250327_192524-42ud7gpz/logs\u001b[0m\r\n"
     ]
    }
   ],
   "source": [
    "!python laplace_cifar10.py"
   ]
  }
 ],
 "metadata": {
  "kaggle": {
   "accelerator": "gpu",
   "dataSources": [],
   "dockerImageVersionId": 30918,
   "isGpuEnabled": true,
   "isInternetEnabled": true,
   "language": "python",
   "sourceType": "notebook"
  },
  "kernelspec": {
   "display_name": "Python 3",
   "language": "python",
   "name": "python3"
  },
  "language_info": {
   "codemirror_mode": {
    "name": "ipython",
    "version": 3
   },
   "file_extension": ".py",
   "mimetype": "text/x-python",
   "name": "python",
   "nbconvert_exporter": "python",
   "pygments_lexer": "ipython3",
   "version": "3.10.12"
  },
  "papermill": {
   "default_parameters": {},
   "duration": 789.565612,
   "end_time": "2025-03-27T19:38:03.314773",
   "environment_variables": {},
   "exception": null,
   "input_path": "__notebook__.ipynb",
   "output_path": "__notebook__.ipynb",
   "parameters": {},
   "start_time": "2025-03-27T19:24:53.749161",
   "version": "2.6.0"
  }
 },
 "nbformat": 4,
 "nbformat_minor": 5
}
