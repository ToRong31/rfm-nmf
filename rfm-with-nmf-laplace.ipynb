{
 "cells": [
  {
   "cell_type": "code",
   "execution_count": 1,
   "id": "d3d8b161",
   "metadata": {
    "_cell_guid": "b1076dfc-b9ad-4769-8c92-a6c4dae69d19",
    "_uuid": "8f2839f25d086af736a60e9eeb907d3b93b6e0e5",
    "execution": {
     "iopub.execute_input": "2025-03-31T18:08:41.470824Z",
     "iopub.status.busy": "2025-03-31T18:08:41.470514Z",
     "iopub.status.idle": "2025-03-31T18:08:48.495989Z",
     "shell.execute_reply": "2025-03-31T18:08:48.494847Z"
    },
    "papermill": {
     "duration": 7.030303,
     "end_time": "2025-03-31T18:08:48.497560",
     "exception": false,
     "start_time": "2025-03-31T18:08:41.467257",
     "status": "completed"
    },
    "tags": []
   },
   "outputs": [
    {
     "name": "stdout",
     "output_type": "stream",
     "text": [
      "Cloning into 'rfm-nmf'...\r\n",
      "remote: Enumerating objects: 268, done.\u001b[K\r\n",
      "remote: Counting objects: 100% (202/202), done.\u001b[K\r\n",
      "remote: Compressing objects: 100% (150/150), done.\u001b[K\r\n",
      "remote: Total 268 (delta 118), reused 120 (delta 52), pack-reused 66 (from 1)\u001b[K\r\n",
      "Receiving objects: 100% (268/268), 22.48 MiB | 31.53 MiB/s, done.\r\n",
      "Resolving deltas: 100% (131/131), done.\r\n",
      "Collecting hickle\r\n",
      "  Downloading hickle-5.0.3-py3-none-any.whl.metadata (22 kB)\r\n",
      "Requirement already satisfied: h5py>=2.10.0 in /usr/local/lib/python3.10/dist-packages (from hickle) (3.12.1)\r\n",
      "Requirement already satisfied: numpy!=1.20,>=1.8 in /usr/local/lib/python3.10/dist-packages (from hickle) (1.26.4)\r\n",
      "Requirement already satisfied: mkl_fft in /usr/local/lib/python3.10/dist-packages (from numpy!=1.20,>=1.8->hickle) (1.3.8)\r\n",
      "Requirement already satisfied: mkl_random in /usr/local/lib/python3.10/dist-packages (from numpy!=1.20,>=1.8->hickle) (1.2.4)\r\n",
      "Requirement already satisfied: mkl_umath in /usr/local/lib/python3.10/dist-packages (from numpy!=1.20,>=1.8->hickle) (0.1.1)\r\n",
      "Requirement already satisfied: mkl in /usr/local/lib/python3.10/dist-packages (from numpy!=1.20,>=1.8->hickle) (2025.0.1)\r\n",
      "Requirement already satisfied: tbb4py in /usr/local/lib/python3.10/dist-packages (from numpy!=1.20,>=1.8->hickle) (2022.0.0)\r\n",
      "Requirement already satisfied: mkl-service in /usr/local/lib/python3.10/dist-packages (from numpy!=1.20,>=1.8->hickle) (2.4.1)\r\n",
      "Requirement already satisfied: intel-openmp>=2024 in /usr/local/lib/python3.10/dist-packages (from mkl->numpy!=1.20,>=1.8->hickle) (2024.2.0)\r\n",
      "Requirement already satisfied: tbb==2022.* in /usr/local/lib/python3.10/dist-packages (from mkl->numpy!=1.20,>=1.8->hickle) (2022.0.0)\r\n",
      "Requirement already satisfied: tcmlib==1.* in /usr/local/lib/python3.10/dist-packages (from tbb==2022.*->mkl->numpy!=1.20,>=1.8->hickle) (1.2.0)\r\n",
      "Requirement already satisfied: intel-cmplr-lib-rt in /usr/local/lib/python3.10/dist-packages (from mkl_umath->numpy!=1.20,>=1.8->hickle) (2024.2.0)\r\n",
      "Requirement already satisfied: intel-cmplr-lib-ur==2024.2.0 in /usr/local/lib/python3.10/dist-packages (from intel-openmp>=2024->mkl->numpy!=1.20,>=1.8->hickle) (2024.2.0)\r\n",
      "Downloading hickle-5.0.3-py3-none-any.whl (107 kB)\r\n",
      "\u001b[2K   \u001b[90m━━━━━━━━━━━━━━━━━━━━━━━━━━━━━━━━━━━━━━━━\u001b[0m \u001b[32m108.0/108.0 kB\u001b[0m \u001b[31m4.3 MB/s\u001b[0m eta \u001b[36m0:00:00\u001b[0m\r\n",
      "\u001b[?25hInstalling collected packages: hickle\r\n",
      "Successfully installed hickle-5.0.3\r\n"
     ]
    }
   ],
   "source": [
    "!git clone https://github.com/ToRong31/rfm-nmf.git\n",
    "import sys\n",
    "sys.path.append('/kaggle/working/rfm-HTR/rfm/rfm')\n",
    "!pip install hickle\n",
    "!cd /kaggle/working/rfm-nmf/rfm"
   ]
  },
  {
   "cell_type": "code",
   "execution_count": 2,
   "id": "ebaa34ed",
   "metadata": {
    "execution": {
     "iopub.execute_input": "2025-03-31T18:08:48.505302Z",
     "iopub.status.busy": "2025-03-31T18:08:48.505055Z",
     "iopub.status.idle": "2025-03-31T18:08:48.511072Z",
     "shell.execute_reply": "2025-03-31T18:08:48.510341Z"
    },
    "papermill": {
     "duration": 0.011168,
     "end_time": "2025-03-31T18:08:48.512354",
     "exception": false,
     "start_time": "2025-03-31T18:08:48.501186",
     "status": "completed"
    },
    "tags": []
   },
   "outputs": [
    {
     "name": "stdout",
     "output_type": "stream",
     "text": [
      "/kaggle/working/rfm-nmf/rfm\n"
     ]
    }
   ],
   "source": [
    "cd /kaggle/working/rfm-nmf/rfm"
   ]
  },
  {
   "cell_type": "code",
   "execution_count": 3,
   "id": "00b198ab",
   "metadata": {
    "execution": {
     "iopub.execute_input": "2025-03-31T18:08:48.518738Z",
     "iopub.status.busy": "2025-03-31T18:08:48.518477Z",
     "iopub.status.idle": "2025-03-31T18:08:48.636853Z",
     "shell.execute_reply": "2025-03-31T18:08:48.635834Z"
    },
    "papermill": {
     "duration": 0.123027,
     "end_time": "2025-03-31T18:08:48.638283",
     "exception": false,
     "start_time": "2025-03-31T18:08:48.515256",
     "status": "completed"
    },
    "tags": []
   },
   "outputs": [
    {
     "name": "stdout",
     "output_type": "stream",
     "text": [
      "celeba_experiments  LICENSE\t\t   setup.py\r\n",
      "data\t\t    low_rank.ipynb\t   svhn.ipynb\r\n",
      "example_notebooks   ntk.py\t\t   svhn.py\r\n",
      "Gauss.py\t    output.txt\t\t   tabular_benchmark_experiments\r\n",
      "generalized.py\t    phenomena_experiments  testhehe.ipynb\r\n",
      "laplace_cifar10.py  README.md\t\t   test.ipynb\r\n",
      "laplace.py\t    rfm\t\t\t   wandb\r\n"
     ]
    }
   ],
   "source": [
    "!ls"
   ]
  },
  {
   "cell_type": "code",
   "execution_count": 4,
   "id": "3cab4cb3",
   "metadata": {
    "execution": {
     "iopub.execute_input": "2025-03-31T18:08:48.645234Z",
     "iopub.status.busy": "2025-03-31T18:08:48.645011Z",
     "iopub.status.idle": "2025-03-31T18:08:48.648151Z",
     "shell.execute_reply": "2025-03-31T18:08:48.647487Z"
    },
    "papermill": {
     "duration": 0.007952,
     "end_time": "2025-03-31T18:08:48.649325",
     "exception": false,
     "start_time": "2025-03-31T18:08:48.641373",
     "status": "completed"
    },
    "tags": []
   },
   "outputs": [],
   "source": [
    "# !cd /kaggle/working/rfm-nmf && git pull"
   ]
  },
  {
   "cell_type": "code",
   "execution_count": 5,
   "id": "609d20fe",
   "metadata": {
    "execution": {
     "iopub.execute_input": "2025-03-31T18:08:48.656019Z",
     "iopub.status.busy": "2025-03-31T18:08:48.655814Z",
     "iopub.status.idle": "2025-03-31T18:11:23.205183Z",
     "shell.execute_reply": "2025-03-31T18:11:23.204119Z"
    },
    "papermill": {
     "duration": 154.554394,
     "end_time": "2025-03-31T18:11:23.206741",
     "exception": false,
     "start_time": "2025-03-31T18:08:48.652347",
     "status": "completed"
    },
    "tags": []
   },
   "outputs": [
    {
     "name": "stdout",
     "output_type": "stream",
     "text": [
      "\u001b[34m\u001b[1mwandb\u001b[0m: Using wandb-core as the SDK backend.  Please refer to https://wandb.me/wandb-core for more information.\r\n",
      "\u001b[34m\u001b[1mwandb\u001b[0m: Currently logged in as: \u001b[33mtorong31\u001b[0m (\u001b[33mtorong31-uit\u001b[0m). Use \u001b[1m`wandb login --relogin`\u001b[0m to force relogin\r\n",
      "\u001b[34m\u001b[1mwandb\u001b[0m: \u001b[33mWARNING\u001b[0m If you're specifying your api key in code, ensure this code is not shared publicly.\r\n",
      "\u001b[34m\u001b[1mwandb\u001b[0m: \u001b[33mWARNING\u001b[0m Consider setting the WANDB_API_KEY environment variable, or running `wandb login` from the command line.\r\n",
      "\u001b[34m\u001b[1mwandb\u001b[0m: Appending key for api.wandb.ai to your netrc file: /root/.netrc\r\n",
      "\u001b[34m\u001b[1mwandb\u001b[0m: Tracking run with wandb version 0.19.1\r\n",
      "\u001b[34m\u001b[1mwandb\u001b[0m: Run data is saved locally in \u001b[35m\u001b[1m/kaggle/working/rfm-nmf/rfm/wandb/run-20250331_180902-xq1y55ub\u001b[0m\r\n",
      "\u001b[34m\u001b[1mwandb\u001b[0m: Run \u001b[1m`wandb offline`\u001b[0m to turn off syncing.\r\n",
      "\u001b[34m\u001b[1mwandb\u001b[0m: Syncing run \u001b[33mTry3\u001b[0m\r\n",
      "\u001b[34m\u001b[1mwandb\u001b[0m: ⭐️ View project at \u001b[34m\u001b[4mhttps://wandb.ai/torong31-uit/rfm-nmf\u001b[0m\r\n",
      "\u001b[34m\u001b[1mwandb\u001b[0m: 🚀 View run at \u001b[34m\u001b[4mhttps://wandb.ai/torong31-uit/rfm-nmf/runs/xq1y55ub\u001b[0m\r\n",
      "2025-03-31 18:09:03,575 - Training LaplaceRFM\r\n",
      "Loaders provided\r\n",
      "Time taken to prefit nmf with 70000 points: 0.9098436832427979 seconds\r\n",
      "W_list[1].shape: (10, 10)\r\n",
      "A_i.T.shape: (10000, 10000)\r\n",
      "X.shape: (10000, 10000)\r\n",
      "(A_i.T @ X).shape: (10000, 10000)\r\n",
      "Traceback (most recent call last):\r\n",
      "  File \"/kaggle/working/rfm-nmf/rfm/laplace.py\", line 79, in <module>\r\n",
      "    laplace_model.fit(\r\n",
      "  File \"/kaggle/working/rfm-nmf/rfm/rfm/recursive_feature_machine.py\", line 238, in fit\r\n",
      "    self.fit_predictor(X_train, y_train, X_val=X_test, y_val=y_test,\r\n",
      "  File \"/kaggle/working/rfm-nmf/rfm/rfm/recursive_feature_machine.py\", line 137, in fit_predictor\r\n",
      "    self.weights = self.fit_predictor_nmf(centers, targets, bs=bs, lr_scale=lr_scale,\r\n",
      "  File \"/kaggle/working/rfm-nmf/rfm/rfm/recursive_feature_machine.py\", line 174, in fit_predictor_nmf\r\n",
      "    _ = ep_model.fit(centers, targets, verbose=verbose, mem_gb=self.mem_gb, bs=bs, lr_scale=lr_scale, **kwargs)\r\n",
      "  File \"/kaggle/working/rfm-nmf/rfm/rfm/nmfhtr.py\", line 197, in fit\r\n",
      "    W_nmf, H_nmf, nmf_norms = asm_nmf_fn(samples, self.kernel_fn, rank=n_labels, verbose=verbose)\r\n",
      "  File \"/kaggle/working/rfm-nmf/rfm/rfm/nmfhtr.py\", line 24, in asm_nmf_fn\r\n",
      "    W_list, H_list, S_list, norms_list = deep_nsnmf(\r\n",
      "  File \"/kaggle/working/rfm-nmf/rfm/rfm/nmf.py\", line 133, in deep_nsnmf\r\n",
      "    print(f\"(A_i.T @ A_i @ W_list[i]).shape: {(A_i.T @ A_i @ W_list[i]).shape}\")\r\n",
      "ValueError: matmul: Input operand 1 has a mismatch in its core dimension 0, with gufunc signature (n?,k),(k,m?)->(n?,m?) (size 10 is different from 10000)\r\n",
      "\u001b[1;34mwandb\u001b[0m: 🚀 View run \u001b[33mTry3\u001b[0m at: \u001b[34mhttps://wandb.ai/torong31-uit/rfm-nmf/runs/xq1y55ub\u001b[0m\r\n",
      "\u001b[1;34mwandb\u001b[0m: Find logs at: \u001b[1;35mwandb/run-20250331_180902-xq1y55ub/logs\u001b[0m\r\n"
     ]
    }
   ],
   "source": [
    "!python laplace.py"
   ]
  },
  {
   "cell_type": "code",
   "execution_count": 6,
   "id": "c78fed98",
   "metadata": {
    "execution": {
     "iopub.execute_input": "2025-03-31T18:11:23.215028Z",
     "iopub.status.busy": "2025-03-31T18:11:23.214784Z",
     "iopub.status.idle": "2025-03-31T18:11:23.217936Z",
     "shell.execute_reply": "2025-03-31T18:11:23.217299Z"
    },
    "papermill": {
     "duration": 0.008602,
     "end_time": "2025-03-31T18:11:23.219208",
     "exception": false,
     "start_time": "2025-03-31T18:11:23.210606",
     "status": "completed"
    },
    "tags": []
   },
   "outputs": [],
   "source": [
    "# !python Gauss.py"
   ]
  },
  {
   "cell_type": "code",
   "execution_count": 7,
   "id": "4b6d480c",
   "metadata": {
    "execution": {
     "iopub.execute_input": "2025-03-31T18:11:23.226861Z",
     "iopub.status.busy": "2025-03-31T18:11:23.226614Z",
     "iopub.status.idle": "2025-03-31T18:11:23.229438Z",
     "shell.execute_reply": "2025-03-31T18:11:23.228822Z"
    },
    "papermill": {
     "duration": 0.007823,
     "end_time": "2025-03-31T18:11:23.230556",
     "exception": false,
     "start_time": "2025-03-31T18:11:23.222733",
     "status": "completed"
    },
    "tags": []
   },
   "outputs": [],
   "source": [
    "# !python generalized.py"
   ]
  },
  {
   "cell_type": "code",
   "execution_count": 8,
   "id": "2d19898c",
   "metadata": {
    "execution": {
     "iopub.execute_input": "2025-03-31T18:11:23.238027Z",
     "iopub.status.busy": "2025-03-31T18:11:23.237819Z",
     "iopub.status.idle": "2025-03-31T18:11:23.240404Z",
     "shell.execute_reply": "2025-03-31T18:11:23.239784Z"
    },
    "papermill": {
     "duration": 0.007719,
     "end_time": "2025-03-31T18:11:23.241700",
     "exception": false,
     "start_time": "2025-03-31T18:11:23.233981",
     "status": "completed"
    },
    "tags": []
   },
   "outputs": [],
   "source": [
    "# !python laplace_cifar10.py"
   ]
  }
 ],
 "metadata": {
  "kaggle": {
   "accelerator": "gpu",
   "dataSources": [],
   "dockerImageVersionId": 30918,
   "isGpuEnabled": true,
   "isInternetEnabled": true,
   "language": "python",
   "sourceType": "notebook"
  },
  "kernelspec": {
   "display_name": "Python 3",
   "language": "python",
   "name": "python3"
  },
  "language_info": {
   "codemirror_mode": {
    "name": "ipython",
    "version": 3
   },
   "file_extension": ".py",
   "mimetype": "text/x-python",
   "name": "python",
   "nbconvert_exporter": "python",
   "pygments_lexer": "ipython3",
   "version": "3.10.12"
  },
  "papermill": {
   "default_parameters": {},
   "duration": 164.721331,
   "end_time": "2025-03-31T18:11:23.562026",
   "environment_variables": {},
   "exception": null,
   "input_path": "__notebook__.ipynb",
   "output_path": "__notebook__.ipynb",
   "parameters": {},
   "start_time": "2025-03-31T18:08:38.840695",
   "version": "2.6.0"
  }
 },
 "nbformat": 4,
 "nbformat_minor": 5
}
