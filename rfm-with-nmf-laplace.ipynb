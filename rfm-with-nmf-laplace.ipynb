{
 "cells": [
  {
   "cell_type": "code",
   "execution_count": 1,
   "id": "521d52d6",
   "metadata": {
    "_cell_guid": "b1076dfc-b9ad-4769-8c92-a6c4dae69d19",
    "_uuid": "8f2839f25d086af736a60e9eeb907d3b93b6e0e5",
    "execution": {
     "iopub.execute_input": "2025-03-31T15:27:59.474016Z",
     "iopub.status.busy": "2025-03-31T15:27:59.473721Z",
     "iopub.status.idle": "2025-03-31T15:28:07.552185Z",
     "shell.execute_reply": "2025-03-31T15:28:07.550992Z"
    },
    "papermill": {
     "duration": 8.083682,
     "end_time": "2025-03-31T15:28:07.554015",
     "exception": false,
     "start_time": "2025-03-31T15:27:59.470333",
     "status": "completed"
    },
    "tags": []
   },
   "outputs": [
    {
     "name": "stdout",
     "output_type": "stream",
     "text": [
      "Cloning into 'rfm-nmf'...\r\n",
      "remote: Enumerating objects: 229, done.\u001b[K\r\n",
      "remote: Counting objects: 100% (163/163), done.\u001b[K\r\n",
      "remote: Compressing objects: 100% (116/116), done.\u001b[K\r\n",
      "remote: Total 229 (delta 92), reused 107 (delta 47), pack-reused 66 (from 1)\u001b[K\r\n",
      "Receiving objects: 100% (229/229), 22.47 MiB | 19.00 MiB/s, done.\r\n",
      "Resolving deltas: 100% (105/105), done.\r\n",
      "Collecting hickle\r\n",
      "  Downloading hickle-5.0.3-py3-none-any.whl.metadata (22 kB)\r\n",
      "Requirement already satisfied: h5py>=2.10.0 in /usr/local/lib/python3.10/dist-packages (from hickle) (3.12.1)\r\n",
      "Requirement already satisfied: numpy!=1.20,>=1.8 in /usr/local/lib/python3.10/dist-packages (from hickle) (1.26.4)\r\n",
      "Requirement already satisfied: mkl_fft in /usr/local/lib/python3.10/dist-packages (from numpy!=1.20,>=1.8->hickle) (1.3.8)\r\n",
      "Requirement already satisfied: mkl_random in /usr/local/lib/python3.10/dist-packages (from numpy!=1.20,>=1.8->hickle) (1.2.4)\r\n",
      "Requirement already satisfied: mkl_umath in /usr/local/lib/python3.10/dist-packages (from numpy!=1.20,>=1.8->hickle) (0.1.1)\r\n",
      "Requirement already satisfied: mkl in /usr/local/lib/python3.10/dist-packages (from numpy!=1.20,>=1.8->hickle) (2025.0.1)\r\n",
      "Requirement already satisfied: tbb4py in /usr/local/lib/python3.10/dist-packages (from numpy!=1.20,>=1.8->hickle) (2022.0.0)\r\n",
      "Requirement already satisfied: mkl-service in /usr/local/lib/python3.10/dist-packages (from numpy!=1.20,>=1.8->hickle) (2.4.1)\r\n",
      "Requirement already satisfied: intel-openmp>=2024 in /usr/local/lib/python3.10/dist-packages (from mkl->numpy!=1.20,>=1.8->hickle) (2024.2.0)\r\n",
      "Requirement already satisfied: tbb==2022.* in /usr/local/lib/python3.10/dist-packages (from mkl->numpy!=1.20,>=1.8->hickle) (2022.0.0)\r\n",
      "Requirement already satisfied: tcmlib==1.* in /usr/local/lib/python3.10/dist-packages (from tbb==2022.*->mkl->numpy!=1.20,>=1.8->hickle) (1.2.0)\r\n",
      "Requirement already satisfied: intel-cmplr-lib-rt in /usr/local/lib/python3.10/dist-packages (from mkl_umath->numpy!=1.20,>=1.8->hickle) (2024.2.0)\r\n",
      "Requirement already satisfied: intel-cmplr-lib-ur==2024.2.0 in /usr/local/lib/python3.10/dist-packages (from intel-openmp>=2024->mkl->numpy!=1.20,>=1.8->hickle) (2024.2.0)\r\n",
      "Downloading hickle-5.0.3-py3-none-any.whl (107 kB)\r\n",
      "\u001b[2K   \u001b[90m━━━━━━━━━━━━━━━━━━━━━━━━━━━━━━━━━━━━━━━━\u001b[0m \u001b[32m108.0/108.0 kB\u001b[0m \u001b[31m3.3 MB/s\u001b[0m eta \u001b[36m0:00:00\u001b[0m\r\n",
      "\u001b[?25hInstalling collected packages: hickle\r\n",
      "Successfully installed hickle-5.0.3\r\n"
     ]
    }
   ],
   "source": [
    "!git clone https://github.com/ToRong31/rfm-nmf.git\n",
    "import sys\n",
    "sys.path.append('/kaggle/working/rfm-HTR/rfm/rfm')\n",
    "!pip install hickle\n",
    "!cd /kaggle/working/rfm-nmf/rfm"
   ]
  },
  {
   "cell_type": "code",
   "execution_count": 2,
   "id": "545eebfe",
   "metadata": {
    "execution": {
     "iopub.execute_input": "2025-03-31T15:28:07.562318Z",
     "iopub.status.busy": "2025-03-31T15:28:07.562037Z",
     "iopub.status.idle": "2025-03-31T15:28:07.568179Z",
     "shell.execute_reply": "2025-03-31T15:28:07.567419Z"
    },
    "papermill": {
     "duration": 0.01156,
     "end_time": "2025-03-31T15:28:07.569517",
     "exception": false,
     "start_time": "2025-03-31T15:28:07.557957",
     "status": "completed"
    },
    "tags": []
   },
   "outputs": [
    {
     "name": "stdout",
     "output_type": "stream",
     "text": [
      "/kaggle/working/rfm-nmf/rfm\n"
     ]
    }
   ],
   "source": [
    "cd /kaggle/working/rfm-nmf/rfm"
   ]
  },
  {
   "cell_type": "code",
   "execution_count": 3,
   "id": "72b69f3b",
   "metadata": {
    "execution": {
     "iopub.execute_input": "2025-03-31T15:28:07.576102Z",
     "iopub.status.busy": "2025-03-31T15:28:07.575887Z",
     "iopub.status.idle": "2025-03-31T15:28:07.695581Z",
     "shell.execute_reply": "2025-03-31T15:28:07.694609Z"
    },
    "papermill": {
     "duration": 0.124968,
     "end_time": "2025-03-31T15:28:07.697430",
     "exception": false,
     "start_time": "2025-03-31T15:28:07.572462",
     "status": "completed"
    },
    "tags": []
   },
   "outputs": [
    {
     "name": "stdout",
     "output_type": "stream",
     "text": [
      "celeba_experiments  LICENSE\t\t   setup.py\r\n",
      "data\t\t    low_rank.ipynb\t   svhn.ipynb\r\n",
      "example_notebooks   ntk.py\t\t   svhn.py\r\n",
      "Gauss.py\t    output.txt\t\t   tabular_benchmark_experiments\r\n",
      "generalized.py\t    phenomena_experiments  testhehe.ipynb\r\n",
      "laplace_cifar10.py  README.md\t\t   test.ipynb\r\n",
      "laplace.py\t    rfm\t\t\t   wandb\r\n"
     ]
    }
   ],
   "source": [
    "!ls"
   ]
  },
  {
   "cell_type": "code",
   "execution_count": 4,
   "id": "42f751b2",
   "metadata": {
    "execution": {
     "iopub.execute_input": "2025-03-31T15:28:07.706106Z",
     "iopub.status.busy": "2025-03-31T15:28:07.705802Z",
     "iopub.status.idle": "2025-03-31T15:28:07.709361Z",
     "shell.execute_reply": "2025-03-31T15:28:07.708672Z"
    },
    "papermill": {
     "duration": 0.00949,
     "end_time": "2025-03-31T15:28:07.710796",
     "exception": false,
     "start_time": "2025-03-31T15:28:07.701306",
     "status": "completed"
    },
    "tags": []
   },
   "outputs": [],
   "source": [
    "# !cd /kaggle/working/rfm-nmf && git pull"
   ]
  },
  {
   "cell_type": "code",
   "execution_count": 5,
   "id": "f3aa1117",
   "metadata": {
    "execution": {
     "iopub.execute_input": "2025-03-31T15:28:07.718434Z",
     "iopub.status.busy": "2025-03-31T15:28:07.718215Z",
     "iopub.status.idle": "2025-03-31T15:28:07.720953Z",
     "shell.execute_reply": "2025-03-31T15:28:07.720338Z"
    },
    "papermill": {
     "duration": 0.007917,
     "end_time": "2025-03-31T15:28:07.722175",
     "exception": false,
     "start_time": "2025-03-31T15:28:07.714258",
     "status": "completed"
    },
    "tags": []
   },
   "outputs": [],
   "source": [
    "# !python laplace.py"
   ]
  },
  {
   "cell_type": "code",
   "execution_count": 6,
   "id": "eb26ffeb",
   "metadata": {
    "execution": {
     "iopub.execute_input": "2025-03-31T15:28:07.728686Z",
     "iopub.status.busy": "2025-03-31T15:28:07.728471Z",
     "iopub.status.idle": "2025-03-31T15:28:07.731360Z",
     "shell.execute_reply": "2025-03-31T15:28:07.730560Z"
    },
    "papermill": {
     "duration": 0.007467,
     "end_time": "2025-03-31T15:28:07.732583",
     "exception": false,
     "start_time": "2025-03-31T15:28:07.725116",
     "status": "completed"
    },
    "tags": []
   },
   "outputs": [],
   "source": [
    "# !python Gauss.py"
   ]
  },
  {
   "cell_type": "code",
   "execution_count": 7,
   "id": "70b3c84b",
   "metadata": {
    "execution": {
     "iopub.execute_input": "2025-03-31T15:28:07.739038Z",
     "iopub.status.busy": "2025-03-31T15:28:07.738840Z",
     "iopub.status.idle": "2025-03-31T15:28:07.741535Z",
     "shell.execute_reply": "2025-03-31T15:28:07.740936Z"
    },
    "papermill": {
     "duration": 0.007055,
     "end_time": "2025-03-31T15:28:07.742603",
     "exception": false,
     "start_time": "2025-03-31T15:28:07.735548",
     "status": "completed"
    },
    "tags": []
   },
   "outputs": [],
   "source": [
    "# !python generalized.py"
   ]
  },
  {
   "cell_type": "code",
   "execution_count": 8,
   "id": "fd1c2551",
   "metadata": {
    "execution": {
     "iopub.execute_input": "2025-03-31T15:28:07.748999Z",
     "iopub.status.busy": "2025-03-31T15:28:07.748809Z",
     "iopub.status.idle": "2025-03-31T16:01:49.335995Z",
     "shell.execute_reply": "2025-03-31T16:01:49.334909Z"
    },
    "papermill": {
     "duration": 2021.592311,
     "end_time": "2025-03-31T16:01:49.337816",
     "exception": false,
     "start_time": "2025-03-31T15:28:07.745505",
     "status": "completed"
    },
    "tags": []
   },
   "outputs": [
    {
     "name": "stdout",
     "output_type": "stream",
     "text": [
      "Downloading https://www.cs.toronto.edu/~kriz/cifar-10-python.tar.gz to ./data/cifar-10-python.tar.gz\r\n",
      "100%|████████████████████████████████████████| 170M/170M [00:10<00:00, 15.9MB/s]\r\n",
      "Extracting ./data/cifar-10-python.tar.gz to ./data\r\n",
      "Files already downloaded and verified\r\n",
      "\u001b[34m\u001b[1mwandb\u001b[0m: Using wandb-core as the SDK backend.  Please refer to https://wandb.me/wandb-core for more information.\r\n",
      "\u001b[34m\u001b[1mwandb\u001b[0m: Currently logged in as: \u001b[33mtorong31\u001b[0m (\u001b[33mtorong31-uit\u001b[0m). Use \u001b[1m`wandb login --relogin`\u001b[0m to force relogin\r\n",
      "\u001b[34m\u001b[1mwandb\u001b[0m: \u001b[33mWARNING\u001b[0m If you're specifying your api key in code, ensure this code is not shared publicly.\r\n",
      "\u001b[34m\u001b[1mwandb\u001b[0m: \u001b[33mWARNING\u001b[0m Consider setting the WANDB_API_KEY environment variable, or running `wandb login` from the command line.\r\n",
      "\u001b[34m\u001b[1mwandb\u001b[0m: Appending key for api.wandb.ai to your netrc file: /root/.netrc\r\n",
      "\u001b[34m\u001b[1mwandb\u001b[0m: Tracking run with wandb version 0.19.1\r\n",
      "\u001b[34m\u001b[1mwandb\u001b[0m: Run data is saved locally in \u001b[35m\u001b[1m/kaggle/working/rfm-nmf/rfm/wandb/run-20250331_152837-uq0m8ajv\u001b[0m\r\n",
      "\u001b[34m\u001b[1mwandb\u001b[0m: Run \u001b[1m`wandb offline`\u001b[0m to turn off syncing.\r\n",
      "\u001b[34m\u001b[1mwandb\u001b[0m: Syncing run \u001b[33mCIFAR10-LaplaceRFM\u001b[0m\r\n",
      "\u001b[34m\u001b[1mwandb\u001b[0m: ⭐️ View project at \u001b[34m\u001b[4mhttps://wandb.ai/torong31-uit/rfm-nmf\u001b[0m\r\n",
      "\u001b[34m\u001b[1mwandb\u001b[0m: 🚀 View run at \u001b[34m\u001b[4mhttps://wandb.ai/torong31-uit/rfm-nmf/runs/uq0m8ajv\u001b[0m\r\n",
      "2025-03-31 15:28:38,408 - Training LaplaceRFM\r\n",
      "Loaders provided\r\n",
      "Time taken to prefit nmf with 70000 points: 0.92160964012146 seconds\r\n",
      "NMF with init='nndsvd' completed.\r\n",
      "Final reconstruction error (Frobenius norm): 94.2486\r\n",
      "Using NMF-based projection with rank=10, eta=0.0001, bs=10000\r\n",
      "100%|█████████████████████████████████████████████| 1/1 [00:00<00:00,  2.42it/s]\r\n",
      "(0 epochs, 0.4s)\ttrain mse: 0.0000 \tval mse: 0.1000\ttrain acc: 1.0000 \tval acc: 0.3059\r\n",
      "New best multiclass-acc: 0.3059\r\n",
      "Round 0, Test Acc: 30.59%\r\n",
      "Round 0, Test MSE: 0.1000\r\n",
      "2025-03-31 15:37:35,088 - NumExpr defaulting to 4 threads.\r\n",
      "Sampling AGOP on maximum of 10048 total points\r\n",
      "100%|█████████████████████████████████████████| 157/157 [00:17<00:00,  9.00it/s]\r\n",
      "Time taken to prefit nmf with 70000 points: 0.3047449588775635 seconds\r\n",
      "NMF with init='nndsvd' completed.\r\n",
      "Final reconstruction error (Frobenius norm): 94.3497\r\n",
      "Using NMF-based projection with rank=10, eta=0.0001, bs=10000\r\n",
      "100%|████████████████████████████████████████████| 1/1 [00:00<00:00, 389.15it/s]\r\n",
      "(0 epochs, 0.0s)\ttrain mse: 0.0000 \tval mse: 0.1000\ttrain acc: 1.0000 \tval acc: 0.2755\r\n",
      "New best multiclass-acc: 0.2755\r\n",
      "Round 1, Test Acc: 27.55%\r\n",
      "Round 1, Test MSE: 0.1000\r\n",
      "Sampling AGOP on maximum of 10048 total points\r\n",
      "100%|█████████████████████████████████████████| 157/157 [00:16<00:00,  9.55it/s]\r\n",
      "Time taken to prefit nmf with 70000 points: 0.33391284942626953 seconds\r\n",
      "NMF with init='nndsvd' completed.\r\n",
      "Final reconstruction error (Frobenius norm): 98.9374\r\n",
      "Using NMF-based projection with rank=10, eta=0.0001, bs=10000\r\n",
      "100%|████████████████████████████████████████████| 1/1 [00:00<00:00, 422.77it/s]\r\n",
      "(0 epochs, 0.0s)\ttrain mse: 0.0000 \tval mse: 0.0997\ttrain acc: 1.0000 \tval acc: 0.2824\r\n",
      "New best multiclass-acc: 0.2824\r\n",
      "Round 2, Test Acc: 28.24%\r\n",
      "Round 2, Test MSE: 0.0997\r\n",
      "Sampling AGOP on maximum of 10048 total points\r\n",
      "100%|█████████████████████████████████████████| 157/157 [00:16<00:00,  9.55it/s]\r\n",
      "Time taken to prefit nmf with 70000 points: 0.33335447311401367 seconds\r\n",
      "NMF with init='nndsvd' completed.\r\n",
      "Final reconstruction error (Frobenius norm): 96.5531\r\n",
      "Using NMF-based projection with rank=10, eta=0.0001, bs=10000\r\n",
      "100%|████████████████████████████████████████████| 1/1 [00:00<00:00, 443.61it/s]\r\n",
      "(0 epochs, 0.0s)\ttrain mse: 0.0000 \tval mse: 0.1000\ttrain acc: 1.0000 \tval acc: 0.2860\r\n",
      "New best multiclass-acc: 0.2860\r\n",
      "Final MSE: 0.1000\r\n",
      "Final Test Acc: 28.60%\r\n",
      "\u001b[34m\u001b[1mwandb\u001b[0m:                                                                                \r\n",
      "\u001b[34m\u001b[1mwandb\u001b[0m: \r\n",
      "\u001b[34m\u001b[1mwandb\u001b[0m: Run history:\r\n",
      "\u001b[34m\u001b[1mwandb\u001b[0m:               epoch ▁▅█\r\n",
      "\u001b[34m\u001b[1mwandb\u001b[0m:      epoch_time_sec █▁▅\r\n",
      "\u001b[34m\u001b[1mwandb\u001b[0m:           final_mse ▁\r\n",
      "\u001b[34m\u001b[1mwandb\u001b[0m: final_test_accuracy ▁\r\n",
      "\u001b[34m\u001b[1mwandb\u001b[0m:       test_accuracy █▁▃\r\n",
      "\u001b[34m\u001b[1mwandb\u001b[0m:            test_mse ██▁\r\n",
      "\u001b[34m\u001b[1mwandb\u001b[0m: \r\n",
      "\u001b[34m\u001b[1mwandb\u001b[0m: Run summary:\r\n",
      "\u001b[34m\u001b[1mwandb\u001b[0m:               epoch 2\r\n",
      "\u001b[34m\u001b[1mwandb\u001b[0m:      epoch_time_sec 493.3778\r\n",
      "\u001b[34m\u001b[1mwandb\u001b[0m:           final_mse 0.1\r\n",
      "\u001b[34m\u001b[1mwandb\u001b[0m: final_test_accuracy 0.286\r\n",
      "\u001b[34m\u001b[1mwandb\u001b[0m:       test_accuracy 0.2824\r\n",
      "\u001b[34m\u001b[1mwandb\u001b[0m:            test_mse 0.09971\r\n",
      "\u001b[34m\u001b[1mwandb\u001b[0m: \r\n",
      "\u001b[34m\u001b[1mwandb\u001b[0m: 🚀 View run \u001b[33mCIFAR10-LaplaceRFM\u001b[0m at: \u001b[34m\u001b[4mhttps://wandb.ai/torong31-uit/rfm-nmf/runs/uq0m8ajv\u001b[0m\r\n",
      "\u001b[34m\u001b[1mwandb\u001b[0m: ⭐️ View project at: \u001b[34m\u001b[4mhttps://wandb.ai/torong31-uit/rfm-nmf\u001b[0m\r\n",
      "\u001b[34m\u001b[1mwandb\u001b[0m: Synced 5 W&B file(s), 0 media file(s), 0 artifact file(s) and 0 other file(s)\r\n",
      "\u001b[34m\u001b[1mwandb\u001b[0m: Find logs at: \u001b[35m\u001b[1m./wandb/run-20250331_152837-uq0m8ajv/logs\u001b[0m\r\n"
     ]
    }
   ],
   "source": [
    "!python laplace_cifar10.py"
   ]
  }
 ],
 "metadata": {
  "kaggle": {
   "accelerator": "gpu",
   "dataSources": [],
   "dockerImageVersionId": 30918,
   "isGpuEnabled": true,
   "isInternetEnabled": true,
   "language": "python",
   "sourceType": "notebook"
  },
  "kernelspec": {
   "display_name": "Python 3",
   "language": "python",
   "name": "python3"
  },
  "language_info": {
   "codemirror_mode": {
    "name": "ipython",
    "version": 3
   },
   "file_extension": ".py",
   "mimetype": "text/x-python",
   "name": "python",
   "nbconvert_exporter": "python",
   "pygments_lexer": "ipython3",
   "version": "3.10.12"
  },
  "papermill": {
   "default_parameters": {},
   "duration": 2032.967522,
   "end_time": "2025-03-31T16:01:49.786071",
   "environment_variables": {},
   "exception": null,
   "input_path": "__notebook__.ipynb",
   "output_path": "__notebook__.ipynb",
   "parameters": {},
   "start_time": "2025-03-31T15:27:56.818549",
   "version": "2.6.0"
  }
 },
 "nbformat": 4,
 "nbformat_minor": 5
}
