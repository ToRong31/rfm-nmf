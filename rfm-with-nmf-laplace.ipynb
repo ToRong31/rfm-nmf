{
 "cells": [
  {
   "cell_type": "code",
   "execution_count": 1,
   "id": "6044cd1e",
   "metadata": {
    "_cell_guid": "b1076dfc-b9ad-4769-8c92-a6c4dae69d19",
    "_uuid": "8f2839f25d086af736a60e9eeb907d3b93b6e0e5",
    "execution": {
     "iopub.execute_input": "2025-03-27T19:45:37.030010Z",
     "iopub.status.busy": "2025-03-27T19:45:37.029663Z",
     "iopub.status.idle": "2025-03-27T19:45:43.887199Z",
     "shell.execute_reply": "2025-03-27T19:45:43.885841Z"
    },
    "papermill": {
     "duration": 6.863119,
     "end_time": "2025-03-27T19:45:43.889280",
     "exception": false,
     "start_time": "2025-03-27T19:45:37.026161",
     "status": "completed"
    },
    "tags": []
   },
   "outputs": [
    {
     "name": "stdout",
     "output_type": "stream",
     "text": [
      "Cloning into 'rfm-nmf'...\r\n",
      "remote: Enumerating objects: 220, done.\u001b[K\r\n",
      "remote: Counting objects: 100% (154/154), done.\u001b[K\r\n",
      "remote: Compressing objects: 100% (109/109), done.\u001b[K\r\n",
      "remote: Total 220 (delta 85), reused 104 (delta 45), pack-reused 66 (from 1)\u001b[K\r\n",
      "Receiving objects: 100% (220/220), 22.47 MiB | 33.25 MiB/s, done.\r\n",
      "Resolving deltas: 100% (98/98), done.\r\n",
      "Collecting hickle\r\n",
      "  Downloading hickle-5.0.3-py3-none-any.whl.metadata (22 kB)\r\n",
      "Requirement already satisfied: h5py>=2.10.0 in /usr/local/lib/python3.10/dist-packages (from hickle) (3.12.1)\r\n",
      "Requirement already satisfied: numpy!=1.20,>=1.8 in /usr/local/lib/python3.10/dist-packages (from hickle) (1.26.4)\r\n",
      "Requirement already satisfied: mkl_fft in /usr/local/lib/python3.10/dist-packages (from numpy!=1.20,>=1.8->hickle) (1.3.8)\r\n",
      "Requirement already satisfied: mkl_random in /usr/local/lib/python3.10/dist-packages (from numpy!=1.20,>=1.8->hickle) (1.2.4)\r\n",
      "Requirement already satisfied: mkl_umath in /usr/local/lib/python3.10/dist-packages (from numpy!=1.20,>=1.8->hickle) (0.1.1)\r\n",
      "Requirement already satisfied: mkl in /usr/local/lib/python3.10/dist-packages (from numpy!=1.20,>=1.8->hickle) (2025.0.1)\r\n",
      "Requirement already satisfied: tbb4py in /usr/local/lib/python3.10/dist-packages (from numpy!=1.20,>=1.8->hickle) (2022.0.0)\r\n",
      "Requirement already satisfied: mkl-service in /usr/local/lib/python3.10/dist-packages (from numpy!=1.20,>=1.8->hickle) (2.4.1)\r\n",
      "Requirement already satisfied: intel-openmp>=2024 in /usr/local/lib/python3.10/dist-packages (from mkl->numpy!=1.20,>=1.8->hickle) (2024.2.0)\r\n",
      "Requirement already satisfied: tbb==2022.* in /usr/local/lib/python3.10/dist-packages (from mkl->numpy!=1.20,>=1.8->hickle) (2022.0.0)\r\n",
      "Requirement already satisfied: tcmlib==1.* in /usr/local/lib/python3.10/dist-packages (from tbb==2022.*->mkl->numpy!=1.20,>=1.8->hickle) (1.2.0)\r\n",
      "Requirement already satisfied: intel-cmplr-lib-rt in /usr/local/lib/python3.10/dist-packages (from mkl_umath->numpy!=1.20,>=1.8->hickle) (2024.2.0)\r\n",
      "Requirement already satisfied: intel-cmplr-lib-ur==2024.2.0 in /usr/local/lib/python3.10/dist-packages (from intel-openmp>=2024->mkl->numpy!=1.20,>=1.8->hickle) (2024.2.0)\r\n",
      "Downloading hickle-5.0.3-py3-none-any.whl (107 kB)\r\n",
      "\u001b[2K   \u001b[90m━━━━━━━━━━━━━━━━━━━━━━━━━━━━━━━━━━━━━━━━\u001b[0m \u001b[32m108.0/108.0 kB\u001b[0m \u001b[31m3.9 MB/s\u001b[0m eta \u001b[36m0:00:00\u001b[0m\r\n",
      "\u001b[?25hInstalling collected packages: hickle\r\n",
      "Successfully installed hickle-5.0.3\r\n"
     ]
    }
   ],
   "source": [
    "!git clone https://github.com/ToRong31/rfm-nmf.git\n",
    "import sys\n",
    "sys.path.append('/kaggle/working/rfm-HTR/rfm/rfm')\n",
    "!pip install hickle\n",
    "!cd /kaggle/working/rfm-nmf/rfm"
   ]
  },
  {
   "cell_type": "code",
   "execution_count": 2,
   "id": "76e72204",
   "metadata": {
    "execution": {
     "iopub.execute_input": "2025-03-27T19:45:43.899149Z",
     "iopub.status.busy": "2025-03-27T19:45:43.898891Z",
     "iopub.status.idle": "2025-03-27T19:45:43.904791Z",
     "shell.execute_reply": "2025-03-27T19:45:43.904104Z"
    },
    "papermill": {
     "duration": 0.01146,
     "end_time": "2025-03-27T19:45:43.906065",
     "exception": false,
     "start_time": "2025-03-27T19:45:43.894605",
     "status": "completed"
    },
    "tags": []
   },
   "outputs": [
    {
     "name": "stdout",
     "output_type": "stream",
     "text": [
      "/kaggle/working/rfm-nmf/rfm\n"
     ]
    }
   ],
   "source": [
    "cd /kaggle/working/rfm-nmf/rfm"
   ]
  },
  {
   "cell_type": "code",
   "execution_count": 3,
   "id": "c77073c5",
   "metadata": {
    "execution": {
     "iopub.execute_input": "2025-03-27T19:45:43.912682Z",
     "iopub.status.busy": "2025-03-27T19:45:43.912475Z",
     "iopub.status.idle": "2025-03-27T19:45:44.031605Z",
     "shell.execute_reply": "2025-03-27T19:45:44.030582Z"
    },
    "papermill": {
     "duration": 0.124079,
     "end_time": "2025-03-27T19:45:44.033142",
     "exception": false,
     "start_time": "2025-03-27T19:45:43.909063",
     "status": "completed"
    },
    "tags": []
   },
   "outputs": [
    {
     "name": "stdout",
     "output_type": "stream",
     "text": [
      "celeba_experiments  LICENSE\t\t   setup.py\r\n",
      "data\t\t    low_rank.ipynb\t   svhn.ipynb\r\n",
      "example_notebooks   ntk.py\t\t   svhn.py\r\n",
      "Gauss.py\t    output.txt\t\t   tabular_benchmark_experiments\r\n",
      "generalized.py\t    phenomena_experiments  testhehe.ipynb\r\n",
      "laplace_cifar10.py  README.md\t\t   test.ipynb\r\n",
      "laplace.py\t    rfm\t\t\t   wandb\r\n"
     ]
    }
   ],
   "source": [
    "!ls"
   ]
  },
  {
   "cell_type": "code",
   "execution_count": 4,
   "id": "95b5d76e",
   "metadata": {
    "execution": {
     "iopub.execute_input": "2025-03-27T19:45:44.040295Z",
     "iopub.status.busy": "2025-03-27T19:45:44.040052Z",
     "iopub.status.idle": "2025-03-27T19:45:44.043288Z",
     "shell.execute_reply": "2025-03-27T19:45:44.042629Z"
    },
    "papermill": {
     "duration": 0.008079,
     "end_time": "2025-03-27T19:45:44.044507",
     "exception": false,
     "start_time": "2025-03-27T19:45:44.036428",
     "status": "completed"
    },
    "tags": []
   },
   "outputs": [],
   "source": [
    "# !cd /kaggle/working/rfm-nmf && git pull"
   ]
  },
  {
   "cell_type": "code",
   "execution_count": 5,
   "id": "a67477c2",
   "metadata": {
    "execution": {
     "iopub.execute_input": "2025-03-27T19:45:44.050954Z",
     "iopub.status.busy": "2025-03-27T19:45:44.050716Z",
     "iopub.status.idle": "2025-03-27T20:15:50.679830Z",
     "shell.execute_reply": "2025-03-27T20:15:50.678850Z"
    },
    "papermill": {
     "duration": 1806.634127,
     "end_time": "2025-03-27T20:15:50.681532",
     "exception": false,
     "start_time": "2025-03-27T19:45:44.047405",
     "status": "completed"
    },
    "tags": []
   },
   "outputs": [
    {
     "name": "stdout",
     "output_type": "stream",
     "text": [
      "\u001b[34m\u001b[1mwandb\u001b[0m: Using wandb-core as the SDK backend.  Please refer to https://wandb.me/wandb-core for more information.\r\n",
      "\u001b[34m\u001b[1mwandb\u001b[0m: Currently logged in as: \u001b[33mtorong31\u001b[0m (\u001b[33mtorong31-uit\u001b[0m). Use \u001b[1m`wandb login --relogin`\u001b[0m to force relogin\r\n",
      "\u001b[34m\u001b[1mwandb\u001b[0m: \u001b[33mWARNING\u001b[0m If you're specifying your api key in code, ensure this code is not shared publicly.\r\n",
      "\u001b[34m\u001b[1mwandb\u001b[0m: \u001b[33mWARNING\u001b[0m Consider setting the WANDB_API_KEY environment variable, or running `wandb login` from the command line.\r\n",
      "\u001b[34m\u001b[1mwandb\u001b[0m: Appending key for api.wandb.ai to your netrc file: /root/.netrc\r\n",
      "\u001b[34m\u001b[1mwandb\u001b[0m: Tracking run with wandb version 0.19.1\r\n",
      "\u001b[34m\u001b[1mwandb\u001b[0m: Run data is saved locally in \u001b[35m\u001b[1m/kaggle/working/rfm-nmf/rfm/wandb/run-20250327_194558-5jowczzn\u001b[0m\r\n",
      "\u001b[34m\u001b[1mwandb\u001b[0m: Run \u001b[1m`wandb offline`\u001b[0m to turn off syncing.\r\n",
      "\u001b[34m\u001b[1mwandb\u001b[0m: Syncing run \u001b[33mTry3\u001b[0m\r\n",
      "\u001b[34m\u001b[1mwandb\u001b[0m: ⭐️ View project at \u001b[34m\u001b[4mhttps://wandb.ai/torong31-uit/rfm-nmf\u001b[0m\r\n",
      "\u001b[34m\u001b[1mwandb\u001b[0m: 🚀 View run at \u001b[34m\u001b[4mhttps://wandb.ai/torong31-uit/rfm-nmf/runs/5jowczzn\u001b[0m\r\n",
      "2025-03-27 19:45:59,156 - Training LaplaceRFM\r\n",
      "Loaders provided\r\n",
      "Time taken to prefit nmf with 70000 points: 0.9083199501037598 seconds\r\n",
      "NMF with init='nndsvd' completed.\r\n",
      "Final reconstruction error (Frobenius norm): 99.6548\r\n",
      "Using NMF-based projection with rank=10, eta=0.0001, bs=10000\r\n",
      "100%|█████████████████████████████████████████████| 1/1 [00:00<00:00,  5.89it/s]\r\n",
      "(0 epochs, 0.2s)\ttrain mse: 0.0000 \tval mse: 0.0617\ttrain acc: 1.0000 \tval acc: 0.9193\r\n",
      "New best multiclass-acc: 0.9193\r\n",
      "Round 0, Test Acc: 91.93%\r\n",
      "Round 0, Test MSE: 0.0617\r\n",
      "2025-03-27 19:53:21,769 - NumExpr defaulting to 4 threads.\r\n",
      "Sampling AGOP on maximum of 10048 total points\r\n",
      "100%|█████████████████████████████████████████| 157/157 [00:03<00:00, 47.23it/s]\r\n",
      "Time taken to prefit nmf with 70000 points: 0.20652127265930176 seconds\r\n",
      "NMF with init='nndsvd' completed.\r\n",
      "Final reconstruction error (Frobenius norm): 99.6463\r\n",
      "Using NMF-based projection with rank=10, eta=0.0001, bs=10000\r\n",
      "100%|████████████████████████████████████████████| 1/1 [00:00<00:00, 579.40it/s]\r\n",
      "(0 epochs, 0.0s)\ttrain mse: 0.0000 \tval mse: 0.0740\ttrain acc: 1.0000 \tval acc: 0.9350\r\n",
      "New best multiclass-acc: 0.9350\r\n",
      "Round 1, Test Acc: 93.50%\r\n",
      "Round 1, Test MSE: 0.0740\r\n",
      "Sampling AGOP on maximum of 10048 total points\r\n",
      "100%|█████████████████████████████████████████| 157/157 [00:03<00:00, 50.17it/s]\r\n",
      "Time taken to prefit nmf with 70000 points: 0.20891427993774414 seconds\r\n",
      "NMF with init='nndsvd' completed.\r\n",
      "Final reconstruction error (Frobenius norm): 99.7667\r\n",
      "Using NMF-based projection with rank=10, eta=0.0001, bs=10000\r\n",
      "100%|████████████████████████████████████████████| 1/1 [00:00<00:00, 785.30it/s]\r\n",
      "(0 epochs, 0.0s)\ttrain mse: 0.0000 \tval mse: 0.0603\ttrain acc: 1.0000 \tval acc: 0.9217\r\n",
      "New best multiclass-acc: 0.9217\r\n",
      "Round 2, Test Acc: 92.17%\r\n",
      "Round 2, Test MSE: 0.0603\r\n",
      "Sampling AGOP on maximum of 10048 total points\r\n",
      "100%|█████████████████████████████████████████| 157/157 [00:03<00:00, 48.25it/s]\r\n",
      "Time taken to prefit nmf with 70000 points: 0.20885753631591797 seconds\r\n",
      "NMF with init='nndsvd' completed.\r\n",
      "Final reconstruction error (Frobenius norm): 100.1590\r\n",
      "Using NMF-based projection with rank=10, eta=0.0001, bs=10000\r\n",
      "100%|████████████████████████████████████████████| 1/1 [00:00<00:00, 650.99it/s]\r\n",
      "(0 epochs, 0.0s)\ttrain mse: 0.0000 \tval mse: 0.0489\ttrain acc: 1.0000 \tval acc: 0.9096\r\n",
      "New best multiclass-acc: 0.9096\r\n",
      "Final MSE: 0.0489\r\n",
      "Final Test Acc: 90.96%\r\n",
      "\u001b[34m\u001b[1mwandb\u001b[0m:                                                                                \r\n",
      "\u001b[34m\u001b[1mwandb\u001b[0m: \r\n",
      "\u001b[34m\u001b[1mwandb\u001b[0m: Run history:\r\n",
      "\u001b[34m\u001b[1mwandb\u001b[0m:               epoch ▁▅█\r\n",
      "\u001b[34m\u001b[1mwandb\u001b[0m:      epoch_time_sec ▁▁█\r\n",
      "\u001b[34m\u001b[1mwandb\u001b[0m:           final_mse ▁\r\n",
      "\u001b[34m\u001b[1mwandb\u001b[0m: final_test_accuracy ▁\r\n",
      "\u001b[34m\u001b[1mwandb\u001b[0m:       test_accuracy ▁█▂\r\n",
      "\u001b[34m\u001b[1mwandb\u001b[0m:            test_mse ▂█▁\r\n",
      "\u001b[34m\u001b[1mwandb\u001b[0m: \r\n",
      "\u001b[34m\u001b[1mwandb\u001b[0m: Run summary:\r\n",
      "\u001b[34m\u001b[1mwandb\u001b[0m:               epoch 2\r\n",
      "\u001b[34m\u001b[1mwandb\u001b[0m:      epoch_time_sec 456.74094\r\n",
      "\u001b[34m\u001b[1mwandb\u001b[0m:           final_mse 0.04887\r\n",
      "\u001b[34m\u001b[1mwandb\u001b[0m: final_test_accuracy 0.9096\r\n",
      "\u001b[34m\u001b[1mwandb\u001b[0m:       test_accuracy 0.9217\r\n",
      "\u001b[34m\u001b[1mwandb\u001b[0m:            test_mse 0.06033\r\n",
      "\u001b[34m\u001b[1mwandb\u001b[0m: \r\n",
      "\u001b[34m\u001b[1mwandb\u001b[0m: 🚀 View run \u001b[33mTry3\u001b[0m at: \u001b[34m\u001b[4mhttps://wandb.ai/torong31-uit/rfm-nmf/runs/5jowczzn\u001b[0m\r\n",
      "\u001b[34m\u001b[1mwandb\u001b[0m: ⭐️ View project at: \u001b[34m\u001b[4mhttps://wandb.ai/torong31-uit/rfm-nmf\u001b[0m\r\n",
      "\u001b[34m\u001b[1mwandb\u001b[0m: Synced 5 W&B file(s), 0 media file(s), 0 artifact file(s) and 0 other file(s)\r\n",
      "\u001b[34m\u001b[1mwandb\u001b[0m: Find logs at: \u001b[35m\u001b[1m./wandb/run-20250327_194558-5jowczzn/logs\u001b[0m\r\n"
     ]
    }
   ],
   "source": [
    "!python laplace.py"
   ]
  },
  {
   "cell_type": "code",
   "execution_count": 6,
   "id": "b3eb99ec",
   "metadata": {
    "execution": {
     "iopub.execute_input": "2025-03-27T20:15:50.699888Z",
     "iopub.status.busy": "2025-03-27T20:15:50.699608Z",
     "iopub.status.idle": "2025-03-27T20:15:50.702769Z",
     "shell.execute_reply": "2025-03-27T20:15:50.702198Z"
    },
    "papermill": {
     "duration": 0.013537,
     "end_time": "2025-03-27T20:15:50.703998",
     "exception": false,
     "start_time": "2025-03-27T20:15:50.690461",
     "status": "completed"
    },
    "tags": []
   },
   "outputs": [],
   "source": [
    "# !python Gauss.py"
   ]
  },
  {
   "cell_type": "code",
   "execution_count": 7,
   "id": "8e70d7c0",
   "metadata": {
    "execution": {
     "iopub.execute_input": "2025-03-27T20:15:50.721409Z",
     "iopub.status.busy": "2025-03-27T20:15:50.721201Z",
     "iopub.status.idle": "2025-03-27T20:15:50.723851Z",
     "shell.execute_reply": "2025-03-27T20:15:50.723296Z"
    },
    "papermill": {
     "duration": 0.012751,
     "end_time": "2025-03-27T20:15:50.725117",
     "exception": false,
     "start_time": "2025-03-27T20:15:50.712366",
     "status": "completed"
    },
    "tags": []
   },
   "outputs": [],
   "source": [
    "# !python generalized.py"
   ]
  },
  {
   "cell_type": "code",
   "execution_count": 8,
   "id": "b14fbb83",
   "metadata": {
    "execution": {
     "iopub.execute_input": "2025-03-27T20:15:50.742574Z",
     "iopub.status.busy": "2025-03-27T20:15:50.742342Z",
     "iopub.status.idle": "2025-03-27T20:15:50.745280Z",
     "shell.execute_reply": "2025-03-27T20:15:50.744528Z"
    },
    "papermill": {
     "duration": 0.013091,
     "end_time": "2025-03-27T20:15:50.746550",
     "exception": false,
     "start_time": "2025-03-27T20:15:50.733459",
     "status": "completed"
    },
    "tags": []
   },
   "outputs": [],
   "source": [
    "# !python laplace_cifar10.py"
   ]
  }
 ],
 "metadata": {
  "kaggle": {
   "accelerator": "gpu",
   "dataSources": [],
   "dockerImageVersionId": 30918,
   "isGpuEnabled": true,
   "isInternetEnabled": true,
   "language": "python",
   "sourceType": "notebook"
  },
  "kernelspec": {
   "display_name": "Python 3",
   "language": "python",
   "name": "python3"
  },
  "language_info": {
   "codemirror_mode": {
    "name": "ipython",
    "version": 3
   },
   "file_extension": ".py",
   "mimetype": "text/x-python",
   "name": "python",
   "nbconvert_exporter": "python",
   "pygments_lexer": "ipython3",
   "version": "3.10.12"
  },
  "papermill": {
   "default_parameters": {},
   "duration": 1816.705648,
   "end_time": "2025-03-27T20:15:51.173524",
   "environment_variables": {},
   "exception": null,
   "input_path": "__notebook__.ipynb",
   "output_path": "__notebook__.ipynb",
   "parameters": {},
   "start_time": "2025-03-27T19:45:34.467876",
   "version": "2.6.0"
  }
 },
 "nbformat": 4,
 "nbformat_minor": 5
}
