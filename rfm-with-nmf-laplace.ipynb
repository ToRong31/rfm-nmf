{
 "cells": [
  {
   "cell_type": "code",
   "execution_count": 1,
   "id": "768e3667",
   "metadata": {
    "_cell_guid": "b1076dfc-b9ad-4769-8c92-a6c4dae69d19",
    "_uuid": "8f2839f25d086af736a60e9eeb907d3b93b6e0e5",
    "execution": {
     "iopub.execute_input": "2025-03-31T16:57:02.629437Z",
     "iopub.status.busy": "2025-03-31T16:57:02.629209Z",
     "iopub.status.idle": "2025-03-31T16:57:09.574437Z",
     "shell.execute_reply": "2025-03-31T16:57:09.573473Z"
    },
    "papermill": {
     "duration": 6.949991,
     "end_time": "2025-03-31T16:57:09.576069",
     "exception": false,
     "start_time": "2025-03-31T16:57:02.626078",
     "status": "completed"
    },
    "tags": []
   },
   "outputs": [
    {
     "name": "stdout",
     "output_type": "stream",
     "text": [
      "Cloning into 'rfm-nmf'...\r\n",
      "remote: Enumerating objects: 248, done.\u001b[K\r\n",
      "remote: Counting objects: 100% (182/182), done.\u001b[K\r\n",
      "remote: Compressing objects: 100% (134/134), done.\u001b[K\r\n",
      "remote: Total 248 (delta 104), reused 112 (delta 48), pack-reused 66 (from 1)\u001b[K\r\n",
      "Receiving objects: 100% (248/248), 22.48 MiB | 30.32 MiB/s, done.\r\n",
      "Resolving deltas: 100% (117/117), done.\r\n",
      "Collecting hickle\r\n",
      "  Downloading hickle-5.0.3-py3-none-any.whl.metadata (22 kB)\r\n",
      "Requirement already satisfied: h5py>=2.10.0 in /usr/local/lib/python3.10/dist-packages (from hickle) (3.12.1)\r\n",
      "Requirement already satisfied: numpy!=1.20,>=1.8 in /usr/local/lib/python3.10/dist-packages (from hickle) (1.26.4)\r\n",
      "Requirement already satisfied: mkl_fft in /usr/local/lib/python3.10/dist-packages (from numpy!=1.20,>=1.8->hickle) (1.3.8)\r\n",
      "Requirement already satisfied: mkl_random in /usr/local/lib/python3.10/dist-packages (from numpy!=1.20,>=1.8->hickle) (1.2.4)\r\n",
      "Requirement already satisfied: mkl_umath in /usr/local/lib/python3.10/dist-packages (from numpy!=1.20,>=1.8->hickle) (0.1.1)\r\n",
      "Requirement already satisfied: mkl in /usr/local/lib/python3.10/dist-packages (from numpy!=1.20,>=1.8->hickle) (2025.0.1)\r\n",
      "Requirement already satisfied: tbb4py in /usr/local/lib/python3.10/dist-packages (from numpy!=1.20,>=1.8->hickle) (2022.0.0)\r\n",
      "Requirement already satisfied: mkl-service in /usr/local/lib/python3.10/dist-packages (from numpy!=1.20,>=1.8->hickle) (2.4.1)\r\n",
      "Requirement already satisfied: intel-openmp>=2024 in /usr/local/lib/python3.10/dist-packages (from mkl->numpy!=1.20,>=1.8->hickle) (2024.2.0)\r\n",
      "Requirement already satisfied: tbb==2022.* in /usr/local/lib/python3.10/dist-packages (from mkl->numpy!=1.20,>=1.8->hickle) (2022.0.0)\r\n",
      "Requirement already satisfied: tcmlib==1.* in /usr/local/lib/python3.10/dist-packages (from tbb==2022.*->mkl->numpy!=1.20,>=1.8->hickle) (1.2.0)\r\n",
      "Requirement already satisfied: intel-cmplr-lib-rt in /usr/local/lib/python3.10/dist-packages (from mkl_umath->numpy!=1.20,>=1.8->hickle) (2024.2.0)\r\n",
      "Requirement already satisfied: intel-cmplr-lib-ur==2024.2.0 in /usr/local/lib/python3.10/dist-packages (from intel-openmp>=2024->mkl->numpy!=1.20,>=1.8->hickle) (2024.2.0)\r\n",
      "Downloading hickle-5.0.3-py3-none-any.whl (107 kB)\r\n",
      "\u001b[2K   \u001b[90m━━━━━━━━━━━━━━━━━━━━━━━━━━━━━━━━━━━━━━━━\u001b[0m \u001b[32m108.0/108.0 kB\u001b[0m \u001b[31m5.7 MB/s\u001b[0m eta \u001b[36m0:00:00\u001b[0m\r\n",
      "\u001b[?25hInstalling collected packages: hickle\r\n",
      "Successfully installed hickle-5.0.3\r\n"
     ]
    }
   ],
   "source": [
    "!git clone https://github.com/ToRong31/rfm-nmf.git\n",
    "import sys\n",
    "sys.path.append('/kaggle/working/rfm-HTR/rfm/rfm')\n",
    "!pip install hickle\n",
    "!cd /kaggle/working/rfm-nmf/rfm"
   ]
  },
  {
   "cell_type": "code",
   "execution_count": 2,
   "id": "a986254c",
   "metadata": {
    "execution": {
     "iopub.execute_input": "2025-03-31T16:57:09.584238Z",
     "iopub.status.busy": "2025-03-31T16:57:09.583958Z",
     "iopub.status.idle": "2025-03-31T16:57:09.589832Z",
     "shell.execute_reply": "2025-03-31T16:57:09.589031Z"
    },
    "papermill": {
     "duration": 0.011164,
     "end_time": "2025-03-31T16:57:09.591075",
     "exception": false,
     "start_time": "2025-03-31T16:57:09.579911",
     "status": "completed"
    },
    "tags": []
   },
   "outputs": [
    {
     "name": "stdout",
     "output_type": "stream",
     "text": [
      "/kaggle/working/rfm-nmf/rfm\n"
     ]
    }
   ],
   "source": [
    "cd /kaggle/working/rfm-nmf/rfm"
   ]
  },
  {
   "cell_type": "code",
   "execution_count": 3,
   "id": "119be517",
   "metadata": {
    "execution": {
     "iopub.execute_input": "2025-03-31T16:57:09.597399Z",
     "iopub.status.busy": "2025-03-31T16:57:09.597193Z",
     "iopub.status.idle": "2025-03-31T16:57:09.714344Z",
     "shell.execute_reply": "2025-03-31T16:57:09.713506Z"
    },
    "papermill": {
     "duration": 0.121889,
     "end_time": "2025-03-31T16:57:09.715816",
     "exception": false,
     "start_time": "2025-03-31T16:57:09.593927",
     "status": "completed"
    },
    "tags": []
   },
   "outputs": [
    {
     "name": "stdout",
     "output_type": "stream",
     "text": [
      "celeba_experiments  LICENSE\t\t   setup.py\r\n",
      "data\t\t    low_rank.ipynb\t   svhn.ipynb\r\n",
      "example_notebooks   ntk.py\t\t   svhn.py\r\n",
      "Gauss.py\t    output.txt\t\t   tabular_benchmark_experiments\r\n",
      "generalized.py\t    phenomena_experiments  testhehe.ipynb\r\n",
      "laplace_cifar10.py  README.md\t\t   test.ipynb\r\n",
      "laplace.py\t    rfm\t\t\t   wandb\r\n"
     ]
    }
   ],
   "source": [
    "!ls"
   ]
  },
  {
   "cell_type": "code",
   "execution_count": 4,
   "id": "ec994ede",
   "metadata": {
    "execution": {
     "iopub.execute_input": "2025-03-31T16:57:09.722855Z",
     "iopub.status.busy": "2025-03-31T16:57:09.722573Z",
     "iopub.status.idle": "2025-03-31T16:57:09.726080Z",
     "shell.execute_reply": "2025-03-31T16:57:09.725285Z"
    },
    "papermill": {
     "duration": 0.008388,
     "end_time": "2025-03-31T16:57:09.727379",
     "exception": false,
     "start_time": "2025-03-31T16:57:09.718991",
     "status": "completed"
    },
    "tags": []
   },
   "outputs": [],
   "source": [
    "# !cd /kaggle/working/rfm-nmf && git pull"
   ]
  },
  {
   "cell_type": "code",
   "execution_count": 5,
   "id": "d506d4de",
   "metadata": {
    "execution": {
     "iopub.execute_input": "2025-03-31T16:57:09.733816Z",
     "iopub.status.busy": "2025-03-31T16:57:09.733575Z",
     "iopub.status.idle": "2025-03-31T16:57:09.736245Z",
     "shell.execute_reply": "2025-03-31T16:57:09.735673Z"
    },
    "papermill": {
     "duration": 0.007176,
     "end_time": "2025-03-31T16:57:09.737470",
     "exception": false,
     "start_time": "2025-03-31T16:57:09.730294",
     "status": "completed"
    },
    "tags": []
   },
   "outputs": [],
   "source": [
    "# !python laplace.py"
   ]
  },
  {
   "cell_type": "code",
   "execution_count": 6,
   "id": "ded759f6",
   "metadata": {
    "execution": {
     "iopub.execute_input": "2025-03-31T16:57:09.743945Z",
     "iopub.status.busy": "2025-03-31T16:57:09.743747Z",
     "iopub.status.idle": "2025-03-31T16:57:09.746530Z",
     "shell.execute_reply": "2025-03-31T16:57:09.745902Z"
    },
    "papermill": {
     "duration": 0.007388,
     "end_time": "2025-03-31T16:57:09.747767",
     "exception": false,
     "start_time": "2025-03-31T16:57:09.740379",
     "status": "completed"
    },
    "tags": []
   },
   "outputs": [],
   "source": [
    "# !python Gauss.py"
   ]
  },
  {
   "cell_type": "code",
   "execution_count": 7,
   "id": "63fcec5f",
   "metadata": {
    "execution": {
     "iopub.execute_input": "2025-03-31T16:57:09.754182Z",
     "iopub.status.busy": "2025-03-31T16:57:09.753964Z",
     "iopub.status.idle": "2025-03-31T16:57:09.756940Z",
     "shell.execute_reply": "2025-03-31T16:57:09.756139Z"
    },
    "papermill": {
     "duration": 0.007574,
     "end_time": "2025-03-31T16:57:09.758245",
     "exception": false,
     "start_time": "2025-03-31T16:57:09.750671",
     "status": "completed"
    },
    "tags": []
   },
   "outputs": [],
   "source": [
    "# !python generalized.py"
   ]
  },
  {
   "cell_type": "code",
   "execution_count": 8,
   "id": "7014625c",
   "metadata": {
    "execution": {
     "iopub.execute_input": "2025-03-31T16:57:09.764963Z",
     "iopub.status.busy": "2025-03-31T16:57:09.764762Z",
     "iopub.status.idle": "2025-03-31T17:10:27.042919Z",
     "shell.execute_reply": "2025-03-31T17:10:27.041667Z"
    },
    "papermill": {
     "duration": 797.283244,
     "end_time": "2025-03-31T17:10:27.044572",
     "exception": false,
     "start_time": "2025-03-31T16:57:09.761328",
     "status": "completed"
    },
    "tags": []
   },
   "outputs": [
    {
     "name": "stdout",
     "output_type": "stream",
     "text": [
      "Downloading https://www.cs.toronto.edu/~kriz/cifar-10-python.tar.gz to ./data/cifar-10-python.tar.gz\r\n",
      "100%|████████████████████████████████████████| 170M/170M [00:08<00:00, 20.6MB/s]\r\n",
      "Extracting ./data/cifar-10-python.tar.gz to ./data\r\n",
      "Files already downloaded and verified\r\n",
      "\u001b[34m\u001b[1mwandb\u001b[0m: Using wandb-core as the SDK backend.  Please refer to https://wandb.me/wandb-core for more information.\r\n",
      "\u001b[34m\u001b[1mwandb\u001b[0m: Currently logged in as: \u001b[33mtorong31\u001b[0m (\u001b[33mtorong31-uit\u001b[0m). Use \u001b[1m`wandb login --relogin`\u001b[0m to force relogin\r\n",
      "\u001b[34m\u001b[1mwandb\u001b[0m: \u001b[33mWARNING\u001b[0m If you're specifying your api key in code, ensure this code is not shared publicly.\r\n",
      "\u001b[34m\u001b[1mwandb\u001b[0m: \u001b[33mWARNING\u001b[0m Consider setting the WANDB_API_KEY environment variable, or running `wandb login` from the command line.\r\n",
      "\u001b[34m\u001b[1mwandb\u001b[0m: Appending key for api.wandb.ai to your netrc file: /root/.netrc\r\n",
      "\u001b[34m\u001b[1mwandb\u001b[0m: Tracking run with wandb version 0.19.1\r\n",
      "\u001b[34m\u001b[1mwandb\u001b[0m: Run data is saved locally in \u001b[35m\u001b[1m/kaggle/working/rfm-nmf/rfm/wandb/run-20250331_165735-kswv04w0\u001b[0m\r\n",
      "\u001b[34m\u001b[1mwandb\u001b[0m: Run \u001b[1m`wandb offline`\u001b[0m to turn off syncing.\r\n",
      "\u001b[34m\u001b[1mwandb\u001b[0m: Syncing run \u001b[33mCIFAR10-LaplaceRFM\u001b[0m\r\n",
      "\u001b[34m\u001b[1mwandb\u001b[0m: ⭐️ View project at \u001b[34m\u001b[4mhttps://wandb.ai/torong31-uit/rfm-nmf\u001b[0m\r\n",
      "\u001b[34m\u001b[1mwandb\u001b[0m: 🚀 View run at \u001b[34m\u001b[4mhttps://wandb.ai/torong31-uit/rfm-nmf/runs/kswv04w0\u001b[0m\r\n",
      "2025-03-31 16:57:36,755 - Training LaplaceRFM\r\n",
      "Loaders provided\r\n",
      "Time taken to prefit nmf with 70000 points: 0.8477280139923096 seconds\r\n",
      "NMF with init='nndsvd' completed.\r\n",
      "Final reconstruction error (Frobenius norm): 95.3035\r\n",
      "Using NMF-based projection with rank=10, eta=0.0001, bs=10000\r\n",
      "100%|█████████████████████████████████████████████| 1/1 [00:00<00:00,  2.42it/s]\r\n",
      "(0 epochs, 0.4s)\ttrain mse: 0.0000 \tval mse: 0.0992\ttrain acc: 1.0000 \tval acc: 0.2899\r\n",
      "New best multiclass-acc: 0.2899\r\n",
      "Round 0, Test Acc: 28.99%\r\n",
      "Round 0, Test MSE: 0.0992\r\n",
      "Sampling AGOP on maximum of 10048 total points\r\n",
      "100%|█████████████████████████████████████████| 157/157 [00:17<00:00,  9.02it/s]\r\n",
      "Time taken to prefit nmf with 70000 points: 0.30376553535461426 seconds\r\n",
      "Traceback (most recent call last):\r\n",
      "  File \"/kaggle/working/rfm-nmf/rfm/laplace_cifar10.py\", line 72, in <module>\r\n",
      "    laplace_model.fit(\r\n",
      "  File \"/kaggle/working/rfm-nmf/rfm/rfm/recursive_feature_machine.py\", line 238, in fit\r\n",
      "    self.fit_predictor(X_train, y_train, X_val=X_test, y_val=y_test,\r\n",
      "  File \"/kaggle/working/rfm-nmf/rfm/rfm/recursive_feature_machine.py\", line 137, in fit_predictor\r\n",
      "    self.weights = self.fit_predictor_nmf(centers, targets, bs=bs, lr_scale=lr_scale,\r\n",
      "  File \"/kaggle/working/rfm-nmf/rfm/rfm/recursive_feature_machine.py\", line 174, in fit_predictor_nmf\r\n",
      "    _ = ep_model.fit(centers, targets, verbose=verbose, mem_gb=self.mem_gb, bs=bs, lr_scale=lr_scale, **kwargs)\r\n",
      "  File \"/kaggle/working/rfm-nmf/rfm/rfm/nmfhtr.py\", line 190, in fit\r\n",
      "    W_nmf, H_nmf, nmf_norms = asm_nmf_fn(samples, self.kernel_fn, rank=n_labels, verbose=verbose)\r\n",
      "  File \"/kaggle/working/rfm-nmf/rfm/rfm/nmfhtr.py\", line 20, in asm_nmf_fn\r\n",
      "    W, H, norms = multiplicative_update(kernel_matrix, k=rank, max_iter=max_iter, init_mode=init_mode)\r\n",
      "  File \"/kaggle/working/rfm-nmf/rfm/rfm/nmf.py\", line 84, in multiplicative_update\r\n",
      "    W, H = nndsvd_initialization(A, k)\r\n",
      "  File \"/kaggle/working/rfm-nmf/rfm/rfm/nmf.py\", line 33, in nndsvd_initialization\r\n",
      "    u, s, v = np.linalg.svd(A, full_matrices=False)\r\n",
      "  File \"/usr/local/lib/python3.10/dist-packages/numpy/linalg/linalg.py\", line 1681, in svd\r\n",
      "    u, s, vh = gufunc(a, signature=signature, extobj=extobj)\r\n",
      "  File \"/usr/local/lib/python3.10/dist-packages/numpy/linalg/linalg.py\", line 121, in _raise_linalgerror_svd_nonconvergence\r\n",
      "    raise LinAlgError(\"SVD did not converge\")\r\n",
      "numpy.linalg.LinAlgError: SVD did not converge\r\n",
      "\u001b[1;34mwandb\u001b[0m: 🚀 View run \u001b[33mCIFAR10-LaplaceRFM\u001b[0m at: \u001b[34mhttps://wandb.ai/torong31-uit/rfm-nmf/runs/kswv04w0\u001b[0m\r\n",
      "\u001b[1;34mwandb\u001b[0m: Find logs at: \u001b[1;35mwandb/run-20250331_165735-kswv04w0/logs\u001b[0m\r\n"
     ]
    }
   ],
   "source": [
    "!python laplace_cifar10.py"
   ]
  }
 ],
 "metadata": {
  "kaggle": {
   "accelerator": "gpu",
   "dataSources": [],
   "dockerImageVersionId": 30918,
   "isGpuEnabled": true,
   "isInternetEnabled": true,
   "language": "python",
   "sourceType": "notebook"
  },
  "kernelspec": {
   "display_name": "Python 3",
   "language": "python",
   "name": "python3"
  },
  "language_info": {
   "codemirror_mode": {
    "name": "ipython",
    "version": 3
   },
   "file_extension": ".py",
   "mimetype": "text/x-python",
   "name": "python",
   "nbconvert_exporter": "python",
   "pygments_lexer": "ipython3",
   "version": "3.10.12"
  },
  "papermill": {
   "default_parameters": {},
   "duration": 807.270944,
   "end_time": "2025-03-31T17:10:27.376266",
   "environment_variables": {},
   "exception": null,
   "input_path": "__notebook__.ipynb",
   "output_path": "__notebook__.ipynb",
   "parameters": {},
   "start_time": "2025-03-31T16:57:00.105322",
   "version": "2.6.0"
  }
 },
 "nbformat": 4,
 "nbformat_minor": 5
}
