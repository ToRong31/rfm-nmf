{
 "cells": [
  {
   "cell_type": "code",
   "execution_count": 1,
   "id": "45999449",
   "metadata": {
    "_cell_guid": "b1076dfc-b9ad-4769-8c92-a6c4dae69d19",
    "_uuid": "8f2839f25d086af736a60e9eeb907d3b93b6e0e5",
    "execution": {
     "iopub.execute_input": "2025-03-27T19:41:10.352698Z",
     "iopub.status.busy": "2025-03-27T19:41:10.352379Z",
     "iopub.status.idle": "2025-03-27T19:41:18.240099Z",
     "shell.execute_reply": "2025-03-27T19:41:18.238861Z"
    },
    "papermill": {
     "duration": 7.892843,
     "end_time": "2025-03-27T19:41:18.241980",
     "exception": false,
     "start_time": "2025-03-27T19:41:10.349137",
     "status": "completed"
    },
    "tags": []
   },
   "outputs": [
    {
     "name": "stdout",
     "output_type": "stream",
     "text": [
      "Cloning into 'rfm-nmf'...\r\n",
      "remote: Enumerating objects: 210, done.\u001b[K\r\n",
      "remote: Counting objects: 100% (144/144), done.\u001b[K\r\n",
      "remote: Compressing objects: 100% (101/101), done.\u001b[K\r\n",
      "remote: Total 210 (delta 78), reused 99 (delta 43), pack-reused 66 (from 1)\u001b[K\r\n",
      "Receiving objects: 100% (210/210), 22.46 MiB | 18.75 MiB/s, done.\r\n",
      "Resolving deltas: 100% (91/91), done.\r\n",
      "Collecting hickle\r\n",
      "  Downloading hickle-5.0.3-py3-none-any.whl.metadata (22 kB)\r\n",
      "Requirement already satisfied: h5py>=2.10.0 in /usr/local/lib/python3.10/dist-packages (from hickle) (3.12.1)\r\n",
      "Requirement already satisfied: numpy!=1.20,>=1.8 in /usr/local/lib/python3.10/dist-packages (from hickle) (1.26.4)\r\n",
      "Requirement already satisfied: mkl_fft in /usr/local/lib/python3.10/dist-packages (from numpy!=1.20,>=1.8->hickle) (1.3.8)\r\n",
      "Requirement already satisfied: mkl_random in /usr/local/lib/python3.10/dist-packages (from numpy!=1.20,>=1.8->hickle) (1.2.4)\r\n",
      "Requirement already satisfied: mkl_umath in /usr/local/lib/python3.10/dist-packages (from numpy!=1.20,>=1.8->hickle) (0.1.1)\r\n",
      "Requirement already satisfied: mkl in /usr/local/lib/python3.10/dist-packages (from numpy!=1.20,>=1.8->hickle) (2025.0.1)\r\n",
      "Requirement already satisfied: tbb4py in /usr/local/lib/python3.10/dist-packages (from numpy!=1.20,>=1.8->hickle) (2022.0.0)\r\n",
      "Requirement already satisfied: mkl-service in /usr/local/lib/python3.10/dist-packages (from numpy!=1.20,>=1.8->hickle) (2.4.1)\r\n",
      "Requirement already satisfied: intel-openmp>=2024 in /usr/local/lib/python3.10/dist-packages (from mkl->numpy!=1.20,>=1.8->hickle) (2024.2.0)\r\n",
      "Requirement already satisfied: tbb==2022.* in /usr/local/lib/python3.10/dist-packages (from mkl->numpy!=1.20,>=1.8->hickle) (2022.0.0)\r\n",
      "Requirement already satisfied: tcmlib==1.* in /usr/local/lib/python3.10/dist-packages (from tbb==2022.*->mkl->numpy!=1.20,>=1.8->hickle) (1.2.0)\r\n",
      "Requirement already satisfied: intel-cmplr-lib-rt in /usr/local/lib/python3.10/dist-packages (from mkl_umath->numpy!=1.20,>=1.8->hickle) (2024.2.0)\r\n",
      "Requirement already satisfied: intel-cmplr-lib-ur==2024.2.0 in /usr/local/lib/python3.10/dist-packages (from intel-openmp>=2024->mkl->numpy!=1.20,>=1.8->hickle) (2024.2.0)\r\n",
      "Downloading hickle-5.0.3-py3-none-any.whl (107 kB)\r\n",
      "\u001b[2K   \u001b[90m━━━━━━━━━━━━━━━━━━━━━━━━━━━━━━━━━━━━━━━━\u001b[0m \u001b[32m108.0/108.0 kB\u001b[0m \u001b[31m6.6 MB/s\u001b[0m eta \u001b[36m0:00:00\u001b[0m\r\n",
      "\u001b[?25hInstalling collected packages: hickle\r\n",
      "Successfully installed hickle-5.0.3\r\n"
     ]
    }
   ],
   "source": [
    "!git clone https://github.com/ToRong31/rfm-nmf.git\n",
    "import sys\n",
    "sys.path.append('/kaggle/working/rfm-HTR/rfm/rfm')\n",
    "!pip install hickle\n",
    "!cd /kaggle/working/rfm-nmf/rfm"
   ]
  },
  {
   "cell_type": "code",
   "execution_count": 2,
   "id": "41e2cd63",
   "metadata": {
    "execution": {
     "iopub.execute_input": "2025-03-27T19:41:18.250248Z",
     "iopub.status.busy": "2025-03-27T19:41:18.249985Z",
     "iopub.status.idle": "2025-03-27T19:41:18.256175Z",
     "shell.execute_reply": "2025-03-27T19:41:18.255270Z"
    },
    "papermill": {
     "duration": 0.011508,
     "end_time": "2025-03-27T19:41:18.257343",
     "exception": false,
     "start_time": "2025-03-27T19:41:18.245835",
     "status": "completed"
    },
    "tags": []
   },
   "outputs": [
    {
     "name": "stdout",
     "output_type": "stream",
     "text": [
      "/kaggle/working/rfm-nmf/rfm\n"
     ]
    }
   ],
   "source": [
    "cd /kaggle/working/rfm-nmf/rfm"
   ]
  },
  {
   "cell_type": "code",
   "execution_count": 3,
   "id": "eea861d7",
   "metadata": {
    "execution": {
     "iopub.execute_input": "2025-03-27T19:41:18.263939Z",
     "iopub.status.busy": "2025-03-27T19:41:18.263690Z",
     "iopub.status.idle": "2025-03-27T19:41:18.382911Z",
     "shell.execute_reply": "2025-03-27T19:41:18.381514Z"
    },
    "papermill": {
     "duration": 0.124723,
     "end_time": "2025-03-27T19:41:18.385025",
     "exception": false,
     "start_time": "2025-03-27T19:41:18.260302",
     "status": "completed"
    },
    "tags": []
   },
   "outputs": [
    {
     "name": "stdout",
     "output_type": "stream",
     "text": [
      "celeba_experiments  LICENSE\t\t   setup.py\r\n",
      "data\t\t    low_rank.ipynb\t   svhn.ipynb\r\n",
      "example_notebooks   ntk.py\t\t   svhn.py\r\n",
      "Gauss.py\t    output.txt\t\t   tabular_benchmark_experiments\r\n",
      "generalized.py\t    phenomena_experiments  testhehe.ipynb\r\n",
      "laplace_cifar10.py  README.md\t\t   test.ipynb\r\n",
      "laplace.py\t    rfm\t\t\t   wandb\r\n"
     ]
    }
   ],
   "source": [
    "!ls"
   ]
  },
  {
   "cell_type": "code",
   "execution_count": 4,
   "id": "8a89df45",
   "metadata": {
    "execution": {
     "iopub.execute_input": "2025-03-27T19:41:18.392301Z",
     "iopub.status.busy": "2025-03-27T19:41:18.392058Z",
     "iopub.status.idle": "2025-03-27T19:41:18.395104Z",
     "shell.execute_reply": "2025-03-27T19:41:18.394511Z"
    },
    "papermill": {
     "duration": 0.007882,
     "end_time": "2025-03-27T19:41:18.396271",
     "exception": false,
     "start_time": "2025-03-27T19:41:18.388389",
     "status": "completed"
    },
    "tags": []
   },
   "outputs": [],
   "source": [
    "# !cd /kaggle/working/rfm-nmf && git pull"
   ]
  },
  {
   "cell_type": "code",
   "execution_count": 5,
   "id": "6f739d95",
   "metadata": {
    "execution": {
     "iopub.execute_input": "2025-03-27T19:41:18.403010Z",
     "iopub.status.busy": "2025-03-27T19:41:18.402799Z",
     "iopub.status.idle": "2025-03-27T19:41:52.559928Z",
     "shell.execute_reply": "2025-03-27T19:41:52.558868Z"
    },
    "papermill": {
     "duration": 34.162029,
     "end_time": "2025-03-27T19:41:52.561327",
     "exception": false,
     "start_time": "2025-03-27T19:41:18.399298",
     "status": "completed"
    },
    "tags": []
   },
   "outputs": [
    {
     "name": "stdout",
     "output_type": "stream",
     "text": [
      "\u001b[34m\u001b[1mwandb\u001b[0m: Using wandb-core as the SDK backend.  Please refer to https://wandb.me/wandb-core for more information.\r\n",
      "\u001b[34m\u001b[1mwandb\u001b[0m: Currently logged in as: \u001b[33mtorong31\u001b[0m (\u001b[33mtorong31-uit\u001b[0m). Use \u001b[1m`wandb login --relogin`\u001b[0m to force relogin\r\n",
      "\u001b[34m\u001b[1mwandb\u001b[0m: \u001b[33mWARNING\u001b[0m If you're specifying your api key in code, ensure this code is not shared publicly.\r\n",
      "\u001b[34m\u001b[1mwandb\u001b[0m: \u001b[33mWARNING\u001b[0m Consider setting the WANDB_API_KEY environment variable, or running `wandb login` from the command line.\r\n",
      "\u001b[34m\u001b[1mwandb\u001b[0m: Appending key for api.wandb.ai to your netrc file: /root/.netrc\r\n",
      "\u001b[34m\u001b[1mwandb\u001b[0m: Tracking run with wandb version 0.19.1\r\n",
      "\u001b[34m\u001b[1mwandb\u001b[0m: Run data is saved locally in \u001b[35m\u001b[1m/kaggle/working/rfm-nmf/rfm/wandb/run-20250327_194132-v7yfygr9\u001b[0m\r\n",
      "\u001b[34m\u001b[1mwandb\u001b[0m: Run \u001b[1m`wandb offline`\u001b[0m to turn off syncing.\r\n",
      "\u001b[34m\u001b[1mwandb\u001b[0m: Syncing run \u001b[33mTry3\u001b[0m\r\n",
      "\u001b[34m\u001b[1mwandb\u001b[0m: ⭐️ View project at \u001b[34m\u001b[4mhttps://wandb.ai/torong31-uit/rfm-nmf\u001b[0m\r\n",
      "\u001b[34m\u001b[1mwandb\u001b[0m: 🚀 View run at \u001b[34m\u001b[4mhttps://wandb.ai/torong31-uit/rfm-nmf/runs/v7yfygr9\u001b[0m\r\n",
      "2025-03-27 19:41:33,651 - Training LaplaceRFM\r\n",
      "Loaders provided\r\n",
      "Round 0, Test Acc: 92.12%\r\n",
      "Round 0, Test MSE: 0.0617\r\n",
      "2025-03-27 19:41:37,517 - NumExpr defaulting to 4 threads.\r\n",
      "Sampling AGOP on maximum of 10048 total points\r\n",
      "100%|█████████████████████████████████████████| 157/157 [00:03<00:00, 49.94it/s]\r\n",
      "Round 1, Test Acc: 93.52%\r\n",
      "Round 1, Test MSE: 0.0735\r\n",
      "Sampling AGOP on maximum of 10048 total points\r\n",
      "100%|█████████████████████████████████████████| 157/157 [00:03<00:00, 50.10it/s]\r\n",
      "Round 2, Test Acc: 92.06%\r\n",
      "Round 2, Test MSE: 0.0610\r\n",
      "Sampling AGOP on maximum of 10048 total points\r\n",
      "100%|█████████████████████████████████████████| 157/157 [00:02<00:00, 53.27it/s]\r\n",
      "Final MSE: 0.0528\r\n",
      "Final Test Acc: 90.96%\r\n",
      "\u001b[34m\u001b[1mwandb\u001b[0m:                                                                                \r\n",
      "\u001b[34m\u001b[1mwandb\u001b[0m: \r\n",
      "\u001b[34m\u001b[1mwandb\u001b[0m: Run history:\r\n",
      "\u001b[34m\u001b[1mwandb\u001b[0m:               epoch ▁▅█\r\n",
      "\u001b[34m\u001b[1mwandb\u001b[0m:      epoch_time_sec █▁▁\r\n",
      "\u001b[34m\u001b[1mwandb\u001b[0m:           final_mse ▁\r\n",
      "\u001b[34m\u001b[1mwandb\u001b[0m: final_test_accuracy ▁\r\n",
      "\u001b[34m\u001b[1mwandb\u001b[0m:       test_accuracy ▁█▁\r\n",
      "\u001b[34m\u001b[1mwandb\u001b[0m:            test_mse ▁█▁\r\n",
      "\u001b[34m\u001b[1mwandb\u001b[0m: \r\n",
      "\u001b[34m\u001b[1mwandb\u001b[0m: Run summary:\r\n",
      "\u001b[34m\u001b[1mwandb\u001b[0m:               epoch 2\r\n",
      "\u001b[34m\u001b[1mwandb\u001b[0m:      epoch_time_sec 0.28327\r\n",
      "\u001b[34m\u001b[1mwandb\u001b[0m:           final_mse 0.05281\r\n",
      "\u001b[34m\u001b[1mwandb\u001b[0m: final_test_accuracy 0.9096\r\n",
      "\u001b[34m\u001b[1mwandb\u001b[0m:       test_accuracy 0.9206\r\n",
      "\u001b[34m\u001b[1mwandb\u001b[0m:            test_mse 0.06097\r\n",
      "\u001b[34m\u001b[1mwandb\u001b[0m: \r\n",
      "\u001b[34m\u001b[1mwandb\u001b[0m: 🚀 View run \u001b[33mTry3\u001b[0m at: \u001b[34m\u001b[4mhttps://wandb.ai/torong31-uit/rfm-nmf/runs/v7yfygr9\u001b[0m\r\n",
      "\u001b[34m\u001b[1mwandb\u001b[0m: ⭐️ View project at: \u001b[34m\u001b[4mhttps://wandb.ai/torong31-uit/rfm-nmf\u001b[0m\r\n",
      "\u001b[34m\u001b[1mwandb\u001b[0m: Synced 5 W&B file(s), 0 media file(s), 0 artifact file(s) and 0 other file(s)\r\n",
      "\u001b[34m\u001b[1mwandb\u001b[0m: Find logs at: \u001b[35m\u001b[1m./wandb/run-20250327_194132-v7yfygr9/logs\u001b[0m\r\n"
     ]
    }
   ],
   "source": [
    "!python laplace.py"
   ]
  },
  {
   "cell_type": "code",
   "execution_count": 6,
   "id": "87e7e84a",
   "metadata": {
    "execution": {
     "iopub.execute_input": "2025-03-27T19:41:52.578018Z",
     "iopub.status.busy": "2025-03-27T19:41:52.577751Z",
     "iopub.status.idle": "2025-03-27T19:41:52.580841Z",
     "shell.execute_reply": "2025-03-27T19:41:52.580235Z"
    },
    "papermill": {
     "duration": 0.012401,
     "end_time": "2025-03-27T19:41:52.582023",
     "exception": false,
     "start_time": "2025-03-27T19:41:52.569622",
     "status": "completed"
    },
    "tags": []
   },
   "outputs": [],
   "source": [
    "# !python Gauss.py"
   ]
  },
  {
   "cell_type": "code",
   "execution_count": 7,
   "id": "013751aa",
   "metadata": {
    "execution": {
     "iopub.execute_input": "2025-03-27T19:41:52.596808Z",
     "iopub.status.busy": "2025-03-27T19:41:52.596590Z",
     "iopub.status.idle": "2025-03-27T19:41:52.599437Z",
     "shell.execute_reply": "2025-03-27T19:41:52.598823Z"
    },
    "papermill": {
     "duration": 0.01147,
     "end_time": "2025-03-27T19:41:52.600626",
     "exception": false,
     "start_time": "2025-03-27T19:41:52.589156",
     "status": "completed"
    },
    "tags": []
   },
   "outputs": [],
   "source": [
    "# !python generalized.py"
   ]
  },
  {
   "cell_type": "code",
   "execution_count": 8,
   "id": "4f37c3d9",
   "metadata": {
    "execution": {
     "iopub.execute_input": "2025-03-27T19:41:52.615468Z",
     "iopub.status.busy": "2025-03-27T19:41:52.615252Z",
     "iopub.status.idle": "2025-03-27T19:41:52.618030Z",
     "shell.execute_reply": "2025-03-27T19:41:52.617430Z"
    },
    "papermill": {
     "duration": 0.011301,
     "end_time": "2025-03-27T19:41:52.619117",
     "exception": false,
     "start_time": "2025-03-27T19:41:52.607816",
     "status": "completed"
    },
    "tags": []
   },
   "outputs": [],
   "source": [
    "# !python laplace_cifar10.py"
   ]
  }
 ],
 "metadata": {
  "kaggle": {
   "accelerator": "gpu",
   "dataSources": [],
   "dockerImageVersionId": 30918,
   "isGpuEnabled": true,
   "isInternetEnabled": true,
   "language": "python",
   "sourceType": "notebook"
  },
  "kernelspec": {
   "display_name": "Python 3",
   "language": "python",
   "name": "python3"
  },
  "language_info": {
   "codemirror_mode": {
    "name": "ipython",
    "version": 3
   },
   "file_extension": ".py",
   "mimetype": "text/x-python",
   "name": "python",
   "nbconvert_exporter": "python",
   "pygments_lexer": "ipython3",
   "version": "3.10.12"
  },
  "papermill": {
   "default_parameters": {},
   "duration": 45.18164,
   "end_time": "2025-03-27T19:41:52.943881",
   "environment_variables": {},
   "exception": null,
   "input_path": "__notebook__.ipynb",
   "output_path": "__notebook__.ipynb",
   "parameters": {},
   "start_time": "2025-03-27T19:41:07.762241",
   "version": "2.6.0"
  }
 },
 "nbformat": 4,
 "nbformat_minor": 5
}
