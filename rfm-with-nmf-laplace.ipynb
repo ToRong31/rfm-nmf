{
 "cells": [
  {
   "cell_type": "code",
   "execution_count": 1,
   "id": "2ffa4aa6",
   "metadata": {
    "_cell_guid": "b1076dfc-b9ad-4769-8c92-a6c4dae69d19",
    "_uuid": "8f2839f25d086af736a60e9eeb907d3b93b6e0e5",
    "execution": {
     "iopub.execute_input": "2025-03-31T17:19:16.225440Z",
     "iopub.status.busy": "2025-03-31T17:19:16.225129Z",
     "iopub.status.idle": "2025-03-31T17:19:23.137013Z",
     "shell.execute_reply": "2025-03-31T17:19:23.136020Z"
    },
    "papermill": {
     "duration": 6.916839,
     "end_time": "2025-03-31T17:19:23.138710",
     "exception": false,
     "start_time": "2025-03-31T17:19:16.221871",
     "status": "completed"
    },
    "tags": []
   },
   "outputs": [
    {
     "name": "stdout",
     "output_type": "stream",
     "text": [
      "Cloning into 'rfm-nmf'...\r\n",
      "remote: Enumerating objects: 251, done.\u001b[K\r\n",
      "remote: Counting objects: 100% (185/185), done.\u001b[K\r\n",
      "remote: Compressing objects: 100% (137/137), done.\u001b[K\r\n",
      "remote: Total 251 (delta 106), reused 111 (delta 48), pack-reused 66 (from 1)\u001b[K\r\n",
      "Receiving objects: 100% (251/251), 22.48 MiB | 32.19 MiB/s, done.\r\n",
      "Resolving deltas: 100% (119/119), done.\r\n",
      "Collecting hickle\r\n",
      "  Downloading hickle-5.0.3-py3-none-any.whl.metadata (22 kB)\r\n",
      "Requirement already satisfied: h5py>=2.10.0 in /usr/local/lib/python3.10/dist-packages (from hickle) (3.12.1)\r\n",
      "Requirement already satisfied: numpy!=1.20,>=1.8 in /usr/local/lib/python3.10/dist-packages (from hickle) (1.26.4)\r\n",
      "Requirement already satisfied: mkl_fft in /usr/local/lib/python3.10/dist-packages (from numpy!=1.20,>=1.8->hickle) (1.3.8)\r\n",
      "Requirement already satisfied: mkl_random in /usr/local/lib/python3.10/dist-packages (from numpy!=1.20,>=1.8->hickle) (1.2.4)\r\n",
      "Requirement already satisfied: mkl_umath in /usr/local/lib/python3.10/dist-packages (from numpy!=1.20,>=1.8->hickle) (0.1.1)\r\n",
      "Requirement already satisfied: mkl in /usr/local/lib/python3.10/dist-packages (from numpy!=1.20,>=1.8->hickle) (2025.0.1)\r\n",
      "Requirement already satisfied: tbb4py in /usr/local/lib/python3.10/dist-packages (from numpy!=1.20,>=1.8->hickle) (2022.0.0)\r\n",
      "Requirement already satisfied: mkl-service in /usr/local/lib/python3.10/dist-packages (from numpy!=1.20,>=1.8->hickle) (2.4.1)\r\n",
      "Requirement already satisfied: intel-openmp>=2024 in /usr/local/lib/python3.10/dist-packages (from mkl->numpy!=1.20,>=1.8->hickle) (2024.2.0)\r\n",
      "Requirement already satisfied: tbb==2022.* in /usr/local/lib/python3.10/dist-packages (from mkl->numpy!=1.20,>=1.8->hickle) (2022.0.0)\r\n",
      "Requirement already satisfied: tcmlib==1.* in /usr/local/lib/python3.10/dist-packages (from tbb==2022.*->mkl->numpy!=1.20,>=1.8->hickle) (1.2.0)\r\n",
      "Requirement already satisfied: intel-cmplr-lib-rt in /usr/local/lib/python3.10/dist-packages (from mkl_umath->numpy!=1.20,>=1.8->hickle) (2024.2.0)\r\n",
      "Requirement already satisfied: intel-cmplr-lib-ur==2024.2.0 in /usr/local/lib/python3.10/dist-packages (from intel-openmp>=2024->mkl->numpy!=1.20,>=1.8->hickle) (2024.2.0)\r\n",
      "Downloading hickle-5.0.3-py3-none-any.whl (107 kB)\r\n",
      "\u001b[2K   \u001b[90m━━━━━━━━━━━━━━━━━━━━━━━━━━━━━━━━━━━━━━━━\u001b[0m \u001b[32m108.0/108.0 kB\u001b[0m \u001b[31m6.2 MB/s\u001b[0m eta \u001b[36m0:00:00\u001b[0m\r\n",
      "\u001b[?25hInstalling collected packages: hickle\r\n",
      "Successfully installed hickle-5.0.3\r\n"
     ]
    }
   ],
   "source": [
    "!git clone https://github.com/ToRong31/rfm-nmf.git\n",
    "import sys\n",
    "sys.path.append('/kaggle/working/rfm-HTR/rfm/rfm')\n",
    "!pip install hickle\n",
    "!cd /kaggle/working/rfm-nmf/rfm"
   ]
  },
  {
   "cell_type": "code",
   "execution_count": 2,
   "id": "260e69ea",
   "metadata": {
    "execution": {
     "iopub.execute_input": "2025-03-31T17:19:23.146774Z",
     "iopub.status.busy": "2025-03-31T17:19:23.146467Z",
     "iopub.status.idle": "2025-03-31T17:19:23.152411Z",
     "shell.execute_reply": "2025-03-31T17:19:23.151704Z"
    },
    "papermill": {
     "duration": 0.011254,
     "end_time": "2025-03-31T17:19:23.153658",
     "exception": false,
     "start_time": "2025-03-31T17:19:23.142404",
     "status": "completed"
    },
    "tags": []
   },
   "outputs": [
    {
     "name": "stdout",
     "output_type": "stream",
     "text": [
      "/kaggle/working/rfm-nmf/rfm\n"
     ]
    }
   ],
   "source": [
    "cd /kaggle/working/rfm-nmf/rfm"
   ]
  },
  {
   "cell_type": "code",
   "execution_count": 3,
   "id": "5768d484",
   "metadata": {
    "execution": {
     "iopub.execute_input": "2025-03-31T17:19:23.160012Z",
     "iopub.status.busy": "2025-03-31T17:19:23.159799Z",
     "iopub.status.idle": "2025-03-31T17:19:23.277363Z",
     "shell.execute_reply": "2025-03-31T17:19:23.276553Z"
    },
    "papermill": {
     "duration": 0.122318,
     "end_time": "2025-03-31T17:19:23.278791",
     "exception": false,
     "start_time": "2025-03-31T17:19:23.156473",
     "status": "completed"
    },
    "tags": []
   },
   "outputs": [
    {
     "name": "stdout",
     "output_type": "stream",
     "text": [
      "celeba_experiments  LICENSE\t\t   setup.py\r\n",
      "data\t\t    low_rank.ipynb\t   svhn.ipynb\r\n",
      "example_notebooks   ntk.py\t\t   svhn.py\r\n",
      "Gauss.py\t    output.txt\t\t   tabular_benchmark_experiments\r\n",
      "generalized.py\t    phenomena_experiments  testhehe.ipynb\r\n",
      "laplace_cifar10.py  README.md\t\t   test.ipynb\r\n",
      "laplace.py\t    rfm\t\t\t   wandb\r\n"
     ]
    }
   ],
   "source": [
    "!ls"
   ]
  },
  {
   "cell_type": "code",
   "execution_count": 4,
   "id": "e6506dff",
   "metadata": {
    "execution": {
     "iopub.execute_input": "2025-03-31T17:19:23.285475Z",
     "iopub.status.busy": "2025-03-31T17:19:23.285214Z",
     "iopub.status.idle": "2025-03-31T17:19:23.288197Z",
     "shell.execute_reply": "2025-03-31T17:19:23.287625Z"
    },
    "papermill": {
     "duration": 0.007563,
     "end_time": "2025-03-31T17:19:23.289383",
     "exception": false,
     "start_time": "2025-03-31T17:19:23.281820",
     "status": "completed"
    },
    "tags": []
   },
   "outputs": [],
   "source": [
    "# !cd /kaggle/working/rfm-nmf && git pull"
   ]
  },
  {
   "cell_type": "code",
   "execution_count": 5,
   "id": "f7be4e32",
   "metadata": {
    "execution": {
     "iopub.execute_input": "2025-03-31T17:19:23.295723Z",
     "iopub.status.busy": "2025-03-31T17:19:23.295481Z",
     "iopub.status.idle": "2025-03-31T17:49:10.184222Z",
     "shell.execute_reply": "2025-03-31T17:49:10.183018Z"
    },
    "papermill": {
     "duration": 1786.893678,
     "end_time": "2025-03-31T17:49:10.185929",
     "exception": false,
     "start_time": "2025-03-31T17:19:23.292251",
     "status": "completed"
    },
    "tags": []
   },
   "outputs": [
    {
     "name": "stdout",
     "output_type": "stream",
     "text": [
      "\u001b[34m\u001b[1mwandb\u001b[0m: Using wandb-core as the SDK backend.  Please refer to https://wandb.me/wandb-core for more information.\r\n",
      "\u001b[34m\u001b[1mwandb\u001b[0m: Currently logged in as: \u001b[33mtorong31\u001b[0m (\u001b[33mtorong31-uit\u001b[0m). Use \u001b[1m`wandb login --relogin`\u001b[0m to force relogin\r\n",
      "\u001b[34m\u001b[1mwandb\u001b[0m: \u001b[33mWARNING\u001b[0m If you're specifying your api key in code, ensure this code is not shared publicly.\r\n",
      "\u001b[34m\u001b[1mwandb\u001b[0m: \u001b[33mWARNING\u001b[0m Consider setting the WANDB_API_KEY environment variable, or running `wandb login` from the command line.\r\n",
      "\u001b[34m\u001b[1mwandb\u001b[0m: Appending key for api.wandb.ai to your netrc file: /root/.netrc\r\n",
      "\u001b[34m\u001b[1mwandb\u001b[0m: Tracking run with wandb version 0.19.1\r\n",
      "\u001b[34m\u001b[1mwandb\u001b[0m: Run data is saved locally in \u001b[35m\u001b[1m/kaggle/working/rfm-nmf/rfm/wandb/run-20250331_171937-b1bjeue0\u001b[0m\r\n",
      "\u001b[34m\u001b[1mwandb\u001b[0m: Run \u001b[1m`wandb offline`\u001b[0m to turn off syncing.\r\n",
      "\u001b[34m\u001b[1mwandb\u001b[0m: Syncing run \u001b[33mTry3\u001b[0m\r\n",
      "\u001b[34m\u001b[1mwandb\u001b[0m: ⭐️ View project at \u001b[34m\u001b[4mhttps://wandb.ai/torong31-uit/rfm-nmf\u001b[0m\r\n",
      "\u001b[34m\u001b[1mwandb\u001b[0m: 🚀 View run at \u001b[34m\u001b[4mhttps://wandb.ai/torong31-uit/rfm-nmf/runs/b1bjeue0\u001b[0m\r\n",
      "2025-03-31 17:19:38,689 - Training LaplaceRFM\r\n",
      "Loaders provided\r\n",
      "Time taken to prefit nmf with 70000 points: 0.8478362560272217 seconds\r\n",
      "NMF with init='nndsvd' completed.\r\n",
      "Final reconstruction error (Frobenius norm): 99.6452\r\n",
      "Using NMF-based projection with rank=10, eta=0.0001, bs=10000\r\n",
      "100%|█████████████████████████████████████████████| 1/1 [00:00<00:00,  6.10it/s]\r\n",
      "(0 epochs, 0.2s)\ttrain mse: 0.0000 \tval mse: 0.0618\ttrain acc: 1.0000 \tval acc: 0.9215\r\n",
      "New best multiclass-acc: 0.9215\r\n",
      "Round 0, Test Acc: 92.15%\r\n",
      "Round 0, Test MSE: 0.0618\r\n",
      "Sampling AGOP on maximum of 10048 total points\r\n",
      "100%|█████████████████████████████████████████| 157/157 [00:03<00:00, 46.72it/s]\r\n",
      "Time taken to prefit nmf with 70000 points: 0.20672965049743652 seconds\r\n",
      "NMF with init='nndsvd' completed.\r\n",
      "Final reconstruction error (Frobenius norm): 99.6636\r\n",
      "Using NMF-based projection with rank=10, eta=0.0001, bs=10000\r\n",
      "100%|████████████████████████████████████████████| 1/1 [00:00<00:00, 559.46it/s]\r\n",
      "(0 epochs, 0.0s)\ttrain mse: 0.0000 \tval mse: 0.0732\ttrain acc: 1.0000 \tval acc: 0.9357\r\n",
      "New best multiclass-acc: 0.9357\r\n",
      "Round 1, Test Acc: 93.57%\r\n",
      "Round 1, Test MSE: 0.0732\r\n",
      "Sampling AGOP on maximum of 10048 total points\r\n",
      "100%|█████████████████████████████████████████| 157/157 [00:03<00:00, 50.12it/s]\r\n",
      "Time taken to prefit nmf with 70000 points: 0.20915937423706055 seconds\r\n",
      "NMF with init='nndsvd' completed.\r\n",
      "Final reconstruction error (Frobenius norm): 99.7269\r\n",
      "Using NMF-based projection with rank=10, eta=0.0001, bs=10000\r\n",
      "100%|████████████████████████████████████████████| 1/1 [00:00<00:00, 752.07it/s]\r\n",
      "(0 epochs, 0.0s)\ttrain mse: 0.0000 \tval mse: 0.0627\ttrain acc: 1.0000 \tval acc: 0.9213\r\n",
      "New best multiclass-acc: 0.9213\r\n",
      "Round 2, Test Acc: 92.13%\r\n",
      "Round 2, Test MSE: 0.0627\r\n",
      "Sampling AGOP on maximum of 10048 total points\r\n",
      "100%|█████████████████████████████████████████| 157/157 [00:03<00:00, 48.31it/s]\r\n",
      "Time taken to prefit nmf with 70000 points: 0.2091202735900879 seconds\r\n",
      "NMF with init='nndsvd' completed.\r\n",
      "Final reconstruction error (Frobenius norm): 100.0820\r\n",
      "Using NMF-based projection with rank=10, eta=0.0001, bs=10000\r\n",
      "100%|████████████████████████████████████████████| 1/1 [00:00<00:00, 705.99it/s]\r\n",
      "(0 epochs, 0.0s)\ttrain mse: 0.0000 \tval mse: 0.0508\ttrain acc: 1.0000 \tval acc: 0.9103\r\n",
      "New best multiclass-acc: 0.9103\r\n",
      "Final MSE: 0.0508\r\n",
      "Final Test Acc: 91.03%\r\n",
      "\u001b[34m\u001b[1mwandb\u001b[0m:                                                                                \r\n",
      "\u001b[34m\u001b[1mwandb\u001b[0m: 🚀 View run \u001b[33mTry3\u001b[0m at: \u001b[34m\u001b[4mhttps://wandb.ai/torong31-uit/rfm-nmf/runs/b1bjeue0\u001b[0m\r\n",
      "\u001b[34m\u001b[1mwandb\u001b[0m: ⭐️ View project at: \u001b[34m\u001b[4mhttps://wandb.ai/torong31-uit/rfm-nmf\u001b[0m\r\n",
      "\u001b[34m\u001b[1mwandb\u001b[0m: Synced 5 W&B file(s), 0 media file(s), 0 artifact file(s) and 0 other file(s)\r\n",
      "\u001b[34m\u001b[1mwandb\u001b[0m: Find logs at: \u001b[35m\u001b[1m./wandb/run-20250331_171937-b1bjeue0/logs\u001b[0m\r\n"
     ]
    }
   ],
   "source": [
    "!python laplace.py"
   ]
  },
  {
   "cell_type": "code",
   "execution_count": 6,
   "id": "7554892a",
   "metadata": {
    "execution": {
     "iopub.execute_input": "2025-03-31T17:49:10.203225Z",
     "iopub.status.busy": "2025-03-31T17:49:10.202945Z",
     "iopub.status.idle": "2025-03-31T17:49:10.206418Z",
     "shell.execute_reply": "2025-03-31T17:49:10.205647Z"
    },
    "papermill": {
     "duration": 0.013373,
     "end_time": "2025-03-31T17:49:10.207660",
     "exception": false,
     "start_time": "2025-03-31T17:49:10.194287",
     "status": "completed"
    },
    "tags": []
   },
   "outputs": [],
   "source": [
    "# !python Gauss.py"
   ]
  },
  {
   "cell_type": "code",
   "execution_count": 7,
   "id": "196952a2",
   "metadata": {
    "execution": {
     "iopub.execute_input": "2025-03-31T17:49:10.223986Z",
     "iopub.status.busy": "2025-03-31T17:49:10.223787Z",
     "iopub.status.idle": "2025-03-31T17:49:10.226345Z",
     "shell.execute_reply": "2025-03-31T17:49:10.225782Z"
    },
    "papermill": {
     "duration": 0.011938,
     "end_time": "2025-03-31T17:49:10.227440",
     "exception": false,
     "start_time": "2025-03-31T17:49:10.215502",
     "status": "completed"
    },
    "tags": []
   },
   "outputs": [],
   "source": [
    "# !python generalized.py"
   ]
  },
  {
   "cell_type": "code",
   "execution_count": 8,
   "id": "7dd9f494",
   "metadata": {
    "execution": {
     "iopub.execute_input": "2025-03-31T17:49:10.244176Z",
     "iopub.status.busy": "2025-03-31T17:49:10.243979Z",
     "iopub.status.idle": "2025-03-31T17:49:10.246517Z",
     "shell.execute_reply": "2025-03-31T17:49:10.245965Z"
    },
    "papermill": {
     "duration": 0.012296,
     "end_time": "2025-03-31T17:49:10.247761",
     "exception": false,
     "start_time": "2025-03-31T17:49:10.235465",
     "status": "completed"
    },
    "tags": []
   },
   "outputs": [],
   "source": [
    "# !python laplace_cifar10.py"
   ]
  }
 ],
 "metadata": {
  "kaggle": {
   "accelerator": "gpu",
   "dataSources": [],
   "dockerImageVersionId": 30918,
   "isGpuEnabled": true,
   "isInternetEnabled": true,
   "language": "python",
   "sourceType": "notebook"
  },
  "kernelspec": {
   "display_name": "Python 3",
   "language": "python",
   "name": "python3"
  },
  "language_info": {
   "codemirror_mode": {
    "name": "ipython",
    "version": 3
   },
   "file_extension": ".py",
   "mimetype": "text/x-python",
   "name": "python",
   "nbconvert_exporter": "python",
   "pygments_lexer": "ipython3",
   "version": "3.10.12"
  },
  "papermill": {
   "default_parameters": {},
   "duration": 1796.85761,
   "end_time": "2025-03-31T17:49:10.573804",
   "environment_variables": {},
   "exception": null,
   "input_path": "__notebook__.ipynb",
   "output_path": "__notebook__.ipynb",
   "parameters": {},
   "start_time": "2025-03-31T17:19:13.716194",
   "version": "2.6.0"
  }
 },
 "nbformat": 4,
 "nbformat_minor": 5
}
