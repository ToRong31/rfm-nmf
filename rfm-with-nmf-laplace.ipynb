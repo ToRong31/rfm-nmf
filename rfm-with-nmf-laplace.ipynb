{
 "cells": [
  {
   "cell_type": "code",
   "execution_count": 1,
   "id": "e0a57b1d",
   "metadata": {
    "_cell_guid": "b1076dfc-b9ad-4769-8c92-a6c4dae69d19",
    "_uuid": "8f2839f25d086af736a60e9eeb907d3b93b6e0e5",
    "execution": {
     "iopub.execute_input": "2025-04-04T02:00:37.255225Z",
     "iopub.status.busy": "2025-04-04T02:00:37.254959Z",
     "iopub.status.idle": "2025-04-04T02:00:45.087012Z",
     "shell.execute_reply": "2025-04-04T02:00:45.085844Z"
    },
    "papermill": {
     "duration": 7.837191,
     "end_time": "2025-04-04T02:00:45.088748",
     "exception": false,
     "start_time": "2025-04-04T02:00:37.251557",
     "status": "completed"
    },
    "tags": []
   },
   "outputs": [
    {
     "name": "stdout",
     "output_type": "stream",
     "text": [
      "Cloning into 'rfm-nmf'...\r\n",
      "remote: Enumerating objects: 290, done.\u001b[K\r\n",
      "remote: Counting objects: 100% (224/224), done.\u001b[K\r\n",
      "remote: Compressing objects: 100% (171/171), done.\u001b[K\r\n",
      "remote: Total 290 (delta 135), reused 119 (delta 53), pack-reused 66 (from 1)\u001b[K\r\n",
      "Receiving objects: 100% (290/290), 22.49 MiB | 19.06 MiB/s, done.\r\n",
      "Resolving deltas: 100% (148/148), done.\r\n",
      "Collecting hickle\r\n",
      "  Downloading hickle-5.0.3-py3-none-any.whl.metadata (22 kB)\r\n",
      "Requirement already satisfied: h5py>=2.10.0 in /usr/local/lib/python3.10/dist-packages (from hickle) (3.12.1)\r\n",
      "Requirement already satisfied: numpy!=1.20,>=1.8 in /usr/local/lib/python3.10/dist-packages (from hickle) (1.26.4)\r\n",
      "Requirement already satisfied: mkl_fft in /usr/local/lib/python3.10/dist-packages (from numpy!=1.20,>=1.8->hickle) (1.3.8)\r\n",
      "Requirement already satisfied: mkl_random in /usr/local/lib/python3.10/dist-packages (from numpy!=1.20,>=1.8->hickle) (1.2.4)\r\n",
      "Requirement already satisfied: mkl_umath in /usr/local/lib/python3.10/dist-packages (from numpy!=1.20,>=1.8->hickle) (0.1.1)\r\n",
      "Requirement already satisfied: mkl in /usr/local/lib/python3.10/dist-packages (from numpy!=1.20,>=1.8->hickle) (2025.0.1)\r\n",
      "Requirement already satisfied: tbb4py in /usr/local/lib/python3.10/dist-packages (from numpy!=1.20,>=1.8->hickle) (2022.0.0)\r\n",
      "Requirement already satisfied: mkl-service in /usr/local/lib/python3.10/dist-packages (from numpy!=1.20,>=1.8->hickle) (2.4.1)\r\n",
      "Requirement already satisfied: intel-openmp>=2024 in /usr/local/lib/python3.10/dist-packages (from mkl->numpy!=1.20,>=1.8->hickle) (2024.2.0)\r\n",
      "Requirement already satisfied: tbb==2022.* in /usr/local/lib/python3.10/dist-packages (from mkl->numpy!=1.20,>=1.8->hickle) (2022.0.0)\r\n",
      "Requirement already satisfied: tcmlib==1.* in /usr/local/lib/python3.10/dist-packages (from tbb==2022.*->mkl->numpy!=1.20,>=1.8->hickle) (1.2.0)\r\n",
      "Requirement already satisfied: intel-cmplr-lib-rt in /usr/local/lib/python3.10/dist-packages (from mkl_umath->numpy!=1.20,>=1.8->hickle) (2024.2.0)\r\n",
      "Requirement already satisfied: intel-cmplr-lib-ur==2024.2.0 in /usr/local/lib/python3.10/dist-packages (from intel-openmp>=2024->mkl->numpy!=1.20,>=1.8->hickle) (2024.2.0)\r\n",
      "Downloading hickle-5.0.3-py3-none-any.whl (107 kB)\r\n",
      "\u001b[2K   \u001b[90m━━━━━━━━━━━━━━━━━━━━━━━━━━━━━━━━━━━━━━━━\u001b[0m \u001b[32m108.0/108.0 kB\u001b[0m \u001b[31m8.2 MB/s\u001b[0m eta \u001b[36m0:00:00\u001b[0m\r\n",
      "\u001b[?25hInstalling collected packages: hickle\r\n",
      "Successfully installed hickle-5.0.3\r\n"
     ]
    }
   ],
   "source": [
    "!git clone https://github.com/ToRong31/rfm-nmf.git\n",
    "import sys\n",
    "sys.path.append('/kaggle/working/rfm-HTR/rfm/rfm')\n",
    "!pip install hickle\n",
    "!cd /kaggle/working/rfm-nmf/rfm"
   ]
  },
  {
   "cell_type": "code",
   "execution_count": 2,
   "id": "ddb3ae03",
   "metadata": {
    "execution": {
     "iopub.execute_input": "2025-04-04T02:00:45.096313Z",
     "iopub.status.busy": "2025-04-04T02:00:45.096073Z",
     "iopub.status.idle": "2025-04-04T02:00:45.101784Z",
     "shell.execute_reply": "2025-04-04T02:00:45.101065Z"
    },
    "papermill": {
     "duration": 0.010386,
     "end_time": "2025-04-04T02:00:45.102934",
     "exception": false,
     "start_time": "2025-04-04T02:00:45.092548",
     "status": "completed"
    },
    "tags": []
   },
   "outputs": [
    {
     "name": "stdout",
     "output_type": "stream",
     "text": [
      "/kaggle/working/rfm-nmf/rfm\n"
     ]
    }
   ],
   "source": [
    "cd /kaggle/working/rfm-nmf/rfm"
   ]
  },
  {
   "cell_type": "code",
   "execution_count": 3,
   "id": "57eff9fa",
   "metadata": {
    "execution": {
     "iopub.execute_input": "2025-04-04T02:00:45.109281Z",
     "iopub.status.busy": "2025-04-04T02:00:45.109082Z",
     "iopub.status.idle": "2025-04-04T02:00:45.227554Z",
     "shell.execute_reply": "2025-04-04T02:00:45.226741Z"
    },
    "papermill": {
     "duration": 0.123212,
     "end_time": "2025-04-04T02:00:45.229089",
     "exception": false,
     "start_time": "2025-04-04T02:00:45.105877",
     "status": "completed"
    },
    "tags": []
   },
   "outputs": [
    {
     "name": "stdout",
     "output_type": "stream",
     "text": [
      "celeba_experiments  LICENSE\t\t   setup.py\r\n",
      "data\t\t    low_rank.ipynb\t   svhn.ipynb\r\n",
      "example_notebooks   ntk.py\t\t   svhn.py\r\n",
      "Gauss.py\t    output.txt\t\t   tabular_benchmark_experiments\r\n",
      "generalized.py\t    phenomena_experiments  testhehe.ipynb\r\n",
      "laplace_cifar10.py  README.md\t\t   test.ipynb\r\n",
      "laplace.py\t    rfm\t\t\t   wandb\r\n"
     ]
    }
   ],
   "source": [
    "!ls"
   ]
  },
  {
   "cell_type": "code",
   "execution_count": 4,
   "id": "1334889b",
   "metadata": {
    "execution": {
     "iopub.execute_input": "2025-04-04T02:00:45.236310Z",
     "iopub.status.busy": "2025-04-04T02:00:45.236059Z",
     "iopub.status.idle": "2025-04-04T02:00:45.239358Z",
     "shell.execute_reply": "2025-04-04T02:00:45.238555Z"
    },
    "papermill": {
     "duration": 0.008272,
     "end_time": "2025-04-04T02:00:45.240644",
     "exception": false,
     "start_time": "2025-04-04T02:00:45.232372",
     "status": "completed"
    },
    "tags": []
   },
   "outputs": [],
   "source": [
    "# !cd /kaggle/working/rfm-nmf && git pull"
   ]
  },
  {
   "cell_type": "code",
   "execution_count": 5,
   "id": "ededfa7e",
   "metadata": {
    "execution": {
     "iopub.execute_input": "2025-04-04T02:00:45.247362Z",
     "iopub.status.busy": "2025-04-04T02:00:45.247137Z",
     "iopub.status.idle": "2025-04-04T02:00:45.249858Z",
     "shell.execute_reply": "2025-04-04T02:00:45.249211Z"
    },
    "papermill": {
     "duration": 0.007228,
     "end_time": "2025-04-04T02:00:45.251120",
     "exception": false,
     "start_time": "2025-04-04T02:00:45.243892",
     "status": "completed"
    },
    "tags": []
   },
   "outputs": [],
   "source": [
    "# !python laplace.py"
   ]
  },
  {
   "cell_type": "code",
   "execution_count": 6,
   "id": "65c66360",
   "metadata": {
    "execution": {
     "iopub.execute_input": "2025-04-04T02:00:45.257546Z",
     "iopub.status.busy": "2025-04-04T02:00:45.257325Z",
     "iopub.status.idle": "2025-04-04T02:01:21.669434Z",
     "shell.execute_reply": "2025-04-04T02:01:21.668551Z"
    },
    "papermill": {
     "duration": 36.417046,
     "end_time": "2025-04-04T02:01:21.671047",
     "exception": false,
     "start_time": "2025-04-04T02:00:45.254001",
     "status": "completed"
    },
    "tags": []
   },
   "outputs": [
    {
     "name": "stdout",
     "output_type": "stream",
     "text": [
      "\u001b[34m\u001b[1mwandb\u001b[0m: Using wandb-core as the SDK backend.  Please refer to https://wandb.me/wandb-core for more information.\r\n",
      "\u001b[34m\u001b[1mwandb\u001b[0m: Currently logged in as: \u001b[33mtorong31\u001b[0m (\u001b[33mtorong31-uit\u001b[0m). Use \u001b[1m`wandb login --relogin`\u001b[0m to force relogin\r\n",
      "\u001b[34m\u001b[1mwandb\u001b[0m: \u001b[33mWARNING\u001b[0m If you're specifying your api key in code, ensure this code is not shared publicly.\r\n",
      "\u001b[34m\u001b[1mwandb\u001b[0m: \u001b[33mWARNING\u001b[0m Consider setting the WANDB_API_KEY environment variable, or running `wandb login` from the command line.\r\n",
      "\u001b[34m\u001b[1mwandb\u001b[0m: Appending key for api.wandb.ai to your netrc file: /root/.netrc\r\n",
      "\u001b[34m\u001b[1mwandb\u001b[0m: Tracking run with wandb version 0.19.1\r\n",
      "\u001b[34m\u001b[1mwandb\u001b[0m: Run data is saved locally in \u001b[35m\u001b[1m/kaggle/working/rfm-nmf/rfm/wandb/run-20250404_020059-pco9euiv\u001b[0m\r\n",
      "\u001b[34m\u001b[1mwandb\u001b[0m: Run \u001b[1m`wandb offline`\u001b[0m to turn off syncing.\r\n",
      "\u001b[34m\u001b[1mwandb\u001b[0m: Syncing run \u001b[33mGausse\u001b[0m\r\n",
      "\u001b[34m\u001b[1mwandb\u001b[0m: ⭐️ View project at \u001b[34m\u001b[4mhttps://wandb.ai/torong31-uit/rfm-nmf\u001b[0m\r\n",
      "\u001b[34m\u001b[1mwandb\u001b[0m: 🚀 View run at \u001b[34m\u001b[4mhttps://wandb.ai/torong31-uit/rfm-nmf/runs/pco9euiv\u001b[0m\r\n",
      "2025-04-04 02:01:00,801 - Training GaussRFM\r\n",
      "Loaders provided\r\n",
      "Round 0, Test Acc: 95.36%\r\n",
      "Round 0, Test MSE: 0.0928\r\n",
      "2025-04-04 02:01:04,765 - NumExpr defaulting to 4 threads.\r\n",
      "Sampling AGOP on maximum of 10048 total points\r\n",
      "100%|█████████████████████████████████████████| 157/157 [00:03<00:00, 41.76it/s]\r\n",
      "Round 1, Test Acc: 92.62%\r\n",
      "Round 1, Test MSE: 0.0453\r\n",
      "Sampling AGOP on maximum of 10048 total points\r\n",
      "100%|█████████████████████████████████████████| 157/157 [00:03<00:00, 42.64it/s]\r\n",
      "Round 2, Test Acc: 91.38%\r\n",
      "Round 2, Test MSE: 0.0646\r\n",
      "Sampling AGOP on maximum of 10048 total points\r\n",
      "100%|█████████████████████████████████████████| 157/157 [00:03<00:00, 42.75it/s]\r\n",
      "Final MSE: 0.0611\r\n",
      "Final Test Acc: 90.38%\r\n",
      "\u001b[34m\u001b[1mwandb\u001b[0m:                                                                                \r\n",
      "\u001b[34m\u001b[1mwandb\u001b[0m: \r\n",
      "\u001b[34m\u001b[1mwandb\u001b[0m: Run history:\r\n",
      "\u001b[34m\u001b[1mwandb\u001b[0m:               epoch ▁▅█\r\n",
      "\u001b[34m\u001b[1mwandb\u001b[0m:      epoch_time_sec █▁▁\r\n",
      "\u001b[34m\u001b[1mwandb\u001b[0m:           final_mse ▁\r\n",
      "\u001b[34m\u001b[1mwandb\u001b[0m: final_test_accuracy ▁\r\n",
      "\u001b[34m\u001b[1mwandb\u001b[0m:       test_accuracy █▃▁\r\n",
      "\u001b[34m\u001b[1mwandb\u001b[0m:            test_mse █▁▄\r\n",
      "\u001b[34m\u001b[1mwandb\u001b[0m: \r\n",
      "\u001b[34m\u001b[1mwandb\u001b[0m: Run summary:\r\n",
      "\u001b[34m\u001b[1mwandb\u001b[0m:               epoch 2\r\n",
      "\u001b[34m\u001b[1mwandb\u001b[0m:      epoch_time_sec 0.27228\r\n",
      "\u001b[34m\u001b[1mwandb\u001b[0m:           final_mse 0.06113\r\n",
      "\u001b[34m\u001b[1mwandb\u001b[0m: final_test_accuracy 0.9038\r\n",
      "\u001b[34m\u001b[1mwandb\u001b[0m:       test_accuracy 0.9138\r\n",
      "\u001b[34m\u001b[1mwandb\u001b[0m:            test_mse 0.06461\r\n",
      "\u001b[34m\u001b[1mwandb\u001b[0m: \r\n",
      "\u001b[34m\u001b[1mwandb\u001b[0m: 🚀 View run \u001b[33mGausse\u001b[0m at: \u001b[34m\u001b[4mhttps://wandb.ai/torong31-uit/rfm-nmf/runs/pco9euiv\u001b[0m\r\n",
      "\u001b[34m\u001b[1mwandb\u001b[0m: ⭐️ View project at: \u001b[34m\u001b[4mhttps://wandb.ai/torong31-uit/rfm-nmf\u001b[0m\r\n",
      "\u001b[34m\u001b[1mwandb\u001b[0m: Synced 5 W&B file(s), 0 media file(s), 0 artifact file(s) and 0 other file(s)\r\n",
      "\u001b[34m\u001b[1mwandb\u001b[0m: Find logs at: \u001b[35m\u001b[1m./wandb/run-20250404_020059-pco9euiv/logs\u001b[0m\r\n"
     ]
    }
   ],
   "source": [
    "!python Gauss.py"
   ]
  },
  {
   "cell_type": "code",
   "execution_count": 7,
   "id": "79f61670",
   "metadata": {
    "execution": {
     "iopub.execute_input": "2025-04-04T02:01:21.688269Z",
     "iopub.status.busy": "2025-04-04T02:01:21.688003Z",
     "iopub.status.idle": "2025-04-04T02:01:21.691291Z",
     "shell.execute_reply": "2025-04-04T02:01:21.690490Z"
    },
    "papermill": {
     "duration": 0.013185,
     "end_time": "2025-04-04T02:01:21.692579",
     "exception": false,
     "start_time": "2025-04-04T02:01:21.679394",
     "status": "completed"
    },
    "tags": []
   },
   "outputs": [],
   "source": [
    "# !python generalized.py"
   ]
  },
  {
   "cell_type": "code",
   "execution_count": 8,
   "id": "0261559f",
   "metadata": {
    "execution": {
     "iopub.execute_input": "2025-04-04T02:01:21.708941Z",
     "iopub.status.busy": "2025-04-04T02:01:21.708723Z",
     "iopub.status.idle": "2025-04-04T02:01:21.711537Z",
     "shell.execute_reply": "2025-04-04T02:01:21.710952Z"
    },
    "papermill": {
     "duration": 0.01226,
     "end_time": "2025-04-04T02:01:21.712626",
     "exception": false,
     "start_time": "2025-04-04T02:01:21.700366",
     "status": "completed"
    },
    "tags": []
   },
   "outputs": [],
   "source": [
    "# !python laplace_cifar10.py"
   ]
  }
 ],
 "metadata": {
  "kaggle": {
   "accelerator": "gpu",
   "dataSources": [],
   "dockerImageVersionId": 30918,
   "isGpuEnabled": true,
   "isInternetEnabled": true,
   "language": "python",
   "sourceType": "notebook"
  },
  "kernelspec": {
   "display_name": "Python 3",
   "language": "python",
   "name": "python3"
  },
  "language_info": {
   "codemirror_mode": {
    "name": "ipython",
    "version": 3
   },
   "file_extension": ".py",
   "mimetype": "text/x-python",
   "name": "python",
   "nbconvert_exporter": "python",
   "pygments_lexer": "ipython3",
   "version": "3.10.12"
  },
  "papermill": {
   "default_parameters": {},
   "duration": 47.371185,
   "end_time": "2025-04-04T02:01:22.036969",
   "environment_variables": {},
   "exception": null,
   "input_path": "__notebook__.ipynb",
   "output_path": "__notebook__.ipynb",
   "parameters": {},
   "start_time": "2025-04-04T02:00:34.665784",
   "version": "2.6.0"
  }
 },
 "nbformat": 4,
 "nbformat_minor": 5
}
