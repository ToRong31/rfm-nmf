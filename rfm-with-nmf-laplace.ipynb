{
 "cells": [
  {
   "cell_type": "code",
   "execution_count": 1,
   "id": "824642b0",
   "metadata": {
    "_cell_guid": "b1076dfc-b9ad-4769-8c92-a6c4dae69d19",
    "_uuid": "8f2839f25d086af736a60e9eeb907d3b93b6e0e5",
    "execution": {
     "iopub.execute_input": "2025-04-04T11:15:19.311385Z",
     "iopub.status.busy": "2025-04-04T11:15:19.311179Z",
     "iopub.status.idle": "2025-04-04T11:15:26.099417Z",
     "shell.execute_reply": "2025-04-04T11:15:26.098461Z"
    },
    "papermill": {
     "duration": 6.793006,
     "end_time": "2025-04-04T11:15:26.101138",
     "exception": false,
     "start_time": "2025-04-04T11:15:19.308132",
     "status": "completed"
    },
    "tags": []
   },
   "outputs": [
    {
     "name": "stdout",
     "output_type": "stream",
     "text": [
      "Cloning into 'rfm-nmf'...\r\n",
      "remote: Enumerating objects: 372, done.\u001b[K\r\n",
      "remote: Counting objects: 100% (85/85), done.\u001b[K\r\n",
      "remote: Compressing objects: 100% (39/39), done.\u001b[K\r\n",
      "remote: Total 372 (delta 67), reused 55 (delta 46), pack-reused 287 (from 1)\u001b[K\r\n",
      "Receiving objects: 100% (372/372), 22.51 MiB | 27.67 MiB/s, done.\r\n",
      "Resolving deltas: 100% (214/214), done.\r\n",
      "Collecting hickle\r\n",
      "  Downloading hickle-5.0.3-py3-none-any.whl.metadata (22 kB)\r\n",
      "Requirement already satisfied: h5py>=2.10.0 in /usr/local/lib/python3.10/dist-packages (from hickle) (3.12.1)\r\n",
      "Requirement already satisfied: numpy!=1.20,>=1.8 in /usr/local/lib/python3.10/dist-packages (from hickle) (1.26.4)\r\n",
      "Requirement already satisfied: mkl_fft in /usr/local/lib/python3.10/dist-packages (from numpy!=1.20,>=1.8->hickle) (1.3.8)\r\n",
      "Requirement already satisfied: mkl_random in /usr/local/lib/python3.10/dist-packages (from numpy!=1.20,>=1.8->hickle) (1.2.4)\r\n",
      "Requirement already satisfied: mkl_umath in /usr/local/lib/python3.10/dist-packages (from numpy!=1.20,>=1.8->hickle) (0.1.1)\r\n",
      "Requirement already satisfied: mkl in /usr/local/lib/python3.10/dist-packages (from numpy!=1.20,>=1.8->hickle) (2025.0.1)\r\n",
      "Requirement already satisfied: tbb4py in /usr/local/lib/python3.10/dist-packages (from numpy!=1.20,>=1.8->hickle) (2022.0.0)\r\n",
      "Requirement already satisfied: mkl-service in /usr/local/lib/python3.10/dist-packages (from numpy!=1.20,>=1.8->hickle) (2.4.1)\r\n",
      "Requirement already satisfied: intel-openmp>=2024 in /usr/local/lib/python3.10/dist-packages (from mkl->numpy!=1.20,>=1.8->hickle) (2024.2.0)\r\n",
      "Requirement already satisfied: tbb==2022.* in /usr/local/lib/python3.10/dist-packages (from mkl->numpy!=1.20,>=1.8->hickle) (2022.0.0)\r\n",
      "Requirement already satisfied: tcmlib==1.* in /usr/local/lib/python3.10/dist-packages (from tbb==2022.*->mkl->numpy!=1.20,>=1.8->hickle) (1.2.0)\r\n",
      "Requirement already satisfied: intel-cmplr-lib-rt in /usr/local/lib/python3.10/dist-packages (from mkl_umath->numpy!=1.20,>=1.8->hickle) (2024.2.0)\r\n",
      "Requirement already satisfied: intel-cmplr-lib-ur==2024.2.0 in /usr/local/lib/python3.10/dist-packages (from intel-openmp>=2024->mkl->numpy!=1.20,>=1.8->hickle) (2024.2.0)\r\n",
      "Downloading hickle-5.0.3-py3-none-any.whl (107 kB)\r\n",
      "\u001b[2K   \u001b[90m━━━━━━━━━━━━━━━━━━━━━━━━━━━━━━━━━━━━━━━━\u001b[0m \u001b[32m108.0/108.0 kB\u001b[0m \u001b[31m3.6 MB/s\u001b[0m eta \u001b[36m0:00:00\u001b[0m\r\n",
      "\u001b[?25hInstalling collected packages: hickle\r\n",
      "Successfully installed hickle-5.0.3\r\n"
     ]
    }
   ],
   "source": [
    "!git clone https://github.com/ToRong31/rfm-nmf.git\n",
    "import sys\n",
    "sys.path.append('/kaggle/working/rfm-HTR/rfm/rfm')\n",
    "!pip install hickle\n",
    "!cd /kaggle/working/rfm-nmf/rfm"
   ]
  },
  {
   "cell_type": "code",
   "execution_count": 2,
   "id": "94cbf6b3",
   "metadata": {
    "execution": {
     "iopub.execute_input": "2025-04-04T11:15:26.108536Z",
     "iopub.status.busy": "2025-04-04T11:15:26.108217Z",
     "iopub.status.idle": "2025-04-04T11:15:26.114837Z",
     "shell.execute_reply": "2025-04-04T11:15:26.114020Z"
    },
    "papermill": {
     "duration": 0.011246,
     "end_time": "2025-04-04T11:15:26.116044",
     "exception": false,
     "start_time": "2025-04-04T11:15:26.104798",
     "status": "completed"
    },
    "tags": []
   },
   "outputs": [
    {
     "name": "stdout",
     "output_type": "stream",
     "text": [
      "/kaggle/working/rfm-nmf/rfm\n"
     ]
    }
   ],
   "source": [
    "cd /kaggle/working/rfm-nmf/rfm"
   ]
  },
  {
   "cell_type": "code",
   "execution_count": 3,
   "id": "595cb17a",
   "metadata": {
    "execution": {
     "iopub.execute_input": "2025-04-04T11:15:26.122150Z",
     "iopub.status.busy": "2025-04-04T11:15:26.121921Z",
     "iopub.status.idle": "2025-04-04T11:15:26.239145Z",
     "shell.execute_reply": "2025-04-04T11:15:26.238365Z"
    },
    "papermill": {
     "duration": 0.121779,
     "end_time": "2025-04-04T11:15:26.240497",
     "exception": false,
     "start_time": "2025-04-04T11:15:26.118718",
     "status": "completed"
    },
    "tags": []
   },
   "outputs": [
    {
     "name": "stdout",
     "output_type": "stream",
     "text": [
      "celeba_experiments  LICENSE\t\t   setup.py\r\n",
      "data\t\t    low_rank.ipynb\t   svhn.ipynb\r\n",
      "example_notebooks   ntk.py\t\t   svhn.py\r\n",
      "Gauss.py\t    output.txt\t\t   tabular_benchmark_experiments\r\n",
      "generalized.py\t    phenomena_experiments  testhehe.ipynb\r\n",
      "laplace_cifar10.py  README.md\t\t   test.ipynb\r\n",
      "laplace.py\t    rfm\t\t\t   wandb\r\n"
     ]
    }
   ],
   "source": [
    "!ls"
   ]
  },
  {
   "cell_type": "code",
   "execution_count": 4,
   "id": "f207515c",
   "metadata": {
    "execution": {
     "iopub.execute_input": "2025-04-04T11:15:26.246937Z",
     "iopub.status.busy": "2025-04-04T11:15:26.246704Z",
     "iopub.status.idle": "2025-04-04T11:15:26.249518Z",
     "shell.execute_reply": "2025-04-04T11:15:26.248974Z"
    },
    "papermill": {
     "duration": 0.007392,
     "end_time": "2025-04-04T11:15:26.250787",
     "exception": false,
     "start_time": "2025-04-04T11:15:26.243395",
     "status": "completed"
    },
    "tags": []
   },
   "outputs": [],
   "source": [
    "# !cd /kaggle/working/rfm-nmf && git pull"
   ]
  },
  {
   "cell_type": "code",
   "execution_count": 5,
   "id": "5ef6bb70",
   "metadata": {
    "execution": {
     "iopub.execute_input": "2025-04-04T11:15:26.256813Z",
     "iopub.status.busy": "2025-04-04T11:15:26.256580Z",
     "iopub.status.idle": "2025-04-04T11:25:05.007489Z",
     "shell.execute_reply": "2025-04-04T11:25:05.005915Z"
    },
    "papermill": {
     "duration": 578.755913,
     "end_time": "2025-04-04T11:25:05.009386",
     "exception": false,
     "start_time": "2025-04-04T11:15:26.253473",
     "status": "completed"
    },
    "tags": []
   },
   "outputs": [
    {
     "name": "stdout",
     "output_type": "stream",
     "text": [
      "\u001b[34m\u001b[1mwandb\u001b[0m: Using wandb-core as the SDK backend.  Please refer to https://wandb.me/wandb-core for more information.\r\n",
      "\u001b[34m\u001b[1mwandb\u001b[0m: Currently logged in as: \u001b[33mtorong31\u001b[0m (\u001b[33mtorong31-uit\u001b[0m). Use \u001b[1m`wandb login --relogin`\u001b[0m to force relogin\r\n",
      "\u001b[34m\u001b[1mwandb\u001b[0m: \u001b[33mWARNING\u001b[0m If you're specifying your api key in code, ensure this code is not shared publicly.\r\n",
      "\u001b[34m\u001b[1mwandb\u001b[0m: \u001b[33mWARNING\u001b[0m Consider setting the WANDB_API_KEY environment variable, or running `wandb login` from the command line.\r\n",
      "\u001b[34m\u001b[1mwandb\u001b[0m: Appending key for api.wandb.ai to your netrc file: /root/.netrc\r\n",
      "\u001b[34m\u001b[1mwandb\u001b[0m: Tracking run with wandb version 0.19.1\r\n",
      "\u001b[34m\u001b[1mwandb\u001b[0m: Run data is saved locally in \u001b[35m\u001b[1m/kaggle/working/rfm-nmf/rfm/wandb/run-20250404_111540-eltdl265\u001b[0m\r\n",
      "\u001b[34m\u001b[1mwandb\u001b[0m: Run \u001b[1m`wandb offline`\u001b[0m to turn off syncing.\r\n",
      "\u001b[34m\u001b[1mwandb\u001b[0m: Syncing run \u001b[33mTry3\u001b[0m\r\n",
      "\u001b[34m\u001b[1mwandb\u001b[0m: ⭐️ View project at \u001b[34m\u001b[4mhttps://wandb.ai/torong31-uit/rfm-nmf\u001b[0m\r\n",
      "\u001b[34m\u001b[1mwandb\u001b[0m: 🚀 View run at \u001b[34m\u001b[4mhttps://wandb.ai/torong31-uit/rfm-nmf/runs/eltdl265\u001b[0m\r\n",
      "2025-04-04 11:15:41,289 - Training LaplaceRFM\r\n",
      "Loaders provided\r\n",
      "Time taken to prefit nmf with 70000 points: 0.8984279632568359 seconds\r\n",
      "Using NMF-based projection with rank=10, eta=0.0001, bs=10000\r\n",
      "100%|█████████████████████████████████████████████| 1/1 [00:00<00:00,  5.99it/s]\r\n",
      "(0 epochs, 0.2s)\ttrain mse: 0.0000 \tval mse: 0.0617\ttrain acc: 1.0000 \tval acc: 0.9206\r\n",
      "New best multiclass-acc: 0.9206\r\n",
      "Round 0, Test Acc: 92.06%\r\n",
      "Round 0, Test MSE: 0.0617\r\n",
      "Sampling AGOP on maximum of 10048 total points\r\n",
      "100%|█████████████████████████████████████████| 157/157 [00:03<00:00, 47.33it/s]\r\n",
      "Time taken to prefit nmf with 70000 points: 0.20641303062438965 seconds\r\n",
      "Using NMF-based projection with rank=10, eta=0.0001, bs=10000\r\n",
      "100%|████████████████████████████████████████████| 1/1 [00:00<00:00, 783.25it/s]\r\n",
      "(0 epochs, 0.0s)\ttrain mse: 0.0000 \tval mse: 0.0755\ttrain acc: 1.0000 \tval acc: 0.9347\r\n",
      "New best multiclass-acc: 0.9347\r\n",
      "Round 1, Test Acc: 93.47%\r\n",
      "Round 1, Test MSE: 0.0755\r\n",
      "Sampling AGOP on maximum of 10048 total points\r\n",
      "100%|█████████████████████████████████████████| 157/157 [00:03<00:00, 50.24it/s]\r\n",
      "Time taken to prefit nmf with 70000 points: 0.20908260345458984 seconds\r\n",
      "Using NMF-based projection with rank=10, eta=0.0001, bs=10000\r\n",
      "100%|████████████████████████████████████████████| 1/1 [00:00<00:00, 730.97it/s]\r\n",
      "(0 epochs, 0.0s)\ttrain mse: 0.0000 \tval mse: 0.0613\ttrain acc: 1.0000 \tval acc: 0.9205\r\n",
      "New best multiclass-acc: 0.9205\r\n",
      "Round 2, Test Acc: 92.05%\r\n",
      "Round 2, Test MSE: 0.0613\r\n",
      "Sampling AGOP on maximum of 10048 total points\r\n",
      "100%|█████████████████████████████████████████| 157/157 [00:03<00:00, 48.20it/s]\r\n",
      "Time taken to prefit nmf with 70000 points: 0.20857477188110352 seconds\r\n",
      "Using NMF-based projection with rank=10, eta=0.0001, bs=10000\r\n",
      "100%|████████████████████████████████████████████| 1/1 [00:00<00:00, 746.58it/s]\r\n",
      "(0 epochs, 0.0s)\ttrain mse: 0.0000 \tval mse: 0.0497\ttrain acc: 1.0000 \tval acc: 0.9091\r\n",
      "New best multiclass-acc: 0.9091\r\n",
      "Final MSE: 0.0497\r\n",
      "Final Test Acc: 90.91%\r\n",
      "\u001b[34m\u001b[1mwandb\u001b[0m:                                                                                \r\n",
      "\u001b[34m\u001b[1mwandb\u001b[0m: 🚀 View run \u001b[33mTry3\u001b[0m at: \u001b[34m\u001b[4mhttps://wandb.ai/torong31-uit/rfm-nmf/runs/eltdl265\u001b[0m\r\n",
      "\u001b[34m\u001b[1mwandb\u001b[0m: ⭐️ View project at: \u001b[34m\u001b[4mhttps://wandb.ai/torong31-uit/rfm-nmf\u001b[0m\r\n",
      "\u001b[34m\u001b[1mwandb\u001b[0m: Synced 5 W&B file(s), 0 media file(s), 0 artifact file(s) and 0 other file(s)\r\n",
      "\u001b[34m\u001b[1mwandb\u001b[0m: Find logs at: \u001b[35m\u001b[1m./wandb/run-20250404_111540-eltdl265/logs\u001b[0m\r\n"
     ]
    }
   ],
   "source": [
    "!python laplace.py"
   ]
  },
  {
   "cell_type": "code",
   "execution_count": 6,
   "id": "08711365",
   "metadata": {
    "execution": {
     "iopub.execute_input": "2025-04-04T11:25:05.027555Z",
     "iopub.status.busy": "2025-04-04T11:25:05.027237Z",
     "iopub.status.idle": "2025-04-04T11:25:05.030948Z",
     "shell.execute_reply": "2025-04-04T11:25:05.030095Z"
    },
    "papermill": {
     "duration": 0.014237,
     "end_time": "2025-04-04T11:25:05.032307",
     "exception": false,
     "start_time": "2025-04-04T11:25:05.018070",
     "status": "completed"
    },
    "tags": []
   },
   "outputs": [],
   "source": [
    "# !python Gauss.py"
   ]
  },
  {
   "cell_type": "code",
   "execution_count": 7,
   "id": "33e0024d",
   "metadata": {
    "execution": {
     "iopub.execute_input": "2025-04-04T11:25:05.049627Z",
     "iopub.status.busy": "2025-04-04T11:25:05.049329Z",
     "iopub.status.idle": "2025-04-04T11:25:05.052653Z",
     "shell.execute_reply": "2025-04-04T11:25:05.051834Z"
    },
    "papermill": {
     "duration": 0.01369,
     "end_time": "2025-04-04T11:25:05.054101",
     "exception": false,
     "start_time": "2025-04-04T11:25:05.040411",
     "status": "completed"
    },
    "tags": []
   },
   "outputs": [],
   "source": [
    "# !python generalized.py"
   ]
  },
  {
   "cell_type": "code",
   "execution_count": 8,
   "id": "b01de21b",
   "metadata": {
    "execution": {
     "iopub.execute_input": "2025-04-04T11:25:05.071900Z",
     "iopub.status.busy": "2025-04-04T11:25:05.071450Z",
     "iopub.status.idle": "2025-04-04T11:25:05.074801Z",
     "shell.execute_reply": "2025-04-04T11:25:05.074105Z"
    },
    "papermill": {
     "duration": 0.013994,
     "end_time": "2025-04-04T11:25:05.076182",
     "exception": false,
     "start_time": "2025-04-04T11:25:05.062188",
     "status": "completed"
    },
    "tags": []
   },
   "outputs": [],
   "source": [
    "# !python laplace_cifar10.py"
   ]
  }
 ],
 "metadata": {
  "kaggle": {
   "accelerator": "gpu",
   "dataSources": [],
   "dockerImageVersionId": 30918,
   "isGpuEnabled": true,
   "isInternetEnabled": true,
   "language": "python",
   "sourceType": "notebook"
  },
  "kernelspec": {
   "display_name": "Python 3",
   "language": "python",
   "name": "python3"
  },
  "language_info": {
   "codemirror_mode": {
    "name": "ipython",
    "version": 3
   },
   "file_extension": ".py",
   "mimetype": "text/x-python",
   "name": "python",
   "nbconvert_exporter": "python",
   "pygments_lexer": "ipython3",
   "version": "3.10.12"
  },
  "papermill": {
   "default_parameters": {},
   "duration": 588.794167,
   "end_time": "2025-04-04T11:25:05.504222",
   "environment_variables": {},
   "exception": null,
   "input_path": "__notebook__.ipynb",
   "output_path": "__notebook__.ipynb",
   "parameters": {},
   "start_time": "2025-04-04T11:15:16.710055",
   "version": "2.6.0"
  }
 },
 "nbformat": 4,
 "nbformat_minor": 5
}
