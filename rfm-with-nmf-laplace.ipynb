{
 "cells": [
  {
   "cell_type": "code",
   "execution_count": 1,
   "id": "d35f78c0",
   "metadata": {
    "_cell_guid": "b1076dfc-b9ad-4769-8c92-a6c4dae69d19",
    "_uuid": "8f2839f25d086af736a60e9eeb907d3b93b6e0e5",
    "execution": {
     "iopub.execute_input": "2025-04-04T07:41:48.430989Z",
     "iopub.status.busy": "2025-04-04T07:41:48.430725Z",
     "iopub.status.idle": "2025-04-04T07:41:55.344248Z",
     "shell.execute_reply": "2025-04-04T07:41:55.343096Z"
    },
    "papermill": {
     "duration": 6.918398,
     "end_time": "2025-04-04T07:41:55.345961",
     "exception": false,
     "start_time": "2025-04-04T07:41:48.427563",
     "status": "completed"
    },
    "tags": []
   },
   "outputs": [
    {
     "name": "stdout",
     "output_type": "stream",
     "text": [
      "Cloning into 'rfm-nmf'...\r\n",
      "remote: Enumerating objects: 333, done.\u001b[K\r\n",
      "remote: Counting objects: 100% (46/46), done.\u001b[K\r\n",
      "remote: Compressing objects: 100% (15/15), done.\u001b[K\r\n",
      "remote: Total 333 (delta 38), reused 31 (delta 31), pack-reused 287 (from 1)\u001b[K\r\n",
      "Receiving objects: 100% (333/333), 22.49 MiB | 31.94 MiB/s, done.\r\n",
      "Resolving deltas: 100% (185/185), done.\r\n",
      "Collecting hickle\r\n",
      "  Downloading hickle-5.0.3-py3-none-any.whl.metadata (22 kB)\r\n",
      "Requirement already satisfied: h5py>=2.10.0 in /usr/local/lib/python3.10/dist-packages (from hickle) (3.12.1)\r\n",
      "Requirement already satisfied: numpy!=1.20,>=1.8 in /usr/local/lib/python3.10/dist-packages (from hickle) (1.26.4)\r\n",
      "Requirement already satisfied: mkl_fft in /usr/local/lib/python3.10/dist-packages (from numpy!=1.20,>=1.8->hickle) (1.3.8)\r\n",
      "Requirement already satisfied: mkl_random in /usr/local/lib/python3.10/dist-packages (from numpy!=1.20,>=1.8->hickle) (1.2.4)\r\n",
      "Requirement already satisfied: mkl_umath in /usr/local/lib/python3.10/dist-packages (from numpy!=1.20,>=1.8->hickle) (0.1.1)\r\n",
      "Requirement already satisfied: mkl in /usr/local/lib/python3.10/dist-packages (from numpy!=1.20,>=1.8->hickle) (2025.0.1)\r\n",
      "Requirement already satisfied: tbb4py in /usr/local/lib/python3.10/dist-packages (from numpy!=1.20,>=1.8->hickle) (2022.0.0)\r\n",
      "Requirement already satisfied: mkl-service in /usr/local/lib/python3.10/dist-packages (from numpy!=1.20,>=1.8->hickle) (2.4.1)\r\n",
      "Requirement already satisfied: intel-openmp>=2024 in /usr/local/lib/python3.10/dist-packages (from mkl->numpy!=1.20,>=1.8->hickle) (2024.2.0)\r\n",
      "Requirement already satisfied: tbb==2022.* in /usr/local/lib/python3.10/dist-packages (from mkl->numpy!=1.20,>=1.8->hickle) (2022.0.0)\r\n",
      "Requirement already satisfied: tcmlib==1.* in /usr/local/lib/python3.10/dist-packages (from tbb==2022.*->mkl->numpy!=1.20,>=1.8->hickle) (1.2.0)\r\n",
      "Requirement already satisfied: intel-cmplr-lib-rt in /usr/local/lib/python3.10/dist-packages (from mkl_umath->numpy!=1.20,>=1.8->hickle) (2024.2.0)\r\n",
      "Requirement already satisfied: intel-cmplr-lib-ur==2024.2.0 in /usr/local/lib/python3.10/dist-packages (from intel-openmp>=2024->mkl->numpy!=1.20,>=1.8->hickle) (2024.2.0)\r\n",
      "Downloading hickle-5.0.3-py3-none-any.whl (107 kB)\r\n",
      "\u001b[2K   \u001b[90m━━━━━━━━━━━━━━━━━━━━━━━━━━━━━━━━━━━━━━━━\u001b[0m \u001b[32m108.0/108.0 kB\u001b[0m \u001b[31m4.1 MB/s\u001b[0m eta \u001b[36m0:00:00\u001b[0m\r\n",
      "\u001b[?25hInstalling collected packages: hickle\r\n",
      "Successfully installed hickle-5.0.3\r\n"
     ]
    }
   ],
   "source": [
    "!git clone https://github.com/ToRong31/rfm-nmf.git\n",
    "import sys\n",
    "sys.path.append('/kaggle/working/rfm-HTR/rfm/rfm')\n",
    "!pip install hickle\n",
    "!cd /kaggle/working/rfm-nmf/rfm"
   ]
  },
  {
   "cell_type": "code",
   "execution_count": 2,
   "id": "24a5a49e",
   "metadata": {
    "execution": {
     "iopub.execute_input": "2025-04-04T07:41:55.353527Z",
     "iopub.status.busy": "2025-04-04T07:41:55.353254Z",
     "iopub.status.idle": "2025-04-04T07:41:55.359366Z",
     "shell.execute_reply": "2025-04-04T07:41:55.358488Z"
    },
    "papermill": {
     "duration": 0.011195,
     "end_time": "2025-04-04T07:41:55.360833",
     "exception": false,
     "start_time": "2025-04-04T07:41:55.349638",
     "status": "completed"
    },
    "tags": []
   },
   "outputs": [
    {
     "name": "stdout",
     "output_type": "stream",
     "text": [
      "/kaggle/working/rfm-nmf/rfm\n"
     ]
    }
   ],
   "source": [
    "cd /kaggle/working/rfm-nmf/rfm"
   ]
  },
  {
   "cell_type": "code",
   "execution_count": 3,
   "id": "0f803e5b",
   "metadata": {
    "execution": {
     "iopub.execute_input": "2025-04-04T07:41:55.367113Z",
     "iopub.status.busy": "2025-04-04T07:41:55.366910Z",
     "iopub.status.idle": "2025-04-04T07:41:55.485254Z",
     "shell.execute_reply": "2025-04-04T07:41:55.484278Z"
    },
    "papermill": {
     "duration": 0.122892,
     "end_time": "2025-04-04T07:41:55.486548",
     "exception": false,
     "start_time": "2025-04-04T07:41:55.363656",
     "status": "completed"
    },
    "tags": []
   },
   "outputs": [
    {
     "name": "stdout",
     "output_type": "stream",
     "text": [
      "celeba_experiments  LICENSE\t\t   setup.py\r\n",
      "data\t\t    low_rank.ipynb\t   svhn.ipynb\r\n",
      "example_notebooks   ntk.py\t\t   svhn.py\r\n",
      "Gauss.py\t    output.txt\t\t   tabular_benchmark_experiments\r\n",
      "generalized.py\t    phenomena_experiments  testhehe.ipynb\r\n",
      "laplace_cifar10.py  README.md\t\t   test.ipynb\r\n",
      "laplace.py\t    rfm\t\t\t   wandb\r\n"
     ]
    }
   ],
   "source": [
    "!ls"
   ]
  },
  {
   "cell_type": "code",
   "execution_count": 4,
   "id": "41e7322d",
   "metadata": {
    "execution": {
     "iopub.execute_input": "2025-04-04T07:41:55.493021Z",
     "iopub.status.busy": "2025-04-04T07:41:55.492772Z",
     "iopub.status.idle": "2025-04-04T07:41:55.496224Z",
     "shell.execute_reply": "2025-04-04T07:41:55.495429Z"
    },
    "papermill": {
     "duration": 0.008134,
     "end_time": "2025-04-04T07:41:55.497566",
     "exception": false,
     "start_time": "2025-04-04T07:41:55.489432",
     "status": "completed"
    },
    "tags": []
   },
   "outputs": [],
   "source": [
    "# !cd /kaggle/working/rfm-nmf && git pull"
   ]
  },
  {
   "cell_type": "code",
   "execution_count": 5,
   "id": "011d8cc2",
   "metadata": {
    "execution": {
     "iopub.execute_input": "2025-04-04T07:41:55.503902Z",
     "iopub.status.busy": "2025-04-04T07:41:55.503677Z",
     "iopub.status.idle": "2025-04-04T07:44:08.236169Z",
     "shell.execute_reply": "2025-04-04T07:44:08.234963Z"
    },
    "papermill": {
     "duration": 132.737634,
     "end_time": "2025-04-04T07:44:08.237968",
     "exception": false,
     "start_time": "2025-04-04T07:41:55.500334",
     "status": "completed"
    },
    "tags": []
   },
   "outputs": [
    {
     "name": "stdout",
     "output_type": "stream",
     "text": [
      "\u001b[34m\u001b[1mwandb\u001b[0m: Using wandb-core as the SDK backend.  Please refer to https://wandb.me/wandb-core for more information.\r\n",
      "\u001b[34m\u001b[1mwandb\u001b[0m: Currently logged in as: \u001b[33mtorong31\u001b[0m (\u001b[33mtorong31-uit\u001b[0m). Use \u001b[1m`wandb login --relogin`\u001b[0m to force relogin\r\n",
      "\u001b[34m\u001b[1mwandb\u001b[0m: \u001b[33mWARNING\u001b[0m If you're specifying your api key in code, ensure this code is not shared publicly.\r\n",
      "\u001b[34m\u001b[1mwandb\u001b[0m: \u001b[33mWARNING\u001b[0m Consider setting the WANDB_API_KEY environment variable, or running `wandb login` from the command line.\r\n",
      "\u001b[34m\u001b[1mwandb\u001b[0m: Appending key for api.wandb.ai to your netrc file: /root/.netrc\r\n",
      "\u001b[34m\u001b[1mwandb\u001b[0m: Tracking run with wandb version 0.19.1\r\n",
      "\u001b[34m\u001b[1mwandb\u001b[0m: Run data is saved locally in \u001b[35m\u001b[1m/kaggle/working/rfm-nmf/rfm/wandb/run-20250404_074209-yaqi1ha0\u001b[0m\r\n",
      "\u001b[34m\u001b[1mwandb\u001b[0m: Run \u001b[1m`wandb offline`\u001b[0m to turn off syncing.\r\n",
      "\u001b[34m\u001b[1mwandb\u001b[0m: Syncing run \u001b[33mTry3\u001b[0m\r\n",
      "\u001b[34m\u001b[1mwandb\u001b[0m: ⭐️ View project at \u001b[34m\u001b[4mhttps://wandb.ai/torong31-uit/rfm-nmf\u001b[0m\r\n",
      "\u001b[34m\u001b[1mwandb\u001b[0m: 🚀 View run at \u001b[34m\u001b[4mhttps://wandb.ai/torong31-uit/rfm-nmf/runs/yaqi1ha0\u001b[0m\r\n",
      "2025-04-04 07:42:10,261 - Training LaplaceRFM\r\n",
      "Loaders provided\r\n",
      "Time taken to prefit nmf with 70000 points: 0.9005115032196045 seconds\r\n",
      "Using NMF-based projection with rank=10, eta=0.0001, bs=10000\r\n",
      "  0%|                                                     | 0/1 [00:00<?, ?it/s]\r\n",
      "Traceback (most recent call last):\r\n",
      "  File \"/kaggle/working/rfm-nmf/rfm/laplace.py\", line 79, in <module>\r\n",
      "    laplace_model.fit(\r\n",
      "  File \"/kaggle/working/rfm-nmf/rfm/rfm/recursive_feature_machine.py\", line 238, in fit\r\n",
      "    self.fit_predictor(X_train, y_train, X_val=X_test, y_val=y_test,\r\n",
      "  File \"/kaggle/working/rfm-nmf/rfm/rfm/recursive_feature_machine.py\", line 137, in fit_predictor\r\n",
      "    self.weights = self.fit_predictor_nmf(centers, targets, bs=bs, lr_scale=lr_scale,\r\n",
      "  File \"/kaggle/working/rfm-nmf/rfm/rfm/recursive_feature_machine.py\", line 174, in fit_predictor_nmf\r\n",
      "    _ = ep_model.fit(centers, targets, verbose=verbose, mem_gb=self.mem_gb, bs=bs, lr_scale=lr_scale, **kwargs)\r\n",
      "  File \"/kaggle/working/rfm-nmf/rfm/rfm/nmfhtr.py\", line 234, in fit\r\n",
      "    self.nmf_iterate(samples, x_batch, y_batch,\r\n",
      "  File \"/kaggle/working/rfm-nmf/rfm/rfm/nmfhtr.py\", line 108, in nmf_iterate\r\n",
      "    correction = nmf_fn(grad, kmat)\r\n",
      "  File \"/kaggle/working/rfm-nmf/rfm/rfm/nmfhtr.py\", line 204, in nmf_projection_fn\r\n",
      "    return W_nmf @ S_nmf @(H_nmf @ grad).to(self.device)\r\n",
      "RuntimeError: expected mat1 and mat2 to have the same dtype, but got: float != double\r\n",
      "\u001b[1;34mwandb\u001b[0m: 🚀 View run \u001b[33mTry3\u001b[0m at: \u001b[34mhttps://wandb.ai/torong31-uit/rfm-nmf/runs/yaqi1ha0\u001b[0m\r\n",
      "\u001b[1;34mwandb\u001b[0m: Find logs at: \u001b[1;35mwandb/run-20250404_074209-yaqi1ha0/logs\u001b[0m\r\n"
     ]
    }
   ],
   "source": [
    "!python laplace.py"
   ]
  },
  {
   "cell_type": "code",
   "execution_count": 6,
   "id": "1247eb4c",
   "metadata": {
    "execution": {
     "iopub.execute_input": "2025-04-04T07:44:08.246242Z",
     "iopub.status.busy": "2025-04-04T07:44:08.245973Z",
     "iopub.status.idle": "2025-04-04T07:44:08.249483Z",
     "shell.execute_reply": "2025-04-04T07:44:08.248674Z"
    },
    "papermill": {
     "duration": 0.009176,
     "end_time": "2025-04-04T07:44:08.250846",
     "exception": false,
     "start_time": "2025-04-04T07:44:08.241670",
     "status": "completed"
    },
    "tags": []
   },
   "outputs": [],
   "source": [
    "# !python Gauss.py"
   ]
  },
  {
   "cell_type": "code",
   "execution_count": 7,
   "id": "1eec55af",
   "metadata": {
    "execution": {
     "iopub.execute_input": "2025-04-04T07:44:08.257910Z",
     "iopub.status.busy": "2025-04-04T07:44:08.257709Z",
     "iopub.status.idle": "2025-04-04T07:44:08.260560Z",
     "shell.execute_reply": "2025-04-04T07:44:08.259930Z"
    },
    "papermill": {
     "duration": 0.007626,
     "end_time": "2025-04-04T07:44:08.261690",
     "exception": false,
     "start_time": "2025-04-04T07:44:08.254064",
     "status": "completed"
    },
    "tags": []
   },
   "outputs": [],
   "source": [
    "# !python generalized.py"
   ]
  },
  {
   "cell_type": "code",
   "execution_count": 8,
   "id": "c8a8c7d0",
   "metadata": {
    "execution": {
     "iopub.execute_input": "2025-04-04T07:44:08.269010Z",
     "iopub.status.busy": "2025-04-04T07:44:08.268819Z",
     "iopub.status.idle": "2025-04-04T07:44:08.271361Z",
     "shell.execute_reply": "2025-04-04T07:44:08.270815Z"
    },
    "papermill": {
     "duration": 0.007562,
     "end_time": "2025-04-04T07:44:08.272621",
     "exception": false,
     "start_time": "2025-04-04T07:44:08.265059",
     "status": "completed"
    },
    "tags": []
   },
   "outputs": [],
   "source": [
    "# !python laplace_cifar10.py"
   ]
  }
 ],
 "metadata": {
  "kaggle": {
   "accelerator": "gpu",
   "dataSources": [],
   "dockerImageVersionId": 30918,
   "isGpuEnabled": true,
   "isInternetEnabled": true,
   "language": "python",
   "sourceType": "notebook"
  },
  "kernelspec": {
   "display_name": "Python 3",
   "language": "python",
   "name": "python3"
  },
  "language_info": {
   "codemirror_mode": {
    "name": "ipython",
    "version": 3
   },
   "file_extension": ".py",
   "mimetype": "text/x-python",
   "name": "python",
   "nbconvert_exporter": "python",
   "pygments_lexer": "ipython3",
   "version": "3.10.12"
  },
  "papermill": {
   "default_parameters": {},
   "duration": 142.746548,
   "end_time": "2025-04-04T07:44:08.592584",
   "environment_variables": {},
   "exception": null,
   "input_path": "__notebook__.ipynb",
   "output_path": "__notebook__.ipynb",
   "parameters": {},
   "start_time": "2025-04-04T07:41:45.846036",
   "version": "2.6.0"
  }
 },
 "nbformat": 4,
 "nbformat_minor": 5
}
