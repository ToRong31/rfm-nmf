{
 "cells": [
  {
   "cell_type": "code",
   "execution_count": 1,
   "id": "adc9ab77",
   "metadata": {
    "_cell_guid": "b1076dfc-b9ad-4769-8c92-a6c4dae69d19",
    "_uuid": "8f2839f25d086af736a60e9eeb907d3b93b6e0e5",
    "execution": {
     "iopub.execute_input": "2025-03-26T15:41:59.931602Z",
     "iopub.status.busy": "2025-03-26T15:41:59.931323Z",
     "iopub.status.idle": "2025-03-26T15:42:06.766739Z",
     "shell.execute_reply": "2025-03-26T15:42:06.765754Z"
    },
    "papermill": {
     "duration": 6.840832,
     "end_time": "2025-03-26T15:42:06.768419",
     "exception": false,
     "start_time": "2025-03-26T15:41:59.927587",
     "status": "completed"
    },
    "tags": []
   },
   "outputs": [
    {
     "name": "stdout",
     "output_type": "stream",
     "text": [
      "Cloning into 'rfm-nmf'...\r\n",
      "remote: Enumerating objects: 189, done.\u001b[K\r\n",
      "remote: Counting objects: 100% (123/123), done.\u001b[K\r\n",
      "remote: Compressing objects: 100% (82/82), done.\u001b[K\r\n",
      "remote: Total 189 (delta 63), reused 96 (delta 41), pack-reused 66 (from 1)\u001b[K\r\n",
      "Receiving objects: 100% (189/189), 22.45 MiB | 32.61 MiB/s, done.\r\n",
      "Resolving deltas: 100% (76/76), done.\r\n",
      "Collecting hickle\r\n",
      "  Downloading hickle-5.0.3-py3-none-any.whl.metadata (22 kB)\r\n",
      "Requirement already satisfied: h5py>=2.10.0 in /usr/local/lib/python3.10/dist-packages (from hickle) (3.12.1)\r\n",
      "Requirement already satisfied: numpy!=1.20,>=1.8 in /usr/local/lib/python3.10/dist-packages (from hickle) (1.26.4)\r\n",
      "Requirement already satisfied: mkl_fft in /usr/local/lib/python3.10/dist-packages (from numpy!=1.20,>=1.8->hickle) (1.3.8)\r\n",
      "Requirement already satisfied: mkl_random in /usr/local/lib/python3.10/dist-packages (from numpy!=1.20,>=1.8->hickle) (1.2.4)\r\n",
      "Requirement already satisfied: mkl_umath in /usr/local/lib/python3.10/dist-packages (from numpy!=1.20,>=1.8->hickle) (0.1.1)\r\n",
      "Requirement already satisfied: mkl in /usr/local/lib/python3.10/dist-packages (from numpy!=1.20,>=1.8->hickle) (2025.0.1)\r\n",
      "Requirement already satisfied: tbb4py in /usr/local/lib/python3.10/dist-packages (from numpy!=1.20,>=1.8->hickle) (2022.0.0)\r\n",
      "Requirement already satisfied: mkl-service in /usr/local/lib/python3.10/dist-packages (from numpy!=1.20,>=1.8->hickle) (2.4.1)\r\n",
      "Requirement already satisfied: intel-openmp>=2024 in /usr/local/lib/python3.10/dist-packages (from mkl->numpy!=1.20,>=1.8->hickle) (2024.2.0)\r\n",
      "Requirement already satisfied: tbb==2022.* in /usr/local/lib/python3.10/dist-packages (from mkl->numpy!=1.20,>=1.8->hickle) (2022.0.0)\r\n",
      "Requirement already satisfied: tcmlib==1.* in /usr/local/lib/python3.10/dist-packages (from tbb==2022.*->mkl->numpy!=1.20,>=1.8->hickle) (1.2.0)\r\n",
      "Requirement already satisfied: intel-cmplr-lib-rt in /usr/local/lib/python3.10/dist-packages (from mkl_umath->numpy!=1.20,>=1.8->hickle) (2024.2.0)\r\n",
      "Requirement already satisfied: intel-cmplr-lib-ur==2024.2.0 in /usr/local/lib/python3.10/dist-packages (from intel-openmp>=2024->mkl->numpy!=1.20,>=1.8->hickle) (2024.2.0)\r\n",
      "Downloading hickle-5.0.3-py3-none-any.whl (107 kB)\r\n",
      "\u001b[2K   \u001b[90m━━━━━━━━━━━━━━━━━━━━━━━━━━━━━━━━━━━━━━━━\u001b[0m \u001b[32m108.0/108.0 kB\u001b[0m \u001b[31m5.3 MB/s\u001b[0m eta \u001b[36m0:00:00\u001b[0m\r\n",
      "\u001b[?25hInstalling collected packages: hickle\r\n",
      "Successfully installed hickle-5.0.3\r\n"
     ]
    }
   ],
   "source": [
    "!git clone https://github.com/ToRong31/rfm-nmf.git\n",
    "import sys\n",
    "sys.path.append('/kaggle/working/rfm-HTR/rfm/rfm')\n",
    "!pip install hickle\n",
    "!cd /kaggle/working/rfm-nmf/rfm"
   ]
  },
  {
   "cell_type": "code",
   "execution_count": 2,
   "id": "4854aa05",
   "metadata": {
    "execution": {
     "iopub.execute_input": "2025-03-26T15:42:06.776288Z",
     "iopub.status.busy": "2025-03-26T15:42:06.776000Z",
     "iopub.status.idle": "2025-03-26T15:42:06.781751Z",
     "shell.execute_reply": "2025-03-26T15:42:06.781088Z"
    },
    "papermill": {
     "duration": 0.010949,
     "end_time": "2025-03-26T15:42:06.782882",
     "exception": false,
     "start_time": "2025-03-26T15:42:06.771933",
     "status": "completed"
    },
    "tags": []
   },
   "outputs": [
    {
     "name": "stdout",
     "output_type": "stream",
     "text": [
      "/kaggle/working/rfm-nmf/rfm\n"
     ]
    }
   ],
   "source": [
    "cd /kaggle/working/rfm-nmf/rfm"
   ]
  },
  {
   "cell_type": "code",
   "execution_count": 3,
   "id": "aa20697b",
   "metadata": {
    "execution": {
     "iopub.execute_input": "2025-03-26T15:42:06.789167Z",
     "iopub.status.busy": "2025-03-26T15:42:06.788960Z",
     "iopub.status.idle": "2025-03-26T15:42:06.907612Z",
     "shell.execute_reply": "2025-03-26T15:42:06.906790Z"
    },
    "papermill": {
     "duration": 0.123374,
     "end_time": "2025-03-26T15:42:06.909071",
     "exception": false,
     "start_time": "2025-03-26T15:42:06.785697",
     "status": "completed"
    },
    "tags": []
   },
   "outputs": [
    {
     "name": "stdout",
     "output_type": "stream",
     "text": [
      "celeba_experiments  low_rank.ipynb\t   svhn.ipynb\r\n",
      "data\t\t    ntk.py\t\t   svhn.py\r\n",
      "example_notebooks   output.txt\t\t   tabular_benchmark_experiments\r\n",
      "Gauss.py\t    phenomena_experiments  testhehe.ipynb\r\n",
      "generalized.py\t    README.md\t\t   test.ipynb\r\n",
      "laplace.py\t    rfm\t\t\t   wandb\r\n",
      "LICENSE\t\t    setup.py\r\n"
     ]
    }
   ],
   "source": [
    "!ls"
   ]
  },
  {
   "cell_type": "code",
   "execution_count": 4,
   "id": "ff7f2db5",
   "metadata": {
    "execution": {
     "iopub.execute_input": "2025-03-26T15:42:06.915861Z",
     "iopub.status.busy": "2025-03-26T15:42:06.915622Z",
     "iopub.status.idle": "2025-03-26T15:42:06.918611Z",
     "shell.execute_reply": "2025-03-26T15:42:06.918037Z"
    },
    "papermill": {
     "duration": 0.007704,
     "end_time": "2025-03-26T15:42:06.919846",
     "exception": false,
     "start_time": "2025-03-26T15:42:06.912142",
     "status": "completed"
    },
    "tags": []
   },
   "outputs": [],
   "source": [
    "# !cd /kaggle/working/rfm-nmf && git pull"
   ]
  },
  {
   "cell_type": "code",
   "execution_count": 5,
   "id": "1f2a3694",
   "metadata": {
    "execution": {
     "iopub.execute_input": "2025-03-26T15:42:06.926110Z",
     "iopub.status.busy": "2025-03-26T15:42:06.925907Z",
     "iopub.status.idle": "2025-03-26T16:11:22.424815Z",
     "shell.execute_reply": "2025-03-26T16:11:22.423882Z"
    },
    "papermill": {
     "duration": 1755.503775,
     "end_time": "2025-03-26T16:11:22.426402",
     "exception": false,
     "start_time": "2025-03-26T15:42:06.922627",
     "status": "completed"
    },
    "tags": []
   },
   "outputs": [
    {
     "name": "stdout",
     "output_type": "stream",
     "text": [
      "\u001b[34m\u001b[1mwandb\u001b[0m: Using wandb-core as the SDK backend.  Please refer to https://wandb.me/wandb-core for more information.\r\n",
      "\u001b[34m\u001b[1mwandb\u001b[0m: Currently logged in as: \u001b[33mtorong31\u001b[0m (\u001b[33mtorong31-uit\u001b[0m). Use \u001b[1m`wandb login --relogin`\u001b[0m to force relogin\r\n",
      "\u001b[34m\u001b[1mwandb\u001b[0m: \u001b[33mWARNING\u001b[0m If you're specifying your api key in code, ensure this code is not shared publicly.\r\n",
      "\u001b[34m\u001b[1mwandb\u001b[0m: \u001b[33mWARNING\u001b[0m Consider setting the WANDB_API_KEY environment variable, or running `wandb login` from the command line.\r\n",
      "\u001b[34m\u001b[1mwandb\u001b[0m: Appending key for api.wandb.ai to your netrc file: /root/.netrc\r\n",
      "\u001b[34m\u001b[1mwandb\u001b[0m: Tracking run with wandb version 0.19.1\r\n",
      "\u001b[34m\u001b[1mwandb\u001b[0m: Run data is saved locally in \u001b[35m\u001b[1m/kaggle/working/rfm-nmf/rfm/wandb/run-20250326_154220-6o2g5wtf\u001b[0m\r\n",
      "\u001b[34m\u001b[1mwandb\u001b[0m: Run \u001b[1m`wandb offline`\u001b[0m to turn off syncing.\r\n",
      "\u001b[34m\u001b[1mwandb\u001b[0m: Syncing run \u001b[33mTry3\u001b[0m\r\n",
      "\u001b[34m\u001b[1mwandb\u001b[0m: ⭐️ View project at \u001b[34m\u001b[4mhttps://wandb.ai/torong31-uit/rfm-nmf\u001b[0m\r\n",
      "\u001b[34m\u001b[1mwandb\u001b[0m: 🚀 View run at \u001b[34m\u001b[4mhttps://wandb.ai/torong31-uit/rfm-nmf/runs/6o2g5wtf\u001b[0m\r\n",
      "2025-03-26 15:42:21,440 - Training LaplaceRFM\r\n",
      "Loaders provided\r\n",
      "Time taken to prefit nmf with 70000 points: 0.8530700206756592 seconds\r\n",
      "NMF with init='nndsvd' completed.\r\n",
      "Final reconstruction error (Frobenius norm): 99.6596\r\n",
      "Using NMF-based projection with rank=10, eta=0.0001, bs=10000\r\n",
      "100%|█████████████████████████████████████████████| 1/1 [00:00<00:00,  6.03it/s]\r\n",
      "(0 epochs, 0.2s)\ttrain mse: 0.0000 \tval mse: 0.0619\ttrain acc: 1.0000 \tval acc: 0.9251\r\n",
      "New best multiclass-acc: 0.9251\r\n",
      "Round 0, Test Acc: 92.51%\r\n",
      "Round 0, Test MSE: 0.0619\r\n",
      "2025-03-26 15:49:40,221 - NumExpr defaulting to 4 threads.\r\n",
      "Sampling AGOP on maximum of 10048 total points\r\n",
      "100%|█████████████████████████████████████████| 157/157 [00:03<00:00, 47.47it/s]\r\n",
      "Time taken to prefit nmf with 70000 points: 0.20653963088989258 seconds\r\n",
      "NMF with init='nndsvd' completed.\r\n",
      "Final reconstruction error (Frobenius norm): 99.6485\r\n",
      "Using NMF-based projection with rank=10, eta=0.0001, bs=10000\r\n",
      "100%|████████████████████████████████████████████| 1/1 [00:00<00:00, 761.22it/s]\r\n",
      "(0 epochs, 0.0s)\ttrain mse: 0.0000 \tval mse: 0.0746\ttrain acc: 1.0000 \tval acc: 0.9368\r\n",
      "New best multiclass-acc: 0.9368\r\n",
      "Round 1, Test Acc: 93.68%\r\n",
      "Round 1, Test MSE: 0.0746\r\n",
      "Sampling AGOP on maximum of 10048 total points\r\n",
      "100%|█████████████████████████████████████████| 157/157 [00:03<00:00, 50.19it/s]\r\n",
      "Time taken to prefit nmf with 70000 points: 0.20888090133666992 seconds\r\n",
      "NMF with init='nndsvd' completed.\r\n",
      "Final reconstruction error (Frobenius norm): 99.8380\r\n",
      "Using NMF-based projection with rank=10, eta=0.0001, bs=10000\r\n",
      "100%|████████████████████████████████████████████| 1/1 [00:00<00:00, 682.89it/s]\r\n",
      "(0 epochs, 0.0s)\ttrain mse: 0.0000 \tval mse: 0.0567\ttrain acc: 1.0000 \tval acc: 0.9233\r\n",
      "New best multiclass-acc: 0.9233\r\n",
      "Round 2, Test Acc: 92.33%\r\n",
      "Round 2, Test MSE: 0.0567\r\n",
      "Sampling AGOP on maximum of 10048 total points\r\n",
      "100%|█████████████████████████████████████████| 157/157 [00:03<00:00, 48.36it/s]\r\n",
      "Time taken to prefit nmf with 70000 points: 0.20891952514648438 seconds\r\n",
      "NMF with init='nndsvd' completed.\r\n",
      "Final reconstruction error (Frobenius norm): 100.2636\r\n",
      "Using NMF-based projection with rank=10, eta=0.0001, bs=10000\r\n",
      "100%|████████████████████████████████████████████| 1/1 [00:00<00:00, 707.18it/s]\r\n",
      "(0 epochs, 0.0s)\ttrain mse: 0.0000 \tval mse: 0.0465\ttrain acc: 1.0000 \tval acc: 0.9111\r\n",
      "New best multiclass-acc: 0.9111\r\n",
      "Final MSE: 0.0465\r\n",
      "Final Test Acc: 91.11%\r\n",
      "\u001b[34m\u001b[1mwandb\u001b[0m:                                                                                \r\n",
      "\u001b[34m\u001b[1mwandb\u001b[0m: \r\n",
      "\u001b[34m\u001b[1mwandb\u001b[0m: Run history:\r\n",
      "\u001b[34m\u001b[1mwandb\u001b[0m:               epoch ▁▅█\r\n",
      "\u001b[34m\u001b[1mwandb\u001b[0m:      epoch_time_sec █▆▁\r\n",
      "\u001b[34m\u001b[1mwandb\u001b[0m:           final_mse ▁\r\n",
      "\u001b[34m\u001b[1mwandb\u001b[0m: final_test_accuracy ▁\r\n",
      "\u001b[34m\u001b[1mwandb\u001b[0m:       test_accuracy ▂█▁\r\n",
      "\u001b[34m\u001b[1mwandb\u001b[0m:            test_mse ▃█▁\r\n",
      "\u001b[34m\u001b[1mwandb\u001b[0m: \r\n",
      "\u001b[34m\u001b[1mwandb\u001b[0m: Run summary:\r\n",
      "\u001b[34m\u001b[1mwandb\u001b[0m:               epoch 2\r\n",
      "\u001b[34m\u001b[1mwandb\u001b[0m:      epoch_time_sec 426.4105\r\n",
      "\u001b[34m\u001b[1mwandb\u001b[0m:           final_mse 0.04652\r\n",
      "\u001b[34m\u001b[1mwandb\u001b[0m: final_test_accuracy 0.9111\r\n",
      "\u001b[34m\u001b[1mwandb\u001b[0m:       test_accuracy 0.9233\r\n",
      "\u001b[34m\u001b[1mwandb\u001b[0m:            test_mse 0.05669\r\n",
      "\u001b[34m\u001b[1mwandb\u001b[0m: \r\n",
      "\u001b[34m\u001b[1mwandb\u001b[0m: 🚀 View run \u001b[33mTry3\u001b[0m at: \u001b[34m\u001b[4mhttps://wandb.ai/torong31-uit/rfm-nmf/runs/6o2g5wtf\u001b[0m\r\n",
      "\u001b[34m\u001b[1mwandb\u001b[0m: ⭐️ View project at: \u001b[34m\u001b[4mhttps://wandb.ai/torong31-uit/rfm-nmf\u001b[0m\r\n",
      "\u001b[34m\u001b[1mwandb\u001b[0m: Synced 5 W&B file(s), 0 media file(s), 0 artifact file(s) and 0 other file(s)\r\n",
      "\u001b[34m\u001b[1mwandb\u001b[0m: Find logs at: \u001b[35m\u001b[1m./wandb/run-20250326_154220-6o2g5wtf/logs\u001b[0m\r\n"
     ]
    }
   ],
   "source": [
    "!python laplace.py"
   ]
  },
  {
   "cell_type": "code",
   "execution_count": 6,
   "id": "5896a59a",
   "metadata": {
    "execution": {
     "iopub.execute_input": "2025-03-26T16:11:22.444091Z",
     "iopub.status.busy": "2025-03-26T16:11:22.443845Z",
     "iopub.status.idle": "2025-03-26T16:11:22.447292Z",
     "shell.execute_reply": "2025-03-26T16:11:22.446470Z"
    },
    "papermill": {
     "duration": 0.013537,
     "end_time": "2025-03-26T16:11:22.448615",
     "exception": false,
     "start_time": "2025-03-26T16:11:22.435078",
     "status": "completed"
    },
    "tags": []
   },
   "outputs": [],
   "source": [
    "# !python Gauss.py"
   ]
  },
  {
   "cell_type": "code",
   "execution_count": null,
   "id": "3bef5bd0",
   "metadata": {
    "execution": {
     "iopub.execute_input": "2025-03-24T16:41:03.019963Z",
     "iopub.status.busy": "2025-03-24T16:41:03.019666Z",
     "iopub.status.idle": "2025-03-24T16:41:11.203054Z",
     "shell.execute_reply": "2025-03-24T16:41:11.201785Z",
     "shell.execute_reply.started": "2025-03-24T16:41:03.019940Z"
    },
    "papermill": {
     "duration": 0.007862,
     "end_time": "2025-03-26T16:11:22.464493",
     "exception": false,
     "start_time": "2025-03-26T16:11:22.456631",
     "status": "completed"
    },
    "tags": []
   },
   "outputs": [],
   "source": []
  },
  {
   "cell_type": "code",
   "execution_count": 7,
   "id": "8ee61185",
   "metadata": {
    "execution": {
     "iopub.execute_input": "2025-03-26T16:11:22.481654Z",
     "iopub.status.busy": "2025-03-26T16:11:22.481378Z",
     "iopub.status.idle": "2025-03-26T16:11:22.484583Z",
     "shell.execute_reply": "2025-03-26T16:11:22.483755Z"
    },
    "papermill": {
     "duration": 0.013346,
     "end_time": "2025-03-26T16:11:22.485824",
     "exception": false,
     "start_time": "2025-03-26T16:11:22.472478",
     "status": "completed"
    },
    "tags": []
   },
   "outputs": [],
   "source": [
    "# !python generalized.py"
   ]
  }
 ],
 "metadata": {
  "kaggle": {
   "accelerator": "gpu",
   "dataSources": [],
   "dockerImageVersionId": 30918,
   "isGpuEnabled": true,
   "isInternetEnabled": true,
   "language": "python",
   "sourceType": "notebook"
  },
  "kernelspec": {
   "display_name": "Python 3",
   "language": "python",
   "name": "python3"
  },
  "language_info": {
   "codemirror_mode": {
    "name": "ipython",
    "version": 3
   },
   "file_extension": ".py",
   "mimetype": "text/x-python",
   "name": "python",
   "nbconvert_exporter": "python",
   "pygments_lexer": "ipython3",
   "version": "3.10.12"
  },
  "papermill": {
   "default_parameters": {},
   "duration": 1765.562559,
   "end_time": "2025-03-26T16:11:22.912701",
   "environment_variables": {},
   "exception": null,
   "input_path": "__notebook__.ipynb",
   "output_path": "__notebook__.ipynb",
   "parameters": {},
   "start_time": "2025-03-26T15:41:57.350142",
   "version": "2.6.0"
  }
 },
 "nbformat": 4,
 "nbformat_minor": 5
}
