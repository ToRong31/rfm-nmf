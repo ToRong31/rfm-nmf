{
 "cells": [
  {
   "cell_type": "code",
   "execution_count": 1,
   "id": "727188f7",
   "metadata": {
    "_cell_guid": "b1076dfc-b9ad-4769-8c92-a6c4dae69d19",
    "_uuid": "8f2839f25d086af736a60e9eeb907d3b93b6e0e5",
    "execution": {
     "iopub.execute_input": "2025-04-04T07:28:31.789369Z",
     "iopub.status.busy": "2025-04-04T07:28:31.789039Z",
     "iopub.status.idle": "2025-04-04T07:28:38.977578Z",
     "shell.execute_reply": "2025-04-04T07:28:38.976503Z"
    },
    "papermill": {
     "duration": 7.193444,
     "end_time": "2025-04-04T07:28:38.979192",
     "exception": false,
     "start_time": "2025-04-04T07:28:31.785748",
     "status": "completed"
    },
    "tags": []
   },
   "outputs": [
    {
     "name": "stdout",
     "output_type": "stream",
     "text": [
      "Cloning into 'rfm-nmf'...\r\n",
      "remote: Enumerating objects: 317, done.\u001b[K\r\n",
      "remote: Counting objects: 100% (251/251), done.\u001b[K\r\n",
      "remote: Compressing objects: 100% (198/198), done.\u001b[K\r\n",
      "remote: Total 317 (delta 155), reused 119 (delta 53), pack-reused 66 (from 1)\u001b[K\r\n",
      "Receiving objects: 100% (317/317), 22.50 MiB | 31.55 MiB/s, done.\r\n",
      "Resolving deltas: 100% (168/168), done.\r\n",
      "Collecting hickle\r\n",
      "  Downloading hickle-5.0.3-py3-none-any.whl.metadata (22 kB)\r\n",
      "Requirement already satisfied: h5py>=2.10.0 in /usr/local/lib/python3.10/dist-packages (from hickle) (3.12.1)\r\n",
      "Requirement already satisfied: numpy!=1.20,>=1.8 in /usr/local/lib/python3.10/dist-packages (from hickle) (1.26.4)\r\n",
      "Requirement already satisfied: mkl_fft in /usr/local/lib/python3.10/dist-packages (from numpy!=1.20,>=1.8->hickle) (1.3.8)\r\n",
      "Requirement already satisfied: mkl_random in /usr/local/lib/python3.10/dist-packages (from numpy!=1.20,>=1.8->hickle) (1.2.4)\r\n",
      "Requirement already satisfied: mkl_umath in /usr/local/lib/python3.10/dist-packages (from numpy!=1.20,>=1.8->hickle) (0.1.1)\r\n",
      "Requirement already satisfied: mkl in /usr/local/lib/python3.10/dist-packages (from numpy!=1.20,>=1.8->hickle) (2025.0.1)\r\n",
      "Requirement already satisfied: tbb4py in /usr/local/lib/python3.10/dist-packages (from numpy!=1.20,>=1.8->hickle) (2022.0.0)\r\n",
      "Requirement already satisfied: mkl-service in /usr/local/lib/python3.10/dist-packages (from numpy!=1.20,>=1.8->hickle) (2.4.1)\r\n",
      "Requirement already satisfied: intel-openmp>=2024 in /usr/local/lib/python3.10/dist-packages (from mkl->numpy!=1.20,>=1.8->hickle) (2024.2.0)\r\n",
      "Requirement already satisfied: tbb==2022.* in /usr/local/lib/python3.10/dist-packages (from mkl->numpy!=1.20,>=1.8->hickle) (2022.0.0)\r\n",
      "Requirement already satisfied: tcmlib==1.* in /usr/local/lib/python3.10/dist-packages (from tbb==2022.*->mkl->numpy!=1.20,>=1.8->hickle) (1.2.0)\r\n",
      "Requirement already satisfied: intel-cmplr-lib-rt in /usr/local/lib/python3.10/dist-packages (from mkl_umath->numpy!=1.20,>=1.8->hickle) (2024.2.0)\r\n",
      "Requirement already satisfied: intel-cmplr-lib-ur==2024.2.0 in /usr/local/lib/python3.10/dist-packages (from intel-openmp>=2024->mkl->numpy!=1.20,>=1.8->hickle) (2024.2.0)\r\n",
      "Downloading hickle-5.0.3-py3-none-any.whl (107 kB)\r\n",
      "\u001b[2K   \u001b[90m━━━━━━━━━━━━━━━━━━━━━━━━━━━━━━━━━━━━━━━━\u001b[0m \u001b[32m108.0/108.0 kB\u001b[0m \u001b[31m6.9 MB/s\u001b[0m eta \u001b[36m0:00:00\u001b[0m\r\n",
      "\u001b[?25hInstalling collected packages: hickle\r\n",
      "Successfully installed hickle-5.0.3\r\n"
     ]
    }
   ],
   "source": [
    "!git clone https://github.com/ToRong31/rfm-nmf.git\n",
    "import sys\n",
    "sys.path.append('/kaggle/working/rfm-HTR/rfm/rfm')\n",
    "!pip install hickle\n",
    "!cd /kaggle/working/rfm-nmf/rfm"
   ]
  },
  {
   "cell_type": "code",
   "execution_count": 2,
   "id": "c85de1d1",
   "metadata": {
    "execution": {
     "iopub.execute_input": "2025-04-04T07:28:38.986944Z",
     "iopub.status.busy": "2025-04-04T07:28:38.986688Z",
     "iopub.status.idle": "2025-04-04T07:28:38.992837Z",
     "shell.execute_reply": "2025-04-04T07:28:38.992134Z"
    },
    "papermill": {
     "duration": 0.011192,
     "end_time": "2025-04-04T07:28:38.994053",
     "exception": false,
     "start_time": "2025-04-04T07:28:38.982861",
     "status": "completed"
    },
    "tags": []
   },
   "outputs": [
    {
     "name": "stdout",
     "output_type": "stream",
     "text": [
      "/kaggle/working/rfm-nmf/rfm\n"
     ]
    }
   ],
   "source": [
    "cd /kaggle/working/rfm-nmf/rfm"
   ]
  },
  {
   "cell_type": "code",
   "execution_count": 3,
   "id": "f0aca91c",
   "metadata": {
    "execution": {
     "iopub.execute_input": "2025-04-04T07:28:39.000487Z",
     "iopub.status.busy": "2025-04-04T07:28:39.000226Z",
     "iopub.status.idle": "2025-04-04T07:28:39.119590Z",
     "shell.execute_reply": "2025-04-04T07:28:39.118516Z"
    },
    "papermill": {
     "duration": 0.124282,
     "end_time": "2025-04-04T07:28:39.121159",
     "exception": false,
     "start_time": "2025-04-04T07:28:38.996877",
     "status": "completed"
    },
    "tags": []
   },
   "outputs": [
    {
     "name": "stdout",
     "output_type": "stream",
     "text": [
      "celeba_experiments  LICENSE\t\t   setup.py\r\n",
      "data\t\t    low_rank.ipynb\t   svhn.ipynb\r\n",
      "example_notebooks   ntk.py\t\t   svhn.py\r\n",
      "Gauss.py\t    output.txt\t\t   tabular_benchmark_experiments\r\n",
      "generalized.py\t    phenomena_experiments  testhehe.ipynb\r\n",
      "laplace_cifar10.py  README.md\t\t   test.ipynb\r\n",
      "laplace.py\t    rfm\t\t\t   wandb\r\n"
     ]
    }
   ],
   "source": [
    "!ls"
   ]
  },
  {
   "cell_type": "code",
   "execution_count": 4,
   "id": "35abb3c8",
   "metadata": {
    "execution": {
     "iopub.execute_input": "2025-04-04T07:28:39.128423Z",
     "iopub.status.busy": "2025-04-04T07:28:39.128100Z",
     "iopub.status.idle": "2025-04-04T07:28:39.131512Z",
     "shell.execute_reply": "2025-04-04T07:28:39.130704Z"
    },
    "papermill": {
     "duration": 0.008315,
     "end_time": "2025-04-04T07:28:39.132731",
     "exception": false,
     "start_time": "2025-04-04T07:28:39.124416",
     "status": "completed"
    },
    "tags": []
   },
   "outputs": [],
   "source": [
    "# !cd /kaggle/working/rfm-nmf && git pull"
   ]
  },
  {
   "cell_type": "code",
   "execution_count": 5,
   "id": "63390951",
   "metadata": {
    "execution": {
     "iopub.execute_input": "2025-04-04T07:28:39.139202Z",
     "iopub.status.busy": "2025-04-04T07:28:39.138972Z",
     "iopub.status.idle": "2025-04-04T07:29:01.451635Z",
     "shell.execute_reply": "2025-04-04T07:29:01.450400Z"
    },
    "papermill": {
     "duration": 22.31775,
     "end_time": "2025-04-04T07:29:01.453262",
     "exception": false,
     "start_time": "2025-04-04T07:28:39.135512",
     "status": "completed"
    },
    "tags": []
   },
   "outputs": [
    {
     "name": "stdout",
     "output_type": "stream",
     "text": [
      "\u001b[34m\u001b[1mwandb\u001b[0m: Using wandb-core as the SDK backend.  Please refer to https://wandb.me/wandb-core for more information.\r\n",
      "\u001b[34m\u001b[1mwandb\u001b[0m: Currently logged in as: \u001b[33mtorong31\u001b[0m (\u001b[33mtorong31-uit\u001b[0m). Use \u001b[1m`wandb login --relogin`\u001b[0m to force relogin\r\n",
      "\u001b[34m\u001b[1mwandb\u001b[0m: \u001b[33mWARNING\u001b[0m If you're specifying your api key in code, ensure this code is not shared publicly.\r\n",
      "\u001b[34m\u001b[1mwandb\u001b[0m: \u001b[33mWARNING\u001b[0m Consider setting the WANDB_API_KEY environment variable, or running `wandb login` from the command line.\r\n",
      "\u001b[34m\u001b[1mwandb\u001b[0m: Appending key for api.wandb.ai to your netrc file: /root/.netrc\r\n",
      "\u001b[34m\u001b[1mwandb\u001b[0m: Tracking run with wandb version 0.19.1\r\n",
      "\u001b[34m\u001b[1mwandb\u001b[0m: Run data is saved locally in \u001b[35m\u001b[1m/kaggle/working/rfm-nmf/rfm/wandb/run-20250404_072853-pvup9phe\u001b[0m\r\n",
      "\u001b[34m\u001b[1mwandb\u001b[0m: Run \u001b[1m`wandb offline`\u001b[0m to turn off syncing.\r\n",
      "\u001b[34m\u001b[1mwandb\u001b[0m: Syncing run \u001b[33mTry3\u001b[0m\r\n",
      "\u001b[34m\u001b[1mwandb\u001b[0m: ⭐️ View project at \u001b[34m\u001b[4mhttps://wandb.ai/torong31-uit/rfm-nmf\u001b[0m\r\n",
      "\u001b[34m\u001b[1mwandb\u001b[0m: 🚀 View run at \u001b[34m\u001b[4mhttps://wandb.ai/torong31-uit/rfm-nmf/runs/pvup9phe\u001b[0m\r\n",
      "2025-04-04 07:28:54,828 - Training LaplaceRFM\r\n",
      "Loaders provided\r\n",
      "Time taken to prefit nmf with 70000 points: 0.8772270679473877 seconds\r\n",
      "Traceback (most recent call last):\r\n",
      "  File \"/kaggle/working/rfm-nmf/rfm/laplace.py\", line 79, in <module>\r\n",
      "    laplace_model.fit(\r\n",
      "  File \"/kaggle/working/rfm-nmf/rfm/rfm/recursive_feature_machine.py\", line 238, in fit\r\n",
      "    self.fit_predictor(X_train, y_train, X_val=X_test, y_val=y_test,\r\n",
      "  File \"/kaggle/working/rfm-nmf/rfm/rfm/recursive_feature_machine.py\", line 137, in fit_predictor\r\n",
      "    self.weights = self.fit_predictor_nmf(centers, targets, bs=bs, lr_scale=lr_scale,\r\n",
      "  File \"/kaggle/working/rfm-nmf/rfm/rfm/recursive_feature_machine.py\", line 174, in fit_predictor_nmf\r\n",
      "    _ = ep_model.fit(centers, targets, verbose=verbose, mem_gb=self.mem_gb, bs=bs, lr_scale=lr_scale, **kwargs)\r\n",
      "  File \"/kaggle/working/rfm-nmf/rfm/rfm/nmfhtr.py\", line 200, in fit\r\n",
      "    W_nmf, H_nmf,S_nmf, nmf_norms = asm_nmf_fn(samples, self.kernel_fn, rank=n_labels, verbose=verbose)\r\n",
      "  File \"/kaggle/working/rfm-nmf/rfm/rfm/nmfhtr.py\", line 24, in asm_nmf_fn\r\n",
      "    W, H, S, norms = multiplicative_update_nsnmf(\r\n",
      "  File \"/kaggle/working/rfm-nmf/rfm/rfm/nmf.py\", line 59, in multiplicative_update_nsnmf\r\n",
      "    W, H = nndsvd_initialization(A, k)\r\n",
      "  File \"/kaggle/working/rfm-nmf/rfm/rfm/nmf.py\", line 35, in nndsvd_initialization\r\n",
      "    return random_initialization(A, k)\r\n",
      "  File \"/kaggle/working/rfm-nmf/rfm/rfm/nmf.py\", line 16, in random_initialization\r\n",
      "    W = np.random.rand(A.shape[0], k)\r\n",
      "  File \"mtrand.pyx\", line 1219, in numpy.random.mtrand.RandomState.rand\r\n",
      "  File \"mtrand.pyx\", line 437, in numpy.random.mtrand.RandomState.random_sample\r\n",
      "  File \"_common.pyx\", line 307, in numpy.random._common.double_fill\r\n",
      "TypeError: 'list' object cannot be interpreted as an integer\r\n",
      "\u001b[1;34mwandb\u001b[0m: 🚀 View run \u001b[33mTry3\u001b[0m at: \u001b[34mhttps://wandb.ai/torong31-uit/rfm-nmf/runs/pvup9phe\u001b[0m\r\n",
      "\u001b[1;34mwandb\u001b[0m: Find logs at: \u001b[1;35mwandb/run-20250404_072853-pvup9phe/logs\u001b[0m\r\n"
     ]
    }
   ],
   "source": [
    "!python laplace.py"
   ]
  },
  {
   "cell_type": "code",
   "execution_count": 6,
   "id": "82e45cce",
   "metadata": {
    "execution": {
     "iopub.execute_input": "2025-04-04T07:29:01.461626Z",
     "iopub.status.busy": "2025-04-04T07:29:01.461306Z",
     "iopub.status.idle": "2025-04-04T07:29:01.464898Z",
     "shell.execute_reply": "2025-04-04T07:29:01.464040Z"
    },
    "papermill": {
     "duration": 0.009139,
     "end_time": "2025-04-04T07:29:01.466190",
     "exception": false,
     "start_time": "2025-04-04T07:29:01.457051",
     "status": "completed"
    },
    "tags": []
   },
   "outputs": [],
   "source": [
    "# !python Gauss.py"
   ]
  },
  {
   "cell_type": "code",
   "execution_count": 7,
   "id": "0893ad8c",
   "metadata": {
    "execution": {
     "iopub.execute_input": "2025-04-04T07:29:01.473980Z",
     "iopub.status.busy": "2025-04-04T07:29:01.473743Z",
     "iopub.status.idle": "2025-04-04T07:29:01.476576Z",
     "shell.execute_reply": "2025-04-04T07:29:01.475956Z"
    },
    "papermill": {
     "duration": 0.008121,
     "end_time": "2025-04-04T07:29:01.477781",
     "exception": false,
     "start_time": "2025-04-04T07:29:01.469660",
     "status": "completed"
    },
    "tags": []
   },
   "outputs": [],
   "source": [
    "# !python generalized.py"
   ]
  },
  {
   "cell_type": "code",
   "execution_count": 8,
   "id": "8d979338",
   "metadata": {
    "execution": {
     "iopub.execute_input": "2025-04-04T07:29:01.485452Z",
     "iopub.status.busy": "2025-04-04T07:29:01.485175Z",
     "iopub.status.idle": "2025-04-04T07:29:01.487977Z",
     "shell.execute_reply": "2025-04-04T07:29:01.487373Z"
    },
    "papermill": {
     "duration": 0.007887,
     "end_time": "2025-04-04T07:29:01.489099",
     "exception": false,
     "start_time": "2025-04-04T07:29:01.481212",
     "status": "completed"
    },
    "tags": []
   },
   "outputs": [],
   "source": [
    "# !python laplace_cifar10.py"
   ]
  }
 ],
 "metadata": {
  "kaggle": {
   "accelerator": "gpu",
   "dataSources": [],
   "dockerImageVersionId": 30918,
   "isGpuEnabled": true,
   "isInternetEnabled": true,
   "language": "python",
   "sourceType": "notebook"
  },
  "kernelspec": {
   "display_name": "Python 3",
   "language": "python",
   "name": "python3"
  },
  "language_info": {
   "codemirror_mode": {
    "name": "ipython",
    "version": 3
   },
   "file_extension": ".py",
   "mimetype": "text/x-python",
   "name": "python",
   "nbconvert_exporter": "python",
   "pygments_lexer": "ipython3",
   "version": "3.10.12"
  },
  "papermill": {
   "default_parameters": {},
   "duration": 32.613958,
   "end_time": "2025-04-04T07:29:01.810000",
   "environment_variables": {},
   "exception": null,
   "input_path": "__notebook__.ipynb",
   "output_path": "__notebook__.ipynb",
   "parameters": {},
   "start_time": "2025-04-04T07:28:29.196042",
   "version": "2.6.0"
  }
 },
 "nbformat": 4,
 "nbformat_minor": 5
}
