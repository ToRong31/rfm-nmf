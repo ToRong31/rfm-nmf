{
 "cells": [
  {
   "cell_type": "code",
   "execution_count": 1,
   "id": "6907d151",
   "metadata": {
    "_cell_guid": "b1076dfc-b9ad-4769-8c92-a6c4dae69d19",
    "_uuid": "8f2839f25d086af736a60e9eeb907d3b93b6e0e5",
    "execution": {
     "iopub.execute_input": "2025-03-31T18:32:22.252062Z",
     "iopub.status.busy": "2025-03-31T18:32:22.251851Z",
     "iopub.status.idle": "2025-03-31T18:32:30.287616Z",
     "shell.execute_reply": "2025-03-31T18:32:30.286449Z"
    },
    "papermill": {
     "duration": 8.040231,
     "end_time": "2025-03-31T18:32:30.289108",
     "exception": false,
     "start_time": "2025-03-31T18:32:22.248877",
     "status": "completed"
    },
    "tags": []
   },
   "outputs": [
    {
     "name": "stdout",
     "output_type": "stream",
     "text": [
      "Cloning into 'rfm-nmf'...\r\n",
      "remote: Enumerating objects: 282, done.\u001b[K\r\n",
      "remote: Counting objects: 100% (216/216), done.\u001b[K\r\n",
      "remote: Compressing objects: 100% (163/163), done.\u001b[K\r\n",
      "remote: Total 282 (delta 129), reused 123 (delta 53), pack-reused 66 (from 1)\u001b[K\r\n",
      "Receiving objects: 100% (282/282), 22.48 MiB | 19.11 MiB/s, done.\r\n",
      "Resolving deltas: 100% (142/142), done.\r\n",
      "Collecting hickle\r\n",
      "  Downloading hickle-5.0.3-py3-none-any.whl.metadata (22 kB)\r\n",
      "Requirement already satisfied: h5py>=2.10.0 in /usr/local/lib/python3.10/dist-packages (from hickle) (3.12.1)\r\n",
      "Requirement already satisfied: numpy!=1.20,>=1.8 in /usr/local/lib/python3.10/dist-packages (from hickle) (1.26.4)\r\n",
      "Requirement already satisfied: mkl_fft in /usr/local/lib/python3.10/dist-packages (from numpy!=1.20,>=1.8->hickle) (1.3.8)\r\n",
      "Requirement already satisfied: mkl_random in /usr/local/lib/python3.10/dist-packages (from numpy!=1.20,>=1.8->hickle) (1.2.4)\r\n",
      "Requirement already satisfied: mkl_umath in /usr/local/lib/python3.10/dist-packages (from numpy!=1.20,>=1.8->hickle) (0.1.1)\r\n",
      "Requirement already satisfied: mkl in /usr/local/lib/python3.10/dist-packages (from numpy!=1.20,>=1.8->hickle) (2025.0.1)\r\n",
      "Requirement already satisfied: tbb4py in /usr/local/lib/python3.10/dist-packages (from numpy!=1.20,>=1.8->hickle) (2022.0.0)\r\n",
      "Requirement already satisfied: mkl-service in /usr/local/lib/python3.10/dist-packages (from numpy!=1.20,>=1.8->hickle) (2.4.1)\r\n",
      "Requirement already satisfied: intel-openmp>=2024 in /usr/local/lib/python3.10/dist-packages (from mkl->numpy!=1.20,>=1.8->hickle) (2024.2.0)\r\n",
      "Requirement already satisfied: tbb==2022.* in /usr/local/lib/python3.10/dist-packages (from mkl->numpy!=1.20,>=1.8->hickle) (2022.0.0)\r\n",
      "Requirement already satisfied: tcmlib==1.* in /usr/local/lib/python3.10/dist-packages (from tbb==2022.*->mkl->numpy!=1.20,>=1.8->hickle) (1.2.0)\r\n",
      "Requirement already satisfied: intel-cmplr-lib-rt in /usr/local/lib/python3.10/dist-packages (from mkl_umath->numpy!=1.20,>=1.8->hickle) (2024.2.0)\r\n",
      "Requirement already satisfied: intel-cmplr-lib-ur==2024.2.0 in /usr/local/lib/python3.10/dist-packages (from intel-openmp>=2024->mkl->numpy!=1.20,>=1.8->hickle) (2024.2.0)\r\n",
      "Downloading hickle-5.0.3-py3-none-any.whl (107 kB)\r\n",
      "\u001b[2K   \u001b[90m━━━━━━━━━━━━━━━━━━━━━━━━━━━━━━━━━━━━━━━━\u001b[0m \u001b[32m108.0/108.0 kB\u001b[0m \u001b[31m3.0 MB/s\u001b[0m eta \u001b[36m0:00:00\u001b[0m\r\n",
      "\u001b[?25hInstalling collected packages: hickle\r\n",
      "Successfully installed hickle-5.0.3\r\n"
     ]
    }
   ],
   "source": [
    "!git clone https://github.com/ToRong31/rfm-nmf.git\n",
    "import sys\n",
    "sys.path.append('/kaggle/working/rfm-HTR/rfm/rfm')\n",
    "!pip install hickle\n",
    "!cd /kaggle/working/rfm-nmf/rfm"
   ]
  },
  {
   "cell_type": "code",
   "execution_count": 2,
   "id": "551bb007",
   "metadata": {
    "execution": {
     "iopub.execute_input": "2025-03-31T18:32:30.296698Z",
     "iopub.status.busy": "2025-03-31T18:32:30.296377Z",
     "iopub.status.idle": "2025-03-31T18:32:30.302270Z",
     "shell.execute_reply": "2025-03-31T18:32:30.301416Z"
    },
    "papermill": {
     "duration": 0.010734,
     "end_time": "2025-03-31T18:32:30.303442",
     "exception": false,
     "start_time": "2025-03-31T18:32:30.292708",
     "status": "completed"
    },
    "tags": []
   },
   "outputs": [
    {
     "name": "stdout",
     "output_type": "stream",
     "text": [
      "/kaggle/working/rfm-nmf/rfm\n"
     ]
    }
   ],
   "source": [
    "cd /kaggle/working/rfm-nmf/rfm"
   ]
  },
  {
   "cell_type": "code",
   "execution_count": 3,
   "id": "fb964e05",
   "metadata": {
    "execution": {
     "iopub.execute_input": "2025-03-31T18:32:30.309903Z",
     "iopub.status.busy": "2025-03-31T18:32:30.309679Z",
     "iopub.status.idle": "2025-03-31T18:32:30.426733Z",
     "shell.execute_reply": "2025-03-31T18:32:30.425970Z"
    },
    "papermill": {
     "duration": 0.121727,
     "end_time": "2025-03-31T18:32:30.428069",
     "exception": false,
     "start_time": "2025-03-31T18:32:30.306342",
     "status": "completed"
    },
    "tags": []
   },
   "outputs": [
    {
     "name": "stdout",
     "output_type": "stream",
     "text": [
      "celeba_experiments  LICENSE\t\t   setup.py\r\n",
      "data\t\t    low_rank.ipynb\t   svhn.ipynb\r\n",
      "example_notebooks   ntk.py\t\t   svhn.py\r\n",
      "Gauss.py\t    output.txt\t\t   tabular_benchmark_experiments\r\n",
      "generalized.py\t    phenomena_experiments  testhehe.ipynb\r\n",
      "laplace_cifar10.py  README.md\t\t   test.ipynb\r\n",
      "laplace.py\t    rfm\t\t\t   wandb\r\n"
     ]
    }
   ],
   "source": [
    "!ls"
   ]
  },
  {
   "cell_type": "code",
   "execution_count": 4,
   "id": "82a5d358",
   "metadata": {
    "execution": {
     "iopub.execute_input": "2025-03-31T18:32:30.434865Z",
     "iopub.status.busy": "2025-03-31T18:32:30.434628Z",
     "iopub.status.idle": "2025-03-31T18:32:30.437823Z",
     "shell.execute_reply": "2025-03-31T18:32:30.437054Z"
    },
    "papermill": {
     "duration": 0.007933,
     "end_time": "2025-03-31T18:32:30.439045",
     "exception": false,
     "start_time": "2025-03-31T18:32:30.431112",
     "status": "completed"
    },
    "tags": []
   },
   "outputs": [],
   "source": [
    "# !cd /kaggle/working/rfm-nmf && git pull"
   ]
  },
  {
   "cell_type": "code",
   "execution_count": 5,
   "id": "b70d13f8",
   "metadata": {
    "execution": {
     "iopub.execute_input": "2025-03-31T18:32:30.445427Z",
     "iopub.status.busy": "2025-03-31T18:32:30.445209Z",
     "iopub.status.idle": "2025-03-31T18:41:56.210730Z",
     "shell.execute_reply": "2025-03-31T18:41:56.209537Z"
    },
    "papermill": {
     "duration": 565.770427,
     "end_time": "2025-03-31T18:41:56.212352",
     "exception": false,
     "start_time": "2025-03-31T18:32:30.441925",
     "status": "completed"
    },
    "tags": []
   },
   "outputs": [
    {
     "name": "stdout",
     "output_type": "stream",
     "text": [
      "\u001b[34m\u001b[1mwandb\u001b[0m: Using wandb-core as the SDK backend.  Please refer to https://wandb.me/wandb-core for more information.\r\n",
      "\u001b[34m\u001b[1mwandb\u001b[0m: Currently logged in as: \u001b[33mtorong31\u001b[0m (\u001b[33mtorong31-uit\u001b[0m). Use \u001b[1m`wandb login --relogin`\u001b[0m to force relogin\r\n",
      "\u001b[34m\u001b[1mwandb\u001b[0m: \u001b[33mWARNING\u001b[0m If you're specifying your api key in code, ensure this code is not shared publicly.\r\n",
      "\u001b[34m\u001b[1mwandb\u001b[0m: \u001b[33mWARNING\u001b[0m Consider setting the WANDB_API_KEY environment variable, or running `wandb login` from the command line.\r\n",
      "\u001b[34m\u001b[1mwandb\u001b[0m: Appending key for api.wandb.ai to your netrc file: /root/.netrc\r\n",
      "\u001b[34m\u001b[1mwandb\u001b[0m: Tracking run with wandb version 0.19.1\r\n",
      "\u001b[34m\u001b[1mwandb\u001b[0m: Run data is saved locally in \u001b[35m\u001b[1m/kaggle/working/rfm-nmf/rfm/wandb/run-20250331_183244-o04gw1su\u001b[0m\r\n",
      "\u001b[34m\u001b[1mwandb\u001b[0m: Run \u001b[1m`wandb offline`\u001b[0m to turn off syncing.\r\n",
      "\u001b[34m\u001b[1mwandb\u001b[0m: Syncing run \u001b[33mTry3\u001b[0m\r\n",
      "\u001b[34m\u001b[1mwandb\u001b[0m: ⭐️ View project at \u001b[34m\u001b[4mhttps://wandb.ai/torong31-uit/rfm-nmf\u001b[0m\r\n",
      "\u001b[34m\u001b[1mwandb\u001b[0m: 🚀 View run at \u001b[34m\u001b[4mhttps://wandb.ai/torong31-uit/rfm-nmf/runs/o04gw1su\u001b[0m\r\n",
      "2025-03-31 18:32:45,757 - Training LaplaceRFM\r\n",
      "Loaders provided\r\n",
      "Time taken to prefit nmf with 70000 points: 0.8837172985076904 seconds\r\n",
      "dnsNMF completed with final reconstruction error: 39933.4413\r\n",
      "Using NMF-based projection with rank=10, eta=0.0001, bs=10000\r\n",
      "  0%|                                                     | 0/1 [00:00<?, ?it/s]Correction shape mismatch: 10 vs 10000\r\n",
      "100%|█████████████████████████████████████████████| 1/1 [00:00<00:00,  5.83it/s]\r\n",
      "(0 epochs, 0.2s)\ttrain mse: 0.0000 \tval mse: 0.0617\ttrain acc: 1.0000 \tval acc: 0.9221\r\n",
      "New best multiclass-acc: 0.9221\r\n",
      "Round 0, Test Acc: 92.21%\r\n",
      "Round 0, Test MSE: 0.0617\r\n",
      "2025-03-31 18:34:42,034 - NumExpr defaulting to 4 threads.\r\n",
      "Sampling AGOP on maximum of 10048 total points\r\n",
      "100%|█████████████████████████████████████████| 157/157 [00:03<00:00, 51.81it/s]\r\n",
      "Time taken to prefit nmf with 70000 points: 0.20635008811950684 seconds\r\n",
      "dnsNMF completed with final reconstruction error: 823506.7178\r\n",
      "Using NMF-based projection with rank=10, eta=0.0001, bs=10000\r\n",
      "  0%|                                                     | 0/1 [00:00<?, ?it/s]Correction shape mismatch: 10 vs 10000\r\n",
      "100%|████████████████████████████████████████████| 1/1 [00:00<00:00, 554.44it/s]\r\n",
      "(0 epochs, 0.0s)\ttrain mse: 0.0000 \tval mse: 0.0767\ttrain acc: 1.0000 \tval acc: 0.9358\r\n",
      "New best multiclass-acc: 0.9358\r\n",
      "  0%|                                                     | 0/1 [00:00<?, ?it/s]Correction shape mismatch: 10 vs 10000\r\n",
      "100%|████████████████████████████████████████████| 1/1 [00:00<00:00, 671.41it/s]\r\n",
      "(1 epochs, 0.0s)\ttrain mse: 0.0001 \tval mse: 0.0767\ttrain acc: 1.0000 \tval acc: 0.9358\r\n",
      "  0%|                                                     | 0/1 [00:00<?, ?it/s]Correction shape mismatch: 10 vs 10000\r\n",
      "100%|████████████████████████████████████████████| 1/1 [00:00<00:00, 669.38it/s]\r\n",
      "(2 epochs, 0.0s)\ttrain mse: 0.0003 \tval mse: 0.0767\ttrain acc: 1.0000 \tval acc: 0.9358\r\n",
      "Round 1, Test Acc: 93.58%\r\n",
      "Round 1, Test MSE: 0.0767\r\n",
      "Sampling AGOP on maximum of 10048 total points\r\n",
      "100%|█████████████████████████████████████████| 157/157 [00:03<00:00, 50.24it/s]\r\n",
      "Time taken to prefit nmf with 70000 points: 0.20903396606445312 seconds\r\n",
      "dnsNMF completed with final reconstruction error: 489919.7473\r\n",
      "Using NMF-based projection with rank=10, eta=0.0001, bs=10000\r\n",
      "  0%|                                                     | 0/1 [00:00<?, ?it/s]Correction shape mismatch: 10 vs 10000\r\n",
      "100%|████████████████████████████████████████████| 1/1 [00:00<00:00, 610.35it/s]\r\n",
      "(0 epochs, 0.0s)\ttrain mse: 0.0000 \tval mse: 0.0581\ttrain acc: 1.0000 \tval acc: 0.9223\r\n",
      "New best multiclass-acc: 0.9223\r\n",
      "  0%|                                                     | 0/1 [00:00<?, ?it/s]Correction shape mismatch: 10 vs 10000\r\n",
      "100%|████████████████████████████████████████████| 1/1 [00:00<00:00, 679.90it/s]\r\n",
      "(1 epochs, 0.0s)\ttrain mse: 0.0007 \tval mse: 0.0581\ttrain acc: 1.0000 \tval acc: 0.9223\r\n",
      "  0%|                                                     | 0/1 [00:00<?, ?it/s]Correction shape mismatch: 10 vs 10000\r\n",
      "100%|████████████████████████████████████████████| 1/1 [00:00<00:00, 681.78it/s]\r\n",
      "(2 epochs, 0.0s)\ttrain mse: 0.0026 \tval mse: 0.0581\ttrain acc: 1.0000 \tval acc: 0.9223\r\n",
      "Round 2, Test Acc: 92.23%\r\n",
      "Round 2, Test MSE: 0.0581\r\n",
      "Sampling AGOP on maximum of 10048 total points\r\n",
      "100%|█████████████████████████████████████████| 157/157 [00:02<00:00, 53.41it/s]\r\n",
      "Time taken to prefit nmf with 70000 points: 0.2090318202972412 seconds\r\n",
      "dnsNMF completed with final reconstruction error: 382659.5596\r\n",
      "Using NMF-based projection with rank=10, eta=0.0001, bs=10000\r\n",
      "  0%|                                                     | 0/1 [00:00<?, ?it/s]Correction shape mismatch: 10 vs 10000\r\n",
      "100%|████████████████████████████████████████████| 1/1 [00:00<00:00, 541.20it/s]\r\n",
      "(0 epochs, 0.0s)\ttrain mse: 0.0000 \tval mse: 0.0492\ttrain acc: 1.0000 \tval acc: 0.9101\r\n",
      "New best multiclass-acc: 0.9101\r\n",
      "  0%|                                                     | 0/1 [00:00<?, ?it/s]Correction shape mismatch: 10 vs 10000\r\n",
      "100%|████████████████████████████████████████████| 1/1 [00:00<00:00, 722.53it/s]\r\n",
      "(1 epochs, 0.0s)\ttrain mse: 0.0002 \tval mse: 0.0493\ttrain acc: 1.0000 \tval acc: 0.9101\r\n",
      "  0%|                                                     | 0/1 [00:00<?, ?it/s]Correction shape mismatch: 10 vs 10000\r\n",
      "100%|████████████████████████████████████████████| 1/1 [00:00<00:00, 736.23it/s]\r\n",
      "(2 epochs, 0.0s)\ttrain mse: 0.0009 \tval mse: 0.0493\ttrain acc: 1.0000 \tval acc: 0.9100\r\n",
      "Final MSE: 0.0492\r\n",
      "Final Test Acc: 91.01%\r\n",
      "\u001b[34m\u001b[1mwandb\u001b[0m:                                                                                \r\n",
      "\u001b[34m\u001b[1mwandb\u001b[0m: \r\n",
      "\u001b[34m\u001b[1mwandb\u001b[0m: Run history:\r\n",
      "\u001b[34m\u001b[1mwandb\u001b[0m:               epoch ▁▅█\r\n",
      "\u001b[34m\u001b[1mwandb\u001b[0m:      epoch_time_sec ▁▂█\r\n",
      "\u001b[34m\u001b[1mwandb\u001b[0m:           final_mse ▁\r\n",
      "\u001b[34m\u001b[1mwandb\u001b[0m: final_test_accuracy ▁\r\n",
      "\u001b[34m\u001b[1mwandb\u001b[0m:       test_accuracy ▁█▁\r\n",
      "\u001b[34m\u001b[1mwandb\u001b[0m:            test_mse ▂█▁\r\n",
      "\u001b[34m\u001b[1mwandb\u001b[0m: \r\n",
      "\u001b[34m\u001b[1mwandb\u001b[0m: Run summary:\r\n",
      "\u001b[34m\u001b[1mwandb\u001b[0m:               epoch 2\r\n",
      "\u001b[34m\u001b[1mwandb\u001b[0m:      epoch_time_sec 151.19559\r\n",
      "\u001b[34m\u001b[1mwandb\u001b[0m:           final_mse 0.04924\r\n",
      "\u001b[34m\u001b[1mwandb\u001b[0m: final_test_accuracy 0.9101\r\n",
      "\u001b[34m\u001b[1mwandb\u001b[0m:       test_accuracy 0.9223\r\n",
      "\u001b[34m\u001b[1mwandb\u001b[0m:            test_mse 0.05808\r\n",
      "\u001b[34m\u001b[1mwandb\u001b[0m: \r\n",
      "\u001b[34m\u001b[1mwandb\u001b[0m: 🚀 View run \u001b[33mTry3\u001b[0m at: \u001b[34m\u001b[4mhttps://wandb.ai/torong31-uit/rfm-nmf/runs/o04gw1su\u001b[0m\r\n",
      "\u001b[34m\u001b[1mwandb\u001b[0m: ⭐️ View project at: \u001b[34m\u001b[4mhttps://wandb.ai/torong31-uit/rfm-nmf\u001b[0m\r\n",
      "\u001b[34m\u001b[1mwandb\u001b[0m: Synced 5 W&B file(s), 0 media file(s), 0 artifact file(s) and 0 other file(s)\r\n",
      "\u001b[34m\u001b[1mwandb\u001b[0m: Find logs at: \u001b[35m\u001b[1m./wandb/run-20250331_183244-o04gw1su/logs\u001b[0m\r\n"
     ]
    }
   ],
   "source": [
    "!python laplace.py"
   ]
  },
  {
   "cell_type": "code",
   "execution_count": 6,
   "id": "e8a43f3e",
   "metadata": {
    "execution": {
     "iopub.execute_input": "2025-03-31T18:41:56.238927Z",
     "iopub.status.busy": "2025-03-31T18:41:56.238629Z",
     "iopub.status.idle": "2025-03-31T18:41:56.242512Z",
     "shell.execute_reply": "2025-03-31T18:41:56.241502Z"
    },
    "papermill": {
     "duration": 0.018995,
     "end_time": "2025-03-31T18:41:56.244209",
     "exception": false,
     "start_time": "2025-03-31T18:41:56.225214",
     "status": "completed"
    },
    "tags": []
   },
   "outputs": [],
   "source": [
    "# !python Gauss.py"
   ]
  },
  {
   "cell_type": "code",
   "execution_count": 7,
   "id": "9e9f4c13",
   "metadata": {
    "execution": {
     "iopub.execute_input": "2025-03-31T18:41:56.270278Z",
     "iopub.status.busy": "2025-03-31T18:41:56.270075Z",
     "iopub.status.idle": "2025-03-31T18:41:56.273055Z",
     "shell.execute_reply": "2025-03-31T18:41:56.272367Z"
    },
    "papermill": {
     "duration": 0.017496,
     "end_time": "2025-03-31T18:41:56.274893",
     "exception": false,
     "start_time": "2025-03-31T18:41:56.257397",
     "status": "completed"
    },
    "tags": []
   },
   "outputs": [],
   "source": [
    "# !python generalized.py"
   ]
  },
  {
   "cell_type": "code",
   "execution_count": 8,
   "id": "109e61c4",
   "metadata": {
    "execution": {
     "iopub.execute_input": "2025-03-31T18:41:56.297316Z",
     "iopub.status.busy": "2025-03-31T18:41:56.297084Z",
     "iopub.status.idle": "2025-03-31T18:41:56.300087Z",
     "shell.execute_reply": "2025-03-31T18:41:56.299300Z"
    },
    "papermill": {
     "duration": 0.014466,
     "end_time": "2025-03-31T18:41:56.301202",
     "exception": false,
     "start_time": "2025-03-31T18:41:56.286736",
     "status": "completed"
    },
    "tags": []
   },
   "outputs": [],
   "source": [
    "# !python laplace_cifar10.py"
   ]
  }
 ],
 "metadata": {
  "kaggle": {
   "accelerator": "gpu",
   "dataSources": [],
   "dockerImageVersionId": 30918,
   "isGpuEnabled": true,
   "isInternetEnabled": true,
   "language": "python",
   "sourceType": "notebook"
  },
  "kernelspec": {
   "display_name": "Python 3",
   "language": "python",
   "name": "python3"
  },
  "language_info": {
   "codemirror_mode": {
    "name": "ipython",
    "version": 3
   },
   "file_extension": ".py",
   "mimetype": "text/x-python",
   "name": "python",
   "nbconvert_exporter": "python",
   "pygments_lexer": "ipython3",
   "version": "3.10.12"
  },
  "papermill": {
   "default_parameters": {},
   "duration": 576.888922,
   "end_time": "2025-03-31T18:41:56.625691",
   "environment_variables": {},
   "exception": null,
   "input_path": "__notebook__.ipynb",
   "output_path": "__notebook__.ipynb",
   "parameters": {},
   "start_time": "2025-03-31T18:32:19.736769",
   "version": "2.6.0"
  }
 },
 "nbformat": 4,
 "nbformat_minor": 5
}
