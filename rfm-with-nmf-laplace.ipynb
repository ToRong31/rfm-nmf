{
 "cells": [
  {
   "cell_type": "code",
   "execution_count": 1,
   "id": "b91ad759",
   "metadata": {
    "_cell_guid": "b1076dfc-b9ad-4769-8c92-a6c4dae69d19",
    "_uuid": "8f2839f25d086af736a60e9eeb907d3b93b6e0e5",
    "execution": {
     "iopub.execute_input": "2025-04-04T03:48:10.459330Z",
     "iopub.status.busy": "2025-04-04T03:48:10.459021Z",
     "iopub.status.idle": "2025-04-04T03:48:17.831128Z",
     "shell.execute_reply": "2025-04-04T03:48:17.830027Z"
    },
    "papermill": {
     "duration": 7.377608,
     "end_time": "2025-04-04T03:48:17.832984",
     "exception": false,
     "start_time": "2025-04-04T03:48:10.455376",
     "status": "completed"
    },
    "tags": []
   },
   "outputs": [
    {
     "name": "stdout",
     "output_type": "stream",
     "text": [
      "Cloning into 'rfm-nmf'...\r\n",
      "remote: Enumerating objects: 296, done.\u001b[K\r\n",
      "remote: Counting objects: 100% (230/230), done.\u001b[K\r\n",
      "remote: Compressing objects: 100% (177/177), done.\u001b[K\r\n",
      "remote: Total 296 (delta 139), reused 119 (delta 53), pack-reused 66 (from 1)\u001b[K\r\n",
      "Receiving objects: 100% (296/296), 22.49 MiB | 28.12 MiB/s, done.\r\n",
      "Resolving deltas: 100% (152/152), done.\r\n",
      "Collecting hickle\r\n",
      "  Downloading hickle-5.0.3-py3-none-any.whl.metadata (22 kB)\r\n",
      "Requirement already satisfied: h5py>=2.10.0 in /usr/local/lib/python3.10/dist-packages (from hickle) (3.12.1)\r\n",
      "Requirement already satisfied: numpy!=1.20,>=1.8 in /usr/local/lib/python3.10/dist-packages (from hickle) (1.26.4)\r\n",
      "Requirement already satisfied: mkl_fft in /usr/local/lib/python3.10/dist-packages (from numpy!=1.20,>=1.8->hickle) (1.3.8)\r\n",
      "Requirement already satisfied: mkl_random in /usr/local/lib/python3.10/dist-packages (from numpy!=1.20,>=1.8->hickle) (1.2.4)\r\n",
      "Requirement already satisfied: mkl_umath in /usr/local/lib/python3.10/dist-packages (from numpy!=1.20,>=1.8->hickle) (0.1.1)\r\n",
      "Requirement already satisfied: mkl in /usr/local/lib/python3.10/dist-packages (from numpy!=1.20,>=1.8->hickle) (2025.0.1)\r\n",
      "Requirement already satisfied: tbb4py in /usr/local/lib/python3.10/dist-packages (from numpy!=1.20,>=1.8->hickle) (2022.0.0)\r\n",
      "Requirement already satisfied: mkl-service in /usr/local/lib/python3.10/dist-packages (from numpy!=1.20,>=1.8->hickle) (2.4.1)\r\n",
      "Requirement already satisfied: intel-openmp>=2024 in /usr/local/lib/python3.10/dist-packages (from mkl->numpy!=1.20,>=1.8->hickle) (2024.2.0)\r\n",
      "Requirement already satisfied: tbb==2022.* in /usr/local/lib/python3.10/dist-packages (from mkl->numpy!=1.20,>=1.8->hickle) (2022.0.0)\r\n",
      "Requirement already satisfied: tcmlib==1.* in /usr/local/lib/python3.10/dist-packages (from tbb==2022.*->mkl->numpy!=1.20,>=1.8->hickle) (1.2.0)\r\n",
      "Requirement already satisfied: intel-cmplr-lib-rt in /usr/local/lib/python3.10/dist-packages (from mkl_umath->numpy!=1.20,>=1.8->hickle) (2024.2.0)\r\n",
      "Requirement already satisfied: intel-cmplr-lib-ur==2024.2.0 in /usr/local/lib/python3.10/dist-packages (from intel-openmp>=2024->mkl->numpy!=1.20,>=1.8->hickle) (2024.2.0)\r\n",
      "Downloading hickle-5.0.3-py3-none-any.whl (107 kB)\r\n",
      "\u001b[2K   \u001b[90m━━━━━━━━━━━━━━━━━━━━━━━━━━━━━━━━━━━━━━━━\u001b[0m \u001b[32m108.0/108.0 kB\u001b[0m \u001b[31m3.1 MB/s\u001b[0m eta \u001b[36m0:00:00\u001b[0m\r\n",
      "\u001b[?25hInstalling collected packages: hickle\r\n",
      "Successfully installed hickle-5.0.3\r\n"
     ]
    }
   ],
   "source": [
    "!git clone https://github.com/ToRong31/rfm-nmf.git\n",
    "import sys\n",
    "sys.path.append('/kaggle/working/rfm-HTR/rfm/rfm')\n",
    "!pip install hickle\n",
    "!cd /kaggle/working/rfm-nmf/rfm"
   ]
  },
  {
   "cell_type": "code",
   "execution_count": 2,
   "id": "528927b2",
   "metadata": {
    "execution": {
     "iopub.execute_input": "2025-04-04T03:48:17.842019Z",
     "iopub.status.busy": "2025-04-04T03:48:17.841657Z",
     "iopub.status.idle": "2025-04-04T03:48:17.848692Z",
     "shell.execute_reply": "2025-04-04T03:48:17.847783Z"
    },
    "papermill": {
     "duration": 0.013095,
     "end_time": "2025-04-04T03:48:17.850246",
     "exception": false,
     "start_time": "2025-04-04T03:48:17.837151",
     "status": "completed"
    },
    "tags": []
   },
   "outputs": [
    {
     "name": "stdout",
     "output_type": "stream",
     "text": [
      "/kaggle/working/rfm-nmf/rfm\n"
     ]
    }
   ],
   "source": [
    "cd /kaggle/working/rfm-nmf/rfm"
   ]
  },
  {
   "cell_type": "code",
   "execution_count": 3,
   "id": "fe3027e7",
   "metadata": {
    "execution": {
     "iopub.execute_input": "2025-04-04T03:48:17.857679Z",
     "iopub.status.busy": "2025-04-04T03:48:17.857421Z",
     "iopub.status.idle": "2025-04-04T03:48:17.977991Z",
     "shell.execute_reply": "2025-04-04T03:48:17.976933Z"
    },
    "papermill": {
     "duration": 0.126398,
     "end_time": "2025-04-04T03:48:17.979974",
     "exception": false,
     "start_time": "2025-04-04T03:48:17.853576",
     "status": "completed"
    },
    "tags": []
   },
   "outputs": [
    {
     "name": "stdout",
     "output_type": "stream",
     "text": [
      "celeba_experiments  LICENSE\t\t   setup.py\r\n",
      "data\t\t    low_rank.ipynb\t   svhn.ipynb\r\n",
      "example_notebooks   ntk.py\t\t   svhn.py\r\n",
      "Gauss.py\t    output.txt\t\t   tabular_benchmark_experiments\r\n",
      "generalized.py\t    phenomena_experiments  testhehe.ipynb\r\n",
      "laplace_cifar10.py  README.md\t\t   test.ipynb\r\n",
      "laplace.py\t    rfm\t\t\t   wandb\r\n"
     ]
    }
   ],
   "source": [
    "!ls"
   ]
  },
  {
   "cell_type": "code",
   "execution_count": 4,
   "id": "615a8a6f",
   "metadata": {
    "execution": {
     "iopub.execute_input": "2025-04-04T03:48:17.988505Z",
     "iopub.status.busy": "2025-04-04T03:48:17.988222Z",
     "iopub.status.idle": "2025-04-04T03:48:17.991930Z",
     "shell.execute_reply": "2025-04-04T03:48:17.991134Z"
    },
    "papermill": {
     "duration": 0.009395,
     "end_time": "2025-04-04T03:48:17.993318",
     "exception": false,
     "start_time": "2025-04-04T03:48:17.983923",
     "status": "completed"
    },
    "tags": []
   },
   "outputs": [],
   "source": [
    "# !cd /kaggle/working/rfm-nmf && git pull"
   ]
  },
  {
   "cell_type": "code",
   "execution_count": 5,
   "id": "8a3017c9",
   "metadata": {
    "execution": {
     "iopub.execute_input": "2025-04-04T03:48:18.000854Z",
     "iopub.status.busy": "2025-04-04T03:48:18.000593Z",
     "iopub.status.idle": "2025-04-04T03:48:41.159928Z",
     "shell.execute_reply": "2025-04-04T03:48:41.158759Z"
    },
    "papermill": {
     "duration": 23.165251,
     "end_time": "2025-04-04T03:48:41.161941",
     "exception": false,
     "start_time": "2025-04-04T03:48:17.996690",
     "status": "completed"
    },
    "tags": []
   },
   "outputs": [
    {
     "name": "stdout",
     "output_type": "stream",
     "text": [
      "\u001b[34m\u001b[1mwandb\u001b[0m: Using wandb-core as the SDK backend.  Please refer to https://wandb.me/wandb-core for more information.\r\n",
      "\u001b[34m\u001b[1mwandb\u001b[0m: Currently logged in as: \u001b[33mtorong31\u001b[0m (\u001b[33mtorong31-uit\u001b[0m). Use \u001b[1m`wandb login --relogin`\u001b[0m to force relogin\r\n",
      "\u001b[34m\u001b[1mwandb\u001b[0m: \u001b[33mWARNING\u001b[0m If you're specifying your api key in code, ensure this code is not shared publicly.\r\n",
      "\u001b[34m\u001b[1mwandb\u001b[0m: \u001b[33mWARNING\u001b[0m Consider setting the WANDB_API_KEY environment variable, or running `wandb login` from the command line.\r\n",
      "\u001b[34m\u001b[1mwandb\u001b[0m: Appending key for api.wandb.ai to your netrc file: /root/.netrc\r\n",
      "\u001b[34m\u001b[1mwandb\u001b[0m: Tracking run with wandb version 0.19.1\r\n",
      "\u001b[34m\u001b[1mwandb\u001b[0m: Run data is saved locally in \u001b[35m\u001b[1m/kaggle/working/rfm-nmf/rfm/wandb/run-20250404_034833-vg1iu3nf\u001b[0m\r\n",
      "\u001b[34m\u001b[1mwandb\u001b[0m: Run \u001b[1m`wandb offline`\u001b[0m to turn off syncing.\r\n",
      "\u001b[34m\u001b[1mwandb\u001b[0m: Syncing run \u001b[33mTry3\u001b[0m\r\n",
      "\u001b[34m\u001b[1mwandb\u001b[0m: ⭐️ View project at \u001b[34m\u001b[4mhttps://wandb.ai/torong31-uit/rfm-nmf\u001b[0m\r\n",
      "\u001b[34m\u001b[1mwandb\u001b[0m: 🚀 View run at \u001b[34m\u001b[4mhttps://wandb.ai/torong31-uit/rfm-nmf/runs/vg1iu3nf\u001b[0m\r\n",
      "2025-04-04 03:48:34,430 - Training LaplaceRFM\r\n",
      "Loaders provided\r\n",
      "Time taken to prefit nmf with 70000 points: 0.9238529205322266 seconds\r\n",
      "Traceback (most recent call last):\r\n",
      "  File \"/kaggle/working/rfm-nmf/rfm/laplace.py\", line 79, in <module>\r\n",
      "    laplace_model.fit(\r\n",
      "  File \"/kaggle/working/rfm-nmf/rfm/rfm/recursive_feature_machine.py\", line 238, in fit\r\n",
      "    self.fit_predictor(X_train, y_train, X_val=X_test, y_val=y_test,\r\n",
      "  File \"/kaggle/working/rfm-nmf/rfm/rfm/recursive_feature_machine.py\", line 137, in fit_predictor\r\n",
      "    self.weights = self.fit_predictor_nmf(centers, targets, bs=bs, lr_scale=lr_scale,\r\n",
      "  File \"/kaggle/working/rfm-nmf/rfm/rfm/recursive_feature_machine.py\", line 174, in fit_predictor_nmf\r\n",
      "    _ = ep_model.fit(centers, targets, verbose=verbose, mem_gb=self.mem_gb, bs=bs, lr_scale=lr_scale, **kwargs)\r\n",
      "  File \"/kaggle/working/rfm-nmf/rfm/rfm/nmfhtr.py\", line 206, in fit\r\n",
      "    W_nmf, H_nmf,S_nmf, nmf_norms = asm_nmf_fn(samples, self.kernel_fn, rank=n_labels, verbose=verbose)\r\n",
      "  File \"/kaggle/working/rfm-nmf/rfm/rfm/nmfhtr.py\", line 24, in asm_nmf_fn\r\n",
      "    W, H, S, norms = multiplicative_update_nsnmf(\r\n",
      "NameError: name 'multiplicative_update_nsnmf' is not defined\r\n",
      "\u001b[1;34mwandb\u001b[0m: 🚀 View run \u001b[33mTry3\u001b[0m at: \u001b[34mhttps://wandb.ai/torong31-uit/rfm-nmf/runs/vg1iu3nf\u001b[0m\r\n",
      "\u001b[1;34mwandb\u001b[0m: Find logs at: \u001b[1;35mwandb/run-20250404_034833-vg1iu3nf/logs\u001b[0m\r\n"
     ]
    }
   ],
   "source": [
    "!python laplace.py"
   ]
  },
  {
   "cell_type": "code",
   "execution_count": 6,
   "id": "596d9547",
   "metadata": {
    "execution": {
     "iopub.execute_input": "2025-04-04T03:48:41.171677Z",
     "iopub.status.busy": "2025-04-04T03:48:41.171257Z",
     "iopub.status.idle": "2025-04-04T03:48:41.175704Z",
     "shell.execute_reply": "2025-04-04T03:48:41.174834Z"
    },
    "papermill": {
     "duration": 0.011025,
     "end_time": "2025-04-04T03:48:41.177264",
     "exception": false,
     "start_time": "2025-04-04T03:48:41.166239",
     "status": "completed"
    },
    "tags": []
   },
   "outputs": [],
   "source": [
    "# !python Gauss.py"
   ]
  },
  {
   "cell_type": "code",
   "execution_count": 7,
   "id": "7ab97da1",
   "metadata": {
    "execution": {
     "iopub.execute_input": "2025-04-04T03:48:41.185938Z",
     "iopub.status.busy": "2025-04-04T03:48:41.185598Z",
     "iopub.status.idle": "2025-04-04T03:48:41.189170Z",
     "shell.execute_reply": "2025-04-04T03:48:41.188206Z"
    },
    "papermill": {
     "duration": 0.009776,
     "end_time": "2025-04-04T03:48:41.190934",
     "exception": false,
     "start_time": "2025-04-04T03:48:41.181158",
     "status": "completed"
    },
    "tags": []
   },
   "outputs": [],
   "source": [
    "# !python generalized.py"
   ]
  },
  {
   "cell_type": "code",
   "execution_count": 8,
   "id": "71c27e1b",
   "metadata": {
    "execution": {
     "iopub.execute_input": "2025-04-04T03:48:41.205609Z",
     "iopub.status.busy": "2025-04-04T03:48:41.205334Z",
     "iopub.status.idle": "2025-04-04T03:48:41.208717Z",
     "shell.execute_reply": "2025-04-04T03:48:41.207906Z"
    },
    "papermill": {
     "duration": 0.012451,
     "end_time": "2025-04-04T03:48:41.210294",
     "exception": false,
     "start_time": "2025-04-04T03:48:41.197843",
     "status": "completed"
    },
    "tags": []
   },
   "outputs": [],
   "source": [
    "# !python laplace_cifar10.py"
   ]
  }
 ],
 "metadata": {
  "kaggle": {
   "accelerator": "gpu",
   "dataSources": [],
   "dockerImageVersionId": 30918,
   "isGpuEnabled": true,
   "isInternetEnabled": true,
   "language": "python",
   "sourceType": "notebook"
  },
  "kernelspec": {
   "display_name": "Python 3",
   "language": "python",
   "name": "python3"
  },
  "language_info": {
   "codemirror_mode": {
    "name": "ipython",
    "version": 3
   },
   "file_extension": ".py",
   "mimetype": "text/x-python",
   "name": "python",
   "nbconvert_exporter": "python",
   "pygments_lexer": "ipython3",
   "version": "3.10.12"
  },
  "papermill": {
   "default_parameters": {},
   "duration": 34.031987,
   "end_time": "2025-04-04T03:48:41.631684",
   "environment_variables": {},
   "exception": null,
   "input_path": "__notebook__.ipynb",
   "output_path": "__notebook__.ipynb",
   "parameters": {},
   "start_time": "2025-04-04T03:48:07.599697",
   "version": "2.6.0"
  }
 },
 "nbformat": 4,
 "nbformat_minor": 5
}
